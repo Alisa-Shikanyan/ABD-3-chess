{
 "cells": [
  {
   "cell_type": "code",
   "execution_count": 340,
   "metadata": {},
   "outputs": [],
   "source": [
    "import numpy as np\n",
    "import pandas as pd\n",
    "\n",
    "import matplotlib.pyplot as plt\n",
    "import seaborn as sns\n",
    "import gdown\n",
    "import os\n",
    "import ast"
   ]
  },
  {
   "cell_type": "markdown",
   "metadata": {},
   "source": [
    "## Скачивание"
   ]
  },
  {
   "cell_type": "code",
   "execution_count": 2,
   "metadata": {},
   "outputs": [],
   "source": [
    "file_id = '1Fo4swaHNL7XW4xQ72It7Hf7L2UmtmbCg'\n",
    "dataset_link = f'https://drive.google.com/uc?id={file_id}'\n",
    "output_file = 'dataset.zip'"
   ]
  },
  {
   "cell_type": "code",
   "execution_count": 3,
   "metadata": {},
   "outputs": [
    {
     "name": "stdout",
     "output_type": "stream",
     "text": [
      "Файл dataset.zip уже существует.\n"
     ]
    }
   ],
   "source": [
    "if not os.path.exists(output_file):\n",
    "    gdown.download(dataset_link, output_file, quiet=False)\n",
    "    print(f\"Файл {output_file} скачан.\")\n",
    "else:\n",
    "    print(f\"Файл {output_file} уже существует.\")"
   ]
  },
  {
   "cell_type": "code",
   "execution_count": 4,
   "metadata": {},
   "outputs": [],
   "source": [
    "df = pd.read_csv(output_file, compression='zip')"
   ]
  },
  {
   "cell_type": "code",
   "execution_count": null,
   "metadata": {},
   "outputs": [],
   "source": []
  },
  {
   "cell_type": "markdown",
   "metadata": {},
   "source": [
    "## Приведение типов"
   ]
  },
  {
   "cell_type": "code",
   "execution_count": 343,
   "metadata": {},
   "outputs": [
    {
     "data": {
      "text/html": [
       "<div>\n",
       "<style scoped>\n",
       "    .dataframe tbody tr th:only-of-type {\n",
       "        vertical-align: middle;\n",
       "    }\n",
       "\n",
       "    .dataframe tbody tr th {\n",
       "        vertical-align: top;\n",
       "    }\n",
       "\n",
       "    .dataframe thead th {\n",
       "        text-align: right;\n",
       "    }\n",
       "</style>\n",
       "<table border=\"1\" class=\"dataframe\">\n",
       "  <thead>\n",
       "    <tr style=\"text-align: right;\">\n",
       "      <th></th>\n",
       "      <th>Game_ID</th>\n",
       "      <th>Rated</th>\n",
       "      <th>Variant</th>\n",
       "      <th>Speed</th>\n",
       "      <th>Created_At</th>\n",
       "      <th>Last_Move_At</th>\n",
       "      <th>Game_Status</th>\n",
       "      <th>Source</th>\n",
       "      <th>Winner</th>\n",
       "      <th>Opening_Name</th>\n",
       "      <th>...</th>\n",
       "      <th>Black_Inaccuracy</th>\n",
       "      <th>Black_Mistake</th>\n",
       "      <th>Black_Blunder</th>\n",
       "      <th>Black_ACPL</th>\n",
       "      <th>Clocks</th>\n",
       "      <th>Analysis</th>\n",
       "      <th>Total_Time_Init</th>\n",
       "      <th>Total_Time_Increment</th>\n",
       "      <th>Total_Time</th>\n",
       "      <th>Moves</th>\n",
       "    </tr>\n",
       "  </thead>\n",
       "  <tbody>\n",
       "    <tr>\n",
       "      <th>0</th>\n",
       "      <td>PsevV6VH</td>\n",
       "      <td>True</td>\n",
       "      <td>standard</td>\n",
       "      <td>classical</td>\n",
       "      <td>2024-12-15T11:09:25.224000+00:00</td>\n",
       "      <td>2024-12-15T11:55:14.775000+00:00</td>\n",
       "      <td>resign</td>\n",
       "      <td>pool</td>\n",
       "      <td>white</td>\n",
       "      <td>English Opening: Symmetrical Variation</td>\n",
       "      <td>...</td>\n",
       "      <td>5</td>\n",
       "      <td>1</td>\n",
       "      <td>1</td>\n",
       "      <td>47</td>\n",
       "      <td>[180003, 180003, 178499, 178019, 178339, 17757...</td>\n",
       "      <td>[{'eval': 14}, {'eval': 25}, {'eval': 26}, {'e...</td>\n",
       "      <td>1800</td>\n",
       "      <td>0</td>\n",
       "      <td>1800</td>\n",
       "      <td>Nf3 c5 c4 Nc6 Nc3 g6 e3 Bg7 d4 cxd4 exd4 d6 h3...</td>\n",
       "    </tr>\n",
       "    <tr>\n",
       "      <th>1</th>\n",
       "      <td>diLZa8sj</td>\n",
       "      <td>True</td>\n",
       "      <td>standard</td>\n",
       "      <td>classical</td>\n",
       "      <td>2024-10-28T13:54:16.605000+00:00</td>\n",
       "      <td>2024-10-28T14:32:21.403000+00:00</td>\n",
       "      <td>resign</td>\n",
       "      <td>pool</td>\n",
       "      <td>white</td>\n",
       "      <td>French Defense: Winawer Variation, Advance Var...</td>\n",
       "      <td>...</td>\n",
       "      <td>4</td>\n",
       "      <td>0</td>\n",
       "      <td>1</td>\n",
       "      <td>31</td>\n",
       "      <td>[180003, 180003, 179827, 179683, 178619, 17936...</td>\n",
       "      <td>[{'eval': 18}, {'eval': 28}, {'eval': 28}, {'e...</td>\n",
       "      <td>1800</td>\n",
       "      <td>0</td>\n",
       "      <td>1800</td>\n",
       "      <td>e4 e6 d4 d5 Nc3 Bb4 e5 Ne7 a3 Bxc3+ bxc3 b6 Bb...</td>\n",
       "    </tr>\n",
       "    <tr>\n",
       "      <th>2</th>\n",
       "      <td>O8TSZ7bq</td>\n",
       "      <td>True</td>\n",
       "      <td>standard</td>\n",
       "      <td>classical</td>\n",
       "      <td>2024-10-05T13:58:55.992000+00:00</td>\n",
       "      <td>2024-10-05T14:27:57.120000+00:00</td>\n",
       "      <td>resign</td>\n",
       "      <td>pool</td>\n",
       "      <td>black</td>\n",
       "      <td>London System</td>\n",
       "      <td>...</td>\n",
       "      <td>3</td>\n",
       "      <td>1</td>\n",
       "      <td>5</td>\n",
       "      <td>56</td>\n",
       "      <td>[180003, 180003, 179707, 179035, 179051, 17678...</td>\n",
       "      <td>[{'eval': 17}, {'eval': 17}, {'eval': 11}, {'e...</td>\n",
       "      <td>1800</td>\n",
       "      <td>0</td>\n",
       "      <td>1800</td>\n",
       "      <td>d4 Nf6 Nf3 g6 Bf4 Bg7 e3 d6 Be2 O-O O-O Nbd7 h...</td>\n",
       "    </tr>\n",
       "  </tbody>\n",
       "</table>\n",
       "<p>3 rows × 32 columns</p>\n",
       "</div>"
      ],
      "text/plain": [
       "    Game_ID  Rated   Variant      Speed                        Created_At  \\\n",
       "0  PsevV6VH   True  standard  classical  2024-12-15T11:09:25.224000+00:00   \n",
       "1  diLZa8sj   True  standard  classical  2024-10-28T13:54:16.605000+00:00   \n",
       "2  O8TSZ7bq   True  standard  classical  2024-10-05T13:58:55.992000+00:00   \n",
       "\n",
       "                       Last_Move_At Game_Status Source Winner  \\\n",
       "0  2024-12-15T11:55:14.775000+00:00      resign   pool  white   \n",
       "1  2024-10-28T14:32:21.403000+00:00      resign   pool  white   \n",
       "2  2024-10-05T14:27:57.120000+00:00      resign   pool  black   \n",
       "\n",
       "                                        Opening_Name  ... Black_Inaccuracy  \\\n",
       "0             English Opening: Symmetrical Variation  ...                5   \n",
       "1  French Defense: Winawer Variation, Advance Var...  ...                4   \n",
       "2                                      London System  ...                3   \n",
       "\n",
       "   Black_Mistake Black_Blunder Black_ACPL  \\\n",
       "0              1             1         47   \n",
       "1              0             1         31   \n",
       "2              1             5         56   \n",
       "\n",
       "                                              Clocks  \\\n",
       "0  [180003, 180003, 178499, 178019, 178339, 17757...   \n",
       "1  [180003, 180003, 179827, 179683, 178619, 17936...   \n",
       "2  [180003, 180003, 179707, 179035, 179051, 17678...   \n",
       "\n",
       "                                            Analysis  Total_Time_Init  \\\n",
       "0  [{'eval': 14}, {'eval': 25}, {'eval': 26}, {'e...             1800   \n",
       "1  [{'eval': 18}, {'eval': 28}, {'eval': 28}, {'e...             1800   \n",
       "2  [{'eval': 17}, {'eval': 17}, {'eval': 11}, {'e...             1800   \n",
       "\n",
       "   Total_Time_Increment  Total_Time  \\\n",
       "0                     0        1800   \n",
       "1                     0        1800   \n",
       "2                     0        1800   \n",
       "\n",
       "                                               Moves  \n",
       "0  Nf3 c5 c4 Nc6 Nc3 g6 e3 Bg7 d4 cxd4 exd4 d6 h3...  \n",
       "1  e4 e6 d4 d5 Nc3 Bb4 e5 Ne7 a3 Bxc3+ bxc3 b6 Bb...  \n",
       "2  d4 Nf6 Nf3 g6 Bf4 Bg7 e3 d6 Be2 O-O O-O Nbd7 h...  \n",
       "\n",
       "[3 rows x 32 columns]"
      ]
     },
     "execution_count": 343,
     "metadata": {},
     "output_type": "execute_result"
    }
   ],
   "source": [
    "df.head(3)"
   ]
  },
  {
   "cell_type": "code",
   "execution_count": 344,
   "metadata": {},
   "outputs": [
    {
     "data": {
      "text/plain": [
       "(140792, 32)"
      ]
     },
     "execution_count": 344,
     "metadata": {},
     "output_type": "execute_result"
    }
   ],
   "source": [
    "df.shape"
   ]
  },
  {
   "cell_type": "code",
   "execution_count": 85,
   "metadata": {},
   "outputs": [
    {
     "name": "stdout",
     "output_type": "stream",
     "text": [
      "<class 'pandas.core.frame.DataFrame'>\n",
      "RangeIndex: 140792 entries, 0 to 140791\n",
      "Data columns (total 32 columns):\n",
      " #   Column                Non-Null Count   Dtype  \n",
      "---  ------                --------------   -----  \n",
      " 0   Game_ID               140792 non-null  object \n",
      " 1   Rated                 140792 non-null  bool   \n",
      " 2   Variant               140792 non-null  object \n",
      " 3   Speed                 140792 non-null  object \n",
      " 4   Created_At            140792 non-null  object \n",
      " 5   Last_Move_At          140792 non-null  object \n",
      " 6   Game_Status           140792 non-null  object \n",
      " 7   Source                140792 non-null  object \n",
      " 8   Winner                127103 non-null  object \n",
      " 9   Opening_Name          139522 non-null  object \n",
      " 10  Opening_ECO           139522 non-null  object \n",
      " 11  Opening_PLY           139522 non-null  float64\n",
      " 12  White_Player          140565 non-null  object \n",
      " 13  White_Title           46713 non-null   object \n",
      " 14  White_Rating          140565 non-null  float64\n",
      " 15  White_Inaccuracy      140792 non-null  int64  \n",
      " 16  White_Mistake         140792 non-null  int64  \n",
      " 17  White_Blunder         140792 non-null  int64  \n",
      " 18  White_ACPL            140792 non-null  int64  \n",
      " 19  Black_Player          140481 non-null  object \n",
      " 20  Black_Title           46512 non-null   object \n",
      " 21  Black_Rating          140481 non-null  float64\n",
      " 22  Black_Inaccuracy      140792 non-null  int64  \n",
      " 23  Black_Mistake         140792 non-null  int64  \n",
      " 24  Black_Blunder         140792 non-null  int64  \n",
      " 25  Black_ACPL            140792 non-null  int64  \n",
      " 26  Clocks                140792 non-null  object \n",
      " 27  Analysis              140792 non-null  object \n",
      " 28  Total_Time_Init       140792 non-null  int64  \n",
      " 29  Total_Time_Increment  140792 non-null  int64  \n",
      " 30  Total_Time            140792 non-null  int64  \n",
      " 31  Moves                 140792 non-null  object \n",
      "dtypes: bool(1), float64(3), int64(11), object(17)\n",
      "memory usage: 33.4+ MB\n"
     ]
    }
   ],
   "source": [
    "df.info()"
   ]
  },
  {
   "cell_type": "code",
   "execution_count": null,
   "metadata": {},
   "outputs": [],
   "source": [
    "df['Created_At'] = (\n",
    "    pd.to_datetime(df['Created_At'], format='ISO8601')\n",
    "    .dt.tz_localize(None)\n",
    "    .dt.floor('s')\n",
    ")"
   ]
  },
  {
   "cell_type": "code",
   "execution_count": null,
   "metadata": {},
   "outputs": [],
   "source": [
    "df['Last_Move_At'] = (\n",
    "    pd.to_datetime(df['Last_Move_At'], format='ISO8601')\n",
    "    .dt.tz_localize(None)\n",
    "    .dt.floor('s')\n",
    ")"
   ]
  },
  {
   "cell_type": "code",
   "execution_count": 10,
   "metadata": {},
   "outputs": [],
   "source": [
    "df['Clocks'] = df['Clocks'].apply(ast.literal_eval)"
   ]
  },
  {
   "cell_type": "markdown",
   "metadata": {},
   "source": [
    "## Исследование данных"
   ]
  },
  {
   "cell_type": "markdown",
   "metadata": {},
   "source": [
    "Посмотрим на пропуски в данных"
   ]
  },
  {
   "cell_type": "code",
   "execution_count": 345,
   "metadata": {},
   "outputs": [
    {
     "data": {
      "text/plain": [
       "Winner          13689\n",
       "Opening_Name     1270\n",
       "Opening_ECO      1270\n",
       "Opening_PLY      1270\n",
       "White_Player      227\n",
       "White_Title     94079\n",
       "White_Rating      227\n",
       "Black_Player      311\n",
       "Black_Title     94280\n",
       "Black_Rating      311\n",
       "dtype: int64"
      ]
     },
     "execution_count": 345,
     "metadata": {},
     "output_type": "execute_result"
    }
   ],
   "source": [
    "df.isna().sum()[df.isna().sum() > 0]"
   ]
  },
  {
   "cell_type": "markdown",
   "metadata": {},
   "source": [
    "Анализ и удаление выбросов"
   ]
  },
  {
   "cell_type": "markdown",
   "metadata": {},
   "source": [
    "1. Анализ и удаление выбросов в столбцах 'White_Mistake', 'Black_Mistake', 'White_Blunder', 'Black_Blunder'"
   ]
  },
  {
   "cell_type": "code",
   "execution_count": 346,
   "metadata": {},
   "outputs": [
    {
     "data": {
      "text/html": [
       "<div>\n",
       "<style scoped>\n",
       "    .dataframe tbody tr th:only-of-type {\n",
       "        vertical-align: middle;\n",
       "    }\n",
       "\n",
       "    .dataframe tbody tr th {\n",
       "        vertical-align: top;\n",
       "    }\n",
       "\n",
       "    .dataframe thead th {\n",
       "        text-align: right;\n",
       "    }\n",
       "</style>\n",
       "<table border=\"1\" class=\"dataframe\">\n",
       "  <thead>\n",
       "    <tr style=\"text-align: right;\">\n",
       "      <th></th>\n",
       "      <th>White_Mistake</th>\n",
       "      <th>Black_Mistake</th>\n",
       "      <th>White_Blunder</th>\n",
       "      <th>Black_Blunder</th>\n",
       "    </tr>\n",
       "  </thead>\n",
       "  <tbody>\n",
       "    <tr>\n",
       "      <th>count</th>\n",
       "      <td>140792.000000</td>\n",
       "      <td>140792.000000</td>\n",
       "      <td>140792.000000</td>\n",
       "      <td>140792.000000</td>\n",
       "    </tr>\n",
       "    <tr>\n",
       "      <th>mean</th>\n",
       "      <td>1.177503</td>\n",
       "      <td>1.192397</td>\n",
       "      <td>1.697050</td>\n",
       "      <td>1.693271</td>\n",
       "    </tr>\n",
       "    <tr>\n",
       "      <th>std</th>\n",
       "      <td>1.307709</td>\n",
       "      <td>1.301948</td>\n",
       "      <td>1.929795</td>\n",
       "      <td>1.903644</td>\n",
       "    </tr>\n",
       "    <tr>\n",
       "      <th>min</th>\n",
       "      <td>0.000000</td>\n",
       "      <td>0.000000</td>\n",
       "      <td>0.000000</td>\n",
       "      <td>0.000000</td>\n",
       "    </tr>\n",
       "    <tr>\n",
       "      <th>25%</th>\n",
       "      <td>0.000000</td>\n",
       "      <td>0.000000</td>\n",
       "      <td>0.000000</td>\n",
       "      <td>0.000000</td>\n",
       "    </tr>\n",
       "    <tr>\n",
       "      <th>50%</th>\n",
       "      <td>1.000000</td>\n",
       "      <td>1.000000</td>\n",
       "      <td>1.000000</td>\n",
       "      <td>1.000000</td>\n",
       "    </tr>\n",
       "    <tr>\n",
       "      <th>75%</th>\n",
       "      <td>2.000000</td>\n",
       "      <td>2.000000</td>\n",
       "      <td>2.000000</td>\n",
       "      <td>2.000000</td>\n",
       "    </tr>\n",
       "    <tr>\n",
       "      <th>max</th>\n",
       "      <td>23.000000</td>\n",
       "      <td>21.000000</td>\n",
       "      <td>53.000000</td>\n",
       "      <td>53.000000</td>\n",
       "    </tr>\n",
       "  </tbody>\n",
       "</table>\n",
       "</div>"
      ],
      "text/plain": [
       "       White_Mistake  Black_Mistake  White_Blunder  Black_Blunder\n",
       "count  140792.000000  140792.000000  140792.000000  140792.000000\n",
       "mean        1.177503       1.192397       1.697050       1.693271\n",
       "std         1.307709       1.301948       1.929795       1.903644\n",
       "min         0.000000       0.000000       0.000000       0.000000\n",
       "25%         0.000000       0.000000       0.000000       0.000000\n",
       "50%         1.000000       1.000000       1.000000       1.000000\n",
       "75%         2.000000       2.000000       2.000000       2.000000\n",
       "max        23.000000      21.000000      53.000000      53.000000"
      ]
     },
     "execution_count": 346,
     "metadata": {},
     "output_type": "execute_result"
    }
   ],
   "source": [
    "# Выведем описательную статистику для этих столбцов.\n",
    "df[['White_Mistake', 'Black_Mistake', 'White_Blunder', 'Black_Blunder']].describe()"
   ]
  },
  {
   "cell_type": "markdown",
   "metadata": {},
   "source": [
    "Вывод: Максимальные значения значительно превышают 75-й процентиль (Q3), это указывает на наличие выбросов."
   ]
  },
  {
   "cell_type": "markdown",
   "metadata": {},
   "source": [
    "Находим выбросы по столбцу 'White_Mistake'"
   ]
  },
  {
   "cell_type": "code",
   "execution_count": 347,
   "metadata": {},
   "outputs": [
    {
     "name": "stdout",
     "output_type": "stream",
     "text": [
      "Количество выбросов в столбце 'White_Mistake': 1214\n"
     ]
    }
   ],
   "source": [
    "# Вычисление Q1 и Q3\n",
    "Q1_1 = df['White_Mistake'].quantile(0.25)\n",
    "Q3_1 = df['White_Mistake'].quantile(0.75)\n",
    "\n",
    "# Вычисление IQR\n",
    "IQR_1 = Q3_1 - Q1_1\n",
    "\n",
    "# 3. Определение границ для выбросов\n",
    "lower_bound_1 = Q1_1 - 1.5 * IQR_1\n",
    "upper_bound_1 = Q3_1 + 1.5 * IQR_1\n",
    "\n",
    "# 4. Подсчет количества выбросов\n",
    "outliers_1 = df[(df['White_Mistake'] < lower_bound_1) | (df['White_Mistake'] > upper_bound_1)]\n",
    "number_of_outliers_1 = outliers_1.shape[0]\n",
    "\n",
    "# Печать результата\n",
    "print(f\"Количество выбросов в столбце 'White_Mistake': {number_of_outliers_1}\")"
   ]
  },
  {
   "cell_type": "markdown",
   "metadata": {},
   "source": [
    "Находим выбросы по столбцу 'Black_Mistake'"
   ]
  },
  {
   "cell_type": "code",
   "execution_count": 348,
   "metadata": {},
   "outputs": [
    {
     "name": "stdout",
     "output_type": "stream",
     "text": [
      "Количество выбросов в столбце 'Black_Mistake': 1166\n"
     ]
    }
   ],
   "source": [
    "# Вычисление Q1 и Q3\n",
    "Q1_2 = df['Black_Mistake'].quantile(0.25)\n",
    "Q3_2 = df['Black_Mistake'].quantile(0.75)\n",
    "\n",
    "# Вычисление IQR\n",
    "IQR_2 = Q3_2 - Q1_2\n",
    "\n",
    "# 3. Определение границ для выбросов\n",
    "lower_bound_2 = Q1_2 - 1.5 * IQR_2\n",
    "upper_bound_2 = Q3_2 + 1.5 * IQR_2\n",
    "\n",
    "# 4. Подсчет количества выбросов\n",
    "outliers_2 = df[(df['Black_Mistake'] < lower_bound_2) | (df['Black_Mistake'] > upper_bound_2)]\n",
    "number_of_outliers_2 = outliers_2.shape[0]\n",
    "\n",
    "# Печать результата\n",
    "print(f\"Количество выбросов в столбце 'Black_Mistake': {number_of_outliers_2}\")"
   ]
  },
  {
   "cell_type": "markdown",
   "metadata": {},
   "source": [
    "Находим выбросы по столбцу 'White_Blunder'"
   ]
  },
  {
   "cell_type": "code",
   "execution_count": 349,
   "metadata": {},
   "outputs": [
    {
     "name": "stdout",
     "output_type": "stream",
     "text": [
      "Количество выбросов в столбце 'White_Blunder': 6787\n"
     ]
    }
   ],
   "source": [
    "# Вычисление Q1 и Q3\n",
    "Q1_3 = df['White_Blunder'].quantile(0.25)\n",
    "Q3_3 = df['White_Blunder'].quantile(0.75)\n",
    "\n",
    "# Вычисление IQR\n",
    "IQR_3 = Q3_3 - Q1_3\n",
    "\n",
    "# 3. Определение границ для выбросов\n",
    "lower_bound_3 = Q1_3 - 1.5 * IQR_3\n",
    "upper_bound_3 = Q3_3 + 1.5 * IQR_3\n",
    "\n",
    "# 4. Подсчет количества выбросов\n",
    "outliers_3 = df[(df['White_Blunder'] < lower_bound_3) | (df['White_Blunder'] > upper_bound_3)]\n",
    "number_of_outliers_3 = outliers_3.shape[0]\n",
    "\n",
    "# Печать результата\n",
    "print(f\"Количество выбросов в столбце 'White_Blunder': {number_of_outliers_3}\")"
   ]
  },
  {
   "cell_type": "markdown",
   "metadata": {},
   "source": [
    "Находим выбросы по столбцу 'Black_Blunder'"
   ]
  },
  {
   "cell_type": "code",
   "execution_count": 350,
   "metadata": {},
   "outputs": [
    {
     "name": "stdout",
     "output_type": "stream",
     "text": [
      "Количество выбросов в столбце 'Black_Blunder': 6519\n"
     ]
    }
   ],
   "source": [
    "# Вычисление Q1 и Q3\n",
    "Q1_4 = df['Black_Blunder'].quantile(0.25)\n",
    "Q3_4 = df['Black_Blunder'].quantile(0.75)\n",
    "\n",
    "# Вычисление IQR\n",
    "IQR_4 = Q3_4 - Q1_4\n",
    "\n",
    "# 3. Определение границ для выбросов\n",
    "lower_bound_4 = Q1_4 - 1.5 * IQR_4\n",
    "upper_bound_4 = Q3_4 + 1.5 * IQR_4\n",
    "\n",
    "# 4. Подсчет количества выбросов\n",
    "outliers_4 = df[(df['Black_Blunder'] < lower_bound_4) | (df['Black_Blunder'] > upper_bound_4)]\n",
    "number_of_outliers_4 = outliers_4.shape[0]\n",
    "\n",
    "# Печать результата\n",
    "print(f\"Количество выбросов в столбце 'Black_Blunder': {number_of_outliers_4}\")"
   ]
  },
  {
   "cell_type": "markdown",
   "metadata": {},
   "source": [
    "Удалим выбросы из основного датафрейма."
   ]
  },
  {
   "cell_type": "code",
   "execution_count": 351,
   "metadata": {},
   "outputs": [],
   "source": [
    "# Объединяем все выбросы в один DataFrame\n",
    "all_outliers = pd.concat([outliers_1, outliers_2, outliers_3, outliers_4]).drop_duplicates()"
   ]
  },
  {
   "cell_type": "code",
   "execution_count": 352,
   "metadata": {},
   "outputs": [
    {
     "data": {
      "text/plain": [
       "(9970, 32)"
      ]
     },
     "execution_count": 352,
     "metadata": {},
     "output_type": "execute_result"
    }
   ],
   "source": [
    "all_outliers.shape"
   ]
  },
  {
   "cell_type": "code",
   "execution_count": 353,
   "metadata": {},
   "outputs": [],
   "source": [
    "# Удаляем выбросы из основного DataFrame\n",
    "df = df[~df.index.isin(all_outliers.index)]"
   ]
  },
  {
   "cell_type": "markdown",
   "metadata": {},
   "source": [
    "#### Параметр `Game_ID`"
   ]
  },
  {
   "cell_type": "markdown",
   "metadata": {},
   "source": [
    "Game_ID - идентификатор партии - категориальный"
   ]
  },
  {
   "cell_type": "markdown",
   "metadata": {},
   "source": [
    "Проверим на наличие в датасете дубликатов"
   ]
  },
  {
   "cell_type": "code",
   "execution_count": 354,
   "metadata": {},
   "outputs": [
    {
     "data": {
      "text/plain": [
       "6134"
      ]
     },
     "execution_count": 354,
     "metadata": {},
     "output_type": "execute_result"
    }
   ],
   "source": [
    "df['Game_ID'].duplicated().sum()"
   ]
  },
  {
   "cell_type": "markdown",
   "metadata": {},
   "source": [
    "Удалим дубликаты"
   ]
  },
  {
   "cell_type": "code",
   "execution_count": 355,
   "metadata": {},
   "outputs": [],
   "source": [
    "df.drop_duplicates(subset=['Game_ID'], inplace=True)"
   ]
  },
  {
   "cell_type": "markdown",
   "metadata": {},
   "source": [
    "#### Параметр `Rated`"
   ]
  },
  {
   "cell_type": "markdown",
   "metadata": {},
   "source": [
    "Rated - булевый признак, показывающий, является ли партия рейтинговой (True) или нет (False) - категориальный "
   ]
  },
  {
   "cell_type": "markdown",
   "metadata": {},
   "source": [
    "Посмотрим на распределение"
   ]
  },
  {
   "cell_type": "code",
   "execution_count": 356,
   "metadata": {},
   "outputs": [
    {
     "data": {
      "text/plain": [
       "True     119001\n",
       "False      5687\n",
       "Name: Rated, dtype: int64"
      ]
     },
     "execution_count": 356,
     "metadata": {},
     "output_type": "execute_result"
    }
   ],
   "source": [
    "df['Rated'].value_counts(dropna=False)"
   ]
  },
  {
   "cell_type": "markdown",
   "metadata": {},
   "source": [
    "Отфильтруем нерейтинговые игры, чтобы избежать ошибок, связанных с некорректной игрой участников в партиях, не идущих на результат."
   ]
  },
  {
   "cell_type": "code",
   "execution_count": 357,
   "metadata": {},
   "outputs": [],
   "source": [
    "df = df[df['Rated'] == True].reset_index(drop=True)"
   ]
  },
  {
   "cell_type": "markdown",
   "metadata": {},
   "source": [
    "#### Параметр `Variant`"
   ]
  },
  {
   "cell_type": "markdown",
   "metadata": {},
   "source": [
    "Variant - вариант шахмат (например, классические, шахматы 960 и т. д.) - категориальный"
   ]
  },
  {
   "cell_type": "code",
   "execution_count": 358,
   "metadata": {},
   "outputs": [
    {
     "data": {
      "text/plain": [
       "standard        118683\n",
       "fromPosition       318\n",
       "Name: Variant, dtype: int64"
      ]
     },
     "execution_count": 358,
     "metadata": {},
     "output_type": "execute_result"
    }
   ],
   "source": [
    "df['Variant'].value_counts(dropna=False)"
   ]
  },
  {
   "cell_type": "markdown",
   "metadata": {},
   "source": [
    "Отфильтруем значения fromPosition, чтобы не искажать данные играми, не начинающими с самого начала."
   ]
  },
  {
   "cell_type": "code",
   "execution_count": 359,
   "metadata": {},
   "outputs": [],
   "source": [
    "df = df[df['Variant'] != 'fromPosition'].reset_index(drop=True)"
   ]
  },
  {
   "cell_type": "markdown",
   "metadata": {},
   "source": [
    "#### Параметр `Speed`"
   ]
  },
  {
   "cell_type": "markdown",
   "metadata": {},
   "source": [
    "Speed - контроль времени партии (например, блиц, рапид, классика) - категориальный"
   ]
  },
  {
   "cell_type": "code",
   "execution_count": 360,
   "metadata": {},
   "outputs": [
    {
     "data": {
      "text/plain": [
       "blitz          32561\n",
       "rapid          28063\n",
       "classical      26768\n",
       "bullet         25445\n",
       "ultraBullet     5846\n",
       "Name: Speed, dtype: int64"
      ]
     },
     "execution_count": 360,
     "metadata": {},
     "output_type": "execute_result"
    }
   ],
   "source": [
    "df['Speed'].value_counts(dropna=False)"
   ]
  },
  {
   "cell_type": "markdown",
   "metadata": {},
   "source": [
    "Найдем распределение контроля времени по каждому элементу в процентах"
   ]
  },
  {
   "cell_type": "code",
   "execution_count": 361,
   "metadata": {},
   "outputs": [],
   "source": [
    "# Группировка по 'Speed' и подсчет количества\n",
    "speed_counts = df['Speed'].value_counts()\n",
    "\n",
    "# Расчет процентов\n",
    "total_speeds = speed_counts.sum()\n",
    "speed_percentages = (speed_counts / total_speeds) * 100\n",
    "speed_percentages = round(speed_percentages, 0)\n",
    "\n",
    "# Создание DataFrame с количеством и процентами\n",
    "top_speeds = pd.DataFrame({\n",
    "    'Count': speed_counts,\n",
    "    'Percentage': speed_percentages\n",
    "}).reset_index()\n",
    "\n",
    "# Переименование столбцов для удобства\n",
    "top_speeds.columns = ['Speed', 'Count', 'Percentage']"
   ]
  },
  {
   "cell_type": "code",
   "execution_count": 362,
   "metadata": {},
   "outputs": [
    {
     "data": {
      "text/html": [
       "<div>\n",
       "<style scoped>\n",
       "    .dataframe tbody tr th:only-of-type {\n",
       "        vertical-align: middle;\n",
       "    }\n",
       "\n",
       "    .dataframe tbody tr th {\n",
       "        vertical-align: top;\n",
       "    }\n",
       "\n",
       "    .dataframe thead th {\n",
       "        text-align: right;\n",
       "    }\n",
       "</style>\n",
       "<table border=\"1\" class=\"dataframe\">\n",
       "  <thead>\n",
       "    <tr style=\"text-align: right;\">\n",
       "      <th></th>\n",
       "      <th>Speed</th>\n",
       "      <th>Count</th>\n",
       "      <th>Percentage</th>\n",
       "    </tr>\n",
       "  </thead>\n",
       "  <tbody>\n",
       "    <tr>\n",
       "      <th>0</th>\n",
       "      <td>blitz</td>\n",
       "      <td>32561</td>\n",
       "      <td>27.0</td>\n",
       "    </tr>\n",
       "    <tr>\n",
       "      <th>1</th>\n",
       "      <td>rapid</td>\n",
       "      <td>28063</td>\n",
       "      <td>24.0</td>\n",
       "    </tr>\n",
       "    <tr>\n",
       "      <th>2</th>\n",
       "      <td>classical</td>\n",
       "      <td>26768</td>\n",
       "      <td>23.0</td>\n",
       "    </tr>\n",
       "    <tr>\n",
       "      <th>3</th>\n",
       "      <td>bullet</td>\n",
       "      <td>25445</td>\n",
       "      <td>21.0</td>\n",
       "    </tr>\n",
       "    <tr>\n",
       "      <th>4</th>\n",
       "      <td>ultraBullet</td>\n",
       "      <td>5846</td>\n",
       "      <td>5.0</td>\n",
       "    </tr>\n",
       "  </tbody>\n",
       "</table>\n",
       "</div>"
      ],
      "text/plain": [
       "         Speed  Count  Percentage\n",
       "0        blitz  32561        27.0\n",
       "1        rapid  28063        24.0\n",
       "2    classical  26768        23.0\n",
       "3       bullet  25445        21.0\n",
       "4  ultraBullet   5846         5.0"
      ]
     },
     "execution_count": 362,
     "metadata": {},
     "output_type": "execute_result"
    }
   ],
   "source": [
    "top_speeds"
   ]
  },
  {
   "cell_type": "code",
   "execution_count": 363,
   "metadata": {},
   "outputs": [
    {
     "data": {
      "image/png": "[encoded data removed]",
      "text/plain": [
       "<Figure size 720x432 with 1 Axes>"
      ]
     },
     "metadata": {
      "needs_background": "light"
     },
     "output_type": "display_data"
    }
   ],
   "source": [
    "# Определяем порядок категорий\n",
    "speed_order = ['classical', 'rapid', 'blitz', 'bullet', 'ultraBullet']\n",
    "\n",
    "# Преобразуем столбец Speed в категориальный тип с заданным порядком\n",
    "top_speeds['Speed'] = pd.Categorical(top_speeds['Speed'], categories=speed_order, ordered=True)\n",
    "\n",
    "# Построение столбчатой диаграммы\n",
    "plt.figure(figsize=(10, 6))\n",
    "sns.barplot(data=top_speeds, x='Speed', y='Count', palette='viridis')\n",
    "\n",
    "# Настройка графика\n",
    "plt.title('Распределение контроля времени партий')\n",
    "plt.xlabel('Контроль времени партии (Speed)')\n",
    "plt.ylabel('Количество партий (Count)')\n",
    "plt.xticks(rotation=0, ha='center')  # Убираем поворот и выравниваем по центру\n",
    "plt.grid(False)  # Убираем сетку\n",
    "\n",
    "# Показать график\n",
    "plt.tight_layout()\n",
    "plt.show()"
   ]
  },
  {
   "cell_type": "markdown",
   "metadata": {},
   "source": [
    "classical - от 60 минут до нескольких часов.\n",
    "\n",
    "rapid - от 10 до 60 минут.\n",
    "\n",
    "blitz - от 3-х до 10 минут.\n",
    "\n",
    "bullet - менее 3-х минут.\n",
    "\n",
    "ultraBullet - менее 1-ой минуты."
   ]
  },
  {
   "cell_type": "markdown",
   "metadata": {},
   "source": [
    "#### Параметр `Source`"
   ]
  },
  {
   "cell_type": "markdown",
   "metadata": {},
   "source": [
    "Source - источник партии (турнир, с другом, pool и т.д.) - категориальный"
   ]
  },
  {
   "cell_type": "code",
   "execution_count": 364,
   "metadata": {},
   "outputs": [
    {
     "data": {
      "text/plain": [
       "pool      73793\n",
       "lobby     21490\n",
       "arena     15510\n",
       "friend     5861\n",
       "swiss      1998\n",
       "api          31\n",
       "Name: Source, dtype: int64"
      ]
     },
     "execution_count": 364,
     "metadata": {},
     "output_type": "execute_result"
    }
   ],
   "source": [
    "df['Source'].value_counts(dropna=False)"
   ]
  },
  {
   "cell_type": "markdown",
   "metadata": {},
   "source": [
    "Удалим игры через api, которые из-за нестандартного интерфейса для игрока могли повлиять на его уровень игры"
   ]
  },
  {
   "cell_type": "code",
   "execution_count": 365,
   "metadata": {},
   "outputs": [],
   "source": [
    "df = df[df['Source'] != 'api'].reset_index(drop=True)"
   ]
  },
  {
   "cell_type": "markdown",
   "metadata": {},
   "source": [
    "#### Параметр `Winner`"
   ]
  },
  {
   "cell_type": "markdown",
   "metadata": {},
   "source": [
    "Winner - победитель партии (White, Black или None в случае ничьей) - категориальный"
   ]
  },
  {
   "cell_type": "code",
   "execution_count": 366,
   "metadata": {},
   "outputs": [
    {
     "data": {
      "text/plain": [
       "white    0.475685\n",
       "black    0.428438\n",
       "NaN      0.095877\n",
       "Name: Winner, dtype: float64"
      ]
     },
     "execution_count": 366,
     "metadata": {},
     "output_type": "execute_result"
    }
   ],
   "source": [
    "df['Winner'].value_counts(dropna=False, normalize=True)"
   ]
  },
  {
   "cell_type": "markdown",
   "metadata": {},
   "source": [
    "Заполним NA значения параметром draw"
   ]
  },
  {
   "cell_type": "code",
   "execution_count": 367,
   "metadata": {},
   "outputs": [],
   "source": [
    "df['Winner'] = df['Winner'].fillna(value='draw')"
   ]
  },
  {
   "cell_type": "markdown",
   "metadata": {},
   "source": [
    "Можно заметить, что в онлайн-шахматах доля побед значительно превышает долю ничьих, что не соответствует практическому опыту офлайн-шахмат."
   ]
  },
  {
   "cell_type": "markdown",
   "metadata": {},
   "source": [
    "#### Параметр `Game_Status`"
   ]
  },
  {
   "cell_type": "markdown",
   "metadata": {},
   "source": [
    "Game_Status - статус завершения партии (ничья, мат, чит и т.д.) - категориальный"
   ]
  },
  {
   "cell_type": "code",
   "execution_count": 368,
   "metadata": {},
   "outputs": [
    {
     "data": {
      "text/plain": [
       "resign       69230\n",
       "mate         20392\n",
       "outoftime    17657\n",
       "draw          9953\n",
       "timeout        769\n",
       "stalemate      640\n",
       "cheat           11\n",
       "Name: Game_Status, dtype: int64"
      ]
     },
     "execution_count": 368,
     "metadata": {},
     "output_type": "execute_result"
    }
   ],
   "source": [
    "df['Game_Status'].value_counts(dropna=False)"
   ]
  },
  {
   "cell_type": "markdown",
   "metadata": {},
   "source": [
    "Удалим читерные партии из набора (cheat) и партии, где игроку засчитался проигрыш при отключении (timeout)"
   ]
  },
  {
   "cell_type": "code",
   "execution_count": 369,
   "metadata": {},
   "outputs": [],
   "source": [
    "df = df[~df['Game_Status'].isin(['cheat', 'timeout'])].reset_index(drop=True)"
   ]
  },
  {
   "cell_type": "markdown",
   "metadata": {},
   "source": [
    "#### Параметр `Opening_Name`"
   ]
  },
  {
   "cell_type": "markdown",
   "metadata": {},
   "source": [
    "Opening_Name - название дебюта, который был сыгран - категориальный"
   ]
  },
  {
   "cell_type": "code",
   "execution_count": 370,
   "metadata": {},
   "outputs": [
    {
     "data": {
      "text/plain": [
       "Indian Defense                                                 1611\n",
       "Sicilian Defense: Closed                                       1349\n",
       "King's Indian Attack                                           1078\n",
       "Zukertort Opening                                              1055\n",
       "Sicilian Defense: Najdorf Variation                             949\n",
       "                                                               ... \n",
       "Ruy Lopez: Closed, Smyslov-Breyer-Zaitsev Hybrid                  1\n",
       "Sicilian Defense: Najdorf Variation, Scheveningen Variation       1\n",
       "Old Indian Defense: Duz-Khotimirsky Variation                     1\n",
       "Owen Defense: Naselwaus Gambit                                    1\n",
       "Ponziani Opening: Ponziani Countergambit                          1\n",
       "Name: Opening_Name, Length: 2276, dtype: int64"
      ]
     },
     "execution_count": 370,
     "metadata": {},
     "output_type": "execute_result"
    }
   ],
   "source": [
    "df['Opening_Name'].value_counts(dropna=False)"
   ]
  },
  {
   "cell_type": "code",
   "execution_count": null,
   "metadata": {},
   "outputs": [],
   "source": []
  },
  {
   "cell_type": "code",
   "execution_count": 371,
   "metadata": {},
   "outputs": [],
   "source": [
    "# TODO:что дальше?"
   ]
  },
  {
   "cell_type": "markdown",
   "metadata": {},
   "source": [
    "#### Параметр `Opening_ECO`"
   ]
  },
  {
   "cell_type": "markdown",
   "metadata": {},
   "source": [
    "Opening_ECO - код дебюта по системе ECO (Encyclopaedia of Chess Openings) - категориальный"
   ]
  },
  {
   "cell_type": "code",
   "execution_count": 372,
   "metadata": {},
   "outputs": [
    {
     "data": {
      "text/plain": [
       "A00    4996\n",
       "A04    3338\n",
       "A45    3148\n",
       "A05    2680\n",
       "A40    2629\n",
       "       ... \n",
       "E96       1\n",
       "E89       1\n",
       "E03       1\n",
       "D98       1\n",
       "E31       1\n",
       "Name: Opening_ECO, Length: 486, dtype: int64"
      ]
     },
     "execution_count": 372,
     "metadata": {},
     "output_type": "execute_result"
    }
   ],
   "source": [
    "df['Opening_ECO'].value_counts(dropna=False)"
   ]
  },
  {
   "cell_type": "markdown",
   "metadata": {},
   "source": [
    "Найдем самые популярные дебюты и их процент в общей доле."
   ]
  },
  {
   "cell_type": "code",
   "execution_count": 373,
   "metadata": {},
   "outputs": [],
   "source": [
    "# Подсчет количества дебютов\n",
    "opening_counts = df['Opening_ECO'].value_counts()\n",
    "\n",
    "# Расчет процентов\n",
    "total_openings = opening_counts.sum()\n",
    "opening_percentages = (opening_counts / total_openings) * 100\n",
    "opening_percentages = round(opening_percentages, 0)\n",
    "\n",
    "# Создание DataFrame с количеством и процентами\n",
    "top_openings = pd.DataFrame({\n",
    "    'Count': opening_counts,\n",
    "    'Percentage': opening_percentages\n",
    "})"
   ]
  },
  {
   "cell_type": "code",
   "execution_count": 374,
   "metadata": {},
   "outputs": [
    {
     "data": {
      "text/html": [
       "<div>\n",
       "<style scoped>\n",
       "    .dataframe tbody tr th:only-of-type {\n",
       "        vertical-align: middle;\n",
       "    }\n",
       "\n",
       "    .dataframe tbody tr th {\n",
       "        vertical-align: top;\n",
       "    }\n",
       "\n",
       "    .dataframe thead th {\n",
       "        text-align: right;\n",
       "    }\n",
       "</style>\n",
       "<table border=\"1\" class=\"dataframe\">\n",
       "  <thead>\n",
       "    <tr style=\"text-align: right;\">\n",
       "      <th></th>\n",
       "      <th>Count</th>\n",
       "      <th>Percentage</th>\n",
       "    </tr>\n",
       "  </thead>\n",
       "  <tbody>\n",
       "    <tr>\n",
       "      <th>A00</th>\n",
       "      <td>4996</td>\n",
       "      <td>4.0</td>\n",
       "    </tr>\n",
       "    <tr>\n",
       "      <th>A04</th>\n",
       "      <td>3338</td>\n",
       "      <td>3.0</td>\n",
       "    </tr>\n",
       "    <tr>\n",
       "      <th>A45</th>\n",
       "      <td>3148</td>\n",
       "      <td>3.0</td>\n",
       "    </tr>\n",
       "  </tbody>\n",
       "</table>\n",
       "</div>"
      ],
      "text/plain": [
       "     Count  Percentage\n",
       "A00   4996         4.0\n",
       "A04   3338         3.0\n",
       "A45   3148         3.0"
      ]
     },
     "execution_count": 374,
     "metadata": {},
     "output_type": "execute_result"
    }
   ],
   "source": [
    "top_openings.head(3)"
   ]
  },
  {
   "cell_type": "markdown",
   "metadata": {},
   "source": [
    "Наиболее часто встречающиеся дебюты:\n",
    "\n",
    "A00 (4 %) - \"неопределенные дебюты\".\n",
    "\n",
    "A04 (3%) - дебют известный как \"Скандинавская защита\", начинается с хода пешки на королевском фланге и стремится быстро развивать фигуры, чтобы контролировать центр. Этот дебют обычно выбирают игроки, которые хотят атаковать и не боятся рискованных позиций.\n",
    "\n",
    "A45 (3%) - дебют, который называется \"Защита Оуэна\", начинается с хода пешкой на королевском фланге, но сосредоточен на более медленном и стратегическом раскрытии фигур. Игроки, использующие этот дебют, часто стремятся к созданию сложной позиции и могут играть на противостоянии сопернику, ожидая, когда тот сделает ошибку."
   ]
  },
  {
   "cell_type": "markdown",
   "metadata": {},
   "source": [
    "#### Параметр `Opening_PLY`"
   ]
  },
  {
   "cell_type": "markdown",
   "metadata": {},
   "source": [
    "Opening_PLY - количество полуходов до выхода из дебютной стадии - числовой"
   ]
  },
  {
   "cell_type": "code",
   "execution_count": 375,
   "metadata": {},
   "outputs": [],
   "source": [
    "# TODO: логика?"
   ]
  },
  {
   "cell_type": "markdown",
   "metadata": {},
   "source": [
    "#### Параметр `Created_At`"
   ]
  },
  {
   "cell_type": "markdown",
   "metadata": {},
   "source": [
    "Created_At - время создания партии - категориальный"
   ]
  },
  {
   "cell_type": "code",
   "execution_count": null,
   "metadata": {},
   "outputs": [],
   "source": [
    "# Создаем дополнительное поле - год игры\n",
    "df['Created_Year'] = df['Created_At'].dt.to_period('Y')\n",
    "\n",
    "year_counts = df.groupby('Created_Year').size()\n",
    "year_counts"
   ]
  },
  {
   "cell_type": "markdown",
   "metadata": {},
   "source": [
    "Удалим данные с 2014 по 2019 годы из-за малого числа наблюдений."
   ]
  },
  {
   "cell_type": "code",
   "execution_count": null,
   "metadata": {},
   "outputs": [],
   "source": [
    "df = df[~df['Created_Year'].astype(\n",
    "    str).isin(['2014', '2015', '2016', '2017', '2018', '2019'])].reset_index(drop=True)"
   ]
  },
  {
   "cell_type": "markdown",
   "metadata": {},
   "source": [
    "Теперь посмотрим на распределение"
   ]
  },
  {
   "cell_type": "code",
   "execution_count": null,
   "metadata": {},
   "outputs": [],
   "source": [
    "plt.figure(figsize=(14, 4))\n",
    "sns.barplot(x=year_counts.index.astype(str),\n",
    "            y=year_counts.values, color='blue')\n",
    "plt.xticks(rotation=45)\n",
    "plt.xlabel(\"Год\")\n",
    "plt.ylabel(\"Количество записей\")\n",
    "plt.title(\"Распределение записей по Created_At (год)\")\n",
    "plt.show()"
   ]
  },
  {
   "cell_type": "markdown",
   "metadata": {},
   "source": [
    "Посмотрим на распределение игр по месяцам"
   ]
  },
  {
   "cell_type": "code",
   "execution_count": null,
   "metadata": {},
   "outputs": [],
   "source": [
    "df['Created_Month'] = df['Created_At'].dt.month\n",
    "\n",
    "month_counts = df.groupby('Created_Month').size()\n",
    "\n",
    "plt.figure(figsize=(14, 5))\n",
    "sns.barplot(x=month_counts.index.astype(str),\n",
    "            y=month_counts.values, color='blue')\n",
    "plt.xticks(rotation=45)\n",
    "plt.xlabel(\"Месяц\")\n",
    "plt.ylabel(\"Количество записей\")\n",
    "plt.title(\"Распределение записей по Created_At (месяц)\")\n",
    "plt.show()"
   ]
  },
  {
   "cell_type": "markdown",
   "metadata": {},
   "source": [
    "Чаще всего играют в январе и декабре. Можно выделить спад в весенне-летний период"
   ]
  },
  {
   "cell_type": "markdown",
   "metadata": {},
   "source": [
    "Узнаем в какой день недели чаще всего играют в шахматы"
   ]
  },
  {
   "cell_type": "code",
   "execution_count": null,
   "metadata": {},
   "outputs": [],
   "source": [
    "df[\"weekday\"] = df[\"Created_At\"].dt.day_name()\n",
    "ordered_days = [\"Monday\", \"Tuesday\", \"Wednesday\",\n",
    "                \"Thursday\", \"Friday\", \"Saturday\", \"Sunday\"]\n",
    "\n",
    "day_counts = df[\"weekday\"].value_counts().reindex(ordered_days)\n",
    "\n",
    "\n",
    "plt.figure(figsize=(14, 5))\n",
    "sns.barplot(x=day_counts.index, y=day_counts.values,  color='blue')\n",
    "plt.title(\"Распределение шахматных партий по дням недели\")\n",
    "plt.xlabel(\"День недели\")\n",
    "plt.ylabel(\"Количество партий\")\n",
    "plt.xticks(rotation=45)\n",
    "plt.show()"
   ]
  },
  {
   "cell_type": "markdown",
   "metadata": {},
   "source": [
    "По пятницам и субботам в шахматы играют чаще всего"
   ]
  },
  {
   "cell_type": "markdown",
   "metadata": {},
   "source": [
    "Узнаем в какой время суток чаще всего играют в шахматы"
   ]
  },
  {
   "cell_type": "code",
   "execution_count": null,
   "metadata": {},
   "outputs": [],
   "source": [
    "df[\"Hour\"] = df[\"Created_At\"].dt.hour\n",
    "df[\"Hour\"].value_counts().sort_index().plot(\n",
    "    kind=\"bar\", figsize=(14, 5), color='blue')\n",
    "plt.title(\"Распределение партий по часам суток\")\n",
    "plt.xlabel(\"Час\")\n",
    "plt.ylabel(\"Количество партий\")\n",
    "plt.xticks(rotation=0)\n",
    "plt.show()"
   ]
  },
  {
   "cell_type": "markdown",
   "metadata": {},
   "source": [
    "Чаще всего люди играют в вечернее время (с 17 до 20 UTC)"
   ]
  },
  {
   "cell_type": "markdown",
   "metadata": {},
   "source": [
    "#### Параметр `Last_Move_At`"
   ]
  },
  {
   "cell_type": "markdown",
   "metadata": {},
   "source": [
    "Last_Move_At - время последнего хода в партии - категориальный"
   ]
  },
  {
   "cell_type": "code",
   "execution_count": null,
   "metadata": {},
   "outputs": [],
   "source": [
    "# Создаем дополнительное поле - год игры\n",
    "df['Last_Move_Year'] = df['Last_Move_At'].dt.to_period('Y')\n",
    "\n",
    "last_move_year_counts = df.groupby('Last_Move_Year').size()\n",
    "last_move_year_counts"
   ]
  },
  {
   "cell_type": "code",
   "execution_count": null,
   "metadata": {},
   "outputs": [],
   "source": [
    "plt.figure(figsize=(14, 4))\n",
    "sns.barplot(x=last_move_year_counts.index.astype(str),\n",
    "            y=last_move_year_counts.values, color='blue')\n",
    "plt.xticks(rotation=45)\n",
    "plt.xlabel(\"Год\")\n",
    "plt.ylabel(\"Количество записей\")\n",
    "plt.title(\"Распределение записей по Last_Move_At (год)\")\n",
    "plt.show()"
   ]
  },
  {
   "cell_type": "code",
   "execution_count": null,
   "metadata": {},
   "outputs": [],
   "source": [
    "df['Last_Move_Month'] = df['Last_Move_At'].dt.month\n",
    "\n",
    "last_move_month_counts = df.groupby('Last_Move_Month').size()\n",
    "\n",
    "plt.figure(figsize=(14, 5))\n",
    "sns.barplot(x=last_move_month_counts.index.astype(str),\n",
    "            y=last_move_month_counts.values, color='blue')\n",
    "plt.xticks(rotation=45)\n",
    "plt.xlabel(\"Месяц\")\n",
    "plt.ylabel(\"Количество записей\")\n",
    "plt.title(\"Распределение записей по Last_Move_At (месяц)\")\n",
    "plt.show()"
   ]
  },
  {
   "cell_type": "code",
   "execution_count": null,
   "metadata": {},
   "outputs": [],
   "source": [
    "df[\"Last_Move_Hour\"] = df[\"Last_Move_At\"].dt.hour\n",
    "df[\"Last_Move_Hour\"].value_counts().sort_index().plot(\n",
    "    kind=\"bar\", figsize=(14, 5), color='blue')\n",
    "plt.title(\"Распределение партий по часам суток\")\n",
    "plt.xlabel(\"Час\")\n",
    "plt.ylabel(\"Количество партий\")\n",
    "plt.xticks(rotation=0)\n",
    "plt.show()"
   ]
  },
  {
   "cell_type": "markdown",
   "metadata": {},
   "source": [
    "Данный параметр имеет то же распределение, что и `Created_At`"
   ]
  },
  {
   "cell_type": "markdown",
   "metadata": {},
   "source": [
    "#### Параметр `White_Player`"
   ]
  },
  {
   "cell_type": "markdown",
   "metadata": {},
   "source": [
    "White_Player - идентификатор игрока, игравшего белыми - категориальный"
   ]
  },
  {
   "cell_type": "code",
   "execution_count": 266,
   "metadata": {},
   "outputs": [],
   "source": [
    "# TODO: что с этим полем?"
   ]
  },
  {
   "cell_type": "markdown",
   "metadata": {},
   "source": [
    "#### Параметр `Black_Player`"
   ]
  },
  {
   "cell_type": "markdown",
   "metadata": {},
   "source": [
    "Black_Player - идентификатор игрока, игравшего черными - категориальный"
   ]
  },
  {
   "cell_type": "code",
   "execution_count": 267,
   "metadata": {},
   "outputs": [],
   "source": [
    "# TODO: что с этим полем?"
   ]
  },
  {
   "cell_type": "markdown",
   "metadata": {},
   "source": [
    "#### Параметр `White_Title` и `Black_Title`"
   ]
  },
  {
   "cell_type": "markdown",
   "metadata": {},
   "source": [
    "White_Title - шахматный титул игрока, игравшего белыми (например, GM, IM, FM) - категориальный"
   ]
  },
  {
   "cell_type": "code",
   "execution_count": 268,
   "metadata": {},
   "outputs": [
    {
     "data": {
      "text/plain": [
       "NaN    80310\n",
       "GM     14420\n",
       "FM      9301\n",
       "IM      9270\n",
       "CM      2429\n",
       "NM      2038\n",
       "LM        46\n",
       "WFM       21\n",
       "WIM       14\n",
       "WCM       12\n",
       "BOT       10\n",
       "WGM        1\n",
       "Name: White_Title, dtype: int64"
      ]
     },
     "execution_count": 268,
     "metadata": {},
     "output_type": "execute_result"
    }
   ],
   "source": [
    "df['White_Title'].value_counts(dropna=False)"
   ]
  },
  {
   "cell_type": "code",
   "execution_count": 269,
   "metadata": {},
   "outputs": [
    {
     "data": {
      "text/plain": [
       "NaN    80364\n",
       "GM     14308\n",
       "FM      9333\n",
       "IM      9277\n",
       "CM      2383\n",
       "NM      2095\n",
       "LM        45\n",
       "WFM       34\n",
       "WIM       13\n",
       "WCM        9\n",
       "BOT        7\n",
       "WGM        4\n",
       "Name: Black_Title, dtype: int64"
      ]
     },
     "execution_count": 269,
     "metadata": {},
     "output_type": "execute_result"
    }
   ],
   "source": [
    "df['Black_Title'].value_counts(dropna=False)"
   ]
  },
  {
   "cell_type": "markdown",
   "metadata": {},
   "source": [
    "Заполним пропуски значением NT - No Title"
   ]
  },
  {
   "cell_type": "code",
   "execution_count": 270,
   "metadata": {},
   "outputs": [],
   "source": [
    "df['White_Title'] = df['White_Title'].fillna('NT')\n",
    "df['Black_Title'] = df['Black_Title'].fillna('NT')"
   ]
  },
  {
   "cell_type": "markdown",
   "metadata": {},
   "source": [
    "#### Параметр `White_Rating`"
   ]
  },
  {
   "cell_type": "markdown",
   "metadata": {},
   "source": [
    "White_Rating - рейтинг белого игрока - числовой"
   ]
  },
  {
   "cell_type": "code",
   "execution_count": 271,
   "metadata": {},
   "outputs": [],
   "source": [
    "# TODO: что с этим полем?"
   ]
  },
  {
   "cell_type": "markdown",
   "metadata": {},
   "source": [
    "#### Параметр `Black_Rating`"
   ]
  },
  {
   "cell_type": "markdown",
   "metadata": {},
   "source": [
    "Black_Rating - рейтинг черного игрока - числовой"
   ]
  },
  {
   "cell_type": "code",
   "execution_count": 272,
   "metadata": {},
   "outputs": [],
   "source": [
    "# TODO: что с этим полем?"
   ]
  },
  {
   "cell_type": "markdown",
   "metadata": {},
   "source": [
    "#### Параметр `White_Inaccuracy`"
   ]
  },
  {
   "cell_type": "markdown",
   "metadata": {},
   "source": [
    "White_Inaccuracy - количество неточностей, допущенных белым игроком - числовой"
   ]
  },
  {
   "cell_type": "code",
   "execution_count": 273,
   "metadata": {},
   "outputs": [],
   "source": [
    "# TODO: что с этим полем?"
   ]
  },
  {
   "cell_type": "markdown",
   "metadata": {},
   "source": [
    "#### Параметр `Black_Inaccuracy`"
   ]
  },
  {
   "cell_type": "markdown",
   "metadata": {},
   "source": [
    "Black_Inaccuracy - количество неточностей, допущенных черным игроком - числовой"
   ]
  },
  {
   "cell_type": "code",
   "execution_count": 274,
   "metadata": {},
   "outputs": [],
   "source": [
    "# TODO: что с этим полем?"
   ]
  },
  {
   "cell_type": "markdown",
   "metadata": {},
   "source": [
    "#### Параметр `White_Mistake`"
   ]
  },
  {
   "cell_type": "markdown",
   "metadata": {},
   "source": [
    "White_Mistake - количество ошибок, допущенных белым игроком - числовой"
   ]
  },
  {
   "cell_type": "code",
   "execution_count": 377,
   "metadata": {},
   "outputs": [],
   "source": [
    "white_mistake_count = df['White_Mistake'].value_counts()"
   ]
  },
  {
   "cell_type": "code",
   "execution_count": 378,
   "metadata": {},
   "outputs": [
    {
     "data": {
      "text/plain": [
       "0     47239\n",
       "1     35424\n",
       "2     20372\n",
       "3      9651\n",
       "4      3773\n",
       "5      1356\n",
       "6        37\n",
       "7        14\n",
       "8         4\n",
       "10        1\n",
       "9         1\n",
       "Name: White_Mistake, dtype: int64"
      ]
     },
     "execution_count": 378,
     "metadata": {},
     "output_type": "execute_result"
    }
   ],
   "source": [
    "white_mistake_count"
   ]
  },
  {
   "cell_type": "markdown",
   "metadata": {},
   "source": [
    "#### Параметр `Black_Mistake`"
   ]
  },
  {
   "cell_type": "markdown",
   "metadata": {},
   "source": [
    "Black_Mistake - количество ошибок, допущенных черным игроком - числовой"
   ]
  },
  {
   "cell_type": "code",
   "execution_count": 379,
   "metadata": {},
   "outputs": [],
   "source": [
    "black_mistake_count = df['Black_Mistake'].value_counts()"
   ]
  },
  {
   "cell_type": "code",
   "execution_count": 380,
   "metadata": {},
   "outputs": [
    {
     "data": {
      "text/plain": [
       "0    45851\n",
       "1    36526\n",
       "2    20778\n",
       "3     9527\n",
       "4     3792\n",
       "5     1329\n",
       "6       45\n",
       "7       14\n",
       "8        7\n",
       "9        3\n",
       "Name: Black_Mistake, dtype: int64"
      ]
     },
     "execution_count": 380,
     "metadata": {},
     "output_type": "execute_result"
    }
   ],
   "source": [
    "black_mistake_count"
   ]
  },
  {
   "cell_type": "markdown",
   "metadata": {},
   "source": [
    "#### Параметр `White_Blunder`"
   ]
  },
  {
   "cell_type": "markdown",
   "metadata": {},
   "source": [
    "White_Blunder - количество грубых ошибок (зевков), допущенных белым игроком - числовой"
   ]
  },
  {
   "cell_type": "code",
   "execution_count": 381,
   "metadata": {},
   "outputs": [],
   "source": [
    "white_blunder_count = df['White_Blunder'].value_counts()"
   ]
  },
  {
   "cell_type": "code",
   "execution_count": 382,
   "metadata": {},
   "outputs": [
    {
     "data": {
      "text/plain": [
       "0     38340\n",
       "1     34059\n",
       "2     22271\n",
       "3     12823\n",
       "4      6715\n",
       "5      3348\n",
       "6       138\n",
       "7        85\n",
       "8        37\n",
       "9        32\n",
       "11        9\n",
       "10        9\n",
       "12        3\n",
       "23        1\n",
       "14        1\n",
       "13        1\n",
       "Name: White_Blunder, dtype: int64"
      ]
     },
     "execution_count": 382,
     "metadata": {},
     "output_type": "execute_result"
    }
   ],
   "source": [
    "white_blunder_count"
   ]
  },
  {
   "cell_type": "markdown",
   "metadata": {},
   "source": [
    "#### Параметр `Black_Blunder`"
   ]
  },
  {
   "cell_type": "markdown",
   "metadata": {},
   "source": [
    "Black_Blunder - количество грубых ошибок (зевков), допущенных черным игроком - числовой"
   ]
  },
  {
   "cell_type": "code",
   "execution_count": 383,
   "metadata": {},
   "outputs": [],
   "source": [
    "black_blunder_count = df['Black_Blunder'].value_counts()"
   ]
  },
  {
   "cell_type": "code",
   "execution_count": 384,
   "metadata": {},
   "outputs": [
    {
     "data": {
      "text/plain": [
       "0     37220\n",
       "1     35105\n",
       "2     22710\n",
       "3     12720\n",
       "4      6579\n",
       "5      3236\n",
       "6       134\n",
       "7        69\n",
       "8        45\n",
       "9        24\n",
       "10       17\n",
       "12        5\n",
       "11        5\n",
       "23        1\n",
       "15        1\n",
       "14        1\n",
       "Name: Black_Blunder, dtype: int64"
      ]
     },
     "execution_count": 384,
     "metadata": {},
     "output_type": "execute_result"
    }
   ],
   "source": [
    "black_blunder_count"
   ]
  },
  {
   "cell_type": "code",
   "execution_count": 385,
   "metadata": {},
   "outputs": [
    {
     "data": {
      "image/png": "[encoded data removed]",
      "text/plain": [
       "<Figure size 720x432 with 1 Axes>"
      ]
     },
     "metadata": {
      "needs_background": "light"
     },
     "output_type": "display_data"
    }
   ],
   "source": [
    "# 4.6. Коробчатая диаграмма для сравнения ошибок\n",
    "plt.figure(figsize=(10, 6))\n",
    "sns.boxplot(data=df[['White_Mistake', 'Black_Mistake']])\n",
    "plt.title('Сравнение ошибок белого и черного игрока')\n",
    "plt.ylabel('Количество ошибок')\n",
    "plt.xticks([0, 1], ['Белый игрок', 'Черный игрок'])\n",
    "plt.show()"
   ]
  },
  {
   "cell_type": "code",
   "execution_count": 386,
   "metadata": {},
   "outputs": [
    {
     "data": {
      "image/png": "[encoded data removed]",
      "text/plain": [
       "<Figure size 720x576 with 1 Axes>"
      ]
     },
     "metadata": {
      "needs_background": "light"
     },
     "output_type": "display_data"
    }
   ],
   "source": [
    "# 4.7. Коробчатая диаграмма для сравнения грубых ошибок\n",
    "plt.figure(figsize=(10, 8))\n",
    "sns.boxplot(data=df[['White_Blunder', 'Black_Blunder']])\n",
    "plt.title('Сравнение грубых ошибок белого и черного игрока')\n",
    "plt.ylabel('Количество ошибок')\n",
    "plt.xticks([0, 1], ['Белый игрок', 'Черный игрок'])\n",
    "plt.show()"
   ]
  },
  {
   "cell_type": "markdown",
   "metadata": {},
   "source": [
    "Узнаем количество партий, сыгранных без ошибок для белых и черных игроков"
   ]
  },
  {
   "cell_type": "code",
   "execution_count": 387,
   "metadata": {},
   "outputs": [
    {
     "name": "stdout",
     "output_type": "stream",
     "text": [
      "Количество партий без ошибок у белых: 21352\n",
      "Количество партий без ошибок у черных: 19398\n"
     ]
    }
   ],
   "source": [
    "# количество партий без ошибок для белых игроков.\n",
    "no_errors_white = df.query(\"White_Mistake == 0 and White_Blunder == 0\")\n",
    "\n",
    "count_no_errors_white = no_errors_white.shape[0]\n",
    "\n",
    "# количество партий без ошибок для черных игроков.\n",
    "no_errors_black = df.query(\"Black_Mistake == 0 and Black_Blunder == 0\")\n",
    "\n",
    "count_no_errors_black = no_errors_black.shape[0]\n",
    "\n",
    "print(f\"Количество партий без ошибок у белых: {count_no_errors_white}\")\n",
    "print(f\"Количество партий без ошибок у черных: {count_no_errors_black}\")"
   ]
  },
  {
   "cell_type": "markdown",
   "metadata": {},
   "source": [
    "Узнаем процент партий без ошибок у белых и черных в общем объеме"
   ]
  },
  {
   "cell_type": "code",
   "execution_count": 388,
   "metadata": {},
   "outputs": [
    {
     "name": "stdout",
     "output_type": "stream",
     "text": [
      "Процент партий без ошибок у белых: 18.11%\n",
      "Процент партий без ошибок у черных: 16.46%\n"
     ]
    }
   ],
   "source": [
    "total_games = df.shape[0]\n",
    "\n",
    "# Вычисление процента безошибочных партий у белых\n",
    "percentage_no_errors_white = (count_no_errors_white / total_games) * 100\n",
    "\n",
    "# Вычисление процента безошибочных партий у черных\n",
    "percentage_no_errors_black = (count_no_errors_black / total_games) * 100\n",
    "\n",
    "print(f\"Процент партий без ошибок у белых: {percentage_no_errors_white:.2f}%\")\n",
    "print(f\"Процент партий без ошибок у черных: {percentage_no_errors_black:.2f}%\")"
   ]
  },
  {
   "cell_type": "markdown",
   "metadata": {},
   "source": [
    "Узнаем были ли такие партиии, где ни белые, ни черные не совершили ни одной ошибки."
   ]
  },
  {
   "cell_type": "code",
   "execution_count": 389,
   "metadata": {},
   "outputs": [
    {
     "name": "stdout",
     "output_type": "stream",
     "text": [
      "Количество партий, где ни белые, ни черные не совершили ни одной ошибки.: 4180\n",
      "Процент партий, где ни белые, ни черные не совершили ни одной ошибки: 3.55%\n"
     ]
    }
   ],
   "source": [
    "no_errors_white_and_black = df.query(\"White_Mistake == 0 and White_Blunder == 0 and Black_Mistake == 0 and Black_Blunder == 0\")\n",
    "\n",
    "count_no_errors_white_and_black = no_errors_white_and_black.shape[0]\n",
    "\n",
    "# Вычисление процента безошибочных партий у белых и черных одновременно\n",
    "percentage_no_errors_white_and_black = (count_no_errors_white_and_black / total_games) * 100\n",
    "\n",
    "print(f\"Количество партий, где ни белые, ни черные не совершили ни одной ошибки.: {count_no_errors_white_and_black}\")\n",
    "print(f\"Процент партий, где ни белые, ни черные не совершили ни одной ошибки: {percentage_no_errors_white_and_black:.2f}%\")"
   ]
  },
  {
   "cell_type": "markdown",
   "metadata": {},
   "source": [
    "Сложим ошибки и грубые ошибки всех игроков для одной партии и выведем их в новом столбце 'Total_Mistakes'"
   ]
  },
  {
   "cell_type": "code",
   "execution_count": 390,
   "metadata": {},
   "outputs": [],
   "source": [
    "df['Total_Mistakes'] = df['White_Mistake'] + df['Black_Mistake'] + df['White_Blunder'] + df['Black_Blunder']"
   ]
  },
  {
   "cell_type": "markdown",
   "metadata": {},
   "source": [
    "Исследуем медиану общего количества ошибок."
   ]
  },
  {
   "cell_type": "markdown",
   "metadata": {},
   "source": [
    "Вычислим медиану общего количества ошибок для каждого контроля времени партии (Speed)"
   ]
  },
  {
   "cell_type": "code",
   "execution_count": 391,
   "metadata": {},
   "outputs": [],
   "source": [
    "median_errors_for_Speed = df.groupby('Speed')['Total_Mistakes'].median().reset_index(name='Median_Mistakes')"
   ]
  },
  {
   "cell_type": "code",
   "execution_count": 392,
   "metadata": {},
   "outputs": [
    {
     "data": {
      "text/html": [
       "<div>\n",
       "<style scoped>\n",
       "    .dataframe tbody tr th:only-of-type {\n",
       "        vertical-align: middle;\n",
       "    }\n",
       "\n",
       "    .dataframe tbody tr th {\n",
       "        vertical-align: top;\n",
       "    }\n",
       "\n",
       "    .dataframe thead th {\n",
       "        text-align: right;\n",
       "    }\n",
       "</style>\n",
       "<table border=\"1\" class=\"dataframe\">\n",
       "  <thead>\n",
       "    <tr style=\"text-align: right;\">\n",
       "      <th></th>\n",
       "      <th>Speed</th>\n",
       "      <th>Median_Mistakes</th>\n",
       "    </tr>\n",
       "  </thead>\n",
       "  <tbody>\n",
       "    <tr>\n",
       "      <th>0</th>\n",
       "      <td>blitz</td>\n",
       "      <td>4</td>\n",
       "    </tr>\n",
       "    <tr>\n",
       "      <th>1</th>\n",
       "      <td>bullet</td>\n",
       "      <td>5</td>\n",
       "    </tr>\n",
       "    <tr>\n",
       "      <th>2</th>\n",
       "      <td>classical</td>\n",
       "      <td>3</td>\n",
       "    </tr>\n",
       "    <tr>\n",
       "      <th>3</th>\n",
       "      <td>rapid</td>\n",
       "      <td>4</td>\n",
       "    </tr>\n",
       "    <tr>\n",
       "      <th>4</th>\n",
       "      <td>ultraBullet</td>\n",
       "      <td>7</td>\n",
       "    </tr>\n",
       "  </tbody>\n",
       "</table>\n",
       "</div>"
      ],
      "text/plain": [
       "         Speed  Median_Mistakes\n",
       "0        blitz                4\n",
       "1       bullet                5\n",
       "2    classical                3\n",
       "3        rapid                4\n",
       "4  ultraBullet                7"
      ]
     },
     "execution_count": 392,
     "metadata": {},
     "output_type": "execute_result"
    }
   ],
   "source": [
    "median_errors_for_Speed"
   ]
  },
  {
   "cell_type": "code",
   "execution_count": 393,
   "metadata": {},
   "outputs": [
    {
     "data": {
      "image/png": "[encoded data removed]",
      "text/plain": [
       "<Figure size 720x432 with 1 Axes>"
      ]
     },
     "metadata": {
      "needs_background": "light"
     },
     "output_type": "display_data"
    }
   ],
   "source": [
    "# Определяем порядок категорий\n",
    "speed_order = ['classical', 'rapid', 'blitz', 'bullet', 'ultraBullet']\n",
    "\n",
    "# Преобразуем столбец Speed в категориальный тип с заданным порядком\n",
    "median_errors_for_Speed['Speed'] = pd.Categorical(median_errors_for_Speed['Speed'], categories=speed_order, ordered=True)\n",
    "\n",
    "# Построение графика\n",
    "plt.figure(figsize=(10, 6))\n",
    "sns.lineplot(data=median_errors_for_Speed, x='Speed', y='Median_Mistakes', marker='o')\n",
    "\n",
    "# Настройка графика\n",
    "plt.title('Медиана общего количества ошибок по контролю времени партии')\n",
    "plt.xlabel('Контроль времени партии (Speed)')\n",
    "plt.ylabel('Медиана ошибок (Median Mistakes)')\n",
    "plt.xticks(rotation=0)  # Устанавливаем угол поворота подписей на 0 градусов\n",
    "plt.grid()\n",
    "\n",
    "# Показать график\n",
    "plt.tight_layout()\n",
    "plt.show()"
   ]
  },
  {
   "cell_type": "markdown",
   "metadata": {},
   "source": [
    "classical - от 60 минут до нескольких часов.\n",
    "\n",
    "rapid - от 10 до 60 минут.\n",
    "\n",
    "blitz - от 3-х до 10 минут.\n",
    "\n",
    "bullet - менее 3-х минут.\n",
    "\n",
    "ultraBullet - менее 1-ой минуты."
   ]
  },
  {
   "cell_type": "code",
   "execution_count": null,
   "metadata": {},
   "outputs": [],
   "source": []
  },
  {
   "cell_type": "markdown",
   "metadata": {},
   "source": [
    "#### Параметр `White_ACPL`"
   ]
  },
  {
   "cell_type": "markdown",
   "metadata": {},
   "source": [
    "White_ACPL - средний потерянный центильпешечный эквивалент (средняя ошибка по оценке движка) - числовой"
   ]
  },
  {
   "cell_type": "code",
   "execution_count": 292,
   "metadata": {},
   "outputs": [
    {
     "data": {
      "image/png": "[encoded data removed]",
      "text/plain": [
       "<Figure size 1008x360 with 1 Axes>"
      ]
     },
     "metadata": {
      "needs_background": "light"
     },
     "output_type": "display_data"
    }
   ],
   "source": [
    "plt.figure(figsize=(14, 5))\n",
    "sns.histplot(df['White_ACPL'], bins=30)\n",
    "plt.title('Распределение White_ACPL')\n",
    "plt.xlabel('White_ACPL')\n",
    "plt.ylabel('Частота')\n",
    "plt.show()"
   ]
  },
  {
   "cell_type": "markdown",
   "metadata": {},
   "source": [
    "Распределение имеет положительную асимметрию (хвост уходит вправо), поэтому применим логарифмирование для уменьшения разброса значений и приведения данных к более нормальному виду."
   ]
  },
  {
   "cell_type": "code",
   "execution_count": 293,
   "metadata": {},
   "outputs": [
    {
     "data": {
      "image/png": "[encoded data removed]",
      "text/plain": [
       "<Figure size 1008x360 with 2 Axes>"
      ]
     },
     "metadata": {
      "needs_background": "light"
     },
     "output_type": "display_data"
    }
   ],
   "source": [
    "# Логарифмируем\n",
    "df['White_ACPL_log'] = np.log1p(df['White_ACPL'])\n",
    "\n",
    "# Строим график\n",
    "fig, ax = plt.subplots(1, 2, figsize=(14, 5))\n",
    "\n",
    "sns.histplot(df['White_ACPL'],\n",
    "             bins=30, ax=ax[0], color=\"blue\")\n",
    "ax[0].set_title(\"Исходное распределение White_ACPL\")\n",
    "ax[0].set_xlabel(\"White_ACPL\")\n",
    "ax[0].set_ylabel(\"Частота\")\n",
    "\n",
    "sns.histplot(\n",
    "    df['White_ACPL_log'], bins=30, ax=ax[1], color=\"orange\")\n",
    "ax[1].set_title(\"Распределение после логарифмирования\")\n",
    "ax[1].set_xlabel(\"White_ACPL_log\")\n",
    "ax[1].set_ylabel(\"Частота\")\n",
    "\n",
    "plt.tight_layout()\n",
    "plt.show()"
   ]
  },
  {
   "cell_type": "markdown",
   "metadata": {},
   "source": [
    "#### Параметр `Black_ACPL`"
   ]
  },
  {
   "cell_type": "markdown",
   "metadata": {},
   "source": [
    "Black_ACPL - средний потерянный центильпешечный эквивалент (средняя ошибка по оценке движка) - числовой"
   ]
  },
  {
   "cell_type": "code",
   "execution_count": 294,
   "metadata": {},
   "outputs": [
    {
     "data": {
      "image/png": "[encoded data removed]",
      "text/plain": [
       "<Figure size 1008x360 with 1 Axes>"
      ]
     },
     "metadata": {
      "needs_background": "light"
     },
     "output_type": "display_data"
    }
   ],
   "source": [
    "plt.figure(figsize=(14, 5))\n",
    "sns.histplot(df['Black_ACPL'], bins=30)\n",
    "plt.title('Распределение Black_ACPL')\n",
    "plt.xlabel('Black_ACPL')\n",
    "plt.ylabel('Частота')\n",
    "plt.show()"
   ]
  },
  {
   "cell_type": "markdown",
   "metadata": {},
   "source": [
    "Повторим действия, как для White_ACPL"
   ]
  },
  {
   "cell_type": "code",
   "execution_count": 295,
   "metadata": {},
   "outputs": [
    {
     "data": {
      "image/png": "[encoded data removed]",
      "text/plain": [
       "<Figure size 1008x360 with 2 Axes>"
      ]
     },
     "metadata": {
      "needs_background": "light"
     },
     "output_type": "display_data"
    }
   ],
   "source": [
    "# Логарифмируем\n",
    "df['Black_ACPL_log'] = np.log1p(df['Black_ACPL'])\n",
    "\n",
    "# Строим график\n",
    "fig, ax = plt.subplots(1, 2, figsize=(14, 5))\n",
    "\n",
    "sns.histplot(df['Black_ACPL'],\n",
    "             bins=30, ax=ax[0], color=\"blue\")\n",
    "ax[0].set_title(\"Исходное распределение Black_ACPL\")\n",
    "ax[0].set_xlabel(\"Black_ACPL\")\n",
    "ax[0].set_ylabel(\"Частота\")\n",
    "\n",
    "sns.histplot(\n",
    "    df['Black_ACPL_log'], bins=30, ax=ax[1], color=\"orange\")\n",
    "ax[1].set_title(\"Распределение после логарифмирования\")\n",
    "ax[1].set_xlabel(\"Black_ACPL_log\")\n",
    "ax[1].set_ylabel(\"Частота\")\n",
    "\n",
    "plt.tight_layout()\n",
    "plt.show()"
   ]
  },
  {
   "cell_type": "markdown",
   "metadata": {},
   "source": [
    "#### Параметр `Clocks`"
   ]
  },
  {
   "cell_type": "markdown",
   "metadata": {},
   "source": [
    "Clocks - информация о времени игроков по ходу партии в виде последовательного числового списка - категориальный"
   ]
  },
  {
   "cell_type": "markdown",
   "metadata": {},
   "source": [
    "##### Новый параметр `White_Clocks` и `White_Clocks_Diffs`"
   ]
  },
  {
   "cell_type": "markdown",
   "metadata": {},
   "source": [
    "Выделим отдельным параметром остаток времени на таймере игрока белыми фигруами после каждого хода"
   ]
  },
  {
   "cell_type": "code",
   "execution_count": 296,
   "metadata": {},
   "outputs": [],
   "source": [
    "df['White_Clocks'] = df['Clocks'].apply(lambda x: x[::2])"
   ]
  },
  {
   "cell_type": "markdown",
   "metadata": {},
   "source": [
    "Посчитаем затрачиваемое время на каждый ход игрока белыми фигурами"
   ]
  },
  {
   "cell_type": "code",
   "execution_count": null,
   "metadata": {},
   "outputs": [],
   "source": [
    "def calculate_time_spent_with_increment(clock_list, increment):\n",
    "    clocks_sec = [x / 100 for x in clock_list]\n",
    "    spent = []\n",
    "    for i in range(1, len(clocks_sec)):\n",
    "        time_used = clocks_sec[i - 1] - clocks_sec[i] + increment\n",
    "        spent.append(round(max(time_used, 0), 2))\n",
    "    return spent\n",
    "\n",
    "\n",
    "df['White_Clocks_Diffs'] = df.apply(lambda row: calculate_time_spent_with_increment(\n",
    "    row['White_Clocks'], row['Total_Time_Increment']), axis=1)"
   ]
  },
  {
   "cell_type": "code",
   "execution_count": null,
   "metadata": {},
   "outputs": [],
   "source": [
    "df['White_Clocks_Diffs']"
   ]
  },
  {
   "cell_type": "markdown",
   "metadata": {},
   "source": [
    "##### Новый параметр `Black_Clocks` и `Black_Clocks_Diffs`"
   ]
  },
  {
   "cell_type": "code",
   "execution_count": null,
   "metadata": {},
   "outputs": [],
   "source": [
    "df['Black_Clocks'] = df['Clocks'].apply(lambda x: x[1::2])"
   ]
  },
  {
   "cell_type": "code",
   "execution_count": null,
   "metadata": {},
   "outputs": [],
   "source": [
    "df['Black_Clocks_Diffs'] = df.apply(lambda row: calculate_time_spent_with_increment(\n",
    "    row['Black_Clocks'], row['Total_Time_Increment']), axis=1)"
   ]
  },
  {
   "cell_type": "markdown",
   "metadata": {},
   "source": [
    "#### Параметр `Analysis`"
   ]
  },
  {
   "cell_type": "markdown",
   "metadata": {},
   "source": [
    "Analysis - данные анализа партии от Lichess движка - категориальный"
   ]
  },
  {
   "cell_type": "markdown",
   "metadata": {},
   "source": [
    "в этом столбце хранятся данные по оценке позиций на шахматной доске, которую дает шахматный движок.\n",
    "Число этих оценок зависит от хода игры.\n",
    "\n",
    "eval — это числовое значение, которое показывает, насколько хороша или плоха текущая позиция для одного из игроков. \n",
    "\n",
    "Положительное значение: позиция выгодна для белых.\n",
    "Отрицательное значение: позиция выгодна для черных.\n",
    "Ноль: позиция сбалансирована, ни одна сторона не имеет явного преимущества."
   ]
  },
  {
   "cell_type": "markdown",
   "metadata": {},
   "source": [
    "Найдем среднее значение eval для каждой партии "
   ]
  },
  {
   "cell_type": "code",
   "execution_count": 396,
   "metadata": {},
   "outputs": [
    {
     "name": "stdout",
     "output_type": "stream",
     "text": [
      "<class 'str'>\n"
     ]
    }
   ],
   "source": [
    "# Проверка типа данных столбца Analysis\n",
    "print(type(df['Analysis'].iloc[0]))"
   ]
  },
  {
   "cell_type": "code",
   "execution_count": 397,
   "metadata": {},
   "outputs": [],
   "source": [
    "# Так как тип данных столбца Analysis строка, то необходимо преобразование строки в списки.\n",
    "df['Analysis'] = df['Analysis'].apply(ast.literal_eval)"
   ]
  },
  {
   "cell_type": "code",
   "execution_count": 398,
   "metadata": {},
   "outputs": [],
   "source": [
    "# Извлекаем значения eval из каждого словаря в списке с проверкой наличия ключа\n",
    "def extract_eval(x):\n",
    "    return [item['eval'] for item in x if 'eval' in item]\n",
    "\n",
    "df['eval'] = df['Analysis'].apply(extract_eval)\n",
    "\n",
    "# Найдем среднее значение eval для каждого элемента\n",
    "df['avg_eval'] = df['eval'].apply(lambda x: sum(x) / len(x) if x else None)"
   ]
  },
  {
   "cell_type": "code",
   "execution_count": 399,
   "metadata": {},
   "outputs": [
    {
     "name": "stdout",
     "output_type": "stream",
     "text": [
      "0         186.257576\n",
      "1         133.000000\n",
      "2         -45.324324\n",
      "3         110.714286\n",
      "4         -21.457143\n",
      "             ...    \n",
      "117867    426.886792\n",
      "117868   -342.734694\n",
      "117869   -649.375000\n",
      "117870    320.782609\n",
      "117871    694.813953\n",
      "Name: avg_eval, Length: 117872, dtype: float64\n"
     ]
    }
   ],
   "source": [
    "avg_eval_column = df['avg_eval']\n",
    "print(avg_eval_column)"
   ]
  },
  {
   "cell_type": "markdown",
   "metadata": {},
   "source": [
    "Найдем проценты партий, с приемущественными позициями белых и черных игроков."
   ]
  },
  {
   "cell_type": "code",
   "execution_count": 400,
   "metadata": {},
   "outputs": [
    {
     "name": "stdout",
     "output_type": "stream",
     "text": [
      "Процент партий, где преимущественно была выгодная позиция для белых: 55.65%\n",
      "Процент партий, где преимущественно была выгодная позиция для черных: 44.35%\n",
      "Процент сбалансированных позиций: 0.00%\n"
     ]
    }
   ],
   "source": [
    "# Общее количество партий\n",
    "total_games = len(df)\n",
    "\n",
    "# Подсчет партий в каждой категории\n",
    "white_advantage = len(df[df['avg_eval'] > 0])\n",
    "black_advantage = len(df[df['avg_eval'] < 0])\n",
    "balanced_positions = len(df[df['avg_eval'] == 0])\n",
    "\n",
    "# Вычисление процентов\n",
    "white_advantage_percent = (white_advantage / total_games) * 100\n",
    "black_advantage_percent = (black_advantage / total_games) * 100\n",
    "balanced_positions_percent = (balanced_positions / total_games) * 100\n",
    "\n",
    "# Вывод результатов\n",
    "print(f\"Процент партий, где преимущественно была выгодная позиция для белых: {white_advantage_percent:.2f}%\")\n",
    "print(f\"Процент партий, где преимущественно была выгодная позиция для черных: {black_advantage_percent:.2f}%\")\n",
    "print(f\"Процент сбалансированных позиций: {balanced_positions_percent:.2f}%\")\n"
   ]
  },
  {
   "cell_type": "markdown",
   "metadata": {},
   "source": [
    "Найдем процент партий, где выиграли белые, несмотря на то, что средняя оценка позиции (avg_eval) была в пользу черных,\n",
    "и наоборот, процент партий, где выиграли черные, несмотря на приемущество белых."
   ]
  },
  {
   "cell_type": "code",
   "execution_count": 401,
   "metadata": {},
   "outputs": [
    {
     "name": "stdout",
     "output_type": "stream",
     "text": [
      "Общее количество партий: 117872\n",
      "Количество партий, где белые выиграли с преимуществом черных или черные выиграли с преимуществом белых: 13611\n",
      "Процент таких партий в общем объеме: 12.00 %\n"
     ]
    }
   ],
   "source": [
    "# Фильтрация партий, где белые выиграли, несмотря на преимущество черных\n",
    "white_wins_black_advantage = df.query(\"Winner == 'white' and avg_eval < 0\")\n",
    "\n",
    "# Фильтрация партий, где черные выиграли, несмотря на преимущество белых\n",
    "black_wins_white_advantage = df.query(\"Winner == 'black' and avg_eval > 0\")\n",
    "\n",
    "# Число партий, где игроку получилось резко развернуть ход игры в свою пользу, несмотря на приемущество противника в ходе игры.\n",
    "result = pd.concat([white_wins_black_advantage, black_wins_white_advantage], ignore_index=True)\n",
    "\n",
    "# Общее количество партий\n",
    "total_games = len(df)\n",
    "\n",
    "# Количество партий, соответствующих критериям\n",
    "count_result = len(result)\n",
    "\n",
    "percentage = count_result / total_games * 100\n",
    "\n",
    "percentage = round(percentage, 0)\n",
    "\n",
    "print(\"Общее количество партий:\", total_games)\n",
    "print(\"Количество партий, где белые выиграли с преимуществом черных или черные выиграли с преимуществом белых:\", count_result)\n",
    "print(f\"Процент таких партий в общем объеме: {percentage:.2f} %\")  # Используем f-строку для форматирования"
   ]
  },
  {
   "cell_type": "markdown",
   "metadata": {},
   "source": [
    "Посчитаем количество оценок Lichess движка для каждой партии."
   ]
  },
  {
   "cell_type": "code",
   "execution_count": 402,
   "metadata": {},
   "outputs": [
    {
     "name": "stdout",
     "output_type": "stream",
     "text": [
      "\n",
      "Среднее количество оценок для каждой разновидности Speed:\n",
      "         Speed  average_count\n",
      "0        blitz      82.374534\n",
      "1       bullet      78.362331\n",
      "2    classical      73.950163\n",
      "3        rapid      79.511522\n",
      "4  ultraBullet      60.508211\n"
     ]
    }
   ],
   "source": [
    "# Подсчет количества оценок в каждом списке\n",
    "df['eval_count'] = df['eval'].apply(len)\n",
    "\n",
    "# Группировка по Speed и вычисление среднего количества оценок\n",
    "average_eval_count = df.groupby('Speed')['eval_count'].mean().reset_index(name='average_count')\n",
    "\n",
    "# Выводим результат\n",
    "print(\"\\nСреднее количество оценок для каждой разновидности Speed:\")\n",
    "print(average_eval_count)"
   ]
  },
  {
   "cell_type": "markdown",
   "metadata": {},
   "source": [
    "Сравним как распределяются значений eval в партиях с наибольшим и наименьшим числом ошибок."
   ]
  },
  {
   "cell_type": "code",
   "execution_count": 403,
   "metadata": {},
   "outputs": [],
   "source": [
    "distribution_eval = df[['Total_Mistakes','eval']]"
   ]
  },
  {
   "cell_type": "code",
   "execution_count": 404,
   "metadata": {},
   "outputs": [],
   "source": [
    "distribution_eval = distribution_eval.sort_values(\"Total_Mistakes\", ascending=False)"
   ]
  },
  {
   "cell_type": "code",
   "execution_count": 405,
   "metadata": {},
   "outputs": [
    {
     "data": {
      "text/html": [
       "<div>\n",
       "<style scoped>\n",
       "    .dataframe tbody tr th:only-of-type {\n",
       "        vertical-align: middle;\n",
       "    }\n",
       "\n",
       "    .dataframe tbody tr th {\n",
       "        vertical-align: top;\n",
       "    }\n",
       "\n",
       "    .dataframe thead th {\n",
       "        text-align: right;\n",
       "    }\n",
       "</style>\n",
       "<table border=\"1\" class=\"dataframe\">\n",
       "  <thead>\n",
       "    <tr style=\"text-align: right;\">\n",
       "      <th></th>\n",
       "      <th>Total_Mistakes</th>\n",
       "      <th>eval</th>\n",
       "    </tr>\n",
       "  </thead>\n",
       "  <tbody>\n",
       "    <tr>\n",
       "      <th>108586</th>\n",
       "      <td>55</td>\n",
       "      <td>[14, 38, 11, 20, 5, 15, 8, 23, -8, -2, -12, -1...</td>\n",
       "    </tr>\n",
       "    <tr>\n",
       "      <th>111951</th>\n",
       "      <td>37</td>\n",
       "      <td>[0, 0, 0, 0, -12, 0, -25, -18, -19, -25, -34, ...</td>\n",
       "    </tr>\n",
       "    <tr>\n",
       "      <th>54767</th>\n",
       "      <td>35</td>\n",
       "      <td>[17, 24, -7, 0, -11, 0, 0, -6, 0, 0, 0, 0, 0, ...</td>\n",
       "    </tr>\n",
       "    <tr>\n",
       "      <th>114237</th>\n",
       "      <td>33</td>\n",
       "      <td>[17, 61, 0, 28, -94, 12, 13, 17, 4, 6, 0, 28, ...</td>\n",
       "    </tr>\n",
       "    <tr>\n",
       "      <th>110498</th>\n",
       "      <td>31</td>\n",
       "      <td>[12, 21, 8, 49, 50, 47, 39, 41, 51, 48, 34, 56...</td>\n",
       "    </tr>\n",
       "    <tr>\n",
       "      <th>...</th>\n",
       "      <td>...</td>\n",
       "      <td>...</td>\n",
       "    </tr>\n",
       "    <tr>\n",
       "      <th>23738</th>\n",
       "      <td>0</td>\n",
       "      <td>[18, 25, 13, 34, -9, -7, -23, -21, -24, -17, -...</td>\n",
       "    </tr>\n",
       "    <tr>\n",
       "      <th>52914</th>\n",
       "      <td>0</td>\n",
       "      <td>[15, 21, 11, 19, 19, 25, 14, 18, 21, 29, 31, 4...</td>\n",
       "    </tr>\n",
       "    <tr>\n",
       "      <th>23739</th>\n",
       "      <td>0</td>\n",
       "      <td>[18, 43, 43, 59, 67, 65, 70, 74, 78, 86, 89, 1...</td>\n",
       "    </tr>\n",
       "    <tr>\n",
       "      <th>45573</th>\n",
       "      <td>0</td>\n",
       "      <td>[15, 25, 22, 39, 20, 31, 15, 25, 43, 40, 19, 2...</td>\n",
       "    </tr>\n",
       "    <tr>\n",
       "      <th>93218</th>\n",
       "      <td>0</td>\n",
       "      <td>[16, 17, 17, 49, 46, 96, 67, 89, 90, 96, 85, 1...</td>\n",
       "    </tr>\n",
       "  </tbody>\n",
       "</table>\n",
       "<p>117872 rows × 2 columns</p>\n",
       "</div>"
      ],
      "text/plain": [
       "        Total_Mistakes                                               eval\n",
       "108586              55  [14, 38, 11, 20, 5, 15, 8, 23, -8, -2, -12, -1...\n",
       "111951              37  [0, 0, 0, 0, -12, 0, -25, -18, -19, -25, -34, ...\n",
       "54767               35  [17, 24, -7, 0, -11, 0, 0, -6, 0, 0, 0, 0, 0, ...\n",
       "114237              33  [17, 61, 0, 28, -94, 12, 13, 17, 4, 6, 0, 28, ...\n",
       "110498              31  [12, 21, 8, 49, 50, 47, 39, 41, 51, 48, 34, 56...\n",
       "...                ...                                                ...\n",
       "23738                0  [18, 25, 13, 34, -9, -7, -23, -21, -24, -17, -...\n",
       "52914                0  [15, 21, 11, 19, 19, 25, 14, 18, 21, 29, 31, 4...\n",
       "23739                0  [18, 43, 43, 59, 67, 65, 70, 74, 78, 86, 89, 1...\n",
       "45573                0  [15, 25, 22, 39, 20, 31, 15, 25, 43, 40, 19, 2...\n",
       "93218                0  [16, 17, 17, 49, 46, 96, 67, 89, 90, 96, 85, 1...\n",
       "\n",
       "[117872 rows x 2 columns]"
      ]
     },
     "execution_count": 405,
     "metadata": {},
     "output_type": "execute_result"
    }
   ],
   "source": [
    "distribution_eval"
   ]
  },
  {
   "cell_type": "code",
   "execution_count": 406,
   "metadata": {},
   "outputs": [
    {
     "data": {
      "image/png": "[encoded data removed]",
      "text/plain": [
       "<Figure size 1800x720 with 1 Axes>"
      ]
     },
     "metadata": {
      "needs_background": "light"
     },
     "output_type": "display_data"
    },
    {
     "data": {
      "image/png": "[encoded data removed]",
      "text/plain": [
       "<Figure size 1800x720 with 1 Axes>"
      ]
     },
     "metadata": {
      "needs_background": "light"
     },
     "output_type": "display_data"
    }
   ],
   "source": [
    "# Выбираем первую строку\n",
    "row_index = 0  # Индекс первой строки\n",
    "eval_values = distribution_eval['eval'].iloc[row_index]\n",
    "\n",
    "# Создаем массив индексов для значений eval\n",
    "index_values = list(range(len(eval_values)))\n",
    "\n",
    "# Построение графика\n",
    "plt.figure(figsize=(25, 10))\n",
    "plt.plot(index_values, eval_values, marker='o', color='blue', label='eval')\n",
    "plt.title(f'График eval для партии с наибольшим числом ошибок (индекс {row_index})')\n",
    "plt.xlabel('Индекс значений eval')\n",
    "plt.ylabel('eval')\n",
    "plt.xticks(index_values)  # Устанавливаем метки по оси X\n",
    "plt.grid()\n",
    "plt.legend()\n",
    "plt.show()\n",
    "\n",
    "\n",
    "# Выбираем последнюю строку\n",
    "row_index = len(distribution_eval) - 1  # Индекс последней строки\n",
    "eval_values = distribution_eval['eval'].iloc[row_index]\n",
    "\n",
    "# Создаем массив индексов для значений eval\n",
    "index_values = list(range(len(eval_values)))\n",
    "\n",
    "# Построение графика\n",
    "plt.figure(figsize=(25, 10))\n",
    "plt.plot(index_values, eval_values, marker='o', color='blue', label='eval')\n",
    "plt.title(f'График eval для партии с наименьшим числом ошибок (индекс {row_index})')\n",
    "plt.xlabel('Индекс значений eval')\n",
    "plt.ylabel('eval')\n",
    "plt.xticks(index_values)  # Устанавливаем метки по оси X\n",
    "plt.grid()\n",
    "plt.legend()\n",
    "plt.show()"
   ]
  },
  {
   "cell_type": "markdown",
   "metadata": {},
   "source": [
    "Вывод: Таким образом, мы прослеживаем закономерность между количеством ошибок и неоднородностью графика eval.\n",
    "Чем больше ошибок, тем более неоднароден график eval, тем более резкие перепады между приемуществами белых и черных."
   ]
  },
  {
   "cell_type": "markdown",
   "metadata": {},
   "source": [
    "#### Параметр `Total_Time_Init`"
   ]
  },
  {
   "cell_type": "markdown",
   "metadata": {},
   "source": [
    "Total_Time_Init - начальное время на партию в секундах - числовой"
   ]
  },
  {
   "cell_type": "code",
   "execution_count": 339,
   "metadata": {},
   "outputs": [
    {
     "data": {
      "image/png": "[encoded data removed]",
      "text/plain": [
       "<Figure size 1008x360 with 1 Axes>"
      ]
     },
     "metadata": {
      "needs_background": "light"
     },
     "output_type": "display_data"
    }
   ],
   "source": [
    "plt.figure(figsize=(14, 5))\n",
    "sns.histplot(df['Total_Time_Init'], bins=30)\n",
    "plt.title('Распределение Total_Time_Init')\n",
    "plt.xlabel('Total_Time_Init')\n",
    "plt.ylabel('Частота')\n",
    "plt.show()"
   ]
  },
  {
   "cell_type": "markdown",
   "metadata": {},
   "source": [
    "Классические турниры по шахматам имеют стартовое время 60 минут и 90 минут в офлайне или менее. В онлайне партий с большим стартовым временем встречается очень мало, поэтому удалим все значения, что больше показателя в 2000 секунд и построим снова распределение"
   ]
  },
  {
   "cell_type": "code",
   "execution_count": null,
   "metadata": {},
   "outputs": [],
   "source": [
    "df = df[df['Total_Time_Init'] <= 2000].reset_index(drop=True)"
   ]
  },
  {
   "cell_type": "code",
   "execution_count": null,
   "metadata": {},
   "outputs": [],
   "source": [
    "plt.figure(figsize=(12, 6))\n",
    "sns.histplot(data=df, x='Total_Time_Init',\n",
    "             hue='Speed', multiple='stack', bins=30)\n",
    "plt.title('Гистограмма Total_Time_Init по типу Speed')\n",
    "plt.xlabel('Начальное время (секунды)')\n",
    "plt.ylabel('Количество партий')\n",
    "plt.grid(True)\n",
    "plt.show()"
   ]
  },
  {
   "cell_type": "markdown",
   "metadata": {},
   "source": [
    "Мы видим, что распределение практически совпадает с группами параметра `Speed`"
   ]
  },
  {
   "cell_type": "markdown",
   "metadata": {},
   "source": [
    "#### Параметр `Total_Time_Increment`"
   ]
  },
  {
   "cell_type": "markdown",
   "metadata": {},
   "source": [
    "Total_Time_Increment - добавление времени за ход в секундах - числовой"
   ]
  },
  {
   "cell_type": "markdown",
   "metadata": {},
   "source": [
    "Посмотрим на распределение параметра"
   ]
  },
  {
   "cell_type": "code",
   "execution_count": 298,
   "metadata": {},
   "outputs": [
    {
     "data": {
      "image/png": "[encoded data removed]",
      "text/plain": [
       "<Figure size 1008x360 with 1 Axes>"
      ]
     },
     "metadata": {
      "needs_background": "light"
     },
     "output_type": "display_data"
    }
   ],
   "source": [
    "plt.figure(figsize=(14, 5))\n",
    "sns.histplot(df['Total_Time_Increment'], bins=30)\n",
    "plt.title('Распределение Total_Time_Increment')\n",
    "plt.xlabel('Total_Time_Increment')\n",
    "plt.ylabel('Частота')\n",
    "plt.show()"
   ]
  },
  {
   "cell_type": "markdown",
   "metadata": {},
   "source": [
    "Видим что имеется большое кол-во выбросов. \n",
    "На практике классическим добавлением на ход по регламенту FIDE яв-ся 30 секунд. Что мы и видим на графике. \n",
    "Все, что больше 30 секунд добавления яв-ся нестандартной игрой. Поэтому удалим эти значения и затем построим новый график"
   ]
  },
  {
   "cell_type": "code",
   "execution_count": 299,
   "metadata": {},
   "outputs": [],
   "source": [
    "df = df[df['Total_Time_Increment'] <= 31].reset_index(drop=True)"
   ]
  },
  {
   "cell_type": "markdown",
   "metadata": {},
   "source": [
    "Посмотрим снова на распределение"
   ]
  },
  {
   "cell_type": "code",
   "execution_count": 300,
   "metadata": {},
   "outputs": [
    {
     "data": {
      "image/png": "[encoded data removed]",
      "text/plain": [
       "<Figure size 1008x360 with 1 Axes>"
      ]
     },
     "metadata": {
      "needs_background": "light"
     },
     "output_type": "display_data"
    }
   ],
   "source": [
    "plt.figure(figsize=(14, 5))\n",
    "sns.histplot(df['Total_Time_Increment'], bins=30)\n",
    "plt.title('Распределение Total_Time_Increment')\n",
    "plt.xlabel('Total_Time_Increment')\n",
    "plt.ylabel('Частота')\n",
    "plt.show()"
   ]
  },
  {
   "cell_type": "markdown",
   "metadata": {},
   "source": [
    "Создадим категориальный параметр для объединения распределений по группам"
   ]
  },
  {
   "cell_type": "code",
   "execution_count": 301,
   "metadata": {},
   "outputs": [],
   "source": [
    "def group_increment(x):\n",
    "    if x == 0:\n",
    "        return '0 sec'\n",
    "    elif x <= 3:\n",
    "        return '1–3 sec'\n",
    "    elif x <= 10:\n",
    "        return '4–8 sec'\n",
    "    elif x <= 15:\n",
    "        return '9–15 sec'\n",
    "    else:\n",
    "        return '15+ sec'\n",
    "\n",
    "\n",
    "df['Total_Time_Increment_Group'] = df['Total_Time_Increment'].apply(\n",
    "    group_increment)"
   ]
  },
  {
   "cell_type": "code",
   "execution_count": 302,
   "metadata": {},
   "outputs": [
    {
     "data": {
      "image/png": "[encoded data removed]",
      "text/plain": [
       "<Figure size 1008x360 with 1 Axes>"
      ]
     },
     "metadata": {
      "needs_background": "light"
     },
     "output_type": "display_data"
    }
   ],
   "source": [
    "ordered_groups = ['0 sec', '1–3 sec', '4–8 sec', '9–15 sec', '15+ sec']\n",
    "\n",
    "group_counts = df['Total_Time_Increment_Group'].value_counts().reindex(\n",
    "    ordered_groups)\n",
    "\n",
    "plt.figure(figsize=(14, 5))\n",
    "plt.bar(group_counts.index, group_counts.values)\n",
    "plt.title(\"Распределение Total_Time_Increment по группам\")\n",
    "plt.xlabel(\"Группа инкремента (секунды)\")\n",
    "plt.ylabel(\"Количество партий\")\n",
    "plt.grid(axis='y')\n",
    "plt.show()"
   ]
  },
  {
   "cell_type": "markdown",
   "metadata": {},
   "source": [
    "#### Параметр `Total_Time`"
   ]
  },
  {
   "cell_type": "markdown",
   "metadata": {},
   "source": [
    "Total_Time - общее затраченное время на партию - числовой"
   ]
  },
  {
   "cell_type": "code",
   "execution_count": 303,
   "metadata": {},
   "outputs": [
    {
     "data": {
      "image/png": "[encoded data removed]",
      "text/plain": [
       "<Figure size 1008x360 with 1 Axes>"
      ]
     },
     "metadata": {
      "needs_background": "light"
     },
     "output_type": "display_data"
    }
   ],
   "source": [
    "plt.figure(figsize=(14, 5))\n",
    "sns.histplot(df['Total_Time'], bins=30)\n",
    "plt.title('Распределение Total_Time')\n",
    "plt.xlabel('Total_Time')\n",
    "plt.ylabel('Частота')\n",
    "plt.show()"
   ]
  },
  {
   "cell_type": "code",
   "execution_count": 304,
   "metadata": {},
   "outputs": [],
   "source": [
    "# TODO: что делать с этим?\n",
    "# Кажется, что этот столбец нужно дропнуть. Он не совпадает ни с Game_Duration, ни"
   ]
  },
  {
   "cell_type": "code",
   "execution_count": 305,
   "metadata": {},
   "outputs": [],
   "source": [
    "# df[df['Total_Time_Increment'] > 0][['Num_Moves', 'Total_Time_Increment', 'Total_Time_Init', 'Total_Time', 'Game_Duration']]"
   ]
  },
  {
   "cell_type": "markdown",
   "metadata": {},
   "source": [
    "Параметр `Moves`"
   ]
  },
  {
   "cell_type": "markdown",
   "metadata": {},
   "source": [
    "Moves - список ходов, сделанных в партии - категориальный"
   ]
  },
  {
   "cell_type": "markdown",
   "metadata": {},
   "source": [
    "Посмотрим какие самые популярные начальные ходы делаются в партиях."
   ]
  },
  {
   "cell_type": "code",
   "execution_count": null,
   "metadata": {},
   "outputs": [],
   "source": [
    "df[\"Moves\"].apply(lambda x: x.split()[:6]).value_counts()"
   ]
  },
  {
   "cell_type": "markdown",
   "metadata": {},
   "source": [
    "Посмотрим какой фигурой чаще всего делается последний ход"
   ]
  },
  {
   "cell_type": "code",
   "execution_count": 307,
   "metadata": {},
   "outputs": [
    {
     "data": {
      "text/plain": [
       "Q         31511\n",
       "R         27736\n",
       "K         17217\n",
       "P         15811\n",
       "B         12546\n",
       "N         12221\n",
       "Castle      111\n",
       "Name: Moves, dtype: int64"
      ]
     },
     "execution_count": 307,
     "metadata": {},
     "output_type": "execute_result"
    }
   ],
   "source": [
    "df[\"Moves\"].apply(lambda x: \"P\" if x.split()[-1][0].islower() else x.split()\n",
    "                           [-1][0] if x.split()[-1][0] != \"O\" else \"Castle\").value_counts()"
   ]
  },
  {
   "cell_type": "markdown",
   "metadata": {},
   "source": [
    "Чаще всего завершает игру ход Ферзем или ладьей"
   ]
  },
  {
   "cell_type": "markdown",
   "metadata": {},
   "source": [
    "#### Новый параметр `is_Berserk`"
   ]
  },
  {
   "cell_type": "markdown",
   "metadata": {},
   "source": [
    "Создадим параметр, показывающий брал ли игрок берсерк режим на партию"
   ]
  },
  {
   "cell_type": "code",
   "execution_count": 308,
   "metadata": {},
   "outputs": [],
   "source": [
    "# TODO: реализовать"
   ]
  },
  {
   "cell_type": "markdown",
   "metadata": {},
   "source": [
    "#### Новый параметр `Game_Duration`"
   ]
  },
  {
   "cell_type": "markdown",
   "metadata": {},
   "source": [
    "Создадим на основе параметров `Created_At` и `Last_Move_At` параметр - продолжительность партии"
   ]
  },
  {
   "cell_type": "code",
   "execution_count": null,
   "metadata": {},
   "outputs": [],
   "source": [
    "df['Game_Duration'] = (df['Last_Move_At'] - df['Created_At']).dt.total_seconds()"
   ]
  },
  {
   "cell_type": "code",
   "execution_count": null,
   "metadata": {},
   "outputs": [],
   "source": [
    "plt.figure(figsize=(10, 4))\n",
    "plt.hist(df['Game_Duration'], bins=50)\n",
    "plt.title('Распределение длительности шахматных партий (в секундах)')\n",
    "plt.xlabel('Длительность (секунды)')\n",
    "plt.ylabel('Количество партий')\n",
    "plt.grid(True)\n",
    "plt.show()"
   ]
  },
  {
   "cell_type": "code",
   "execution_count": null,
   "metadata": {},
   "outputs": [],
   "source": [
    "# TODO: Удаляем выбросы?\n",
    "# TODO: Сравнить с Total_Time"
   ]
  },
  {
   "cell_type": "markdown",
   "metadata": {},
   "source": [
    "#### Новый параметр `Num_Moves`"
   ]
  },
  {
   "cell_type": "markdown",
   "metadata": {},
   "source": [
    "На основе параметра Moves - список ходов, сделанных в партии - категориальный.\n",
    "Создадим новый параметр кол-во ходов в партии"
   ]
  },
  {
   "cell_type": "code",
   "execution_count": null,
   "metadata": {},
   "outputs": [],
   "source": [
    "df[\"Num_Moves\"] = df[\"Moves\"].apply(\n",
    "    lambda x: len(x.split()) // 2)"
   ]
  },
  {
   "cell_type": "markdown",
   "metadata": {},
   "source": [
    "Посмотрим на распределение параметра и описательную статистику"
   ]
  },
  {
   "cell_type": "code",
   "execution_count": null,
   "metadata": {},
   "outputs": [],
   "source": [
    "df[\"Num_Moves\"].describe()"
   ]
  },
  {
   "cell_type": "code",
   "execution_count": null,
   "metadata": {},
   "outputs": [],
   "source": [
    "plt.figure(figsize=(14, 5))\n",
    "sns.histplot(df[\"Num_Moves\"], bins=30)\n",
    "plt.title(\"Распределение количества ходов в партиях\")\n",
    "plt.xlabel(\"Число ходов\")\n",
    "plt.ylabel(\"Частота\")\n",
    "plt.show()"
   ]
  },
  {
   "cell_type": "markdown",
   "metadata": {},
   "source": [
    "## Корреляционная матрица"
   ]
  },
  {
   "cell_type": "code",
   "execution_count": null,
   "metadata": {},
   "outputs": [],
   "source": [
    "correlation_matrix = df.select_dtypes(include=[np.number]).corr(method='spearman')\n",
    "\n",
    "plt.figure(figsize=(10, 6))\n",
    "sns.heatmap(correlation_matrix, annot=True, fmt=\".2f\",\n",
    "            cmap=\"coolwarm\", linewidths=0.5)\n",
    "plt.title(\"Матрица корреляций числовых переменных\")\n",
    "plt.show()"
   ]
  },
  {
   "cell_type": "code",
   "execution_count": null,
   "metadata": {},
   "outputs": [],
   "source": [
    "# TODO: Добавить категориальные признаки"
   ]
  },
  {
   "cell_type": "code",
   "execution_count": null,
   "metadata": {},
   "outputs": [],
   "source": [
    "# TODO: Выводы по матрице"
   ]
  },
  {
   "cell_type": "code",
   "execution_count": null,
   "metadata": {},
   "outputs": [],
   "source": []
  }
 ],
 "metadata": {
  "kernelspec": {
   "display_name": "venv",
   "language": "python",
   "name": "python3"
  },
  "language_info": {
   "codemirror_mode": {
    "name": "ipython",
    "version": 3
   },
   "file_extension": ".py",
   "mimetype": "text/x-python",
   "name": "python",
   "nbconvert_exporter": "python",
   "pygments_lexer": "ipython3",
   "version": "3.12.0"
  }
 },
 "nbformat": 4,
 "nbformat_minor": 2
}
