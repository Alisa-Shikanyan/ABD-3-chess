{
 "cells": [
  {
   "cell_type": "code",
   "execution_count": 86,
   "metadata": {},
   "outputs": [],
   "source": [
    "import pandas as pd\n",
    "import matplotlib.pyplot as plt\n",
    "import seaborn as sns\n",
    "import ast"
   ]
  },
  {
   "cell_type": "code",
   "execution_count": 87,
   "metadata": {},
   "outputs": [],
   "source": [
    "paht_to_file = \"/mnt/HC_Volume_18315164/home-jupyter/jupyter-natalija-fedorova--fa3d5/ВШЭ_2_семестр/final_games.csv\""
   ]
  },
  {
   "cell_type": "code",
   "execution_count": 88,
   "metadata": {},
   "outputs": [],
   "source": [
    "df = pd.read_csv(paht_to_file)"
   ]
  },
  {
   "cell_type": "code",
   "execution_count": 89,
   "metadata": {},
   "outputs": [
    {
     "data": {
      "text/plain": [
       "(140792, 32)"
      ]
     },
     "execution_count": 89,
     "metadata": {},
     "output_type": "execute_result"
    }
   ],
   "source": [
    "df.shape"
   ]
  },
  {
   "cell_type": "code",
   "execution_count": 90,
   "metadata": {},
   "outputs": [
    {
     "data": {
      "text/html": [
       "<div>\n",
       "<style scoped>\n",
       "    .dataframe tbody tr th:only-of-type {\n",
       "        vertical-align: middle;\n",
       "    }\n",
       "\n",
       "    .dataframe tbody tr th {\n",
       "        vertical-align: top;\n",
       "    }\n",
       "\n",
       "    .dataframe thead th {\n",
       "        text-align: right;\n",
       "    }\n",
       "</style>\n",
       "<table border=\"1\" class=\"dataframe\">\n",
       "  <thead>\n",
       "    <tr style=\"text-align: right;\">\n",
       "      <th></th>\n",
       "      <th>Game_ID</th>\n",
       "      <th>Rated</th>\n",
       "      <th>Variant</th>\n",
       "      <th>Speed</th>\n",
       "      <th>Created_At</th>\n",
       "      <th>Last_Move_At</th>\n",
       "      <th>Game_Status</th>\n",
       "      <th>Source</th>\n",
       "      <th>Winner</th>\n",
       "      <th>Opening_Name</th>\n",
       "      <th>...</th>\n",
       "      <th>Black_Inaccuracy</th>\n",
       "      <th>Black_Mistake</th>\n",
       "      <th>Black_Blunder</th>\n",
       "      <th>Black_ACPL</th>\n",
       "      <th>Clocks</th>\n",
       "      <th>Analysis</th>\n",
       "      <th>Total_Time_Init</th>\n",
       "      <th>Total_Time_Increment</th>\n",
       "      <th>Total_Time</th>\n",
       "      <th>Moves</th>\n",
       "    </tr>\n",
       "  </thead>\n",
       "  <tbody>\n",
       "    <tr>\n",
       "      <th>0</th>\n",
       "      <td>PsevV6VH</td>\n",
       "      <td>True</td>\n",
       "      <td>standard</td>\n",
       "      <td>classical</td>\n",
       "      <td>2024-12-15T11:09:25.224000+00:00</td>\n",
       "      <td>2024-12-15T11:55:14.775000+00:00</td>\n",
       "      <td>resign</td>\n",
       "      <td>pool</td>\n",
       "      <td>white</td>\n",
       "      <td>English Opening: Symmetrical Variation</td>\n",
       "      <td>...</td>\n",
       "      <td>5</td>\n",
       "      <td>1</td>\n",
       "      <td>1</td>\n",
       "      <td>47</td>\n",
       "      <td>[180003, 180003, 178499, 178019, 178339, 17757...</td>\n",
       "      <td>[{'eval': 14}, {'eval': 25}, {'eval': 26}, {'e...</td>\n",
       "      <td>1800</td>\n",
       "      <td>0</td>\n",
       "      <td>1800</td>\n",
       "      <td>Nf3 c5 c4 Nc6 Nc3 g6 e3 Bg7 d4 cxd4 exd4 d6 h3...</td>\n",
       "    </tr>\n",
       "    <tr>\n",
       "      <th>1</th>\n",
       "      <td>diLZa8sj</td>\n",
       "      <td>True</td>\n",
       "      <td>standard</td>\n",
       "      <td>classical</td>\n",
       "      <td>2024-10-28T13:54:16.605000+00:00</td>\n",
       "      <td>2024-10-28T14:32:21.403000+00:00</td>\n",
       "      <td>resign</td>\n",
       "      <td>pool</td>\n",
       "      <td>white</td>\n",
       "      <td>French Defense: Winawer Variation, Advance Var...</td>\n",
       "      <td>...</td>\n",
       "      <td>4</td>\n",
       "      <td>0</td>\n",
       "      <td>1</td>\n",
       "      <td>31</td>\n",
       "      <td>[180003, 180003, 179827, 179683, 178619, 17936...</td>\n",
       "      <td>[{'eval': 18}, {'eval': 28}, {'eval': 28}, {'e...</td>\n",
       "      <td>1800</td>\n",
       "      <td>0</td>\n",
       "      <td>1800</td>\n",
       "      <td>e4 e6 d4 d5 Nc3 Bb4 e5 Ne7 a3 Bxc3+ bxc3 b6 Bb...</td>\n",
       "    </tr>\n",
       "  </tbody>\n",
       "</table>\n",
       "<p>2 rows × 32 columns</p>\n",
       "</div>"
      ],
      "text/plain": [
       "    Game_ID  Rated   Variant      Speed                        Created_At  \\\n",
       "0  PsevV6VH   True  standard  classical  2024-12-15T11:09:25.224000+00:00   \n",
       "1  diLZa8sj   True  standard  classical  2024-10-28T13:54:16.605000+00:00   \n",
       "\n",
       "                       Last_Move_At Game_Status Source Winner  \\\n",
       "0  2024-12-15T11:55:14.775000+00:00      resign   pool  white   \n",
       "1  2024-10-28T14:32:21.403000+00:00      resign   pool  white   \n",
       "\n",
       "                                        Opening_Name  ... Black_Inaccuracy  \\\n",
       "0             English Opening: Symmetrical Variation  ...                5   \n",
       "1  French Defense: Winawer Variation, Advance Var...  ...                4   \n",
       "\n",
       "   Black_Mistake Black_Blunder Black_ACPL  \\\n",
       "0              1             1         47   \n",
       "1              0             1         31   \n",
       "\n",
       "                                              Clocks  \\\n",
       "0  [180003, 180003, 178499, 178019, 178339, 17757...   \n",
       "1  [180003, 180003, 179827, 179683, 178619, 17936...   \n",
       "\n",
       "                                            Analysis  Total_Time_Init  \\\n",
       "0  [{'eval': 14}, {'eval': 25}, {'eval': 26}, {'e...             1800   \n",
       "1  [{'eval': 18}, {'eval': 28}, {'eval': 28}, {'e...             1800   \n",
       "\n",
       "   Total_Time_Increment  Total_Time  \\\n",
       "0                     0        1800   \n",
       "1                     0        1800   \n",
       "\n",
       "                                               Moves  \n",
       "0  Nf3 c5 c4 Nc6 Nc3 g6 e3 Bg7 d4 cxd4 exd4 d6 h3...  \n",
       "1  e4 e6 d4 d5 Nc3 Bb4 e5 Ne7 a3 Bxc3+ bxc3 b6 Bb...  \n",
       "\n",
       "[2 rows x 32 columns]"
      ]
     },
     "execution_count": 90,
     "metadata": {},
     "output_type": "execute_result"
    }
   ],
   "source": [
    "df.head(2)"
   ]
  },
  {
   "cell_type": "code",
   "execution_count": 91,
   "metadata": {},
   "outputs": [
    {
     "data": {
      "text/plain": [
       "(140792, 32)"
      ]
     },
     "execution_count": 91,
     "metadata": {},
     "output_type": "execute_result"
    }
   ],
   "source": [
    "df.shape"
   ]
  },
  {
   "cell_type": "code",
   "execution_count": 92,
   "metadata": {},
   "outputs": [],
   "source": [
    "# Выберем 8 столбцов для анализа + дополнительно столбец Winner(необходим для анализа столбца 'Analysis') \n",
    "\n",
    "df_1 = df[['Variant', 'Speed', 'White_Mistake', 'Black_Mistake', 'White_Blunder', 'Black_Blunder', 'Analysis', 'Opening_ECO', 'Winner']]"
   ]
  },
  {
   "cell_type": "code",
   "execution_count": 93,
   "metadata": {},
   "outputs": [
    {
     "data": {
      "text/html": [
       "<div>\n",
       "<style scoped>\n",
       "    .dataframe tbody tr th:only-of-type {\n",
       "        vertical-align: middle;\n",
       "    }\n",
       "\n",
       "    .dataframe tbody tr th {\n",
       "        vertical-align: top;\n",
       "    }\n",
       "\n",
       "    .dataframe thead th {\n",
       "        text-align: right;\n",
       "    }\n",
       "</style>\n",
       "<table border=\"1\" class=\"dataframe\">\n",
       "  <thead>\n",
       "    <tr style=\"text-align: right;\">\n",
       "      <th></th>\n",
       "      <th>Variant</th>\n",
       "      <th>Speed</th>\n",
       "      <th>White_Mistake</th>\n",
       "      <th>Black_Mistake</th>\n",
       "      <th>White_Blunder</th>\n",
       "      <th>Black_Blunder</th>\n",
       "      <th>Analysis</th>\n",
       "      <th>Opening_ECO</th>\n",
       "      <th>Winner</th>\n",
       "    </tr>\n",
       "  </thead>\n",
       "  <tbody>\n",
       "    <tr>\n",
       "      <th>0</th>\n",
       "      <td>standard</td>\n",
       "      <td>classical</td>\n",
       "      <td>1</td>\n",
       "      <td>1</td>\n",
       "      <td>1</td>\n",
       "      <td>1</td>\n",
       "      <td>[{'eval': 14}, {'eval': 25}, {'eval': 26}, {'e...</td>\n",
       "      <td>A30</td>\n",
       "      <td>white</td>\n",
       "    </tr>\n",
       "    <tr>\n",
       "      <th>1</th>\n",
       "      <td>standard</td>\n",
       "      <td>classical</td>\n",
       "      <td>0</td>\n",
       "      <td>0</td>\n",
       "      <td>0</td>\n",
       "      <td>1</td>\n",
       "      <td>[{'eval': 18}, {'eval': 28}, {'eval': 28}, {'e...</td>\n",
       "      <td>C16</td>\n",
       "      <td>white</td>\n",
       "    </tr>\n",
       "    <tr>\n",
       "      <th>2</th>\n",
       "      <td>standard</td>\n",
       "      <td>classical</td>\n",
       "      <td>1</td>\n",
       "      <td>1</td>\n",
       "      <td>4</td>\n",
       "      <td>5</td>\n",
       "      <td>[{'eval': 17}, {'eval': 17}, {'eval': 11}, {'e...</td>\n",
       "      <td>A48</td>\n",
       "      <td>black</td>\n",
       "    </tr>\n",
       "    <tr>\n",
       "      <th>3</th>\n",
       "      <td>standard</td>\n",
       "      <td>classical</td>\n",
       "      <td>0</td>\n",
       "      <td>1</td>\n",
       "      <td>1</td>\n",
       "      <td>2</td>\n",
       "      <td>[{'eval': 16}, {'eval': 17}, {'eval': 15}, {'e...</td>\n",
       "      <td>E94</td>\n",
       "      <td>white</td>\n",
       "    </tr>\n",
       "    <tr>\n",
       "      <th>4</th>\n",
       "      <td>standard</td>\n",
       "      <td>classical</td>\n",
       "      <td>2</td>\n",
       "      <td>1</td>\n",
       "      <td>2</td>\n",
       "      <td>2</td>\n",
       "      <td>[{'eval': 17}, {'eval': 18}, {'eval': 23}, {'e...</td>\n",
       "      <td>A15</td>\n",
       "      <td>NaN</td>\n",
       "    </tr>\n",
       "    <tr>\n",
       "      <th>...</th>\n",
       "      <td>...</td>\n",
       "      <td>...</td>\n",
       "      <td>...</td>\n",
       "      <td>...</td>\n",
       "      <td>...</td>\n",
       "      <td>...</td>\n",
       "      <td>...</td>\n",
       "      <td>...</td>\n",
       "      <td>...</td>\n",
       "    </tr>\n",
       "    <tr>\n",
       "      <th>140787</th>\n",
       "      <td>standard</td>\n",
       "      <td>ultraBullet</td>\n",
       "      <td>4</td>\n",
       "      <td>2</td>\n",
       "      <td>4</td>\n",
       "      <td>4</td>\n",
       "      <td>[{'eval': 0}, {'eval': 40}, {'eval': 56}, {'ev...</td>\n",
       "      <td>B06</td>\n",
       "      <td>black</td>\n",
       "    </tr>\n",
       "    <tr>\n",
       "      <th>140788</th>\n",
       "      <td>standard</td>\n",
       "      <td>ultraBullet</td>\n",
       "      <td>3</td>\n",
       "      <td>1</td>\n",
       "      <td>5</td>\n",
       "      <td>6</td>\n",
       "      <td>[{'eval': -13}, {'eval': -24}, {'eval': 0}, {'...</td>\n",
       "      <td>C00</td>\n",
       "      <td>black</td>\n",
       "    </tr>\n",
       "    <tr>\n",
       "      <th>140789</th>\n",
       "      <td>standard</td>\n",
       "      <td>ultraBullet</td>\n",
       "      <td>0</td>\n",
       "      <td>1</td>\n",
       "      <td>4</td>\n",
       "      <td>5</td>\n",
       "      <td>[{'eval': 16}, {'eval': 13}, {'eval': -13}, {'...</td>\n",
       "      <td>A00</td>\n",
       "      <td>white</td>\n",
       "    </tr>\n",
       "    <tr>\n",
       "      <th>140790</th>\n",
       "      <td>standard</td>\n",
       "      <td>ultraBullet</td>\n",
       "      <td>3</td>\n",
       "      <td>3</td>\n",
       "      <td>12</td>\n",
       "      <td>11</td>\n",
       "      <td>[{'eval': 9}, {'eval': 40}, {'eval': -5}, {'ev...</td>\n",
       "      <td>A00</td>\n",
       "      <td>black</td>\n",
       "    </tr>\n",
       "    <tr>\n",
       "      <th>140791</th>\n",
       "      <td>standard</td>\n",
       "      <td>ultraBullet</td>\n",
       "      <td>0</td>\n",
       "      <td>0</td>\n",
       "      <td>1</td>\n",
       "      <td>1</td>\n",
       "      <td>[{'eval': 0}, {'eval': 52, 'best': 'c7c5', 'va...</td>\n",
       "      <td>B01</td>\n",
       "      <td>black</td>\n",
       "    </tr>\n",
       "  </tbody>\n",
       "</table>\n",
       "<p>140792 rows × 9 columns</p>\n",
       "</div>"
      ],
      "text/plain": [
       "         Variant        Speed  White_Mistake  Black_Mistake  White_Blunder  \\\n",
       "0       standard    classical              1              1              1   \n",
       "1       standard    classical              0              0              0   \n",
       "2       standard    classical              1              1              4   \n",
       "3       standard    classical              0              1              1   \n",
       "4       standard    classical              2              1              2   \n",
       "...          ...          ...            ...            ...            ...   \n",
       "140787  standard  ultraBullet              4              2              4   \n",
       "140788  standard  ultraBullet              3              1              5   \n",
       "140789  standard  ultraBullet              0              1              4   \n",
       "140790  standard  ultraBullet              3              3             12   \n",
       "140791  standard  ultraBullet              0              0              1   \n",
       "\n",
       "        Black_Blunder                                           Analysis  \\\n",
       "0                   1  [{'eval': 14}, {'eval': 25}, {'eval': 26}, {'e...   \n",
       "1                   1  [{'eval': 18}, {'eval': 28}, {'eval': 28}, {'e...   \n",
       "2                   5  [{'eval': 17}, {'eval': 17}, {'eval': 11}, {'e...   \n",
       "3                   2  [{'eval': 16}, {'eval': 17}, {'eval': 15}, {'e...   \n",
       "4                   2  [{'eval': 17}, {'eval': 18}, {'eval': 23}, {'e...   \n",
       "...               ...                                                ...   \n",
       "140787              4  [{'eval': 0}, {'eval': 40}, {'eval': 56}, {'ev...   \n",
       "140788              6  [{'eval': -13}, {'eval': -24}, {'eval': 0}, {'...   \n",
       "140789              5  [{'eval': 16}, {'eval': 13}, {'eval': -13}, {'...   \n",
       "140790             11  [{'eval': 9}, {'eval': 40}, {'eval': -5}, {'ev...   \n",
       "140791              1  [{'eval': 0}, {'eval': 52, 'best': 'c7c5', 'va...   \n",
       "\n",
       "       Opening_ECO Winner  \n",
       "0              A30  white  \n",
       "1              C16  white  \n",
       "2              A48  black  \n",
       "3              E94  white  \n",
       "4              A15    NaN  \n",
       "...            ...    ...  \n",
       "140787         B06  black  \n",
       "140788         C00  black  \n",
       "140789         A00  white  \n",
       "140790         A00  black  \n",
       "140791         B01  black  \n",
       "\n",
       "[140792 rows x 9 columns]"
      ]
     },
     "execution_count": 93,
     "metadata": {},
     "output_type": "execute_result"
    }
   ],
   "source": [
    "df_1"
   ]
  },
  {
   "cell_type": "code",
   "execution_count": 94,
   "metadata": {},
   "outputs": [
    {
     "data": {
      "text/plain": [
       "(140792, 9)"
      ]
     },
     "execution_count": 94,
     "metadata": {},
     "output_type": "execute_result"
    }
   ],
   "source": [
    "df_1.shape"
   ]
  },
  {
   "cell_type": "code",
   "execution_count": 95,
   "metadata": {},
   "outputs": [
    {
     "data": {
      "text/plain": [
       "Variant              0\n",
       "Speed                0\n",
       "White_Mistake        0\n",
       "Black_Mistake        0\n",
       "White_Blunder        0\n",
       "Black_Blunder        0\n",
       "Analysis             0\n",
       "Opening_ECO       1270\n",
       "Winner           13689\n",
       "dtype: int64"
      ]
     },
     "execution_count": 95,
     "metadata": {},
     "output_type": "execute_result"
    }
   ],
   "source": [
    "# 1. Обработка пропусков и аномалий\n",
    "df_1.isna().sum()"
   ]
  },
  {
   "cell_type": "code",
   "execution_count": 96,
   "metadata": {},
   "outputs": [],
   "source": [
    "# У нас 1270 пропусков в столбце Opening_ECO из 140792 записей, это составляет примерно 0.88% от общего объема данных. \n",
    "# все эти пропуски относятся к строкам с варианту шахмат fromPosition\n",
    "# то есть по всем строкам с вариантом шахмат fromPosition отсутствуют данныые по дебюту\n",
    "# следовательно эти пропуски мы удалить не можем, они нам важны, заменим их на запись \"неизвесно\""
   ]
  },
  {
   "cell_type": "code",
   "execution_count": 97,
   "metadata": {},
   "outputs": [
    {
     "name": "stderr",
     "output_type": "stream",
     "text": [
      "/opt/tljh/user/lib/python3.7/site-packages/pandas/core/frame.py:4322: SettingWithCopyWarning: \n",
      "A value is trying to be set on a copy of a slice from a DataFrame\n",
      "\n",
      "See the caveats in the documentation: https://pandas.pydata.org/pandas-docs/stable/user_guide/indexing.html#returning-a-view-versus-a-copy\n",
      "  downcast=downcast,\n"
     ]
    }
   ],
   "source": [
    "# Замена пропусков на 'неизвестно'\n",
    "df_1.fillna('неизвестно', inplace=True)"
   ]
  },
  {
   "cell_type": "code",
   "execution_count": null,
   "metadata": {},
   "outputs": [],
   "source": []
  },
  {
   "cell_type": "code",
   "execution_count": 98,
   "metadata": {},
   "outputs": [
    {
     "name": "stdout",
     "output_type": "stream",
     "text": [
      "<class 'pandas.core.frame.DataFrame'>\n",
      "RangeIndex: 140792 entries, 0 to 140791\n",
      "Data columns (total 9 columns):\n",
      " #   Column         Non-Null Count   Dtype \n",
      "---  ------         --------------   ----- \n",
      " 0   Variant        140792 non-null  object\n",
      " 1   Speed          140792 non-null  object\n",
      " 2   White_Mistake  140792 non-null  int64 \n",
      " 3   Black_Mistake  140792 non-null  int64 \n",
      " 4   White_Blunder  140792 non-null  int64 \n",
      " 5   Black_Blunder  140792 non-null  int64 \n",
      " 6   Analysis       140792 non-null  object\n",
      " 7   Opening_ECO    140792 non-null  object\n",
      " 8   Winner         140792 non-null  object\n",
      "dtypes: int64(4), object(5)\n",
      "memory usage: 9.7+ MB\n"
     ]
    }
   ],
   "source": [
    "# 2. Проверим типы данных.\n",
    "df_1.info()"
   ]
  },
  {
   "cell_type": "code",
   "execution_count": 99,
   "metadata": {},
   "outputs": [],
   "source": [
    "# 3. Анализ категориальных переменных"
   ]
  },
  {
   "cell_type": "code",
   "execution_count": 100,
   "metadata": {},
   "outputs": [],
   "source": [
    "# 3.1 варианты шахмат\n",
    "variant_count = df_1['Variant'].value_counts()"
   ]
  },
  {
   "cell_type": "code",
   "execution_count": 101,
   "metadata": {},
   "outputs": [
    {
     "data": {
      "text/plain": [
       "standard        139522\n",
       "fromPosition      1270\n",
       "Name: Variant, dtype: int64"
      ]
     },
     "execution_count": 101,
     "metadata": {},
     "output_type": "execute_result"
    }
   ],
   "source": [
    "variant_count"
   ]
  },
  {
   "cell_type": "code",
   "execution_count": 102,
   "metadata": {},
   "outputs": [],
   "source": [
    "# standard - это означает, что все фигуры находятся на своих стандартных местах, и игроки начинают партию с заранее установленной\n",
    "#            позиции.\n",
    "\n",
    "\n",
    "# fromPosition - этот вариант подразумевает, что партия начинается не с начальной позиции, а с заранее заданной позиции, \n",
    "#                которая может быть получена в результате предыдущих ходов или задана для анализа."
   ]
  },
  {
   "cell_type": "code",
   "execution_count": 103,
   "metadata": {},
   "outputs": [
    {
     "data": {
      "image/png": "[encoded data removed]",
      "text/plain": [
       "<Figure size 720x432 with 1 Axes>"
      ]
     },
     "metadata": {
      "needs_background": "light"
     },
     "output_type": "display_data"
    }
   ],
   "source": [
    "plt.figure(figsize=(10, 6))\n",
    "sns.countplot(data=df_1, x='Variant', order=df_1['Variant'].value_counts().index)\n",
    "plt.title('Распределение вариантов игры')\n",
    "plt.xticks(rotation=45)\n",
    "plt.show()"
   ]
  },
  {
   "cell_type": "code",
   "execution_count": 104,
   "metadata": {},
   "outputs": [],
   "source": [
    "# 3.2. контроль времени партии.\n",
    "speed_count = df_1['Speed'].value_counts()"
   ]
  },
  {
   "cell_type": "code",
   "execution_count": 105,
   "metadata": {},
   "outputs": [
    {
     "data": {
      "text/plain": [
       "blitz          37873\n",
       "rapid          33303\n",
       "bullet         31291\n",
       "classical      29591\n",
       "ultraBullet     8734\n",
       "Name: Speed, dtype: int64"
      ]
     },
     "execution_count": 105,
     "metadata": {},
     "output_type": "execute_result"
    }
   ],
   "source": [
    "speed_count"
   ]
  },
  {
   "cell_type": "code",
   "execution_count": 106,
   "metadata": {},
   "outputs": [],
   "source": [
    "# blitz - от 3-х до 10 минут.\n",
    "# rapid - от 10 до 60 минут.\n",
    "# bullet - менее 3-х минут.\n",
    "# classical - от 60 минут до нескольких часов.\n",
    "# ultraBullet - менее 1-ой минуты."
   ]
  },
  {
   "cell_type": "code",
   "execution_count": 107,
   "metadata": {},
   "outputs": [
    {
     "data": {
      "image/png": "[encoded data removed]",
      "text/plain": [
       "<Figure size 720x432 with 1 Axes>"
      ]
     },
     "metadata": {
      "needs_background": "light"
     },
     "output_type": "display_data"
    }
   ],
   "source": [
    "plt.figure(figsize=(10, 6))\n",
    "sns.countplot(data=df_1, x='Speed', order=df_1['Speed'].value_counts().index)\n",
    "plt.title('Распределение контроля времени')\n",
    "plt.xticks(rotation=45)\n",
    "plt.show()"
   ]
  },
  {
   "cell_type": "code",
   "execution_count": 108,
   "metadata": {},
   "outputs": [],
   "source": [
    "# 3.3. код дебюта по системе ECO"
   ]
  },
  {
   "cell_type": "code",
   "execution_count": 109,
   "metadata": {},
   "outputs": [],
   "source": [
    "opening_ECO_count = df_1['Opening_ECO'].value_counts()"
   ]
  },
  {
   "cell_type": "code",
   "execution_count": 110,
   "metadata": {},
   "outputs": [
    {
     "data": {
      "text/plain": [
       "A00    6555\n",
       "A04    4244\n",
       "A45    3713\n",
       "A40    3268\n",
       "A05    3193\n",
       "       ... \n",
       "D67       1\n",
       "E55       1\n",
       "A76       1\n",
       "D98       1\n",
       "E96       1\n",
       "Name: Opening_ECO, Length: 489, dtype: int64"
      ]
     },
     "execution_count": 110,
     "metadata": {},
     "output_type": "execute_result"
    }
   ],
   "source": [
    "opening_ECO_count"
   ]
  },
  {
   "cell_type": "code",
   "execution_count": 111,
   "metadata": {},
   "outputs": [],
   "source": [
    "# Находим топ-30 дебютов.\n",
    "top_openings = df_1['Opening_ECO'].value_counts().head(30)"
   ]
  },
  {
   "cell_type": "code",
   "execution_count": 112,
   "metadata": {},
   "outputs": [
    {
     "data": {
      "text/plain": [
       "A00           6555\n",
       "A04           4244\n",
       "A45           3713\n",
       "A40           3268\n",
       "A05           3193\n",
       "A01           3031\n",
       "B12           2725\n",
       "B00           2679\n",
       "B06           2639\n",
       "B01           2460\n",
       "D02           2453\n",
       "B10           2395\n",
       "B40           2192\n",
       "B23           2159\n",
       "D00           1933\n",
       "C00           1862\n",
       "A46           1773\n",
       "B90           1677\n",
       "B22           1651\n",
       "B30           1581\n",
       "A43           1576\n",
       "B13           1366\n",
       "D01           1294\n",
       "неизвестно    1270\n",
       "B20           1244\n",
       "C02           1237\n",
       "D35           1217\n",
       "B21           1152\n",
       "A07           1128\n",
       "B15           1122\n",
       "Name: Opening_ECO, dtype: int64"
      ]
     },
     "execution_count": 112,
     "metadata": {},
     "output_type": "execute_result"
    }
   ],
   "source": [
    "top_openings"
   ]
  },
  {
   "cell_type": "code",
   "execution_count": null,
   "metadata": {},
   "outputs": [],
   "source": []
  },
  {
   "cell_type": "code",
   "execution_count": 113,
   "metadata": {},
   "outputs": [],
   "source": [
    "# 4. Анализ числовых переменных. "
   ]
  },
  {
   "cell_type": "code",
   "execution_count": 114,
   "metadata": {},
   "outputs": [
    {
     "data": {
      "text/html": [
       "<div>\n",
       "<style scoped>\n",
       "    .dataframe tbody tr th:only-of-type {\n",
       "        vertical-align: middle;\n",
       "    }\n",
       "\n",
       "    .dataframe tbody tr th {\n",
       "        vertical-align: top;\n",
       "    }\n",
       "\n",
       "    .dataframe thead th {\n",
       "        text-align: right;\n",
       "    }\n",
       "</style>\n",
       "<table border=\"1\" class=\"dataframe\">\n",
       "  <thead>\n",
       "    <tr style=\"text-align: right;\">\n",
       "      <th></th>\n",
       "      <th>White_Mistake</th>\n",
       "      <th>Black_Mistake</th>\n",
       "      <th>White_Blunder</th>\n",
       "      <th>Black_Blunder</th>\n",
       "    </tr>\n",
       "  </thead>\n",
       "  <tbody>\n",
       "    <tr>\n",
       "      <th>count</th>\n",
       "      <td>140792.000000</td>\n",
       "      <td>140792.000000</td>\n",
       "      <td>140792.000000</td>\n",
       "      <td>140792.000000</td>\n",
       "    </tr>\n",
       "    <tr>\n",
       "      <th>mean</th>\n",
       "      <td>1.177503</td>\n",
       "      <td>1.192397</td>\n",
       "      <td>1.697050</td>\n",
       "      <td>1.693271</td>\n",
       "    </tr>\n",
       "    <tr>\n",
       "      <th>std</th>\n",
       "      <td>1.307709</td>\n",
       "      <td>1.301948</td>\n",
       "      <td>1.929795</td>\n",
       "      <td>1.903644</td>\n",
       "    </tr>\n",
       "    <tr>\n",
       "      <th>min</th>\n",
       "      <td>0.000000</td>\n",
       "      <td>0.000000</td>\n",
       "      <td>0.000000</td>\n",
       "      <td>0.000000</td>\n",
       "    </tr>\n",
       "    <tr>\n",
       "      <th>25%</th>\n",
       "      <td>0.000000</td>\n",
       "      <td>0.000000</td>\n",
       "      <td>0.000000</td>\n",
       "      <td>0.000000</td>\n",
       "    </tr>\n",
       "    <tr>\n",
       "      <th>50%</th>\n",
       "      <td>1.000000</td>\n",
       "      <td>1.000000</td>\n",
       "      <td>1.000000</td>\n",
       "      <td>1.000000</td>\n",
       "    </tr>\n",
       "    <tr>\n",
       "      <th>75%</th>\n",
       "      <td>2.000000</td>\n",
       "      <td>2.000000</td>\n",
       "      <td>2.000000</td>\n",
       "      <td>2.000000</td>\n",
       "    </tr>\n",
       "    <tr>\n",
       "      <th>max</th>\n",
       "      <td>23.000000</td>\n",
       "      <td>21.000000</td>\n",
       "      <td>53.000000</td>\n",
       "      <td>53.000000</td>\n",
       "    </tr>\n",
       "  </tbody>\n",
       "</table>\n",
       "</div>"
      ],
      "text/plain": [
       "       White_Mistake  Black_Mistake  White_Blunder  Black_Blunder\n",
       "count  140792.000000  140792.000000  140792.000000  140792.000000\n",
       "mean        1.177503       1.192397       1.697050       1.693271\n",
       "std         1.307709       1.301948       1.929795       1.903644\n",
       "min         0.000000       0.000000       0.000000       0.000000\n",
       "25%         0.000000       0.000000       0.000000       0.000000\n",
       "50%         1.000000       1.000000       1.000000       1.000000\n",
       "75%         2.000000       2.000000       2.000000       2.000000\n",
       "max        23.000000      21.000000      53.000000      53.000000"
      ]
     },
     "execution_count": 114,
     "metadata": {},
     "output_type": "execute_result"
    }
   ],
   "source": [
    "# 4.1. Выведем описательную статистику.\n",
    "df_1[['White_Mistake', 'Black_Mistake', 'White_Blunder', 'Black_Blunder']].describe()"
   ]
  },
  {
   "cell_type": "code",
   "execution_count": 115,
   "metadata": {},
   "outputs": [
    {
     "data": {
      "image/png": "[encoded data removed]",
      "text/plain": [
       "<Figure size 432x288 with 2 Axes>"
      ]
     },
     "metadata": {
      "needs_background": "light"
     },
     "output_type": "display_data"
    }
   ],
   "source": [
    "#  4.2. Рассмотрим корреляцию между числовыми переменными.\n",
    "correlation_matrix = df_1[['White_Mistake', 'Black_Mistake', 'White_Blunder', 'Black_Blunder']].corr()\n",
    "sns.heatmap(correlation_matrix, annot=True, cmap='coolwarm')\n",
    "plt.title('Correlation Matrix')\n",
    "plt.show()"
   ]
  },
  {
   "cell_type": "code",
   "execution_count": 116,
   "metadata": {},
   "outputs": [],
   "source": [
    "# 4.3. Распределение ошибок белого игрока\n",
    "white_mistake_count = df_1['White_Mistake'].value_counts()"
   ]
  },
  {
   "cell_type": "code",
   "execution_count": 117,
   "metadata": {},
   "outputs": [
    {
     "data": {
      "text/plain": [
       "0     54336\n",
       "1     41261\n",
       "2     24567\n",
       "3     12266\n",
       "4      5096\n",
       "5      2052\n",
       "6       789\n",
       "7       273\n",
       "8       100\n",
       "9        38\n",
       "10        9\n",
       "12        2\n",
       "11        2\n",
       "23        1\n",
       "Name: White_Mistake, dtype: int64"
      ]
     },
     "execution_count": 117,
     "metadata": {},
     "output_type": "execute_result"
    }
   ],
   "source": [
    "white_mistake_count"
   ]
  },
  {
   "cell_type": "code",
   "execution_count": 118,
   "metadata": {},
   "outputs": [],
   "source": [
    "# 4.4. Распределение ошибок черного игрока\n",
    "black_mistake_count = df_1['Black_Mistake'].value_counts()"
   ]
  },
  {
   "cell_type": "code",
   "execution_count": 119,
   "metadata": {},
   "outputs": [
    {
     "data": {
      "text/plain": [
       "0     52657\n",
       "1     42443\n",
       "2     25141\n",
       "3     12139\n",
       "4      5187\n",
       "5      2059\n",
       "6       732\n",
       "7       274\n",
       "8       107\n",
       "9        31\n",
       "10       11\n",
       "11        5\n",
       "13        2\n",
       "12        2\n",
       "21        1\n",
       "14        1\n",
       "Name: Black_Mistake, dtype: int64"
      ]
     },
     "execution_count": 119,
     "metadata": {},
     "output_type": "execute_result"
    }
   ],
   "source": [
    "black_mistake_count"
   ]
  },
  {
   "cell_type": "code",
   "execution_count": 120,
   "metadata": {},
   "outputs": [],
   "source": [
    "# 4.5. Распределение грубых ошибок белого игрока\n",
    "white_blunder_count = df_1['White_Blunder'].value_counts()"
   ]
  },
  {
   "cell_type": "code",
   "execution_count": 121,
   "metadata": {},
   "outputs": [
    {
     "data": {
      "text/plain": [
       "0     43468\n",
       "1     38071\n",
       "2     24877\n",
       "3     14662\n",
       "4      8163\n",
       "5      4764\n",
       "6      2858\n",
       "7      1645\n",
       "8       914\n",
       "9       529\n",
       "10      328\n",
       "11      206\n",
       "12      114\n",
       "13       73\n",
       "14       41\n",
       "15       33\n",
       "16       15\n",
       "17        6\n",
       "18        4\n",
       "19        3\n",
       "20        3\n",
       "21        2\n",
       "23        2\n",
       "29        2\n",
       "42        1\n",
       "22        1\n",
       "25        1\n",
       "27        1\n",
       "28        1\n",
       "30        1\n",
       "35        1\n",
       "41        1\n",
       "53        1\n",
       "Name: White_Blunder, dtype: int64"
      ]
     },
     "execution_count": 121,
     "metadata": {},
     "output_type": "execute_result"
    }
   ],
   "source": [
    "white_blunder_count"
   ]
  },
  {
   "cell_type": "code",
   "execution_count": 122,
   "metadata": {},
   "outputs": [],
   "source": [
    "# 4.6. Распределение грубых ошибок черного игрока\n",
    "black_blunder_count = df_1['Black_Blunder'].value_counts()"
   ]
  },
  {
   "cell_type": "code",
   "execution_count": 123,
   "metadata": {},
   "outputs": [
    {
     "data": {
      "text/plain": [
       "0     42326\n",
       "1     39097\n",
       "2     25448\n",
       "3     14560\n",
       "4      8132\n",
       "5      4710\n",
       "6      2785\n",
       "7      1521\n",
       "8       881\n",
       "9       514\n",
       "10      309\n",
       "11      188\n",
       "12      150\n",
       "13       64\n",
       "14       41\n",
       "15       27\n",
       "16        9\n",
       "17        9\n",
       "18        4\n",
       "23        3\n",
       "20        2\n",
       "28        2\n",
       "43        1\n",
       "19        1\n",
       "21        1\n",
       "22        1\n",
       "25        1\n",
       "27        1\n",
       "29        1\n",
       "37        1\n",
       "38        1\n",
       "53        1\n",
       "Name: Black_Blunder, dtype: int64"
      ]
     },
     "execution_count": 123,
     "metadata": {},
     "output_type": "execute_result"
    }
   ],
   "source": [
    "black_blunder_count"
   ]
  },
  {
   "cell_type": "code",
   "execution_count": 124,
   "metadata": {},
   "outputs": [
    {
     "data": {
      "image/png": "[encoded data removed]",
      "text/plain": [
       "<Figure size 720x432 with 1 Axes>"
      ]
     },
     "metadata": {
      "needs_background": "light"
     },
     "output_type": "display_data"
    }
   ],
   "source": [
    "# 4.6. Коробчатая диаграмма для сравнения ошибок\n",
    "plt.figure(figsize=(10, 6))\n",
    "sns.boxplot(data=df_1[['White_Mistake', 'Black_Mistake']])\n",
    "plt.title('Сравнение ошибок белого и черного игрока')\n",
    "plt.ylabel('Количество ошибок')\n",
    "plt.xticks([0, 1], ['Белый игрок', 'Черный игрок'])\n",
    "plt.show()"
   ]
  },
  {
   "cell_type": "code",
   "execution_count": 125,
   "metadata": {},
   "outputs": [
    {
     "data": {
      "image/png": "[encoded data removed]",
      "text/plain": [
       "<Figure size 720x720 with 1 Axes>"
      ]
     },
     "metadata": {
      "needs_background": "light"
     },
     "output_type": "display_data"
    }
   ],
   "source": [
    "# 4.7. Коробчатая диаграмма для сравнения грубых ошибок\n",
    "plt.figure(figsize=(10, 10))\n",
    "sns.boxplot(data=df_1[['White_Blunder', 'Black_Blunder']])\n",
    "plt.title('Сравнение грубых ошибок белого и черного игрока')\n",
    "plt.ylabel('Количество ошибок')\n",
    "plt.xticks([0, 1], ['Белый игрок', 'Черный игрок'])\n",
    "plt.show()"
   ]
  },
  {
   "cell_type": "code",
   "execution_count": 126,
   "metadata": {},
   "outputs": [],
   "source": [
    "# Вывод: графики с ошибками белых и черных игроков похожи. \n",
    "# Их средние, минимальные, максимальные и медианные значения почти совпадают."
   ]
  },
  {
   "cell_type": "code",
   "execution_count": null,
   "metadata": {},
   "outputs": [],
   "source": []
  },
  {
   "cell_type": "code",
   "execution_count": 127,
   "metadata": {},
   "outputs": [],
   "source": [
    "# 5. Узнаем количество партий, сыгранных без ошибок для белых и черных игроков"
   ]
  },
  {
   "cell_type": "code",
   "execution_count": 128,
   "metadata": {},
   "outputs": [],
   "source": [
    "# количество партий без ошибок для белых игроков.\n",
    "no_errors_white = df_1.query(\"White_Mistake == 0 and White_Blunder == 0\")"
   ]
  },
  {
   "cell_type": "code",
   "execution_count": 129,
   "metadata": {},
   "outputs": [],
   "source": [
    "count_no_errors_white = no_errors_white.shape[0]"
   ]
  },
  {
   "cell_type": "code",
   "execution_count": 130,
   "metadata": {},
   "outputs": [],
   "source": [
    "# количество партий без ошибок для черных игроков.\n",
    "no_errors_black = df_1.query(\"Black_Mistake == 0 and Black_Blunder == 0\")"
   ]
  },
  {
   "cell_type": "code",
   "execution_count": 131,
   "metadata": {},
   "outputs": [],
   "source": [
    "count_no_errors_black = no_errors_black.shape[0]"
   ]
  },
  {
   "cell_type": "code",
   "execution_count": 132,
   "metadata": {},
   "outputs": [
    {
     "name": "stdout",
     "output_type": "stream",
     "text": [
      "Количество партий без ошибок у белых: 24447\n",
      "Количество партий без ошибок у черных: 22236\n"
     ]
    }
   ],
   "source": [
    "print(f\"Количество партий без ошибок у белых: {count_no_errors_white}\")\n",
    "print(f\"Количество партий без ошибок у черных: {count_no_errors_black}\")"
   ]
  },
  {
   "cell_type": "code",
   "execution_count": 133,
   "metadata": {},
   "outputs": [],
   "source": [
    "# Узнаем процент партий без ошибок у белых и черных в общем объеме"
   ]
  },
  {
   "cell_type": "code",
   "execution_count": 134,
   "metadata": {},
   "outputs": [],
   "source": [
    "total_games = df_1.shape[0]"
   ]
  },
  {
   "cell_type": "code",
   "execution_count": 135,
   "metadata": {},
   "outputs": [
    {
     "data": {
      "text/plain": [
       "140792"
      ]
     },
     "execution_count": 135,
     "metadata": {},
     "output_type": "execute_result"
    }
   ],
   "source": [
    "total_games"
   ]
  },
  {
   "cell_type": "code",
   "execution_count": 136,
   "metadata": {},
   "outputs": [],
   "source": [
    "# Вычисление процента безошибочных партий у белых\n",
    "percentage_no_errors_white = (count_no_errors_white / total_games) * 100"
   ]
  },
  {
   "cell_type": "code",
   "execution_count": 137,
   "metadata": {},
   "outputs": [],
   "source": [
    "# Вычисление процента безошибочных партий у черных\n",
    "percentage_no_errors_black = (count_no_errors_black / total_games) * 100"
   ]
  },
  {
   "cell_type": "code",
   "execution_count": 138,
   "metadata": {},
   "outputs": [
    {
     "name": "stdout",
     "output_type": "stream",
     "text": [
      "Процент партий без ошибок у белых: 17.36%\n",
      "Процент партий без ошибок у черных: 15.79%\n"
     ]
    }
   ],
   "source": [
    "print(f\"Процент партий без ошибок у белых: {percentage_no_errors_white:.2f}%\")\n",
    "print(f\"Процент партий без ошибок у черных: {percentage_no_errors_black:.2f}%\")"
   ]
  },
  {
   "cell_type": "code",
   "execution_count": null,
   "metadata": {},
   "outputs": [],
   "source": []
  },
  {
   "cell_type": "code",
   "execution_count": 139,
   "metadata": {},
   "outputs": [],
   "source": [
    "# 6. Узнаем были ли такие партиии, где ни белые, ни черные не совершили ни одной ошибки."
   ]
  },
  {
   "cell_type": "code",
   "execution_count": 140,
   "metadata": {},
   "outputs": [],
   "source": [
    "no_errors_white_and_black = df_1.query(\"White_Mistake == 0 and White_Blunder == 0 and Black_Mistake == 0 and Black_Blunder == 0\")"
   ]
  },
  {
   "cell_type": "code",
   "execution_count": 141,
   "metadata": {},
   "outputs": [],
   "source": [
    "count_no_errors_white_and_black = no_errors_white_and_black.shape[0]"
   ]
  },
  {
   "cell_type": "code",
   "execution_count": 142,
   "metadata": {},
   "outputs": [
    {
     "name": "stdout",
     "output_type": "stream",
     "text": [
      "Количество партий, где ни белые, ни черные не совершили ни одной ошибки.: 5174\n"
     ]
    }
   ],
   "source": [
    "print(f\"Количество партий, где ни белые, ни черные не совершили ни одной ошибки.: {count_no_errors_white_and_black}\")"
   ]
  },
  {
   "cell_type": "code",
   "execution_count": 143,
   "metadata": {},
   "outputs": [],
   "source": [
    "# Вычисление процента безошибочных партий у белых и черных одновременно\n",
    "percentage_no_errors_white_and_black = (count_no_errors_white_and_black / total_games) * 100"
   ]
  },
  {
   "cell_type": "code",
   "execution_count": 144,
   "metadata": {},
   "outputs": [
    {
     "name": "stdout",
     "output_type": "stream",
     "text": [
      "Процент партий, где ни белые, ни черные не совершили ни одной ошибки: 3.67%\n"
     ]
    }
   ],
   "source": [
    "print(f\"Процент партий, где ни белые, ни черные не совершили ни одной ошибки: {percentage_no_errors_white_and_black:.2f}%\")"
   ]
  },
  {
   "cell_type": "code",
   "execution_count": null,
   "metadata": {},
   "outputs": [],
   "source": []
  },
  {
   "cell_type": "code",
   "execution_count": 145,
   "metadata": {},
   "outputs": [],
   "source": [
    "# 7. Исследуем медиану общего количества ошибок."
   ]
  },
  {
   "cell_type": "code",
   "execution_count": 146,
   "metadata": {},
   "outputs": [
    {
     "name": "stderr",
     "output_type": "stream",
     "text": [
      "/opt/tljh/user/lib/python3.7/site-packages/ipykernel_launcher.py:2: SettingWithCopyWarning: \n",
      "A value is trying to be set on a copy of a slice from a DataFrame.\n",
      "Try using .loc[row_indexer,col_indexer] = value instead\n",
      "\n",
      "See the caveats in the documentation: https://pandas.pydata.org/pandas-docs/stable/user_guide/indexing.html#returning-a-view-versus-a-copy\n",
      "  \n"
     ]
    }
   ],
   "source": [
    "# Сложим все ошибки для одной партии\n",
    "df_1['Total_Mistakes'] = df_1['White_Mistake'] + df_1['Black_Mistake'] + df_1['White_Blunder'] + df_1['Black_Blunder']"
   ]
  },
  {
   "cell_type": "code",
   "execution_count": 147,
   "metadata": {},
   "outputs": [],
   "source": [
    "# 7.1. Вычислим медиану общего количества ошибок для каждого варианта шахмат (Variant)\n",
    "median_errors_for_Variant = df_1.groupby('Variant')['Total_Mistakes'].median().reset_index(name='Median_Mistakes')"
   ]
  },
  {
   "cell_type": "code",
   "execution_count": 148,
   "metadata": {},
   "outputs": [
    {
     "data": {
      "text/html": [
       "<div>\n",
       "<style scoped>\n",
       "    .dataframe tbody tr th:only-of-type {\n",
       "        vertical-align: middle;\n",
       "    }\n",
       "\n",
       "    .dataframe tbody tr th {\n",
       "        vertical-align: top;\n",
       "    }\n",
       "\n",
       "    .dataframe thead th {\n",
       "        text-align: right;\n",
       "    }\n",
       "</style>\n",
       "<table border=\"1\" class=\"dataframe\">\n",
       "  <thead>\n",
       "    <tr style=\"text-align: right;\">\n",
       "      <th></th>\n",
       "      <th>Variant</th>\n",
       "      <th>Median_Mistakes</th>\n",
       "    </tr>\n",
       "  </thead>\n",
       "  <tbody>\n",
       "    <tr>\n",
       "      <th>0</th>\n",
       "      <td>fromPosition</td>\n",
       "      <td>2.0</td>\n",
       "    </tr>\n",
       "    <tr>\n",
       "      <th>1</th>\n",
       "      <td>standard</td>\n",
       "      <td>4.5</td>\n",
       "    </tr>\n",
       "  </tbody>\n",
       "</table>\n",
       "</div>"
      ],
      "text/plain": [
       "        Variant  Median_Mistakes\n",
       "0  fromPosition              2.0\n",
       "1      standard              4.5"
      ]
     },
     "execution_count": 148,
     "metadata": {},
     "output_type": "execute_result"
    }
   ],
   "source": [
    "median_errors_for_Variant"
   ]
  },
  {
   "cell_type": "code",
   "execution_count": 149,
   "metadata": {},
   "outputs": [],
   "source": [
    "# Выводы:\n",
    "\n",
    "# Медиана ошибок для партий fromPosition (2,5) меньше, чем для партий standard (4,5). Это может указывать на то, \n",
    "# что игроки, начиная с заранее заданной позиции, более уверенно принимают решения и делают меньше ошибок, чем игроки \n",
    "# в стандартных партиях (они уже имеют представление о позиции и возможных ходах, \n",
    "# что позволяет им принимать более обоснованные решения.)\n",
    "\n",
    "# Игроки же, которые начинают с традиционной позиции, сталкиваются с большим количеством неопределенностей и сложностей, \n",
    "# что приводит к большему количеству ошибок."
   ]
  },
  {
   "cell_type": "code",
   "execution_count": 150,
   "metadata": {},
   "outputs": [],
   "source": [
    "# 7.2. Вычислим медиану общего количества ошибок для каждого контроля времени партии (Speed)\n",
    "median_errors_for_Speed = df_1.groupby('Speed')['Total_Mistakes'].median().reset_index(name='Median_Mistakes')"
   ]
  },
  {
   "cell_type": "code",
   "execution_count": 151,
   "metadata": {},
   "outputs": [
    {
     "data": {
      "text/html": [
       "<div>\n",
       "<style scoped>\n",
       "    .dataframe tbody tr th:only-of-type {\n",
       "        vertical-align: middle;\n",
       "    }\n",
       "\n",
       "    .dataframe tbody tr th {\n",
       "        vertical-align: top;\n",
       "    }\n",
       "\n",
       "    .dataframe thead th {\n",
       "        text-align: right;\n",
       "    }\n",
       "</style>\n",
       "<table border=\"1\" class=\"dataframe\">\n",
       "  <thead>\n",
       "    <tr style=\"text-align: right;\">\n",
       "      <th></th>\n",
       "      <th>Speed</th>\n",
       "      <th>Median_Mistakes</th>\n",
       "    </tr>\n",
       "  </thead>\n",
       "  <tbody>\n",
       "    <tr>\n",
       "      <th>0</th>\n",
       "      <td>blitz</td>\n",
       "      <td>4</td>\n",
       "    </tr>\n",
       "    <tr>\n",
       "      <th>1</th>\n",
       "      <td>bullet</td>\n",
       "      <td>6</td>\n",
       "    </tr>\n",
       "    <tr>\n",
       "      <th>2</th>\n",
       "      <td>classical</td>\n",
       "      <td>4</td>\n",
       "    </tr>\n",
       "    <tr>\n",
       "      <th>3</th>\n",
       "      <td>rapid</td>\n",
       "      <td>4</td>\n",
       "    </tr>\n",
       "    <tr>\n",
       "      <th>4</th>\n",
       "      <td>ultraBullet</td>\n",
       "      <td>9</td>\n",
       "    </tr>\n",
       "  </tbody>\n",
       "</table>\n",
       "</div>"
      ],
      "text/plain": [
       "         Speed  Median_Mistakes\n",
       "0        blitz                4\n",
       "1       bullet                6\n",
       "2    classical                4\n",
       "3        rapid                4\n",
       "4  ultraBullet                9"
      ]
     },
     "execution_count": 151,
     "metadata": {},
     "output_type": "execute_result"
    }
   ],
   "source": [
    "median_errors_for_Speed"
   ]
  },
  {
   "cell_type": "code",
   "execution_count": 152,
   "metadata": {},
   "outputs": [],
   "source": [
    "# Выводы:\n",
    "\n",
    "# Чем меньше времени у игроков, тем больше вероятность ошибок. \n",
    "# Это видно из того, что в UltraBullet медиана ошибок значительно выше, чем в других форматах. \n",
    "# Игроки в этом формате, вероятно, делают много поспешных ходов, что приводит к большему количеству ошибок.\n",
    "\n",
    "# Форматы с более длительным контролем времени (Blitz, Classical, Rapid) показывают схожие результаты, что может указывать на то,\n",
    "#что игроки имеют достаточно времени для обдумывания ходов и, следовательно, делают меньше ошибок."
   ]
  },
  {
   "cell_type": "code",
   "execution_count": null,
   "metadata": {},
   "outputs": [],
   "source": []
  },
  {
   "cell_type": "code",
   "execution_count": 154,
   "metadata": {},
   "outputs": [],
   "source": [
    "# 7.3. Вычислим медиану общего количества ошибок для 30 самых популярных дебютов."
   ]
  },
  {
   "cell_type": "code",
   "execution_count": 155,
   "metadata": {},
   "outputs": [],
   "source": [
    "# Группируем данные по дебютам и считаем количество партий\n",
    "top_openings = df_1['Opening_ECO'].value_counts().head(30).index.tolist()"
   ]
  },
  {
   "cell_type": "code",
   "execution_count": 156,
   "metadata": {},
   "outputs": [],
   "source": [
    "# Фильтруем DataFrame по топ-30 дебютам\n",
    "filtered_df = df_1[df_1['Opening_ECO'].isin(top_openings)]"
   ]
  },
  {
   "cell_type": "code",
   "execution_count": 157,
   "metadata": {},
   "outputs": [
    {
     "data": {
      "text/plain": [
       "(66789, 10)"
      ]
     },
     "execution_count": 157,
     "metadata": {},
     "output_type": "execute_result"
    }
   ],
   "source": [
    "filtered_df.shape"
   ]
  },
  {
   "cell_type": "code",
   "execution_count": 158,
   "metadata": {},
   "outputs": [
    {
     "data": {
      "text/html": [
       "<div>\n",
       "<style scoped>\n",
       "    .dataframe tbody tr th:only-of-type {\n",
       "        vertical-align: middle;\n",
       "    }\n",
       "\n",
       "    .dataframe tbody tr th {\n",
       "        vertical-align: top;\n",
       "    }\n",
       "\n",
       "    .dataframe thead th {\n",
       "        text-align: right;\n",
       "    }\n",
       "</style>\n",
       "<table border=\"1\" class=\"dataframe\">\n",
       "  <thead>\n",
       "    <tr style=\"text-align: right;\">\n",
       "      <th></th>\n",
       "      <th>Variant</th>\n",
       "      <th>Speed</th>\n",
       "      <th>White_Mistake</th>\n",
       "      <th>Black_Mistake</th>\n",
       "      <th>White_Blunder</th>\n",
       "      <th>Black_Blunder</th>\n",
       "      <th>Analysis</th>\n",
       "      <th>Opening_ECO</th>\n",
       "      <th>Winner</th>\n",
       "      <th>Total_Mistakes</th>\n",
       "    </tr>\n",
       "  </thead>\n",
       "  <tbody>\n",
       "    <tr>\n",
       "      <th>24</th>\n",
       "      <td>standard</td>\n",
       "      <td>classical</td>\n",
       "      <td>1</td>\n",
       "      <td>1</td>\n",
       "      <td>3</td>\n",
       "      <td>4</td>\n",
       "      <td>[{'eval': 15}, {'eval': 35}, {'eval': 28}, {'e...</td>\n",
       "      <td>B15</td>\n",
       "      <td>white</td>\n",
       "      <td>9</td>\n",
       "    </tr>\n",
       "  </tbody>\n",
       "</table>\n",
       "</div>"
      ],
      "text/plain": [
       "     Variant      Speed  White_Mistake  Black_Mistake  White_Blunder  \\\n",
       "24  standard  classical              1              1              3   \n",
       "\n",
       "    Black_Blunder                                           Analysis  \\\n",
       "24              4  [{'eval': 15}, {'eval': 35}, {'eval': 28}, {'e...   \n",
       "\n",
       "   Opening_ECO Winner  Total_Mistakes  \n",
       "24         B15  white               9  "
      ]
     },
     "execution_count": 158,
     "metadata": {},
     "output_type": "execute_result"
    }
   ],
   "source": [
    "filtered_df.head(1)"
   ]
  },
  {
   "cell_type": "code",
   "execution_count": 159,
   "metadata": {},
   "outputs": [],
   "source": [
    "median_errors_for_Opening_ECO = filtered_df.groupby('Opening_ECO')['Total_Mistakes'].median().reset_index(name='Median_Mistakes')"
   ]
  },
  {
   "cell_type": "code",
   "execution_count": 160,
   "metadata": {},
   "outputs": [
    {
     "data": {
      "text/html": [
       "<div>\n",
       "<style scoped>\n",
       "    .dataframe tbody tr th:only-of-type {\n",
       "        vertical-align: middle;\n",
       "    }\n",
       "\n",
       "    .dataframe tbody tr th {\n",
       "        vertical-align: top;\n",
       "    }\n",
       "\n",
       "    .dataframe thead th {\n",
       "        text-align: right;\n",
       "    }\n",
       "</style>\n",
       "<table border=\"1\" class=\"dataframe\">\n",
       "  <thead>\n",
       "    <tr style=\"text-align: right;\">\n",
       "      <th></th>\n",
       "      <th>Opening_ECO</th>\n",
       "      <th>Median_Mistakes</th>\n",
       "    </tr>\n",
       "  </thead>\n",
       "  <tbody>\n",
       "    <tr>\n",
       "      <th>0</th>\n",
       "      <td>A00</td>\n",
       "      <td>7</td>\n",
       "    </tr>\n",
       "    <tr>\n",
       "      <th>1</th>\n",
       "      <td>A01</td>\n",
       "      <td>5</td>\n",
       "    </tr>\n",
       "    <tr>\n",
       "      <th>2</th>\n",
       "      <td>A04</td>\n",
       "      <td>6</td>\n",
       "    </tr>\n",
       "    <tr>\n",
       "      <th>3</th>\n",
       "      <td>A05</td>\n",
       "      <td>5</td>\n",
       "    </tr>\n",
       "    <tr>\n",
       "      <th>4</th>\n",
       "      <td>A07</td>\n",
       "      <td>5</td>\n",
       "    </tr>\n",
       "    <tr>\n",
       "      <th>5</th>\n",
       "      <td>A40</td>\n",
       "      <td>6</td>\n",
       "    </tr>\n",
       "    <tr>\n",
       "      <th>6</th>\n",
       "      <td>A43</td>\n",
       "      <td>6</td>\n",
       "    </tr>\n",
       "    <tr>\n",
       "      <th>7</th>\n",
       "      <td>A45</td>\n",
       "      <td>4</td>\n",
       "    </tr>\n",
       "    <tr>\n",
       "      <th>8</th>\n",
       "      <td>A46</td>\n",
       "      <td>5</td>\n",
       "    </tr>\n",
       "    <tr>\n",
       "      <th>9</th>\n",
       "      <td>B00</td>\n",
       "      <td>5</td>\n",
       "    </tr>\n",
       "    <tr>\n",
       "      <th>10</th>\n",
       "      <td>B01</td>\n",
       "      <td>5</td>\n",
       "    </tr>\n",
       "    <tr>\n",
       "      <th>11</th>\n",
       "      <td>B06</td>\n",
       "      <td>6</td>\n",
       "    </tr>\n",
       "    <tr>\n",
       "      <th>12</th>\n",
       "      <td>B10</td>\n",
       "      <td>4</td>\n",
       "    </tr>\n",
       "    <tr>\n",
       "      <th>13</th>\n",
       "      <td>B12</td>\n",
       "      <td>4</td>\n",
       "    </tr>\n",
       "    <tr>\n",
       "      <th>14</th>\n",
       "      <td>B13</td>\n",
       "      <td>4</td>\n",
       "    </tr>\n",
       "    <tr>\n",
       "      <th>15</th>\n",
       "      <td>B15</td>\n",
       "      <td>4</td>\n",
       "    </tr>\n",
       "    <tr>\n",
       "      <th>16</th>\n",
       "      <td>B20</td>\n",
       "      <td>4</td>\n",
       "    </tr>\n",
       "    <tr>\n",
       "      <th>17</th>\n",
       "      <td>B21</td>\n",
       "      <td>4</td>\n",
       "    </tr>\n",
       "    <tr>\n",
       "      <th>18</th>\n",
       "      <td>B22</td>\n",
       "      <td>4</td>\n",
       "    </tr>\n",
       "    <tr>\n",
       "      <th>19</th>\n",
       "      <td>B23</td>\n",
       "      <td>4</td>\n",
       "    </tr>\n",
       "    <tr>\n",
       "      <th>20</th>\n",
       "      <td>B30</td>\n",
       "      <td>4</td>\n",
       "    </tr>\n",
       "    <tr>\n",
       "      <th>21</th>\n",
       "      <td>B40</td>\n",
       "      <td>4</td>\n",
       "    </tr>\n",
       "    <tr>\n",
       "      <th>22</th>\n",
       "      <td>B90</td>\n",
       "      <td>4</td>\n",
       "    </tr>\n",
       "    <tr>\n",
       "      <th>23</th>\n",
       "      <td>C00</td>\n",
       "      <td>5</td>\n",
       "    </tr>\n",
       "    <tr>\n",
       "      <th>24</th>\n",
       "      <td>C02</td>\n",
       "      <td>5</td>\n",
       "    </tr>\n",
       "    <tr>\n",
       "      <th>25</th>\n",
       "      <td>D00</td>\n",
       "      <td>5</td>\n",
       "    </tr>\n",
       "    <tr>\n",
       "      <th>26</th>\n",
       "      <td>D01</td>\n",
       "      <td>4</td>\n",
       "    </tr>\n",
       "    <tr>\n",
       "      <th>27</th>\n",
       "      <td>D02</td>\n",
       "      <td>4</td>\n",
       "    </tr>\n",
       "    <tr>\n",
       "      <th>28</th>\n",
       "      <td>D35</td>\n",
       "      <td>4</td>\n",
       "    </tr>\n",
       "    <tr>\n",
       "      <th>29</th>\n",
       "      <td>неизвестно</td>\n",
       "      <td>2</td>\n",
       "    </tr>\n",
       "  </tbody>\n",
       "</table>\n",
       "</div>"
      ],
      "text/plain": [
       "   Opening_ECO  Median_Mistakes\n",
       "0          A00                7\n",
       "1          A01                5\n",
       "2          A04                6\n",
       "3          A05                5\n",
       "4          A07                5\n",
       "5          A40                6\n",
       "6          A43                6\n",
       "7          A45                4\n",
       "8          A46                5\n",
       "9          B00                5\n",
       "10         B01                5\n",
       "11         B06                6\n",
       "12         B10                4\n",
       "13         B12                4\n",
       "14         B13                4\n",
       "15         B15                4\n",
       "16         B20                4\n",
       "17         B21                4\n",
       "18         B22                4\n",
       "19         B23                4\n",
       "20         B30                4\n",
       "21         B40                4\n",
       "22         B90                4\n",
       "23         C00                5\n",
       "24         C02                5\n",
       "25         D00                5\n",
       "26         D01                4\n",
       "27         D02                4\n",
       "28         D35                4\n",
       "29  неизвестно                2"
      ]
     },
     "execution_count": 160,
     "metadata": {},
     "output_type": "execute_result"
    }
   ],
   "source": [
    "median_errors_for_Opening_ECO"
   ]
  },
  {
   "cell_type": "code",
   "execution_count": 161,
   "metadata": {},
   "outputs": [],
   "source": [
    "# Самая большая медиана ошибок среди популярных дебютов в дебюте A00.\n",
    "# код A00 обозначает \"неопределенные дебюты\". \n",
    "# Это может включать в себя различные нестандартные или редкие ходы, которые не соответствуют более известным дебютам."
   ]
  },
  {
   "cell_type": "code",
   "execution_count": null,
   "metadata": {},
   "outputs": [],
   "source": []
  },
  {
   "cell_type": "code",
   "execution_count": 162,
   "metadata": {},
   "outputs": [],
   "source": [
    "# 8. Исследуем столбец Analysis.\n",
    "\n",
    "# 8.1. Найдем партии, где выиграли белые, несмотря на то, что средняя оценка позиции (avg_eval) была в пользу черных,\n",
    "# и наоборот, партии, где выиграли черные, несмотря на приемущество белых."
   ]
  },
  {
   "cell_type": "code",
   "execution_count": 163,
   "metadata": {},
   "outputs": [
    {
     "name": "stdout",
     "output_type": "stream",
     "text": [
      "<class 'str'>\n"
     ]
    }
   ],
   "source": [
    "# Проверка типа данных первого элемента\n",
    "print(type(df_1['Analysis'].iloc[0]))"
   ]
  },
  {
   "cell_type": "code",
   "execution_count": 164,
   "metadata": {},
   "outputs": [
    {
     "name": "stderr",
     "output_type": "stream",
     "text": [
      "/opt/tljh/user/lib/python3.7/site-packages/ipykernel_launcher.py:2: SettingWithCopyWarning: \n",
      "A value is trying to be set on a copy of a slice from a DataFrame.\n",
      "Try using .loc[row_indexer,col_indexer] = value instead\n",
      "\n",
      "See the caveats in the documentation: https://pandas.pydata.org/pandas-docs/stable/user_guide/indexing.html#returning-a-view-versus-a-copy\n",
      "  \n"
     ]
    }
   ],
   "source": [
    "# Так как тип данных столбца Analysis строка, то необходимо преобразование строки в списки.\n",
    "df_1['Analysis'] = df_1['Analysis'].apply(ast.literal_eval)"
   ]
  },
  {
   "cell_type": "code",
   "execution_count": 165,
   "metadata": {},
   "outputs": [
    {
     "name": "stdout",
     "output_type": "stream",
     "text": [
      "<class 'list'>\n"
     ]
    }
   ],
   "source": [
    "# Проверка типа данных после преобразования\n",
    "print(type(df_1['Analysis'].iloc[0]))  # Должно вернуть <class 'list'>"
   ]
  },
  {
   "cell_type": "code",
   "execution_count": 166,
   "metadata": {},
   "outputs": [
    {
     "name": "stderr",
     "output_type": "stream",
     "text": [
      "/opt/tljh/user/lib/python3.7/site-packages/ipykernel_launcher.py:7: SettingWithCopyWarning: \n",
      "A value is trying to be set on a copy of a slice from a DataFrame.\n",
      "Try using .loc[row_indexer,col_indexer] = value instead\n",
      "\n",
      "See the caveats in the documentation: https://pandas.pydata.org/pandas-docs/stable/user_guide/indexing.html#returning-a-view-versus-a-copy\n",
      "  import sys\n"
     ]
    }
   ],
   "source": [
    "# Создание столбца avg_eval.\n",
    "\n",
    "# Извлекаем значения eval из каждого словаря в списке с проверкой наличия ключа\n",
    "def extract_eval(x):\n",
    "    return [item['eval'] for item in x if 'eval' in item]\n",
    "\n",
    "df_1['eval'] = df_1['Analysis'].apply(extract_eval)"
   ]
  },
  {
   "cell_type": "code",
   "execution_count": 167,
   "metadata": {},
   "outputs": [
    {
     "name": "stderr",
     "output_type": "stream",
     "text": [
      "/opt/tljh/user/lib/python3.7/site-packages/ipykernel_launcher.py:2: SettingWithCopyWarning: \n",
      "A value is trying to be set on a copy of a slice from a DataFrame.\n",
      "Try using .loc[row_indexer,col_indexer] = value instead\n",
      "\n",
      "See the caveats in the documentation: https://pandas.pydata.org/pandas-docs/stable/user_guide/indexing.html#returning-a-view-versus-a-copy\n",
      "  \n"
     ]
    }
   ],
   "source": [
    "# Найдем среднее значение eval для каждого элемента\n",
    "df_1['avg_eval'] = df_1['eval'].apply(lambda x: sum(x) / len(x) if x else None)"
   ]
  },
  {
   "cell_type": "code",
   "execution_count": 168,
   "metadata": {},
   "outputs": [
    {
     "data": {
      "text/html": [
       "<div>\n",
       "<style scoped>\n",
       "    .dataframe tbody tr th:only-of-type {\n",
       "        vertical-align: middle;\n",
       "    }\n",
       "\n",
       "    .dataframe tbody tr th {\n",
       "        vertical-align: top;\n",
       "    }\n",
       "\n",
       "    .dataframe thead th {\n",
       "        text-align: right;\n",
       "    }\n",
       "</style>\n",
       "<table border=\"1\" class=\"dataframe\">\n",
       "  <thead>\n",
       "    <tr style=\"text-align: right;\">\n",
       "      <th></th>\n",
       "      <th>Variant</th>\n",
       "      <th>Speed</th>\n",
       "      <th>White_Mistake</th>\n",
       "      <th>Black_Mistake</th>\n",
       "      <th>White_Blunder</th>\n",
       "      <th>Black_Blunder</th>\n",
       "      <th>Analysis</th>\n",
       "      <th>Opening_ECO</th>\n",
       "      <th>Winner</th>\n",
       "      <th>Total_Mistakes</th>\n",
       "      <th>eval</th>\n",
       "      <th>avg_eval</th>\n",
       "    </tr>\n",
       "  </thead>\n",
       "  <tbody>\n",
       "    <tr>\n",
       "      <th>0</th>\n",
       "      <td>standard</td>\n",
       "      <td>classical</td>\n",
       "      <td>1</td>\n",
       "      <td>1</td>\n",
       "      <td>1</td>\n",
       "      <td>1</td>\n",
       "      <td>[{'eval': 14}, {'eval': 25}, {'eval': 26}, {'e...</td>\n",
       "      <td>A30</td>\n",
       "      <td>white</td>\n",
       "      <td>4</td>\n",
       "      <td>[14, 25, 26, 23, 16, 39, 32, 44, 51, 89, 90, 8...</td>\n",
       "      <td>186.257576</td>\n",
       "    </tr>\n",
       "  </tbody>\n",
       "</table>\n",
       "</div>"
      ],
      "text/plain": [
       "    Variant      Speed  White_Mistake  Black_Mistake  White_Blunder  \\\n",
       "0  standard  classical              1              1              1   \n",
       "\n",
       "   Black_Blunder                                           Analysis  \\\n",
       "0              1  [{'eval': 14}, {'eval': 25}, {'eval': 26}, {'e...   \n",
       "\n",
       "  Opening_ECO Winner  Total_Mistakes  \\\n",
       "0         A30  white               4   \n",
       "\n",
       "                                                eval    avg_eval  \n",
       "0  [14, 25, 26, 23, 16, 39, 32, 44, 51, 89, 90, 8...  186.257576  "
      ]
     },
     "execution_count": 168,
     "metadata": {},
     "output_type": "execute_result"
    }
   ],
   "source": [
    "df_1.head(1)"
   ]
  },
  {
   "cell_type": "code",
   "execution_count": 169,
   "metadata": {},
   "outputs": [],
   "source": [
    "# Фильтрация партий, где белые выиграли, несмотря на преимущество черных\n",
    "white_wins_black_advantage = df_1.query(\"Winner == 'white' and avg_eval < 0\")"
   ]
  },
  {
   "cell_type": "code",
   "execution_count": 170,
   "metadata": {},
   "outputs": [
    {
     "data": {
      "text/plain": [
       "(7707, 12)"
      ]
     },
     "execution_count": 170,
     "metadata": {},
     "output_type": "execute_result"
    }
   ],
   "source": [
    "white_wins_black_advantage.shape"
   ]
  },
  {
   "cell_type": "code",
   "execution_count": 171,
   "metadata": {},
   "outputs": [],
   "source": [
    "# Фильтрация партий, где черные выиграли, несмотря на преимущество белых\n",
    "black_wins_white_advantage = df_1.query(\"Winner == 'black' and avg_eval > 0\")"
   ]
  },
  {
   "cell_type": "code",
   "execution_count": 172,
   "metadata": {},
   "outputs": [
    {
     "data": {
      "text/plain": [
       "(10713, 12)"
      ]
     },
     "execution_count": 172,
     "metadata": {},
     "output_type": "execute_result"
    }
   ],
   "source": [
    "black_wins_white_advantage.shape"
   ]
  },
  {
   "cell_type": "code",
   "execution_count": 173,
   "metadata": {},
   "outputs": [],
   "source": [
    "# Число партий, где игроку получилось резко развернуть ход игры в свою пользу, несмотря на приемущество противника в ходе игры.\n",
    "result = pd.concat([white_wins_black_advantage, black_wins_white_advantage], ignore_index=True)"
   ]
  },
  {
   "cell_type": "code",
   "execution_count": 174,
   "metadata": {},
   "outputs": [
    {
     "data": {
      "text/plain": [
       "(18420, 12)"
      ]
     },
     "execution_count": 174,
     "metadata": {},
     "output_type": "execute_result"
    }
   ],
   "source": [
    "result.shape"
   ]
  },
  {
   "cell_type": "code",
   "execution_count": 175,
   "metadata": {},
   "outputs": [],
   "source": [
    "# Общее количество партий\n",
    "total_games = len(df_1)"
   ]
  },
  {
   "cell_type": "code",
   "execution_count": 176,
   "metadata": {},
   "outputs": [],
   "source": [
    "# Количество партий, соответствующих критериям\n",
    "count_result = len(result)"
   ]
  },
  {
   "cell_type": "code",
   "execution_count": 177,
   "metadata": {},
   "outputs": [],
   "source": [
    "percentage = count_result / total_games * 100"
   ]
  },
  {
   "cell_type": "code",
   "execution_count": 178,
   "metadata": {},
   "outputs": [
    {
     "data": {
      "text/plain": [
       "13.083129723279733"
      ]
     },
     "execution_count": 178,
     "metadata": {},
     "output_type": "execute_result"
    }
   ],
   "source": [
    "percentage"
   ]
  },
  {
   "cell_type": "code",
   "execution_count": 179,
   "metadata": {},
   "outputs": [],
   "source": [
    "percentage = round(percentage, 0)"
   ]
  },
  {
   "cell_type": "code",
   "execution_count": 180,
   "metadata": {},
   "outputs": [
    {
     "name": "stdout",
     "output_type": "stream",
     "text": [
      "Общее количество партий: 140792\n",
      "Количество партий, где белые выиграли с преимуществом черных или черные выиграли с преимуществом белых: 18420\n",
      "Процент таких партий в общем объеме: 13.0\n"
     ]
    }
   ],
   "source": [
    "# Вывод результатов\n",
    "print(\"Общее количество партий:\", total_games)\n",
    "print(\"Количество партий, где белые выиграли с преимуществом черных или черные выиграли с преимуществом белых:\", count_result)\n",
    "print(\"Процент таких партий в общем объеме:\", percentage )\n"
   ]
  },
  {
   "cell_type": "code",
   "execution_count": null,
   "metadata": {},
   "outputs": [],
   "source": []
  },
  {
   "cell_type": "code",
   "execution_count": 181,
   "metadata": {},
   "outputs": [],
   "source": [
    "# 8.2. Сравним как распределяются значений eval в партиях с наибольшим и наименьшим числом ошибок.\n",
    "\n",
    "df_2 = df_1[['Total_Mistakes','eval']]"
   ]
  },
  {
   "cell_type": "code",
   "execution_count": 182,
   "metadata": {},
   "outputs": [],
   "source": [
    "df_2 = df_2.sort_values(\"Total_Mistakes\", ascending=False)"
   ]
  },
  {
   "cell_type": "code",
   "execution_count": 183,
   "metadata": {},
   "outputs": [
    {
     "data": {
      "text/html": [
       "<div>\n",
       "<style scoped>\n",
       "    .dataframe tbody tr th:only-of-type {\n",
       "        vertical-align: middle;\n",
       "    }\n",
       "\n",
       "    .dataframe tbody tr th {\n",
       "        vertical-align: top;\n",
       "    }\n",
       "\n",
       "    .dataframe thead th {\n",
       "        text-align: right;\n",
       "    }\n",
       "</style>\n",
       "<table border=\"1\" class=\"dataframe\">\n",
       "  <thead>\n",
       "    <tr style=\"text-align: right;\">\n",
       "      <th></th>\n",
       "      <th>Total_Mistakes</th>\n",
       "      <th>eval</th>\n",
       "    </tr>\n",
       "  </thead>\n",
       "  <tbody>\n",
       "    <tr>\n",
       "      <th>133927</th>\n",
       "      <td>150</td>\n",
       "      <td>[0, 23, 17, 54, 49, 129, 98, 143, 111, 179, 16...</td>\n",
       "    </tr>\n",
       "    <tr>\n",
       "      <th>135957</th>\n",
       "      <td>90</td>\n",
       "      <td>[25, 29, -165, -76, -263, -29, -248, -78, -205...</td>\n",
       "    </tr>\n",
       "    <tr>\n",
       "      <th>140229</th>\n",
       "      <td>89</td>\n",
       "      <td>[-1500, -884, -2014, -773, -1996, -1210, -1910...</td>\n",
       "    </tr>\n",
       "    <tr>\n",
       "      <th>91047</th>\n",
       "      <td>80</td>\n",
       "      <td>[-96, 20, -119, 109, -314, 205, -354, 274, -62...</td>\n",
       "    </tr>\n",
       "    <tr>\n",
       "      <th>103849</th>\n",
       "      <td>65</td>\n",
       "      <td>[12, 35, 22, 47, 10, 73, 53, 76, 56, 82, 37, 3...</td>\n",
       "    </tr>\n",
       "    <tr>\n",
       "      <th>...</th>\n",
       "      <td>...</td>\n",
       "      <td>...</td>\n",
       "    </tr>\n",
       "    <tr>\n",
       "      <th>22686</th>\n",
       "      <td>0</td>\n",
       "      <td>[17, 17, 17, 11, 17, 17, 8, 25, 16, 17, 32, 50...</td>\n",
       "    </tr>\n",
       "    <tr>\n",
       "      <th>22684</th>\n",
       "      <td>0</td>\n",
       "      <td>[17, 24, 19, 27, 18, 32, 31, 49, 47, 43, 47, 3...</td>\n",
       "    </tr>\n",
       "    <tr>\n",
       "      <th>115681</th>\n",
       "      <td>0</td>\n",
       "      <td>[18, 36, 9, 100, 95, 129, 85, 85, 95, 92, 94, ...</td>\n",
       "    </tr>\n",
       "    <tr>\n",
       "      <th>59348</th>\n",
       "      <td>0</td>\n",
       "      <td>[18, 43, 43, 43, 38, 71, 67, 84, 46, 47, 37, 3...</td>\n",
       "    </tr>\n",
       "    <tr>\n",
       "      <th>92830</th>\n",
       "      <td>0</td>\n",
       "      <td>[17, 17, 16, 25, 21, 28, 9, 17, 23, 13, 13, 12...</td>\n",
       "    </tr>\n",
       "  </tbody>\n",
       "</table>\n",
       "<p>140792 rows × 2 columns</p>\n",
       "</div>"
      ],
      "text/plain": [
       "        Total_Mistakes                                               eval\n",
       "133927             150  [0, 23, 17, 54, 49, 129, 98, 143, 111, 179, 16...\n",
       "135957              90  [25, 29, -165, -76, -263, -29, -248, -78, -205...\n",
       "140229              89  [-1500, -884, -2014, -773, -1996, -1210, -1910...\n",
       "91047               80  [-96, 20, -119, 109, -314, 205, -354, 274, -62...\n",
       "103849              65  [12, 35, 22, 47, 10, 73, 53, 76, 56, 82, 37, 3...\n",
       "...                ...                                                ...\n",
       "22686                0  [17, 17, 17, 11, 17, 17, 8, 25, 16, 17, 32, 50...\n",
       "22684                0  [17, 24, 19, 27, 18, 32, 31, 49, 47, 43, 47, 3...\n",
       "115681               0  [18, 36, 9, 100, 95, 129, 85, 85, 95, 92, 94, ...\n",
       "59348                0  [18, 43, 43, 43, 38, 71, 67, 84, 46, 47, 37, 3...\n",
       "92830                0  [17, 17, 16, 25, 21, 28, 9, 17, 23, 13, 13, 12...\n",
       "\n",
       "[140792 rows x 2 columns]"
      ]
     },
     "execution_count": 183,
     "metadata": {},
     "output_type": "execute_result"
    }
   ],
   "source": [
    "df_2"
   ]
  },
  {
   "cell_type": "code",
   "execution_count": 184,
   "metadata": {},
   "outputs": [
    {
     "data": {
      "image/png": "[encoded data removed]",
      "text/plain": [
       "<Figure size 1800x720 with 1 Axes>"
      ]
     },
     "metadata": {
      "needs_background": "light"
     },
     "output_type": "display_data"
    },
    {
     "data": {
      "image/png": "[encoded data removed]",
      "text/plain": [
       "<Figure size 1800x720 with 1 Axes>"
      ]
     },
     "metadata": {
      "needs_background": "light"
     },
     "output_type": "display_data"
    }
   ],
   "source": [
    "# Выбираем первую строку\n",
    "row_index = 0  # Индекс первой строки\n",
    "eval_values = df_2['eval'].iloc[row_index]\n",
    "\n",
    "# Создаем массив индексов для значений eval\n",
    "index_values = list(range(len(eval_values)))\n",
    "\n",
    "# Построение графика\n",
    "plt.figure(figsize=(25, 10))\n",
    "plt.plot(index_values, eval_values, marker='o', color='blue', label='eval')\n",
    "plt.title(f'График eval для партии с наибольшим числом ошибок (индекс {row_index})')\n",
    "plt.xlabel('Индекс значений eval')\n",
    "plt.ylabel('eval')\n",
    "plt.xticks(index_values)  # Устанавливаем метки по оси X\n",
    "plt.grid()\n",
    "plt.legend()\n",
    "plt.show()\n",
    "\n",
    "\n",
    "# Выбираем последнюю строку\n",
    "row_index = len(df) - 1  # Индекс последней строки\n",
    "eval_values = df_2['eval'].iloc[row_index]\n",
    "\n",
    "# Создаем массив индексов для значений eval\n",
    "index_values = list(range(len(eval_values)))\n",
    "\n",
    "# Построение графика\n",
    "plt.figure(figsize=(25, 10))\n",
    "plt.plot(index_values, eval_values, marker='o', color='blue', label='eval')\n",
    "plt.title(f'График eval для партии с наименьшим числом ошибок (индекс {row_index})')\n",
    "plt.xlabel('Индекс значений eval')\n",
    "plt.ylabel('eval')\n",
    "plt.xticks(index_values)  # Устанавливаем метки по оси X\n",
    "plt.grid()\n",
    "plt.legend()\n",
    "plt.show()"
   ]
  },
  {
   "cell_type": "code",
   "execution_count": 185,
   "metadata": {},
   "outputs": [],
   "source": [
    "# Вывод: Таким образом, мы прослеживаем закономерность между количеством ошибок и неоднородностью графика eval.\n",
    "# Чем больше ошибок, тем более неоднароден график eval.\n",
    "# При большом количестве ошибок по графику прослеживается постоянный перевес, то в сторону белого, то в сторону черного игрока.\n",
    "# При отсутствии ошибок по графику прослеживается только несколько критических моментов в игре."
   ]
  },
  {
   "cell_type": "code",
   "execution_count": null,
   "metadata": {},
   "outputs": [],
   "source": []
  }
 ],
 "metadata": {
  "kernelspec": {
   "display_name": "Python 3",
   "language": "python",
   "name": "python3"
  },
  "language_info": {
   "codemirror_mode": {
    "name": "ipython",
    "version": 3
   },
   "file_extension": ".py",
   "mimetype": "text/x-python",
   "name": "python",
   "nbconvert_exporter": "python",
   "pygments_lexer": "ipython3",
   "version": "3.7.3"
  }
 },
 "nbformat": 4,
 "nbformat_minor": 4
}
