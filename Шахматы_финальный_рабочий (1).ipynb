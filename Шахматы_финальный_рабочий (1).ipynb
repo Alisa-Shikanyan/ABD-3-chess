{
 "cells": [
  {
   "cell_type": "code",
   "execution_count": 322,
   "metadata": {},
   "outputs": [],
   "source": [
    "import pandas as pd\n",
    "import matplotlib.pyplot as plt\n",
    "import seaborn as sns\n",
    "import ast"
   ]
  },
  {
   "cell_type": "code",
   "execution_count": 323,
   "metadata": {},
   "outputs": [],
   "source": [
    "paht_to_file = \"/mnt/HC_Volume_18315164/home-jupyter/jupyter-natalija-fedorova--fa3d5/ВШЭ_2_семестр/final_games.csv\""
   ]
  },
  {
   "cell_type": "code",
   "execution_count": 324,
   "metadata": {},
   "outputs": [],
   "source": [
    "df = pd.read_csv(paht_to_file)"
   ]
  },
  {
   "cell_type": "code",
   "execution_count": 325,
   "metadata": {},
   "outputs": [
    {
     "data": {
      "text/plain": [
       "(140792, 32)"
      ]
     },
     "execution_count": 325,
     "metadata": {},
     "output_type": "execute_result"
    }
   ],
   "source": [
    "df.shape"
   ]
  },
  {
   "cell_type": "code",
   "execution_count": 326,
   "metadata": {},
   "outputs": [
    {
     "data": {
      "text/html": [
       "<div>\n",
       "<style scoped>\n",
       "    .dataframe tbody tr th:only-of-type {\n",
       "        vertical-align: middle;\n",
       "    }\n",
       "\n",
       "    .dataframe tbody tr th {\n",
       "        vertical-align: top;\n",
       "    }\n",
       "\n",
       "    .dataframe thead th {\n",
       "        text-align: right;\n",
       "    }\n",
       "</style>\n",
       "<table border=\"1\" class=\"dataframe\">\n",
       "  <thead>\n",
       "    <tr style=\"text-align: right;\">\n",
       "      <th></th>\n",
       "      <th>Game_ID</th>\n",
       "      <th>Rated</th>\n",
       "      <th>Variant</th>\n",
       "      <th>Speed</th>\n",
       "      <th>Created_At</th>\n",
       "      <th>Last_Move_At</th>\n",
       "      <th>Game_Status</th>\n",
       "      <th>Source</th>\n",
       "      <th>Winner</th>\n",
       "      <th>Opening_Name</th>\n",
       "      <th>...</th>\n",
       "      <th>Black_Inaccuracy</th>\n",
       "      <th>Black_Mistake</th>\n",
       "      <th>Black_Blunder</th>\n",
       "      <th>Black_ACPL</th>\n",
       "      <th>Clocks</th>\n",
       "      <th>Analysis</th>\n",
       "      <th>Total_Time_Init</th>\n",
       "      <th>Total_Time_Increment</th>\n",
       "      <th>Total_Time</th>\n",
       "      <th>Moves</th>\n",
       "    </tr>\n",
       "  </thead>\n",
       "  <tbody>\n",
       "    <tr>\n",
       "      <th>0</th>\n",
       "      <td>PsevV6VH</td>\n",
       "      <td>True</td>\n",
       "      <td>standard</td>\n",
       "      <td>classical</td>\n",
       "      <td>2024-12-15T11:09:25.224000+00:00</td>\n",
       "      <td>2024-12-15T11:55:14.775000+00:00</td>\n",
       "      <td>resign</td>\n",
       "      <td>pool</td>\n",
       "      <td>white</td>\n",
       "      <td>English Opening: Symmetrical Variation</td>\n",
       "      <td>...</td>\n",
       "      <td>5</td>\n",
       "      <td>1</td>\n",
       "      <td>1</td>\n",
       "      <td>47</td>\n",
       "      <td>[180003, 180003, 178499, 178019, 178339, 17757...</td>\n",
       "      <td>[{'eval': 14}, {'eval': 25}, {'eval': 26}, {'e...</td>\n",
       "      <td>1800</td>\n",
       "      <td>0</td>\n",
       "      <td>1800</td>\n",
       "      <td>Nf3 c5 c4 Nc6 Nc3 g6 e3 Bg7 d4 cxd4 exd4 d6 h3...</td>\n",
       "    </tr>\n",
       "    <tr>\n",
       "      <th>1</th>\n",
       "      <td>diLZa8sj</td>\n",
       "      <td>True</td>\n",
       "      <td>standard</td>\n",
       "      <td>classical</td>\n",
       "      <td>2024-10-28T13:54:16.605000+00:00</td>\n",
       "      <td>2024-10-28T14:32:21.403000+00:00</td>\n",
       "      <td>resign</td>\n",
       "      <td>pool</td>\n",
       "      <td>white</td>\n",
       "      <td>French Defense: Winawer Variation, Advance Var...</td>\n",
       "      <td>...</td>\n",
       "      <td>4</td>\n",
       "      <td>0</td>\n",
       "      <td>1</td>\n",
       "      <td>31</td>\n",
       "      <td>[180003, 180003, 179827, 179683, 178619, 17936...</td>\n",
       "      <td>[{'eval': 18}, {'eval': 28}, {'eval': 28}, {'e...</td>\n",
       "      <td>1800</td>\n",
       "      <td>0</td>\n",
       "      <td>1800</td>\n",
       "      <td>e4 e6 d4 d5 Nc3 Bb4 e5 Ne7 a3 Bxc3+ bxc3 b6 Bb...</td>\n",
       "    </tr>\n",
       "  </tbody>\n",
       "</table>\n",
       "<p>2 rows × 32 columns</p>\n",
       "</div>"
      ],
      "text/plain": [
       "    Game_ID  Rated   Variant      Speed                        Created_At  \\\n",
       "0  PsevV6VH   True  standard  classical  2024-12-15T11:09:25.224000+00:00   \n",
       "1  diLZa8sj   True  standard  classical  2024-10-28T13:54:16.605000+00:00   \n",
       "\n",
       "                       Last_Move_At Game_Status Source Winner  \\\n",
       "0  2024-12-15T11:55:14.775000+00:00      resign   pool  white   \n",
       "1  2024-10-28T14:32:21.403000+00:00      resign   pool  white   \n",
       "\n",
       "                                        Opening_Name  ... Black_Inaccuracy  \\\n",
       "0             English Opening: Symmetrical Variation  ...                5   \n",
       "1  French Defense: Winawer Variation, Advance Var...  ...                4   \n",
       "\n",
       "   Black_Mistake Black_Blunder Black_ACPL  \\\n",
       "0              1             1         47   \n",
       "1              0             1         31   \n",
       "\n",
       "                                              Clocks  \\\n",
       "0  [180003, 180003, 178499, 178019, 178339, 17757...   \n",
       "1  [180003, 180003, 179827, 179683, 178619, 17936...   \n",
       "\n",
       "                                            Analysis  Total_Time_Init  \\\n",
       "0  [{'eval': 14}, {'eval': 25}, {'eval': 26}, {'e...             1800   \n",
       "1  [{'eval': 18}, {'eval': 28}, {'eval': 28}, {'e...             1800   \n",
       "\n",
       "   Total_Time_Increment  Total_Time  \\\n",
       "0                     0        1800   \n",
       "1                     0        1800   \n",
       "\n",
       "                                               Moves  \n",
       "0  Nf3 c5 c4 Nc6 Nc3 g6 e3 Bg7 d4 cxd4 exd4 d6 h3...  \n",
       "1  e4 e6 d4 d5 Nc3 Bb4 e5 Ne7 a3 Bxc3+ bxc3 b6 Bb...  \n",
       "\n",
       "[2 rows x 32 columns]"
      ]
     },
     "execution_count": 326,
     "metadata": {},
     "output_type": "execute_result"
    }
   ],
   "source": [
    "df.head(2)"
   ]
  },
  {
   "cell_type": "code",
   "execution_count": 327,
   "metadata": {},
   "outputs": [
    {
     "data": {
      "text/plain": [
       "(140792, 32)"
      ]
     },
     "execution_count": 327,
     "metadata": {},
     "output_type": "execute_result"
    }
   ],
   "source": [
    "df.shape"
   ]
  },
  {
   "cell_type": "code",
   "execution_count": 328,
   "metadata": {},
   "outputs": [],
   "source": [
    "# Выберем 8 столбцов для анализа + дополнительно столбец Winner(необходим для анализа столбца 'Analysis') \n",
    "\n",
    "df_1 = df[['Game_ID','Variant', 'Speed', 'White_Mistake', 'Black_Mistake', 'White_Blunder', 'Black_Blunder', 'Analysis', 'Opening_ECO', 'Winner']]"
   ]
  },
  {
   "cell_type": "code",
   "execution_count": 329,
   "metadata": {},
   "outputs": [
    {
     "data": {
      "text/html": [
       "<div>\n",
       "<style scoped>\n",
       "    .dataframe tbody tr th:only-of-type {\n",
       "        vertical-align: middle;\n",
       "    }\n",
       "\n",
       "    .dataframe tbody tr th {\n",
       "        vertical-align: top;\n",
       "    }\n",
       "\n",
       "    .dataframe thead th {\n",
       "        text-align: right;\n",
       "    }\n",
       "</style>\n",
       "<table border=\"1\" class=\"dataframe\">\n",
       "  <thead>\n",
       "    <tr style=\"text-align: right;\">\n",
       "      <th></th>\n",
       "      <th>Game_ID</th>\n",
       "      <th>Variant</th>\n",
       "      <th>Speed</th>\n",
       "      <th>White_Mistake</th>\n",
       "      <th>Black_Mistake</th>\n",
       "      <th>White_Blunder</th>\n",
       "      <th>Black_Blunder</th>\n",
       "      <th>Analysis</th>\n",
       "      <th>Opening_ECO</th>\n",
       "      <th>Winner</th>\n",
       "    </tr>\n",
       "  </thead>\n",
       "  <tbody>\n",
       "    <tr>\n",
       "      <th>0</th>\n",
       "      <td>PsevV6VH</td>\n",
       "      <td>standard</td>\n",
       "      <td>classical</td>\n",
       "      <td>1</td>\n",
       "      <td>1</td>\n",
       "      <td>1</td>\n",
       "      <td>1</td>\n",
       "      <td>[{'eval': 14}, {'eval': 25}, {'eval': 26}, {'e...</td>\n",
       "      <td>A30</td>\n",
       "      <td>white</td>\n",
       "    </tr>\n",
       "    <tr>\n",
       "      <th>1</th>\n",
       "      <td>diLZa8sj</td>\n",
       "      <td>standard</td>\n",
       "      <td>classical</td>\n",
       "      <td>0</td>\n",
       "      <td>0</td>\n",
       "      <td>0</td>\n",
       "      <td>1</td>\n",
       "      <td>[{'eval': 18}, {'eval': 28}, {'eval': 28}, {'e...</td>\n",
       "      <td>C16</td>\n",
       "      <td>white</td>\n",
       "    </tr>\n",
       "    <tr>\n",
       "      <th>2</th>\n",
       "      <td>O8TSZ7bq</td>\n",
       "      <td>standard</td>\n",
       "      <td>classical</td>\n",
       "      <td>1</td>\n",
       "      <td>1</td>\n",
       "      <td>4</td>\n",
       "      <td>5</td>\n",
       "      <td>[{'eval': 17}, {'eval': 17}, {'eval': 11}, {'e...</td>\n",
       "      <td>A48</td>\n",
       "      <td>black</td>\n",
       "    </tr>\n",
       "    <tr>\n",
       "      <th>3</th>\n",
       "      <td>vtMjWIUv</td>\n",
       "      <td>standard</td>\n",
       "      <td>classical</td>\n",
       "      <td>0</td>\n",
       "      <td>1</td>\n",
       "      <td>1</td>\n",
       "      <td>2</td>\n",
       "      <td>[{'eval': 16}, {'eval': 17}, {'eval': 15}, {'e...</td>\n",
       "      <td>E94</td>\n",
       "      <td>white</td>\n",
       "    </tr>\n",
       "    <tr>\n",
       "      <th>4</th>\n",
       "      <td>GC8I3jiq</td>\n",
       "      <td>standard</td>\n",
       "      <td>classical</td>\n",
       "      <td>2</td>\n",
       "      <td>1</td>\n",
       "      <td>2</td>\n",
       "      <td>2</td>\n",
       "      <td>[{'eval': 17}, {'eval': 18}, {'eval': 23}, {'e...</td>\n",
       "      <td>A15</td>\n",
       "      <td>NaN</td>\n",
       "    </tr>\n",
       "    <tr>\n",
       "      <th>...</th>\n",
       "      <td>...</td>\n",
       "      <td>...</td>\n",
       "      <td>...</td>\n",
       "      <td>...</td>\n",
       "      <td>...</td>\n",
       "      <td>...</td>\n",
       "      <td>...</td>\n",
       "      <td>...</td>\n",
       "      <td>...</td>\n",
       "      <td>...</td>\n",
       "    </tr>\n",
       "    <tr>\n",
       "      <th>140787</th>\n",
       "      <td>nFPldl4M</td>\n",
       "      <td>standard</td>\n",
       "      <td>ultraBullet</td>\n",
       "      <td>4</td>\n",
       "      <td>2</td>\n",
       "      <td>4</td>\n",
       "      <td>4</td>\n",
       "      <td>[{'eval': 0}, {'eval': 40}, {'eval': 56}, {'ev...</td>\n",
       "      <td>B06</td>\n",
       "      <td>black</td>\n",
       "    </tr>\n",
       "    <tr>\n",
       "      <th>140788</th>\n",
       "      <td>qjnWre9p</td>\n",
       "      <td>standard</td>\n",
       "      <td>ultraBullet</td>\n",
       "      <td>3</td>\n",
       "      <td>1</td>\n",
       "      <td>5</td>\n",
       "      <td>6</td>\n",
       "      <td>[{'eval': -13}, {'eval': -24}, {'eval': 0}, {'...</td>\n",
       "      <td>C00</td>\n",
       "      <td>black</td>\n",
       "    </tr>\n",
       "    <tr>\n",
       "      <th>140789</th>\n",
       "      <td>urNcmiBj</td>\n",
       "      <td>standard</td>\n",
       "      <td>ultraBullet</td>\n",
       "      <td>0</td>\n",
       "      <td>1</td>\n",
       "      <td>4</td>\n",
       "      <td>5</td>\n",
       "      <td>[{'eval': 16}, {'eval': 13}, {'eval': -13}, {'...</td>\n",
       "      <td>A00</td>\n",
       "      <td>white</td>\n",
       "    </tr>\n",
       "    <tr>\n",
       "      <th>140790</th>\n",
       "      <td>sVXMAWZV</td>\n",
       "      <td>standard</td>\n",
       "      <td>ultraBullet</td>\n",
       "      <td>3</td>\n",
       "      <td>3</td>\n",
       "      <td>12</td>\n",
       "      <td>11</td>\n",
       "      <td>[{'eval': 9}, {'eval': 40}, {'eval': -5}, {'ev...</td>\n",
       "      <td>A00</td>\n",
       "      <td>black</td>\n",
       "    </tr>\n",
       "    <tr>\n",
       "      <th>140791</th>\n",
       "      <td>Q2mKx3Ra</td>\n",
       "      <td>standard</td>\n",
       "      <td>ultraBullet</td>\n",
       "      <td>0</td>\n",
       "      <td>0</td>\n",
       "      <td>1</td>\n",
       "      <td>1</td>\n",
       "      <td>[{'eval': 0}, {'eval': 52, 'best': 'c7c5', 'va...</td>\n",
       "      <td>B01</td>\n",
       "      <td>black</td>\n",
       "    </tr>\n",
       "  </tbody>\n",
       "</table>\n",
       "<p>140792 rows × 10 columns</p>\n",
       "</div>"
      ],
      "text/plain": [
       "         Game_ID   Variant        Speed  White_Mistake  Black_Mistake  \\\n",
       "0       PsevV6VH  standard    classical              1              1   \n",
       "1       diLZa8sj  standard    classical              0              0   \n",
       "2       O8TSZ7bq  standard    classical              1              1   \n",
       "3       vtMjWIUv  standard    classical              0              1   \n",
       "4       GC8I3jiq  standard    classical              2              1   \n",
       "...          ...       ...          ...            ...            ...   \n",
       "140787  nFPldl4M  standard  ultraBullet              4              2   \n",
       "140788  qjnWre9p  standard  ultraBullet              3              1   \n",
       "140789  urNcmiBj  standard  ultraBullet              0              1   \n",
       "140790  sVXMAWZV  standard  ultraBullet              3              3   \n",
       "140791  Q2mKx3Ra  standard  ultraBullet              0              0   \n",
       "\n",
       "        White_Blunder  Black_Blunder  \\\n",
       "0                   1              1   \n",
       "1                   0              1   \n",
       "2                   4              5   \n",
       "3                   1              2   \n",
       "4                   2              2   \n",
       "...               ...            ...   \n",
       "140787              4              4   \n",
       "140788              5              6   \n",
       "140789              4              5   \n",
       "140790             12             11   \n",
       "140791              1              1   \n",
       "\n",
       "                                                 Analysis Opening_ECO Winner  \n",
       "0       [{'eval': 14}, {'eval': 25}, {'eval': 26}, {'e...         A30  white  \n",
       "1       [{'eval': 18}, {'eval': 28}, {'eval': 28}, {'e...         C16  white  \n",
       "2       [{'eval': 17}, {'eval': 17}, {'eval': 11}, {'e...         A48  black  \n",
       "3       [{'eval': 16}, {'eval': 17}, {'eval': 15}, {'e...         E94  white  \n",
       "4       [{'eval': 17}, {'eval': 18}, {'eval': 23}, {'e...         A15    NaN  \n",
       "...                                                   ...         ...    ...  \n",
       "140787  [{'eval': 0}, {'eval': 40}, {'eval': 56}, {'ev...         B06  black  \n",
       "140788  [{'eval': -13}, {'eval': -24}, {'eval': 0}, {'...         C00  black  \n",
       "140789  [{'eval': 16}, {'eval': 13}, {'eval': -13}, {'...         A00  white  \n",
       "140790  [{'eval': 9}, {'eval': 40}, {'eval': -5}, {'ev...         A00  black  \n",
       "140791  [{'eval': 0}, {'eval': 52, 'best': 'c7c5', 'va...         B01  black  \n",
       "\n",
       "[140792 rows x 10 columns]"
      ]
     },
     "execution_count": 329,
     "metadata": {},
     "output_type": "execute_result"
    }
   ],
   "source": [
    "df_1"
   ]
  },
  {
   "cell_type": "code",
   "execution_count": 330,
   "metadata": {},
   "outputs": [
    {
     "data": {
      "text/plain": [
       "(140792, 10)"
      ]
     },
     "execution_count": 330,
     "metadata": {},
     "output_type": "execute_result"
    }
   ],
   "source": [
    "df_1.shape"
   ]
  },
  {
   "cell_type": "code",
   "execution_count": 331,
   "metadata": {},
   "outputs": [
    {
     "data": {
      "text/plain": [
       "Game_ID              0\n",
       "Variant              0\n",
       "Speed                0\n",
       "White_Mistake        0\n",
       "Black_Mistake        0\n",
       "White_Blunder        0\n",
       "Black_Blunder        0\n",
       "Analysis             0\n",
       "Opening_ECO       1270\n",
       "Winner           13689\n",
       "dtype: int64"
      ]
     },
     "execution_count": 331,
     "metadata": {},
     "output_type": "execute_result"
    }
   ],
   "source": [
    "# 1. Обработка пропусков и аномалий\n",
    "df_1.isna().sum()"
   ]
  },
  {
   "cell_type": "code",
   "execution_count": 332,
   "metadata": {},
   "outputs": [],
   "source": [
    "# У нас 1270 пропусков в столбце Opening_ECO из 140792 записей, это составляет примерно 0.88% от общего объема данных. \n",
    "# все эти пропуски относятся к строкам с варианту шахмат fromPosition\n",
    "# то есть по всем строкам с вариантом шахмат fromPosition отсутствуют данныые по дебюту\n",
    "# следовательно эти пропуски мы удалить не можем, они нам важны, заменим их на запись \"неизвесно\""
   ]
  },
  {
   "cell_type": "code",
   "execution_count": 333,
   "metadata": {},
   "outputs": [
    {
     "name": "stderr",
     "output_type": "stream",
     "text": [
      "/opt/tljh/user/lib/python3.7/site-packages/pandas/core/frame.py:4322: SettingWithCopyWarning: \n",
      "A value is trying to be set on a copy of a slice from a DataFrame\n",
      "\n",
      "See the caveats in the documentation: https://pandas.pydata.org/pandas-docs/stable/user_guide/indexing.html#returning-a-view-versus-a-copy\n",
      "  downcast=downcast,\n"
     ]
    }
   ],
   "source": [
    "# Замена пропусков на 'неизвестно'\n",
    "df_1.fillna('неизвестно', inplace=True)"
   ]
  },
  {
   "cell_type": "code",
   "execution_count": null,
   "metadata": {},
   "outputs": [],
   "source": []
  },
  {
   "cell_type": "code",
   "execution_count": 334,
   "metadata": {},
   "outputs": [
    {
     "name": "stdout",
     "output_type": "stream",
     "text": [
      "<class 'pandas.core.frame.DataFrame'>\n",
      "RangeIndex: 140792 entries, 0 to 140791\n",
      "Data columns (total 10 columns):\n",
      " #   Column         Non-Null Count   Dtype \n",
      "---  ------         --------------   ----- \n",
      " 0   Game_ID        140792 non-null  object\n",
      " 1   Variant        140792 non-null  object\n",
      " 2   Speed          140792 non-null  object\n",
      " 3   White_Mistake  140792 non-null  int64 \n",
      " 4   Black_Mistake  140792 non-null  int64 \n",
      " 5   White_Blunder  140792 non-null  int64 \n",
      " 6   Black_Blunder  140792 non-null  int64 \n",
      " 7   Analysis       140792 non-null  object\n",
      " 8   Opening_ECO    140792 non-null  object\n",
      " 9   Winner         140792 non-null  object\n",
      "dtypes: int64(4), object(6)\n",
      "memory usage: 10.7+ MB\n"
     ]
    }
   ],
   "source": [
    "# 2. Проверим типы данных.\n",
    "df_1.info()"
   ]
  },
  {
   "cell_type": "code",
   "execution_count": 335,
   "metadata": {},
   "outputs": [],
   "source": [
    "# 3. Анализ категориальных переменных"
   ]
  },
  {
   "cell_type": "code",
   "execution_count": 336,
   "metadata": {},
   "outputs": [],
   "source": [
    "# 3.1 Варианты шахмат (Variant)"
   ]
  },
  {
   "cell_type": "code",
   "execution_count": 337,
   "metadata": {},
   "outputs": [],
   "source": [
    "# Группировка по 'Variant' и подсчет количества\n",
    "variant_counts = df_1['Variant'].value_counts()\n",
    "\n",
    "# Расчет процентов\n",
    "total_variants = variant_counts.sum()\n",
    "variant_percentages = (variant_counts / total_variants) * 100\n",
    "variant_percentages = round(variant_percentages, 0)\n",
    "\n",
    "# Создание DataFrame с количеством и процентами\n",
    "top_variants = pd.DataFrame({\n",
    "    'Count': variant_counts,\n",
    "    'Percentage': variant_percentages\n",
    "})"
   ]
  },
  {
   "cell_type": "code",
   "execution_count": 338,
   "metadata": {},
   "outputs": [
    {
     "data": {
      "text/html": [
       "<div>\n",
       "<style scoped>\n",
       "    .dataframe tbody tr th:only-of-type {\n",
       "        vertical-align: middle;\n",
       "    }\n",
       "\n",
       "    .dataframe tbody tr th {\n",
       "        vertical-align: top;\n",
       "    }\n",
       "\n",
       "    .dataframe thead th {\n",
       "        text-align: right;\n",
       "    }\n",
       "</style>\n",
       "<table border=\"1\" class=\"dataframe\">\n",
       "  <thead>\n",
       "    <tr style=\"text-align: right;\">\n",
       "      <th></th>\n",
       "      <th>Count</th>\n",
       "      <th>Percentage</th>\n",
       "    </tr>\n",
       "  </thead>\n",
       "  <tbody>\n",
       "    <tr>\n",
       "      <th>standard</th>\n",
       "      <td>139522</td>\n",
       "      <td>99.0</td>\n",
       "    </tr>\n",
       "    <tr>\n",
       "      <th>fromPosition</th>\n",
       "      <td>1270</td>\n",
       "      <td>1.0</td>\n",
       "    </tr>\n",
       "  </tbody>\n",
       "</table>\n",
       "</div>"
      ],
      "text/plain": [
       "               Count  Percentage\n",
       "standard      139522        99.0\n",
       "fromPosition    1270         1.0"
      ]
     },
     "execution_count": 338,
     "metadata": {},
     "output_type": "execute_result"
    }
   ],
   "source": [
    "top_variants"
   ]
  },
  {
   "cell_type": "code",
   "execution_count": 339,
   "metadata": {},
   "outputs": [],
   "source": [
    "# standard - это означает, что все фигуры находятся на своих стандартных местах, и игроки начинают партию с заранее установленной\n",
    "#            позиции.\n",
    "\n",
    "\n",
    "# fromPosition - этот вариант подразумевает, что партия начинается не с начальной позиции, а с заранее заданной позиции, \n",
    "#                которая может быть получена в результате предыдущих ходов или задана для анализа."
   ]
  },
  {
   "cell_type": "code",
   "execution_count": 340,
   "metadata": {},
   "outputs": [
    {
     "data": {
      "image/png": "[encoded data removed]",
      "text/plain": [
       "<Figure size 720x432 with 1 Axes>"
      ]
     },
     "metadata": {
      "needs_background": "light"
     },
     "output_type": "display_data"
    }
   ],
   "source": [
    "plt.figure(figsize=(10, 6))\n",
    "sns.countplot(data=df_1, x='Variant', order=df_1['Variant'].value_counts().index)\n",
    "plt.title('Распределение вариантов игры')\n",
    "plt.xticks(rotation=45)\n",
    "plt.show()"
   ]
  },
  {
   "cell_type": "code",
   "execution_count": 341,
   "metadata": {},
   "outputs": [],
   "source": [
    "# 3.2. Контроль времени партии(Speed)."
   ]
  },
  {
   "cell_type": "code",
   "execution_count": 342,
   "metadata": {},
   "outputs": [],
   "source": [
    "# Группировка по 'Speed' и подсчет количества\n",
    "speed_counts = df_1['Speed'].value_counts()\n",
    "\n",
    "# Расчет процентов\n",
    "total_speeds = speed_counts.sum()\n",
    "speed_percentages = (speed_counts / total_speeds) * 100\n",
    "speed_percentages = round(speed_percentages, 0)\n",
    "\n",
    "# Создание DataFrame с количеством и процентами\n",
    "top_speeds = pd.DataFrame({\n",
    "    'Count': speed_counts,\n",
    "    'Percentage': speed_percentages\n",
    "})"
   ]
  },
  {
   "cell_type": "code",
   "execution_count": 343,
   "metadata": {},
   "outputs": [
    {
     "data": {
      "text/html": [
       "<div>\n",
       "<style scoped>\n",
       "    .dataframe tbody tr th:only-of-type {\n",
       "        vertical-align: middle;\n",
       "    }\n",
       "\n",
       "    .dataframe tbody tr th {\n",
       "        vertical-align: top;\n",
       "    }\n",
       "\n",
       "    .dataframe thead th {\n",
       "        text-align: right;\n",
       "    }\n",
       "</style>\n",
       "<table border=\"1\" class=\"dataframe\">\n",
       "  <thead>\n",
       "    <tr style=\"text-align: right;\">\n",
       "      <th></th>\n",
       "      <th>Count</th>\n",
       "      <th>Percentage</th>\n",
       "    </tr>\n",
       "  </thead>\n",
       "  <tbody>\n",
       "    <tr>\n",
       "      <th>blitz</th>\n",
       "      <td>37873</td>\n",
       "      <td>27.0</td>\n",
       "    </tr>\n",
       "    <tr>\n",
       "      <th>rapid</th>\n",
       "      <td>33303</td>\n",
       "      <td>24.0</td>\n",
       "    </tr>\n",
       "    <tr>\n",
       "      <th>bullet</th>\n",
       "      <td>31291</td>\n",
       "      <td>22.0</td>\n",
       "    </tr>\n",
       "    <tr>\n",
       "      <th>classical</th>\n",
       "      <td>29591</td>\n",
       "      <td>21.0</td>\n",
       "    </tr>\n",
       "    <tr>\n",
       "      <th>ultraBullet</th>\n",
       "      <td>8734</td>\n",
       "      <td>6.0</td>\n",
       "    </tr>\n",
       "  </tbody>\n",
       "</table>\n",
       "</div>"
      ],
      "text/plain": [
       "             Count  Percentage\n",
       "blitz        37873        27.0\n",
       "rapid        33303        24.0\n",
       "bullet       31291        22.0\n",
       "classical    29591        21.0\n",
       "ultraBullet   8734         6.0"
      ]
     },
     "execution_count": 343,
     "metadata": {},
     "output_type": "execute_result"
    }
   ],
   "source": [
    "top_speeds"
   ]
  },
  {
   "cell_type": "code",
   "execution_count": 344,
   "metadata": {},
   "outputs": [],
   "source": [
    "# blitz - от 3-х до 10 минут.\n",
    "# rapid - от 10 до 60 минут.\n",
    "# bullet - менее 3-х минут.\n",
    "# classical - от 60 минут до нескольких часов.\n",
    "# ultraBullet - менее 1-ой минуты."
   ]
  },
  {
   "cell_type": "code",
   "execution_count": 345,
   "metadata": {},
   "outputs": [
    {
     "data": {
      "image/png": "[encoded data removed]",
      "text/plain": [
       "<Figure size 720x432 with 1 Axes>"
      ]
     },
     "metadata": {
      "needs_background": "light"
     },
     "output_type": "display_data"
    }
   ],
   "source": [
    "plt.figure(figsize=(10, 6))\n",
    "sns.countplot(data=df_1, x='Speed', order=df_1['Speed'].value_counts().index)\n",
    "plt.title('Распределение контроля времени')\n",
    "plt.xticks(rotation=45)\n",
    "plt.show()"
   ]
  },
  {
   "cell_type": "code",
   "execution_count": 346,
   "metadata": {},
   "outputs": [],
   "source": [
    "# 3.3. Код дебюта по системе ECO (Opening_ECO)"
   ]
  },
  {
   "cell_type": "code",
   "execution_count": 347,
   "metadata": {},
   "outputs": [],
   "source": [
    "# Определяем количество уникальных дебютов\n",
    "unique_openings_count = df_1['Opening_ECO'].nunique()"
   ]
  },
  {
   "cell_type": "code",
   "execution_count": 348,
   "metadata": {},
   "outputs": [
    {
     "data": {
      "text/plain": [
       "489"
      ]
     },
     "execution_count": 348,
     "metadata": {},
     "output_type": "execute_result"
    }
   ],
   "source": [
    "unique_openings_count"
   ]
  },
  {
   "cell_type": "code",
   "execution_count": 349,
   "metadata": {},
   "outputs": [],
   "source": [
    "# Найдем самые популярные дебюты и их процент в общей доле.\n",
    "\n",
    "# Подсчет количества дебютов\n",
    "opening_counts = df_1['Opening_ECO'].value_counts()\n",
    "\n",
    "# Расчет процентов\n",
    "total_openings = opening_counts.sum()\n",
    "opening_percentages = (opening_counts / total_openings) * 100\n",
    "opening_percentages = round(opening_percentages, 0)\n",
    "\n",
    "# Создание DataFrame с количеством и процентами\n",
    "top_openings = pd.DataFrame({\n",
    "    'Count': opening_counts,\n",
    "    'Percentage': opening_percentages\n",
    "})"
   ]
  },
  {
   "cell_type": "code",
   "execution_count": 350,
   "metadata": {},
   "outputs": [
    {
     "data": {
      "text/html": [
       "<div>\n",
       "<style scoped>\n",
       "    .dataframe tbody tr th:only-of-type {\n",
       "        vertical-align: middle;\n",
       "    }\n",
       "\n",
       "    .dataframe tbody tr th {\n",
       "        vertical-align: top;\n",
       "    }\n",
       "\n",
       "    .dataframe thead th {\n",
       "        text-align: right;\n",
       "    }\n",
       "</style>\n",
       "<table border=\"1\" class=\"dataframe\">\n",
       "  <thead>\n",
       "    <tr style=\"text-align: right;\">\n",
       "      <th></th>\n",
       "      <th>Count</th>\n",
       "      <th>Percentage</th>\n",
       "    </tr>\n",
       "  </thead>\n",
       "  <tbody>\n",
       "    <tr>\n",
       "      <th>A00</th>\n",
       "      <td>6555</td>\n",
       "      <td>5.0</td>\n",
       "    </tr>\n",
       "    <tr>\n",
       "      <th>A04</th>\n",
       "      <td>4244</td>\n",
       "      <td>3.0</td>\n",
       "    </tr>\n",
       "    <tr>\n",
       "      <th>A45</th>\n",
       "      <td>3713</td>\n",
       "      <td>3.0</td>\n",
       "    </tr>\n",
       "    <tr>\n",
       "      <th>A40</th>\n",
       "      <td>3268</td>\n",
       "      <td>2.0</td>\n",
       "    </tr>\n",
       "    <tr>\n",
       "      <th>A05</th>\n",
       "      <td>3193</td>\n",
       "      <td>2.0</td>\n",
       "    </tr>\n",
       "    <tr>\n",
       "      <th>...</th>\n",
       "      <td>...</td>\n",
       "      <td>...</td>\n",
       "    </tr>\n",
       "    <tr>\n",
       "      <th>E96</th>\n",
       "      <td>1</td>\n",
       "      <td>0.0</td>\n",
       "    </tr>\n",
       "    <tr>\n",
       "      <th>E89</th>\n",
       "      <td>1</td>\n",
       "      <td>0.0</td>\n",
       "    </tr>\n",
       "    <tr>\n",
       "      <th>D67</th>\n",
       "      <td>1</td>\n",
       "      <td>0.0</td>\n",
       "    </tr>\n",
       "    <tr>\n",
       "      <th>A76</th>\n",
       "      <td>1</td>\n",
       "      <td>0.0</td>\n",
       "    </tr>\n",
       "    <tr>\n",
       "      <th>E55</th>\n",
       "      <td>1</td>\n",
       "      <td>0.0</td>\n",
       "    </tr>\n",
       "  </tbody>\n",
       "</table>\n",
       "<p>489 rows × 2 columns</p>\n",
       "</div>"
      ],
      "text/plain": [
       "     Count  Percentage\n",
       "A00   6555         5.0\n",
       "A04   4244         3.0\n",
       "A45   3713         3.0\n",
       "A40   3268         2.0\n",
       "A05   3193         2.0\n",
       "..     ...         ...\n",
       "E96      1         0.0\n",
       "E89      1         0.0\n",
       "D67      1         0.0\n",
       "A76      1         0.0\n",
       "E55      1         0.0\n",
       "\n",
       "[489 rows x 2 columns]"
      ]
     },
     "execution_count": 350,
     "metadata": {},
     "output_type": "execute_result"
    }
   ],
   "source": [
    "top_openings"
   ]
  },
  {
   "cell_type": "code",
   "execution_count": 351,
   "metadata": {},
   "outputs": [],
   "source": [
    "# Наиболее часто встречающиеся дебюты:\n",
    "\n",
    "# A00 (5 %)  - \"неопределенные дебюты\". \n",
    "\n",
    "# A04 (3%) - дебют известный как \"Скандинавская защита\", начинается с хода пешки на королевском фланге\n",
    "# и стремится быстро развивать фигуры, чтобы контролировать центр. \n",
    "# Этот дебют обычно выбирают игроки, которые хотят атаковать и не боятся рискованных позиций.\n",
    "\n",
    "# A45 (3%) - дебют, который называется \"Защита Оуэна\", начинается с хода пешкой на королевском фланге, \n",
    "# но сосредоточен на более медленном и стратегическом раскрытии фигур. \n",
    "# Игроки, использующие этот дебют, часто стремятся к созданию сложной позиции и могут играть на противостоянии сопернику, \n",
    "# ожидая, когда тот сделает ошибку."
   ]
  },
  {
   "cell_type": "code",
   "execution_count": null,
   "metadata": {},
   "outputs": [],
   "source": []
  },
  {
   "cell_type": "code",
   "execution_count": 352,
   "metadata": {},
   "outputs": [],
   "source": [
    "# 4. Анализ числовых переменных. "
   ]
  },
  {
   "cell_type": "code",
   "execution_count": 353,
   "metadata": {},
   "outputs": [
    {
     "data": {
      "text/html": [
       "<div>\n",
       "<style scoped>\n",
       "    .dataframe tbody tr th:only-of-type {\n",
       "        vertical-align: middle;\n",
       "    }\n",
       "\n",
       "    .dataframe tbody tr th {\n",
       "        vertical-align: top;\n",
       "    }\n",
       "\n",
       "    .dataframe thead th {\n",
       "        text-align: right;\n",
       "    }\n",
       "</style>\n",
       "<table border=\"1\" class=\"dataframe\">\n",
       "  <thead>\n",
       "    <tr style=\"text-align: right;\">\n",
       "      <th></th>\n",
       "      <th>White_Mistake</th>\n",
       "      <th>Black_Mistake</th>\n",
       "      <th>White_Blunder</th>\n",
       "      <th>Black_Blunder</th>\n",
       "    </tr>\n",
       "  </thead>\n",
       "  <tbody>\n",
       "    <tr>\n",
       "      <th>count</th>\n",
       "      <td>140792.000000</td>\n",
       "      <td>140792.000000</td>\n",
       "      <td>140792.000000</td>\n",
       "      <td>140792.000000</td>\n",
       "    </tr>\n",
       "    <tr>\n",
       "      <th>mean</th>\n",
       "      <td>1.177503</td>\n",
       "      <td>1.192397</td>\n",
       "      <td>1.697050</td>\n",
       "      <td>1.693271</td>\n",
       "    </tr>\n",
       "    <tr>\n",
       "      <th>std</th>\n",
       "      <td>1.307709</td>\n",
       "      <td>1.301948</td>\n",
       "      <td>1.929795</td>\n",
       "      <td>1.903644</td>\n",
       "    </tr>\n",
       "    <tr>\n",
       "      <th>min</th>\n",
       "      <td>0.000000</td>\n",
       "      <td>0.000000</td>\n",
       "      <td>0.000000</td>\n",
       "      <td>0.000000</td>\n",
       "    </tr>\n",
       "    <tr>\n",
       "      <th>25%</th>\n",
       "      <td>0.000000</td>\n",
       "      <td>0.000000</td>\n",
       "      <td>0.000000</td>\n",
       "      <td>0.000000</td>\n",
       "    </tr>\n",
       "    <tr>\n",
       "      <th>50%</th>\n",
       "      <td>1.000000</td>\n",
       "      <td>1.000000</td>\n",
       "      <td>1.000000</td>\n",
       "      <td>1.000000</td>\n",
       "    </tr>\n",
       "    <tr>\n",
       "      <th>75%</th>\n",
       "      <td>2.000000</td>\n",
       "      <td>2.000000</td>\n",
       "      <td>2.000000</td>\n",
       "      <td>2.000000</td>\n",
       "    </tr>\n",
       "    <tr>\n",
       "      <th>max</th>\n",
       "      <td>23.000000</td>\n",
       "      <td>21.000000</td>\n",
       "      <td>53.000000</td>\n",
       "      <td>53.000000</td>\n",
       "    </tr>\n",
       "  </tbody>\n",
       "</table>\n",
       "</div>"
      ],
      "text/plain": [
       "       White_Mistake  Black_Mistake  White_Blunder  Black_Blunder\n",
       "count  140792.000000  140792.000000  140792.000000  140792.000000\n",
       "mean        1.177503       1.192397       1.697050       1.693271\n",
       "std         1.307709       1.301948       1.929795       1.903644\n",
       "min         0.000000       0.000000       0.000000       0.000000\n",
       "25%         0.000000       0.000000       0.000000       0.000000\n",
       "50%         1.000000       1.000000       1.000000       1.000000\n",
       "75%         2.000000       2.000000       2.000000       2.000000\n",
       "max        23.000000      21.000000      53.000000      53.000000"
      ]
     },
     "execution_count": 353,
     "metadata": {},
     "output_type": "execute_result"
    }
   ],
   "source": [
    "# 4.1. Выведем описательную статистику.\n",
    "df_1[['White_Mistake', 'Black_Mistake', 'White_Blunder', 'Black_Blunder']].describe()"
   ]
  },
  {
   "cell_type": "code",
   "execution_count": 354,
   "metadata": {},
   "outputs": [],
   "source": [
    "# Вывод: Максимальное значение значительно превышает 75-й процентиль (Q3), это может указывать на наличие выбросов."
   ]
  },
  {
   "cell_type": "code",
   "execution_count": 355,
   "metadata": {},
   "outputs": [],
   "source": [
    "# 4.2. Находим выбросы"
   ]
  },
  {
   "cell_type": "code",
   "execution_count": 356,
   "metadata": {},
   "outputs": [
    {
     "name": "stdout",
     "output_type": "stream",
     "text": [
      "Количество выбросов в столбце 'White_Mistake': 1214\n"
     ]
    }
   ],
   "source": [
    "# Находим выбросы по столбцу 'White_Mistake'\n",
    "# Вычисление Q1 и Q3\n",
    "Q1_1 = df_1['White_Mistake'].quantile(0.25)\n",
    "Q3_1 = df_1['White_Mistake'].quantile(0.75)\n",
    "\n",
    "# Вычисление IQR\n",
    "IQR_1 = Q3_1 - Q1_1\n",
    "\n",
    "# 3. Определение границ для выбросов\n",
    "lower_bound_1 = Q1_1 - 1.5 * IQR_1\n",
    "upper_bound_1 = Q3_1 + 1.5 * IQR_1\n",
    "\n",
    "# 4. Подсчет количества выбросов\n",
    "outliers_1 = df_1[(df_1['White_Mistake'] < lower_bound_1) | (df_1['White_Mistake'] > upper_bound_1)]\n",
    "number_of_outliers_1 = outliers_1.shape[0]\n",
    "\n",
    "# Печать результата\n",
    "print(f\"Количество выбросов в столбце 'White_Mistake': {number_of_outliers_1}\")"
   ]
  },
  {
   "cell_type": "code",
   "execution_count": 357,
   "metadata": {},
   "outputs": [
    {
     "name": "stdout",
     "output_type": "stream",
     "text": [
      "Количество выбросов в столбце 'Black_Mistake': 1166\n"
     ]
    }
   ],
   "source": [
    "# Находим выбросы по столбцу 'Black_Mistake'\n",
    "# Вычисление Q1 и Q3\n",
    "Q1_2 = df_1['Black_Mistake'].quantile(0.25)\n",
    "Q3_2 = df_1['Black_Mistake'].quantile(0.75)\n",
    "\n",
    "# Вычисление IQR\n",
    "IQR_2 = Q3_2 - Q1_2\n",
    "\n",
    "# 3. Определение границ для выбросов\n",
    "lower_bound_2 = Q1_2 - 1.5 * IQR_2\n",
    "upper_bound_2 = Q3_2 + 1.5 * IQR_2\n",
    "\n",
    "# 4. Подсчет количества выбросов\n",
    "outliers_2 = df_1[(df_1['Black_Mistake'] < lower_bound_2) | (df_1['Black_Mistake'] > upper_bound_2)]\n",
    "number_of_outliers_2 = outliers_2.shape[0]\n",
    "\n",
    "# Печать результата\n",
    "print(f\"Количество выбросов в столбце 'Black_Mistake': {number_of_outliers_2}\")"
   ]
  },
  {
   "cell_type": "code",
   "execution_count": 358,
   "metadata": {},
   "outputs": [
    {
     "name": "stdout",
     "output_type": "stream",
     "text": [
      "Количество выбросов в столбце 'White_Blunder': 6787\n"
     ]
    }
   ],
   "source": [
    "# Находим выбросы по столбцу 'White_Blunder'\n",
    "# Вычисление Q1 и Q3\n",
    "Q1_3 = df_1['White_Blunder'].quantile(0.25)\n",
    "Q3_3 = df_1['White_Blunder'].quantile(0.75)\n",
    "\n",
    "# Вычисление IQR\n",
    "IQR_3 = Q3_3 - Q1_3\n",
    "\n",
    "# 3. Определение границ для выбросов\n",
    "lower_bound_3 = Q1_3 - 1.5 * IQR_3\n",
    "upper_bound_3 = Q3_3 + 1.5 * IQR_3\n",
    "\n",
    "# 4. Подсчет количества выбросов\n",
    "outliers_3 = df_1[(df_1['White_Blunder'] < lower_bound_3) | (df_1['White_Blunder'] > upper_bound_3)]\n",
    "number_of_outliers_3 = outliers_3.shape[0]\n",
    "\n",
    "# Печать результата\n",
    "print(f\"Количество выбросов в столбце 'White_Blunder': {number_of_outliers_3}\")"
   ]
  },
  {
   "cell_type": "code",
   "execution_count": 359,
   "metadata": {},
   "outputs": [
    {
     "name": "stdout",
     "output_type": "stream",
     "text": [
      "Количество выбросов в столбце 'Black_Blunder': 6519\n"
     ]
    }
   ],
   "source": [
    "# Находим выбросы по столбцу 'Black_Blunder'\n",
    "# Вычисление Q1 и Q3\n",
    "Q1_4 = df_1['Black_Blunder'].quantile(0.25)\n",
    "Q3_4 = df_1['Black_Blunder'].quantile(0.75)\n",
    "\n",
    "# Вычисление IQR\n",
    "IQR_4 = Q3_4 - Q1_4\n",
    "\n",
    "# 3. Определение границ для выбросов\n",
    "lower_bound_4 = Q1_4 - 1.5 * IQR_4\n",
    "upper_bound_4 = Q3_4 + 1.5 * IQR_4\n",
    "\n",
    "# 4. Подсчет количества выбросов\n",
    "outliers_4 = df_1[(df_1['Black_Blunder'] < lower_bound_4) | (df_1['Black_Blunder'] > upper_bound_4)]\n",
    "number_of_outliers_4 = outliers_4.shape[0]\n",
    "\n",
    "# Печать результата\n",
    "print(f\"Количество выбросов в столбце 'Black_Blunder': {number_of_outliers_4}\")"
   ]
  },
  {
   "cell_type": "code",
   "execution_count": 360,
   "metadata": {},
   "outputs": [],
   "source": [
    "# Удалим выбросы из основного датафрейма."
   ]
  },
  {
   "cell_type": "code",
   "execution_count": 361,
   "metadata": {},
   "outputs": [],
   "source": [
    "# Объединяем все выбросы в один DataFrame\n",
    "all_outliers = pd.concat([outliers_1, outliers_2, outliers_3, outliers_4]).drop_duplicates()"
   ]
  },
  {
   "cell_type": "code",
   "execution_count": 363,
   "metadata": {},
   "outputs": [
    {
     "data": {
      "text/plain": [
       "(9970, 10)"
      ]
     },
     "execution_count": 363,
     "metadata": {},
     "output_type": "execute_result"
    }
   ],
   "source": [
    "all_outliers.shape"
   ]
  },
  {
   "cell_type": "code",
   "execution_count": 365,
   "metadata": {},
   "outputs": [],
   "source": [
    "# Удаляем выбросы из основного DataFrame\n",
    "df_1 = df_1[~df_1.index.isin(all_outliers.index)]"
   ]
  },
  {
   "cell_type": "code",
   "execution_count": 366,
   "metadata": {},
   "outputs": [
    {
     "data": {
      "text/plain": [
       "(130822, 10)"
      ]
     },
     "execution_count": 366,
     "metadata": {},
     "output_type": "execute_result"
    }
   ],
   "source": [
    "df_1.shape"
   ]
  },
  {
   "cell_type": "code",
   "execution_count": 374,
   "metadata": {},
   "outputs": [
    {
     "data": {
      "text/html": [
       "<div>\n",
       "<style scoped>\n",
       "    .dataframe tbody tr th:only-of-type {\n",
       "        vertical-align: middle;\n",
       "    }\n",
       "\n",
       "    .dataframe tbody tr th {\n",
       "        vertical-align: top;\n",
       "    }\n",
       "\n",
       "    .dataframe thead th {\n",
       "        text-align: right;\n",
       "    }\n",
       "</style>\n",
       "<table border=\"1\" class=\"dataframe\">\n",
       "  <thead>\n",
       "    <tr style=\"text-align: right;\">\n",
       "      <th></th>\n",
       "      <th>White_Mistake</th>\n",
       "      <th>Black_Mistake</th>\n",
       "      <th>White_Blunder</th>\n",
       "      <th>Black_Blunder</th>\n",
       "    </tr>\n",
       "  </thead>\n",
       "  <tbody>\n",
       "    <tr>\n",
       "      <th>count</th>\n",
       "      <td>130822.000000</td>\n",
       "      <td>130822.000000</td>\n",
       "      <td>130822.000000</td>\n",
       "      <td>130822.000000</td>\n",
       "    </tr>\n",
       "    <tr>\n",
       "      <th>mean</th>\n",
       "      <td>1.068452</td>\n",
       "      <td>1.084076</td>\n",
       "      <td>1.363043</td>\n",
       "      <td>1.367247</td>\n",
       "    </tr>\n",
       "    <tr>\n",
       "      <th>std</th>\n",
       "      <td>1.171845</td>\n",
       "      <td>1.167761</td>\n",
       "      <td>1.364111</td>\n",
       "      <td>1.351603</td>\n",
       "    </tr>\n",
       "    <tr>\n",
       "      <th>min</th>\n",
       "      <td>0.000000</td>\n",
       "      <td>0.000000</td>\n",
       "      <td>0.000000</td>\n",
       "      <td>0.000000</td>\n",
       "    </tr>\n",
       "    <tr>\n",
       "      <th>25%</th>\n",
       "      <td>0.000000</td>\n",
       "      <td>0.000000</td>\n",
       "      <td>0.000000</td>\n",
       "      <td>0.000000</td>\n",
       "    </tr>\n",
       "    <tr>\n",
       "      <th>50%</th>\n",
       "      <td>1.000000</td>\n",
       "      <td>1.000000</td>\n",
       "      <td>1.000000</td>\n",
       "      <td>1.000000</td>\n",
       "    </tr>\n",
       "    <tr>\n",
       "      <th>75%</th>\n",
       "      <td>2.000000</td>\n",
       "      <td>2.000000</td>\n",
       "      <td>2.000000</td>\n",
       "      <td>2.000000</td>\n",
       "    </tr>\n",
       "    <tr>\n",
       "      <th>max</th>\n",
       "      <td>10.000000</td>\n",
       "      <td>9.000000</td>\n",
       "      <td>23.000000</td>\n",
       "      <td>23.000000</td>\n",
       "    </tr>\n",
       "  </tbody>\n",
       "</table>\n",
       "</div>"
      ],
      "text/plain": [
       "       White_Mistake  Black_Mistake  White_Blunder  Black_Blunder\n",
       "count  130822.000000  130822.000000  130822.000000  130822.000000\n",
       "mean        1.068452       1.084076       1.363043       1.367247\n",
       "std         1.171845       1.167761       1.364111       1.351603\n",
       "min         0.000000       0.000000       0.000000       0.000000\n",
       "25%         0.000000       0.000000       0.000000       0.000000\n",
       "50%         1.000000       1.000000       1.000000       1.000000\n",
       "75%         2.000000       2.000000       2.000000       2.000000\n",
       "max        10.000000       9.000000      23.000000      23.000000"
      ]
     },
     "execution_count": 374,
     "metadata": {},
     "output_type": "execute_result"
    }
   ],
   "source": [
    "# 4.3. Выведем описательную статистику после удаления выбросов.\n",
    "df_1[['White_Mistake', 'Black_Mistake', 'White_Blunder', 'Black_Blunder']].describe()"
   ]
  },
  {
   "cell_type": "code",
   "execution_count": 375,
   "metadata": {},
   "outputs": [
    {
     "data": {
      "image/png": "[encoded data removed]",
      "text/plain": [
       "<Figure size 432x288 with 2 Axes>"
      ]
     },
     "metadata": {
      "needs_background": "light"
     },
     "output_type": "display_data"
    }
   ],
   "source": [
    "#  4.4. Рассмотрим корреляцию между числовыми переменными.\n",
    "correlation_matrix = df_1[['White_Mistake', 'Black_Mistake', 'White_Blunder', 'Black_Blunder']].corr()\n",
    "sns.heatmap(correlation_matrix, annot=True, cmap='coolwarm')\n",
    "plt.title('Correlation Matrix')\n",
    "plt.show()"
   ]
  },
  {
   "cell_type": "code",
   "execution_count": null,
   "metadata": {},
   "outputs": [],
   "source": []
  },
  {
   "cell_type": "code",
   "execution_count": 376,
   "metadata": {},
   "outputs": [],
   "source": [
    "# 4.3. Распределение ошибок белого игрока\n",
    "white_mistake_count = df_1['White_Mistake'].value_counts()"
   ]
  },
  {
   "cell_type": "code",
   "execution_count": 377,
   "metadata": {},
   "outputs": [
    {
     "data": {
      "text/plain": [
       "0     53148\n",
       "1     39066\n",
       "2     22380\n",
       "3     10575\n",
       "4      4125\n",
       "5      1471\n",
       "6        37\n",
       "7        14\n",
       "8         4\n",
       "10        1\n",
       "9         1\n",
       "Name: White_Mistake, dtype: int64"
      ]
     },
     "execution_count": 377,
     "metadata": {},
     "output_type": "execute_result"
    }
   ],
   "source": [
    "white_mistake_count"
   ]
  },
  {
   "cell_type": "code",
   "execution_count": 378,
   "metadata": {},
   "outputs": [],
   "source": [
    "# 4.4. Распределение ошибок черного игрока\n",
    "black_mistake_count = df_1['Black_Mistake'].value_counts()"
   ]
  },
  {
   "cell_type": "code",
   "execution_count": 379,
   "metadata": {},
   "outputs": [
    {
     "data": {
      "text/plain": [
       "0    51513\n",
       "1    40306\n",
       "2    22828\n",
       "3    10487\n",
       "4     4148\n",
       "5     1471\n",
       "6       45\n",
       "7       14\n",
       "8        7\n",
       "9        3\n",
       "Name: Black_Mistake, dtype: int64"
      ]
     },
     "execution_count": 379,
     "metadata": {},
     "output_type": "execute_result"
    }
   ],
   "source": [
    "black_mistake_count"
   ]
  },
  {
   "cell_type": "code",
   "execution_count": 380,
   "metadata": {},
   "outputs": [],
   "source": [
    "# 4.5. Распределение грубых ошибок белого игрока\n",
    "white_blunder_count = df_1['White_Blunder'].value_counts()"
   ]
  },
  {
   "cell_type": "code",
   "execution_count": 381,
   "metadata": {},
   "outputs": [
    {
     "data": {
      "text/plain": [
       "0     43328\n",
       "1     37782\n",
       "2     24461\n",
       "3     14032\n",
       "4      7301\n",
       "5      3595\n",
       "6       141\n",
       "7        86\n",
       "8        38\n",
       "9        33\n",
       "11        9\n",
       "10        9\n",
       "12        3\n",
       "13        2\n",
       "23        1\n",
       "14        1\n",
       "Name: White_Blunder, dtype: int64"
      ]
     },
     "execution_count": 381,
     "metadata": {},
     "output_type": "execute_result"
    }
   ],
   "source": [
    "white_blunder_count"
   ]
  },
  {
   "cell_type": "code",
   "execution_count": 382,
   "metadata": {},
   "outputs": [],
   "source": [
    "# 4.6. Распределение грубых ошибок черного игрока\n",
    "black_blunder_count = df_1['Black_Blunder'].value_counts()"
   ]
  },
  {
   "cell_type": "code",
   "execution_count": 383,
   "metadata": {},
   "outputs": [
    {
     "data": {
      "text/plain": [
       "0     42176\n",
       "1     38789\n",
       "2     25024\n",
       "3     13840\n",
       "4      7170\n",
       "5      3513\n",
       "6       136\n",
       "7        72\n",
       "8        46\n",
       "9        24\n",
       "10       17\n",
       "12        6\n",
       "11        6\n",
       "23        1\n",
       "15        1\n",
       "14        1\n",
       "Name: Black_Blunder, dtype: int64"
      ]
     },
     "execution_count": 383,
     "metadata": {},
     "output_type": "execute_result"
    }
   ],
   "source": [
    "black_blunder_count"
   ]
  },
  {
   "cell_type": "code",
   "execution_count": 384,
   "metadata": {},
   "outputs": [
    {
     "data": {
      "image/png": "[encoded data removed]",
      "text/plain": [
       "<Figure size 720x432 with 1 Axes>"
      ]
     },
     "metadata": {
      "needs_background": "light"
     },
     "output_type": "display_data"
    }
   ],
   "source": [
    "# 4.6. Коробчатая диаграмма для сравнения ошибок\n",
    "plt.figure(figsize=(10, 6))\n",
    "sns.boxplot(data=df_1[['White_Mistake', 'Black_Mistake']])\n",
    "plt.title('Сравнение ошибок белого и черного игрока')\n",
    "plt.ylabel('Количество ошибок')\n",
    "plt.xticks([0, 1], ['Белый игрок', 'Черный игрок'])\n",
    "plt.show()"
   ]
  },
  {
   "cell_type": "code",
   "execution_count": 385,
   "metadata": {},
   "outputs": [
    {
     "data": {
      "image/png": "[encoded data removed]",
      "text/plain": [
       "<Figure size 720x720 with 1 Axes>"
      ]
     },
     "metadata": {
      "needs_background": "light"
     },
     "output_type": "display_data"
    }
   ],
   "source": [
    "# 4.7. Коробчатая диаграмма для сравнения грубых ошибок\n",
    "plt.figure(figsize=(10, 10))\n",
    "sns.boxplot(data=df_1[['White_Blunder', 'Black_Blunder']])\n",
    "plt.title('Сравнение грубых ошибок белого и черного игрока')\n",
    "plt.ylabel('Количество ошибок')\n",
    "plt.xticks([0, 1], ['Белый игрок', 'Черный игрок'])\n",
    "plt.show()"
   ]
  },
  {
   "cell_type": "code",
   "execution_count": 387,
   "metadata": {},
   "outputs": [],
   "source": [
    "# 5. Узнаем количество партий, сыгранных без ошибок для белых и черных игроков"
   ]
  },
  {
   "cell_type": "code",
   "execution_count": 388,
   "metadata": {},
   "outputs": [],
   "source": [
    "# количество партий без ошибок для белых игроков.\n",
    "no_errors_white = df_1.query(\"White_Mistake == 0 and White_Blunder == 0\")"
   ]
  },
  {
   "cell_type": "code",
   "execution_count": 389,
   "metadata": {},
   "outputs": [],
   "source": [
    "count_no_errors_white = no_errors_white.shape[0]"
   ]
  },
  {
   "cell_type": "code",
   "execution_count": 390,
   "metadata": {},
   "outputs": [],
   "source": [
    "# количество партий без ошибок для черных игроков.\n",
    "no_errors_black = df_1.query(\"Black_Mistake == 0 and Black_Blunder == 0\")"
   ]
  },
  {
   "cell_type": "code",
   "execution_count": 391,
   "metadata": {},
   "outputs": [],
   "source": [
    "count_no_errors_black = no_errors_black.shape[0]"
   ]
  },
  {
   "cell_type": "code",
   "execution_count": 392,
   "metadata": {},
   "outputs": [
    {
     "name": "stdout",
     "output_type": "stream",
     "text": [
      "Количество партий без ошибок у белых: 24443\n",
      "Количество партий без ошибок у черных: 22232\n"
     ]
    }
   ],
   "source": [
    "print(f\"Количество партий без ошибок у белых: {count_no_errors_white}\")\n",
    "print(f\"Количество партий без ошибок у черных: {count_no_errors_black}\")"
   ]
  },
  {
   "cell_type": "code",
   "execution_count": 393,
   "metadata": {},
   "outputs": [],
   "source": [
    "# Узнаем процент партий без ошибок у белых и черных в общем объеме"
   ]
  },
  {
   "cell_type": "code",
   "execution_count": 394,
   "metadata": {},
   "outputs": [],
   "source": [
    "total_games = df_1.shape[0]"
   ]
  },
  {
   "cell_type": "code",
   "execution_count": 395,
   "metadata": {},
   "outputs": [
    {
     "data": {
      "text/plain": [
       "130822"
      ]
     },
     "execution_count": 395,
     "metadata": {},
     "output_type": "execute_result"
    }
   ],
   "source": [
    "total_games"
   ]
  },
  {
   "cell_type": "code",
   "execution_count": 396,
   "metadata": {},
   "outputs": [],
   "source": [
    "# Вычисление процента безошибочных партий у белых\n",
    "percentage_no_errors_white = (count_no_errors_white / total_games) * 100"
   ]
  },
  {
   "cell_type": "code",
   "execution_count": 397,
   "metadata": {},
   "outputs": [],
   "source": [
    "# Вычисление процента безошибочных партий у черных\n",
    "percentage_no_errors_black = (count_no_errors_black / total_games) * 100"
   ]
  },
  {
   "cell_type": "code",
   "execution_count": 398,
   "metadata": {},
   "outputs": [
    {
     "name": "stdout",
     "output_type": "stream",
     "text": [
      "Процент партий без ошибок у белых: 18.68%\n",
      "Процент партий без ошибок у черных: 16.99%\n"
     ]
    }
   ],
   "source": [
    "print(f\"Процент партий без ошибок у белых: {percentage_no_errors_white:.2f}%\")\n",
    "print(f\"Процент партий без ошибок у черных: {percentage_no_errors_black:.2f}%\")"
   ]
  },
  {
   "cell_type": "code",
   "execution_count": null,
   "metadata": {},
   "outputs": [],
   "source": []
  },
  {
   "cell_type": "code",
   "execution_count": 399,
   "metadata": {},
   "outputs": [],
   "source": [
    "# 6. Узнаем были ли такие партиии, где ни белые, ни черные не совершили ни одной ошибки."
   ]
  },
  {
   "cell_type": "code",
   "execution_count": 400,
   "metadata": {},
   "outputs": [],
   "source": [
    "no_errors_white_and_black = df_1.query(\"White_Mistake == 0 and White_Blunder == 0 and Black_Mistake == 0 and Black_Blunder == 0\")"
   ]
  },
  {
   "cell_type": "code",
   "execution_count": 401,
   "metadata": {},
   "outputs": [],
   "source": [
    "count_no_errors_white_and_black = no_errors_white_and_black.shape[0]"
   ]
  },
  {
   "cell_type": "code",
   "execution_count": 402,
   "metadata": {},
   "outputs": [
    {
     "name": "stdout",
     "output_type": "stream",
     "text": [
      "Количество партий, где ни белые, ни черные не совершили ни одной ошибки.: 5174\n"
     ]
    }
   ],
   "source": [
    "print(f\"Количество партий, где ни белые, ни черные не совершили ни одной ошибки.: {count_no_errors_white_and_black}\")"
   ]
  },
  {
   "cell_type": "code",
   "execution_count": 403,
   "metadata": {},
   "outputs": [],
   "source": [
    "# Вычисление процента безошибочных партий у белых и черных одновременно\n",
    "percentage_no_errors_white_and_black = (count_no_errors_white_and_black / total_games) * 100"
   ]
  },
  {
   "cell_type": "code",
   "execution_count": 404,
   "metadata": {},
   "outputs": [
    {
     "name": "stdout",
     "output_type": "stream",
     "text": [
      "Процент партий, где ни белые, ни черные не совершили ни одной ошибки: 3.95%\n"
     ]
    }
   ],
   "source": [
    "print(f\"Процент партий, где ни белые, ни черные не совершили ни одной ошибки: {percentage_no_errors_white_and_black:.2f}%\")"
   ]
  },
  {
   "cell_type": "code",
   "execution_count": null,
   "metadata": {},
   "outputs": [],
   "source": []
  },
  {
   "cell_type": "code",
   "execution_count": 405,
   "metadata": {},
   "outputs": [],
   "source": [
    "# 7. Исследуем медиану общего количества ошибок."
   ]
  },
  {
   "cell_type": "code",
   "execution_count": 406,
   "metadata": {},
   "outputs": [],
   "source": [
    "# Сложим все ошибки для одной партии\n",
    "df_1['Total_Mistakes'] = df_1['White_Mistake'] + df_1['Black_Mistake'] + df_1['White_Blunder'] + df_1['Black_Blunder']"
   ]
  },
  {
   "cell_type": "code",
   "execution_count": 407,
   "metadata": {},
   "outputs": [],
   "source": [
    "# 7.1. Вычислим медиану общего количества ошибок для каждого варианта шахмат (Variant)\n",
    "median_errors_for_Variant = df_1.groupby('Variant')['Total_Mistakes'].median().reset_index(name='Median_Mistakes')"
   ]
  },
  {
   "cell_type": "code",
   "execution_count": 408,
   "metadata": {},
   "outputs": [
    {
     "data": {
      "text/html": [
       "<div>\n",
       "<style scoped>\n",
       "    .dataframe tbody tr th:only-of-type {\n",
       "        vertical-align: middle;\n",
       "    }\n",
       "\n",
       "    .dataframe tbody tr th {\n",
       "        vertical-align: top;\n",
       "    }\n",
       "\n",
       "    .dataframe thead th {\n",
       "        text-align: right;\n",
       "    }\n",
       "</style>\n",
       "<table border=\"1\" class=\"dataframe\">\n",
       "  <thead>\n",
       "    <tr style=\"text-align: right;\">\n",
       "      <th></th>\n",
       "      <th>Variant</th>\n",
       "      <th>Median_Mistakes</th>\n",
       "    </tr>\n",
       "  </thead>\n",
       "  <tbody>\n",
       "    <tr>\n",
       "      <th>0</th>\n",
       "      <td>fromPosition</td>\n",
       "      <td>2</td>\n",
       "    </tr>\n",
       "    <tr>\n",
       "      <th>1</th>\n",
       "      <td>standard</td>\n",
       "      <td>4</td>\n",
       "    </tr>\n",
       "  </tbody>\n",
       "</table>\n",
       "</div>"
      ],
      "text/plain": [
       "        Variant  Median_Mistakes\n",
       "0  fromPosition                2\n",
       "1      standard                4"
      ]
     },
     "execution_count": 408,
     "metadata": {},
     "output_type": "execute_result"
    }
   ],
   "source": [
    "median_errors_for_Variant"
   ]
  },
  {
   "cell_type": "code",
   "execution_count": 451,
   "metadata": {},
   "outputs": [
    {
     "data": {
      "image/png": "[encoded data removed]",
      "text/plain": [
       "<Figure size 720x432 with 1 Axes>"
      ]
     },
     "metadata": {
      "needs_background": "light"
     },
     "output_type": "display_data"
    }
   ],
   "source": [
    "# 2. Построение линейного графика\n",
    "plt.figure(figsize=(10, 6))\n",
    "sns.lineplot(data=median_errors_for_Variant, x='Variant', y='Median_Mistakes', marker='o')\n",
    "\n",
    "# Настройка графика\n",
    "plt.title('Медиана общего количества ошибок по вариантам шахмат')\n",
    "plt.xlabel('Варианты шахмат (Variant)')\n",
    "plt.ylabel('Медиана ошибок (Median Mistakes)')\n",
    "plt.xticks(rotation=45)\n",
    "plt.grid()\n",
    "\n",
    "# Показать график\n",
    "plt.tight_layout()\n",
    "plt.show()"
   ]
  },
  {
   "cell_type": "code",
   "execution_count": 409,
   "metadata": {},
   "outputs": [],
   "source": [
    "# Выводы:\n",
    "\n",
    "# Медиана ошибок для партий fromPosition (2,5) меньше, чем для партий standard (4,5). Это может указывать на то, \n",
    "# что игроки, начиная с заранее заданной позиции, более уверенно принимают решения и делают меньше ошибок, чем игроки \n",
    "# в стандартных партиях (они уже имеют представление о позиции и возможных ходах, \n",
    "# что позволяет им принимать более обоснованные решения.)\n",
    "\n",
    "# Игроки же, которые начинают с традиционной позиции, сталкиваются с большим количеством неопределенностей и сложностей, \n",
    "# что приводит к большему количеству ошибок."
   ]
  },
  {
   "cell_type": "code",
   "execution_count": 410,
   "metadata": {},
   "outputs": [],
   "source": [
    "# 7.2. Вычислим медиану общего количества ошибок для каждого контроля времени партии (Speed)\n",
    "median_errors_for_Speed = df_1.groupby('Speed')['Total_Mistakes'].median().reset_index(name='Median_Mistakes')"
   ]
  },
  {
   "cell_type": "code",
   "execution_count": 411,
   "metadata": {},
   "outputs": [
    {
     "data": {
      "text/html": [
       "<div>\n",
       "<style scoped>\n",
       "    .dataframe tbody tr th:only-of-type {\n",
       "        vertical-align: middle;\n",
       "    }\n",
       "\n",
       "    .dataframe tbody tr th {\n",
       "        vertical-align: top;\n",
       "    }\n",
       "\n",
       "    .dataframe thead th {\n",
       "        text-align: right;\n",
       "    }\n",
       "</style>\n",
       "<table border=\"1\" class=\"dataframe\">\n",
       "  <thead>\n",
       "    <tr style=\"text-align: right;\">\n",
       "      <th></th>\n",
       "      <th>Speed</th>\n",
       "      <th>Median_Mistakes</th>\n",
       "    </tr>\n",
       "  </thead>\n",
       "  <tbody>\n",
       "    <tr>\n",
       "      <th>0</th>\n",
       "      <td>blitz</td>\n",
       "      <td>4</td>\n",
       "    </tr>\n",
       "    <tr>\n",
       "      <th>1</th>\n",
       "      <td>bullet</td>\n",
       "      <td>5</td>\n",
       "    </tr>\n",
       "    <tr>\n",
       "      <th>2</th>\n",
       "      <td>classical</td>\n",
       "      <td>3</td>\n",
       "    </tr>\n",
       "    <tr>\n",
       "      <th>3</th>\n",
       "      <td>rapid</td>\n",
       "      <td>4</td>\n",
       "    </tr>\n",
       "    <tr>\n",
       "      <th>4</th>\n",
       "      <td>ultraBullet</td>\n",
       "      <td>7</td>\n",
       "    </tr>\n",
       "  </tbody>\n",
       "</table>\n",
       "</div>"
      ],
      "text/plain": [
       "         Speed  Median_Mistakes\n",
       "0        blitz                4\n",
       "1       bullet                5\n",
       "2    classical                3\n",
       "3        rapid                4\n",
       "4  ultraBullet                7"
      ]
     },
     "execution_count": 411,
     "metadata": {},
     "output_type": "execute_result"
    }
   ],
   "source": [
    "median_errors_for_Speed"
   ]
  },
  {
   "cell_type": "code",
   "execution_count": 450,
   "metadata": {},
   "outputs": [
    {
     "data": {
      "image/png": "[encoded data removed]",
      "text/plain": [
       "<Figure size 720x432 with 1 Axes>"
      ]
     },
     "metadata": {
      "needs_background": "light"
     },
     "output_type": "display_data"
    }
   ],
   "source": [
    "plt.figure(figsize=(10, 6))\n",
    "sns.lineplot(data=median_errors_for_Speed, x='Speed', y='Median_Mistakes', marker='o')\n",
    "\n",
    "# Настройка графика\n",
    "plt.title('Медиана общего количества ошибок по контролю времени партии')\n",
    "plt.xlabel('Контроль времени партии (Speed)')\n",
    "plt.ylabel('Медиана ошибок (Median Mistakes)')\n",
    "plt.xticks(rotation=45)\n",
    "plt.grid()\n",
    "\n",
    "# Показать график\n",
    "plt.tight_layout()\n",
    "plt.show()"
   ]
  },
  {
   "cell_type": "code",
   "execution_count": 412,
   "metadata": {},
   "outputs": [],
   "source": [
    "# Выводы:\n",
    "\n",
    "# Чем меньше времени у игроков, тем больше вероятность ошибок. \n",
    "# Это видно из того, что в UltraBullet медиана ошибок значительно выше, чем в других форматах. \n",
    "# Игроки в этом формате, вероятно, делают много поспешных ходов, что приводит к большему количеству ошибок.\n",
    "\n",
    "# Форматы с более длительным контролем времени (Blitz, Classical, Rapid) показывают схожие результаты, что может указывать на то,\n",
    "#что игроки имеют достаточно времени для обдумывания ходов и, следовательно, делают меньше ошибок."
   ]
  },
  {
   "cell_type": "code",
   "execution_count": null,
   "metadata": {},
   "outputs": [],
   "source": []
  },
  {
   "cell_type": "code",
   "execution_count": 413,
   "metadata": {},
   "outputs": [],
   "source": [
    "# 7.3. Вычислим медиану общего количества ошибок для 30 самых популярных дебютов."
   ]
  },
  {
   "cell_type": "code",
   "execution_count": 414,
   "metadata": {},
   "outputs": [],
   "source": [
    "# Группируем данные по дебютам и считаем количество партий\n",
    "top_openings = df_1['Opening_ECO'].value_counts().head(30).index.tolist()"
   ]
  },
  {
   "cell_type": "code",
   "execution_count": 415,
   "metadata": {},
   "outputs": [],
   "source": [
    "# Фильтруем DataFrame по топ-30 дебютам\n",
    "filtered_df = df_1[df_1['Opening_ECO'].isin(top_openings)]"
   ]
  },
  {
   "cell_type": "code",
   "execution_count": 416,
   "metadata": {},
   "outputs": [
    {
     "data": {
      "text/plain": [
       "(60745, 11)"
      ]
     },
     "execution_count": 416,
     "metadata": {},
     "output_type": "execute_result"
    }
   ],
   "source": [
    "filtered_df.shape"
   ]
  },
  {
   "cell_type": "code",
   "execution_count": 417,
   "metadata": {},
   "outputs": [
    {
     "data": {
      "text/html": [
       "<div>\n",
       "<style scoped>\n",
       "    .dataframe tbody tr th:only-of-type {\n",
       "        vertical-align: middle;\n",
       "    }\n",
       "\n",
       "    .dataframe tbody tr th {\n",
       "        vertical-align: top;\n",
       "    }\n",
       "\n",
       "    .dataframe thead th {\n",
       "        text-align: right;\n",
       "    }\n",
       "</style>\n",
       "<table border=\"1\" class=\"dataframe\">\n",
       "  <thead>\n",
       "    <tr style=\"text-align: right;\">\n",
       "      <th></th>\n",
       "      <th>Game_ID</th>\n",
       "      <th>Variant</th>\n",
       "      <th>Speed</th>\n",
       "      <th>White_Mistake</th>\n",
       "      <th>Black_Mistake</th>\n",
       "      <th>White_Blunder</th>\n",
       "      <th>Black_Blunder</th>\n",
       "      <th>Analysis</th>\n",
       "      <th>Opening_ECO</th>\n",
       "      <th>Winner</th>\n",
       "      <th>Total_Mistakes</th>\n",
       "    </tr>\n",
       "  </thead>\n",
       "  <tbody>\n",
       "    <tr>\n",
       "      <th>4</th>\n",
       "      <td>GC8I3jiq</td>\n",
       "      <td>standard</td>\n",
       "      <td>classical</td>\n",
       "      <td>2</td>\n",
       "      <td>1</td>\n",
       "      <td>2</td>\n",
       "      <td>2</td>\n",
       "      <td>[{'eval': 17}, {'eval': 18}, {'eval': 23}, {'e...</td>\n",
       "      <td>A15</td>\n",
       "      <td>неизвестно</td>\n",
       "      <td>7</td>\n",
       "    </tr>\n",
       "  </tbody>\n",
       "</table>\n",
       "</div>"
      ],
      "text/plain": [
       "    Game_ID   Variant      Speed  White_Mistake  Black_Mistake  White_Blunder  \\\n",
       "4  GC8I3jiq  standard  classical              2              1              2   \n",
       "\n",
       "   Black_Blunder                                           Analysis  \\\n",
       "4              2  [{'eval': 17}, {'eval': 18}, {'eval': 23}, {'e...   \n",
       "\n",
       "  Opening_ECO      Winner  Total_Mistakes  \n",
       "4         A15  неизвестно               7  "
      ]
     },
     "execution_count": 417,
     "metadata": {},
     "output_type": "execute_result"
    }
   ],
   "source": [
    "filtered_df.head(1)"
   ]
  },
  {
   "cell_type": "code",
   "execution_count": 418,
   "metadata": {},
   "outputs": [],
   "source": [
    "median_errors_for_Opening_ECO = filtered_df.groupby('Opening_ECO')['Total_Mistakes'].median().reset_index(name='Median_Mistakes')"
   ]
  },
  {
   "cell_type": "code",
   "execution_count": 419,
   "metadata": {},
   "outputs": [
    {
     "data": {
      "text/html": [
       "<div>\n",
       "<style scoped>\n",
       "    .dataframe tbody tr th:only-of-type {\n",
       "        vertical-align: middle;\n",
       "    }\n",
       "\n",
       "    .dataframe tbody tr th {\n",
       "        vertical-align: top;\n",
       "    }\n",
       "\n",
       "    .dataframe thead th {\n",
       "        text-align: right;\n",
       "    }\n",
       "</style>\n",
       "<table border=\"1\" class=\"dataframe\">\n",
       "  <thead>\n",
       "    <tr style=\"text-align: right;\">\n",
       "      <th></th>\n",
       "      <th>Opening_ECO</th>\n",
       "      <th>Median_Mistakes</th>\n",
       "    </tr>\n",
       "  </thead>\n",
       "  <tbody>\n",
       "    <tr>\n",
       "      <th>0</th>\n",
       "      <td>A00</td>\n",
       "      <td>6</td>\n",
       "    </tr>\n",
       "    <tr>\n",
       "      <th>1</th>\n",
       "      <td>A01</td>\n",
       "      <td>5</td>\n",
       "    </tr>\n",
       "    <tr>\n",
       "      <th>2</th>\n",
       "      <td>A04</td>\n",
       "      <td>5</td>\n",
       "    </tr>\n",
       "    <tr>\n",
       "      <th>3</th>\n",
       "      <td>A05</td>\n",
       "      <td>5</td>\n",
       "    </tr>\n",
       "    <tr>\n",
       "      <th>4</th>\n",
       "      <td>A15</td>\n",
       "      <td>4</td>\n",
       "    </tr>\n",
       "    <tr>\n",
       "      <th>5</th>\n",
       "      <td>A40</td>\n",
       "      <td>5</td>\n",
       "    </tr>\n",
       "    <tr>\n",
       "      <th>6</th>\n",
       "      <td>A43</td>\n",
       "      <td>5</td>\n",
       "    </tr>\n",
       "    <tr>\n",
       "      <th>7</th>\n",
       "      <td>A45</td>\n",
       "      <td>4</td>\n",
       "    </tr>\n",
       "    <tr>\n",
       "      <th>8</th>\n",
       "      <td>A46</td>\n",
       "      <td>4</td>\n",
       "    </tr>\n",
       "    <tr>\n",
       "      <th>9</th>\n",
       "      <td>B00</td>\n",
       "      <td>5</td>\n",
       "    </tr>\n",
       "    <tr>\n",
       "      <th>10</th>\n",
       "      <td>B01</td>\n",
       "      <td>4</td>\n",
       "    </tr>\n",
       "    <tr>\n",
       "      <th>11</th>\n",
       "      <td>B06</td>\n",
       "      <td>5</td>\n",
       "    </tr>\n",
       "    <tr>\n",
       "      <th>12</th>\n",
       "      <td>B10</td>\n",
       "      <td>4</td>\n",
       "    </tr>\n",
       "    <tr>\n",
       "      <th>13</th>\n",
       "      <td>B12</td>\n",
       "      <td>4</td>\n",
       "    </tr>\n",
       "    <tr>\n",
       "      <th>14</th>\n",
       "      <td>B13</td>\n",
       "      <td>4</td>\n",
       "    </tr>\n",
       "    <tr>\n",
       "      <th>15</th>\n",
       "      <td>B20</td>\n",
       "      <td>4</td>\n",
       "    </tr>\n",
       "    <tr>\n",
       "      <th>16</th>\n",
       "      <td>B21</td>\n",
       "      <td>4</td>\n",
       "    </tr>\n",
       "    <tr>\n",
       "      <th>17</th>\n",
       "      <td>B22</td>\n",
       "      <td>4</td>\n",
       "    </tr>\n",
       "    <tr>\n",
       "      <th>18</th>\n",
       "      <td>B23</td>\n",
       "      <td>4</td>\n",
       "    </tr>\n",
       "    <tr>\n",
       "      <th>19</th>\n",
       "      <td>B30</td>\n",
       "      <td>4</td>\n",
       "    </tr>\n",
       "    <tr>\n",
       "      <th>20</th>\n",
       "      <td>B40</td>\n",
       "      <td>4</td>\n",
       "    </tr>\n",
       "    <tr>\n",
       "      <th>21</th>\n",
       "      <td>B50</td>\n",
       "      <td>4</td>\n",
       "    </tr>\n",
       "    <tr>\n",
       "      <th>22</th>\n",
       "      <td>B90</td>\n",
       "      <td>4</td>\n",
       "    </tr>\n",
       "    <tr>\n",
       "      <th>23</th>\n",
       "      <td>C00</td>\n",
       "      <td>4</td>\n",
       "    </tr>\n",
       "    <tr>\n",
       "      <th>24</th>\n",
       "      <td>C02</td>\n",
       "      <td>4</td>\n",
       "    </tr>\n",
       "    <tr>\n",
       "      <th>25</th>\n",
       "      <td>D00</td>\n",
       "      <td>4</td>\n",
       "    </tr>\n",
       "    <tr>\n",
       "      <th>26</th>\n",
       "      <td>D01</td>\n",
       "      <td>4</td>\n",
       "    </tr>\n",
       "    <tr>\n",
       "      <th>27</th>\n",
       "      <td>D02</td>\n",
       "      <td>4</td>\n",
       "    </tr>\n",
       "    <tr>\n",
       "      <th>28</th>\n",
       "      <td>D35</td>\n",
       "      <td>4</td>\n",
       "    </tr>\n",
       "    <tr>\n",
       "      <th>29</th>\n",
       "      <td>неизвестно</td>\n",
       "      <td>2</td>\n",
       "    </tr>\n",
       "  </tbody>\n",
       "</table>\n",
       "</div>"
      ],
      "text/plain": [
       "   Opening_ECO  Median_Mistakes\n",
       "0          A00                6\n",
       "1          A01                5\n",
       "2          A04                5\n",
       "3          A05                5\n",
       "4          A15                4\n",
       "5          A40                5\n",
       "6          A43                5\n",
       "7          A45                4\n",
       "8          A46                4\n",
       "9          B00                5\n",
       "10         B01                4\n",
       "11         B06                5\n",
       "12         B10                4\n",
       "13         B12                4\n",
       "14         B13                4\n",
       "15         B20                4\n",
       "16         B21                4\n",
       "17         B22                4\n",
       "18         B23                4\n",
       "19         B30                4\n",
       "20         B40                4\n",
       "21         B50                4\n",
       "22         B90                4\n",
       "23         C00                4\n",
       "24         C02                4\n",
       "25         D00                4\n",
       "26         D01                4\n",
       "27         D02                4\n",
       "28         D35                4\n",
       "29  неизвестно                2"
      ]
     },
     "execution_count": 419,
     "metadata": {},
     "output_type": "execute_result"
    }
   ],
   "source": [
    "median_errors_for_Opening_ECO"
   ]
  },
  {
   "cell_type": "code",
   "execution_count": 420,
   "metadata": {},
   "outputs": [],
   "source": [
    "# Самая большая медиана ошибок среди популярных дебютов в дебюте A00.\n",
    "# код A00 обозначает \"неопределенные дебюты\". \n",
    "# Это может включать в себя различные нестандартные или редкие ходы, которые не соответствуют более известным дебютам."
   ]
  },
  {
   "cell_type": "code",
   "execution_count": null,
   "metadata": {},
   "outputs": [],
   "source": []
  },
  {
   "cell_type": "code",
   "execution_count": 421,
   "metadata": {},
   "outputs": [],
   "source": [
    "# 8. Исследуем столбец Analysis.\n",
    "\n",
    "# в этом столбце хранятся данные по оценке позиций на шахмаьной доске, которую дает шахматный движок\n",
    "# число этих оценок зависит от хода игры.\n",
    "\n",
    "# Eval — это числовое значение, которое показывает, насколько хороша или плоха текущая позиция для одного из игроков. \n",
    "\n",
    "# Положительное значение: позиция выгодна для белых.\n",
    "# Отрицательное значение: позиция выгодна для черных.\n",
    "# Ноль: позиция сбалансирована, ни одна сторона не имеет явного преимущества."
   ]
  },
  {
   "cell_type": "code",
   "execution_count": 422,
   "metadata": {},
   "outputs": [],
   "source": [
    "# 8.1. Найдем среднее значение eval для каждой партии \n",
    "\n",
    "# это покажет как оценивалась позиция в партии на протяжении всех ходов.\n",
    "# была ли позиция преимущественно выгодной для одной из сторон (белых или черных) или же она была сбалансированной."
   ]
  },
  {
   "cell_type": "code",
   "execution_count": 423,
   "metadata": {},
   "outputs": [
    {
     "name": "stdout",
     "output_type": "stream",
     "text": [
      "<class 'str'>\n"
     ]
    }
   ],
   "source": [
    "# Проверка типа данных столбца eval\n",
    "print(type(df_1['Analysis'].iloc[0]))"
   ]
  },
  {
   "cell_type": "code",
   "execution_count": 424,
   "metadata": {},
   "outputs": [],
   "source": [
    "# Так как тип данных столбца Analysis строка, то необходимо преобразование строки в списки.\n",
    "df_1['Analysis'] = df_1['Analysis'].apply(ast.literal_eval)\n",
    "\n",
    "# Извлекаем значения eval из каждого словаря в списке с проверкой наличия ключа\n",
    "def extract_eval(x):\n",
    "    return [item['eval'] for item in x if 'eval' in item]\n",
    "\n",
    "df_1['eval'] = df_1['Analysis'].apply(extract_eval)\n",
    "\n",
    "# Найдем среднее значение eval для каждого элемента\n",
    "df_1['avg_eval'] = df_1['eval'].apply(lambda x: sum(x) / len(x) if x else None)"
   ]
  },
  {
   "cell_type": "code",
   "execution_count": 425,
   "metadata": {},
   "outputs": [
    {
     "name": "stdout",
     "output_type": "stream",
     "text": [
      "0         186.257576\n",
      "1         133.000000\n",
      "2         -45.324324\n",
      "3         110.714286\n",
      "4         -21.457143\n",
      "             ...    \n",
      "140785    426.886792\n",
      "140786   -342.734694\n",
      "140787   -649.375000\n",
      "140789    320.782609\n",
      "140791    694.813953\n",
      "Name: avg_eval, Length: 130822, dtype: float64\n"
     ]
    }
   ],
   "source": [
    "avg_eval_column = df_1['avg_eval']\n",
    "print(avg_eval_column)"
   ]
  },
  {
   "cell_type": "code",
   "execution_count": 426,
   "metadata": {},
   "outputs": [
    {
     "data": {
      "text/html": [
       "<div>\n",
       "<style scoped>\n",
       "    .dataframe tbody tr th:only-of-type {\n",
       "        vertical-align: middle;\n",
       "    }\n",
       "\n",
       "    .dataframe tbody tr th {\n",
       "        vertical-align: top;\n",
       "    }\n",
       "\n",
       "    .dataframe thead th {\n",
       "        text-align: right;\n",
       "    }\n",
       "</style>\n",
       "<table border=\"1\" class=\"dataframe\">\n",
       "  <thead>\n",
       "    <tr style=\"text-align: right;\">\n",
       "      <th></th>\n",
       "      <th>Game_ID</th>\n",
       "      <th>Variant</th>\n",
       "      <th>Speed</th>\n",
       "      <th>White_Mistake</th>\n",
       "      <th>Black_Mistake</th>\n",
       "      <th>White_Blunder</th>\n",
       "      <th>Black_Blunder</th>\n",
       "      <th>Analysis</th>\n",
       "      <th>Opening_ECO</th>\n",
       "      <th>Winner</th>\n",
       "      <th>Total_Mistakes</th>\n",
       "      <th>eval</th>\n",
       "      <th>avg_eval</th>\n",
       "    </tr>\n",
       "  </thead>\n",
       "  <tbody>\n",
       "    <tr>\n",
       "      <th>0</th>\n",
       "      <td>PsevV6VH</td>\n",
       "      <td>standard</td>\n",
       "      <td>classical</td>\n",
       "      <td>1</td>\n",
       "      <td>1</td>\n",
       "      <td>1</td>\n",
       "      <td>1</td>\n",
       "      <td>[{'eval': 14}, {'eval': 25}, {'eval': 26}, {'e...</td>\n",
       "      <td>A30</td>\n",
       "      <td>white</td>\n",
       "      <td>4</td>\n",
       "      <td>[14, 25, 26, 23, 16, 39, 32, 44, 51, 89, 90, 8...</td>\n",
       "      <td>186.257576</td>\n",
       "    </tr>\n",
       "  </tbody>\n",
       "</table>\n",
       "</div>"
      ],
      "text/plain": [
       "    Game_ID   Variant      Speed  White_Mistake  Black_Mistake  White_Blunder  \\\n",
       "0  PsevV6VH  standard  classical              1              1              1   \n",
       "\n",
       "   Black_Blunder                                           Analysis  \\\n",
       "0              1  [{'eval': 14}, {'eval': 25}, {'eval': 26}, {'e...   \n",
       "\n",
       "  Opening_ECO Winner  Total_Mistakes  \\\n",
       "0         A30  white               4   \n",
       "\n",
       "                                                eval    avg_eval  \n",
       "0  [14, 25, 26, 23, 16, 39, 32, 44, 51, 89, 90, 8...  186.257576  "
      ]
     },
     "execution_count": 426,
     "metadata": {},
     "output_type": "execute_result"
    }
   ],
   "source": [
    "df_1.head(1)"
   ]
  },
  {
   "cell_type": "code",
   "execution_count": 427,
   "metadata": {},
   "outputs": [
    {
     "name": "stdout",
     "output_type": "stream",
     "text": [
      "Процент партий, где преимущественно была выгодная позиция для белых: 55.77%\n",
      "Процент партий, где преимущественно была выгодная позиция для черных: 44.19%\n",
      "Процент сбалансированных позиций: 0.03%\n"
     ]
    }
   ],
   "source": [
    "# Найдем процент выгодных позиций для белых и для черных игроков\n",
    "\n",
    "# Общее количество партий\n",
    "total_games = len(df_1)\n",
    "\n",
    "# Подсчет партий в каждой категории\n",
    "white_advantage = len(df_1[df_1['avg_eval'] > 0])\n",
    "black_advantage = len(df_1[df_1['avg_eval'] < 0])\n",
    "balanced_positions = len(df_1[df_1['avg_eval'] == 0])\n",
    "\n",
    "# Вычисление процентов\n",
    "white_advantage_percent = (white_advantage / total_games) * 100\n",
    "black_advantage_percent = (black_advantage / total_games) * 100\n",
    "balanced_positions_percent = (balanced_positions / total_games) * 100\n",
    "\n",
    "# Вывод результатов\n",
    "print(f\"Процент партий, где преимущественно была выгодная позиция для белых: {white_advantage_percent:.2f}%\")\n",
    "print(f\"Процент партий, где преимущественно была выгодная позиция для черных: {black_advantage_percent:.2f}%\")\n",
    "print(f\"Процент сбалансированных позиций: {balanced_positions_percent:.2f}%\")\n"
   ]
  },
  {
   "cell_type": "code",
   "execution_count": null,
   "metadata": {},
   "outputs": [],
   "source": []
  },
  {
   "cell_type": "code",
   "execution_count": 428,
   "metadata": {},
   "outputs": [],
   "source": [
    "# 8.3. Найдем процент партий, где выиграли белые, несмотря на то, что средняя оценка позиции (avg_eval) была в пользу черных,\n",
    "# и наоборот, партии, где выиграли черные, несмотря на приемущество белых.\n",
    "\n",
    "# положительное число - приемущество белых\n",
    "# отрицательное число - приемущество черных."
   ]
  },
  {
   "cell_type": "code",
   "execution_count": 429,
   "metadata": {},
   "outputs": [],
   "source": [
    "# Фильтрация партий, где белые выиграли, несмотря на преимущество черных\n",
    "white_wins_black_advantage = df_1.query(\"Winner == 'white' and avg_eval < 0\")"
   ]
  },
  {
   "cell_type": "code",
   "execution_count": 430,
   "metadata": {},
   "outputs": [
    {
     "data": {
      "text/plain": [
       "(6332, 13)"
      ]
     },
     "execution_count": 430,
     "metadata": {},
     "output_type": "execute_result"
    }
   ],
   "source": [
    "white_wins_black_advantage.shape"
   ]
  },
  {
   "cell_type": "code",
   "execution_count": 431,
   "metadata": {},
   "outputs": [],
   "source": [
    "# Фильтрация партий, где черные выиграли, несмотря на преимущество белых\n",
    "black_wins_white_advantage = df_1.query(\"Winner == 'black' and avg_eval > 0\")"
   ]
  },
  {
   "cell_type": "code",
   "execution_count": 432,
   "metadata": {},
   "outputs": [
    {
     "data": {
      "text/plain": [
       "(9102, 13)"
      ]
     },
     "execution_count": 432,
     "metadata": {},
     "output_type": "execute_result"
    }
   ],
   "source": [
    "black_wins_white_advantage.shape"
   ]
  },
  {
   "cell_type": "code",
   "execution_count": 433,
   "metadata": {},
   "outputs": [],
   "source": [
    "# Число партий, где игроку получилось резко развернуть ход игры в свою пользу, несмотря на приемущество противника в ходе игры.\n",
    "result = pd.concat([white_wins_black_advantage, black_wins_white_advantage], ignore_index=True)"
   ]
  },
  {
   "cell_type": "code",
   "execution_count": 434,
   "metadata": {},
   "outputs": [
    {
     "data": {
      "text/plain": [
       "(15434, 13)"
      ]
     },
     "execution_count": 434,
     "metadata": {},
     "output_type": "execute_result"
    }
   ],
   "source": [
    "result.shape"
   ]
  },
  {
   "cell_type": "code",
   "execution_count": 435,
   "metadata": {},
   "outputs": [],
   "source": [
    "# Общее количество партий\n",
    "total_games = len(df_1)"
   ]
  },
  {
   "cell_type": "code",
   "execution_count": 436,
   "metadata": {},
   "outputs": [],
   "source": [
    "# Количество партий, соответствующих критериям\n",
    "count_result = len(result)"
   ]
  },
  {
   "cell_type": "code",
   "execution_count": 437,
   "metadata": {},
   "outputs": [],
   "source": [
    "percentage = count_result / total_games * 100"
   ]
  },
  {
   "cell_type": "code",
   "execution_count": 438,
   "metadata": {},
   "outputs": [
    {
     "data": {
      "text/plain": [
       "11.797709865313173"
      ]
     },
     "execution_count": 438,
     "metadata": {},
     "output_type": "execute_result"
    }
   ],
   "source": [
    "percentage"
   ]
  },
  {
   "cell_type": "code",
   "execution_count": 439,
   "metadata": {},
   "outputs": [],
   "source": [
    "percentage = round(percentage, 0)"
   ]
  },
  {
   "cell_type": "code",
   "execution_count": 440,
   "metadata": {},
   "outputs": [
    {
     "name": "stdout",
     "output_type": "stream",
     "text": [
      "Общее количество партий: 130822\n",
      "Количество партий, где белые выиграли с преимуществом черных или черные выиграли с преимуществом белых: 15434\n",
      "Процент таких партий в общем объеме: 12.00 %\n"
     ]
    }
   ],
   "source": [
    "print(\"Общее количество партий:\", total_games)\n",
    "print(\"Количество партий, где белые выиграли с преимуществом черных или черные выиграли с преимуществом белых:\", count_result)\n",
    "print(f\"Процент таких партий в общем объеме: {percentage:.2f} %\")  # Используем f-строку для форматирования"
   ]
  },
  {
   "cell_type": "code",
   "execution_count": 441,
   "metadata": {},
   "outputs": [],
   "source": [
    "# Подсчет количества оценок в каждом списке\n",
    "df_1['eval_count'] = df_1['eval'].apply(len)"
   ]
  },
  {
   "cell_type": "code",
   "execution_count": 442,
   "metadata": {},
   "outputs": [
    {
     "data": {
      "text/html": [
       "<div>\n",
       "<style scoped>\n",
       "    .dataframe tbody tr th:only-of-type {\n",
       "        vertical-align: middle;\n",
       "    }\n",
       "\n",
       "    .dataframe tbody tr th {\n",
       "        vertical-align: top;\n",
       "    }\n",
       "\n",
       "    .dataframe thead th {\n",
       "        text-align: right;\n",
       "    }\n",
       "</style>\n",
       "<table border=\"1\" class=\"dataframe\">\n",
       "  <thead>\n",
       "    <tr style=\"text-align: right;\">\n",
       "      <th></th>\n",
       "      <th>Game_ID</th>\n",
       "      <th>Variant</th>\n",
       "      <th>Speed</th>\n",
       "      <th>White_Mistake</th>\n",
       "      <th>Black_Mistake</th>\n",
       "      <th>White_Blunder</th>\n",
       "      <th>Black_Blunder</th>\n",
       "      <th>Analysis</th>\n",
       "      <th>Opening_ECO</th>\n",
       "      <th>Winner</th>\n",
       "      <th>Total_Mistakes</th>\n",
       "      <th>eval</th>\n",
       "      <th>avg_eval</th>\n",
       "      <th>eval_count</th>\n",
       "    </tr>\n",
       "  </thead>\n",
       "  <tbody>\n",
       "    <tr>\n",
       "      <th>0</th>\n",
       "      <td>PsevV6VH</td>\n",
       "      <td>standard</td>\n",
       "      <td>classical</td>\n",
       "      <td>1</td>\n",
       "      <td>1</td>\n",
       "      <td>1</td>\n",
       "      <td>1</td>\n",
       "      <td>[{'eval': 14}, {'eval': 25}, {'eval': 26}, {'e...</td>\n",
       "      <td>A30</td>\n",
       "      <td>white</td>\n",
       "      <td>4</td>\n",
       "      <td>[14, 25, 26, 23, 16, 39, 32, 44, 51, 89, 90, 8...</td>\n",
       "      <td>186.257576</td>\n",
       "      <td>66</td>\n",
       "    </tr>\n",
       "  </tbody>\n",
       "</table>\n",
       "</div>"
      ],
      "text/plain": [
       "    Game_ID   Variant      Speed  White_Mistake  Black_Mistake  White_Blunder  \\\n",
       "0  PsevV6VH  standard  classical              1              1              1   \n",
       "\n",
       "   Black_Blunder                                           Analysis  \\\n",
       "0              1  [{'eval': 14}, {'eval': 25}, {'eval': 26}, {'e...   \n",
       "\n",
       "  Opening_ECO Winner  Total_Mistakes  \\\n",
       "0         A30  white               4   \n",
       "\n",
       "                                                eval    avg_eval  eval_count  \n",
       "0  [14, 25, 26, 23, 16, 39, 32, 44, 51, 89, 90, 8...  186.257576          66  "
      ]
     },
     "execution_count": 442,
     "metadata": {},
     "output_type": "execute_result"
    }
   ],
   "source": [
    "df_1.head(1)"
   ]
  },
  {
   "cell_type": "code",
   "execution_count": null,
   "metadata": {},
   "outputs": [],
   "source": []
  },
  {
   "cell_type": "code",
   "execution_count": 443,
   "metadata": {},
   "outputs": [],
   "source": [
    "# 8.4. Посчитаем среднее количество оценок Lichess движка для каждой разновидности Speed (контроль времени партии)"
   ]
  },
  {
   "cell_type": "code",
   "execution_count": 444,
   "metadata": {},
   "outputs": [
    {
     "name": "stdout",
     "output_type": "stream",
     "text": [
      "\n",
      "Среднее количество оценок для каждой разновидности Speed:\n",
      "         Speed  average_count\n",
      "0        blitz      81.879618\n",
      "1       bullet      78.385264\n",
      "2    classical      73.458770\n",
      "3        rapid      78.022850\n",
      "4  ultraBullet      60.586950\n"
     ]
    }
   ],
   "source": [
    "# Подсчет количества оценок в каждом списке\n",
    "df_1['eval_count'] = df_1['eval'].apply(len)\n",
    "\n",
    "# Группировка по Speed и вычисление среднего количества оценок\n",
    "average_eval_count = df_1.groupby('Speed')['eval_count'].mean().reset_index(name='average_count')\n",
    "\n",
    "# Выводим результат\n",
    "print(\"\\nСреднее количество оценок для каждой разновидности Speed:\")\n",
    "print(average_eval_count)"
   ]
  },
  {
   "cell_type": "code",
   "execution_count": 460,
   "metadata": {},
   "outputs": [],
   "source": [
    "# 8.3. Сравним как распределяются значений eval в партиях с наибольшим и наименьшим числом ошибок.\n",
    "\n",
    "df_2 = df_1[['Total_Mistakes','eval']]"
   ]
  },
  {
   "cell_type": "code",
   "execution_count": 461,
   "metadata": {},
   "outputs": [],
   "source": [
    "df_2 = df_2.sort_values(\"Total_Mistakes\", ascending=False)"
   ]
  },
  {
   "cell_type": "code",
   "execution_count": 462,
   "metadata": {},
   "outputs": [
    {
     "data": {
      "text/html": [
       "<div>\n",
       "<style scoped>\n",
       "    .dataframe tbody tr th:only-of-type {\n",
       "        vertical-align: middle;\n",
       "    }\n",
       "\n",
       "    .dataframe tbody tr th {\n",
       "        vertical-align: top;\n",
       "    }\n",
       "\n",
       "    .dataframe thead th {\n",
       "        text-align: right;\n",
       "    }\n",
       "</style>\n",
       "<table border=\"1\" class=\"dataframe\">\n",
       "  <thead>\n",
       "    <tr style=\"text-align: right;\">\n",
       "      <th></th>\n",
       "      <th>Total_Mistakes</th>\n",
       "      <th>eval</th>\n",
       "    </tr>\n",
       "  </thead>\n",
       "  <tbody>\n",
       "    <tr>\n",
       "      <th>127711</th>\n",
       "      <td>55</td>\n",
       "      <td>[14, 38, 11, 20, 5, 15, 8, 23, -8, -2, -12, -1...</td>\n",
       "    </tr>\n",
       "    <tr>\n",
       "      <th>131968</th>\n",
       "      <td>37</td>\n",
       "      <td>[0, 0, 0, 0, -12, 0, -25, -18, -19, -25, -34, ...</td>\n",
       "    </tr>\n",
       "    <tr>\n",
       "      <th>62415</th>\n",
       "      <td>35</td>\n",
       "      <td>[17, 24, -7, 0, -11, 0, 0, -6, 0, 0, 0, 0, 0, ...</td>\n",
       "    </tr>\n",
       "    <tr>\n",
       "      <th>135366</th>\n",
       "      <td>33</td>\n",
       "      <td>[17, 61, 0, 28, -94, 12, 13, 17, 4, 6, 0, 28, ...</td>\n",
       "    </tr>\n",
       "    <tr>\n",
       "      <th>133983</th>\n",
       "      <td>31</td>\n",
       "      <td>[36, 37, 34, 24, 27, 33, 34, 54, 41, 39, -33, ...</td>\n",
       "    </tr>\n",
       "    <tr>\n",
       "      <th>...</th>\n",
       "      <td>...</td>\n",
       "      <td>...</td>\n",
       "    </tr>\n",
       "    <tr>\n",
       "      <th>62891</th>\n",
       "      <td>0</td>\n",
       "      <td>[0, 9, -2, 0, -9, -1, 3, 25, 9, 19, 25, 37, 24...</td>\n",
       "    </tr>\n",
       "    <tr>\n",
       "      <th>130993</th>\n",
       "      <td>0</td>\n",
       "      <td>[17, 19, 18, 11, 12, 23, 18, 14, 14, 11, 12, 8...</td>\n",
       "    </tr>\n",
       "    <tr>\n",
       "      <th>115000</th>\n",
       "      <td>0</td>\n",
       "      <td>[12, 25, 21, 26, 18, 24, 10, 33, 0, 0, 0, 26, ...</td>\n",
       "    </tr>\n",
       "    <tr>\n",
       "      <th>94136</th>\n",
       "      <td>0</td>\n",
       "      <td>[14, 18, 12, 25, 6, 6, 0, 13, 6, 0, 3, 6, 0, 7...</td>\n",
       "    </tr>\n",
       "    <tr>\n",
       "      <th>9177</th>\n",
       "      <td>0</td>\n",
       "      <td>[18, 23, 21, 32, 16, 16, 22, 23, 23, 24, 11, 1...</td>\n",
       "    </tr>\n",
       "  </tbody>\n",
       "</table>\n",
       "<p>130822 rows × 2 columns</p>\n",
       "</div>"
      ],
      "text/plain": [
       "        Total_Mistakes                                               eval\n",
       "127711              55  [14, 38, 11, 20, 5, 15, 8, 23, -8, -2, -12, -1...\n",
       "131968              37  [0, 0, 0, 0, -12, 0, -25, -18, -19, -25, -34, ...\n",
       "62415               35  [17, 24, -7, 0, -11, 0, 0, -6, 0, 0, 0, 0, 0, ...\n",
       "135366              33  [17, 61, 0, 28, -94, 12, 13, 17, 4, 6, 0, 28, ...\n",
       "133983              31  [36, 37, 34, 24, 27, 33, 34, 54, 41, 39, -33, ...\n",
       "...                ...                                                ...\n",
       "62891                0  [0, 9, -2, 0, -9, -1, 3, 25, 9, 19, 25, 37, 24...\n",
       "130993               0  [17, 19, 18, 11, 12, 23, 18, 14, 14, 11, 12, 8...\n",
       "115000               0  [12, 25, 21, 26, 18, 24, 10, 33, 0, 0, 0, 26, ...\n",
       "94136                0  [14, 18, 12, 25, 6, 6, 0, 13, 6, 0, 3, 6, 0, 7...\n",
       "9177                 0  [18, 23, 21, 32, 16, 16, 22, 23, 23, 24, 11, 1...\n",
       "\n",
       "[130822 rows x 2 columns]"
      ]
     },
     "execution_count": 462,
     "metadata": {},
     "output_type": "execute_result"
    }
   ],
   "source": [
    "df_2"
   ]
  },
  {
   "cell_type": "code",
   "execution_count": 463,
   "metadata": {},
   "outputs": [
    {
     "data": {
      "image/png": "[encoded data removed]",
      "text/plain": [
       "<Figure size 1800x720 with 1 Axes>"
      ]
     },
     "metadata": {
      "needs_background": "light"
     },
     "output_type": "display_data"
    },
    {
     "data": {
      "image/png": "[encoded data removed]",
      "text/plain": [
       "<Figure size 1800x720 with 1 Axes>"
      ]
     },
     "metadata": {
      "needs_background": "light"
     },
     "output_type": "display_data"
    }
   ],
   "source": [
    "# Выбираем первую строку\n",
    "row_index = 0  # Индекс первой строки\n",
    "eval_values = df_2['eval'].iloc[row_index]\n",
    "\n",
    "# Создаем массив индексов для значений eval\n",
    "index_values = list(range(len(eval_values)))\n",
    "\n",
    "# Построение графика\n",
    "plt.figure(figsize=(25, 10))\n",
    "plt.plot(index_values, eval_values, marker='o', color='blue', label='eval')\n",
    "plt.title(f'График eval для партии с наибольшим числом ошибок (индекс {row_index})')\n",
    "plt.xlabel('Индекс значений eval')\n",
    "plt.ylabel('eval')\n",
    "plt.xticks(index_values)  # Устанавливаем метки по оси X\n",
    "plt.grid()\n",
    "plt.legend()\n",
    "plt.show()\n",
    "\n",
    "\n",
    "# Выбираем последнюю строку\n",
    "row_index = len(df_2) - 1  # Индекс последней строки\n",
    "eval_values = df_2['eval'].iloc[row_index]\n",
    "\n",
    "# Создаем массив индексов для значений eval\n",
    "index_values = list(range(len(eval_values)))\n",
    "\n",
    "# Построение графика\n",
    "plt.figure(figsize=(25, 10))\n",
    "plt.plot(index_values, eval_values, marker='o', color='blue', label='eval')\n",
    "plt.title(f'График eval для партии с наименьшим числом ошибок (индекс {row_index})')\n",
    "plt.xlabel('Индекс значений eval')\n",
    "plt.ylabel('eval')\n",
    "plt.xticks(index_values)  # Устанавливаем метки по оси X\n",
    "plt.grid()\n",
    "plt.legend()\n",
    "plt.show()"
   ]
  },
  {
   "cell_type": "code",
   "execution_count": null,
   "metadata": {},
   "outputs": [],
   "source": []
  },
  {
   "cell_type": "code",
   "execution_count": 464,
   "metadata": {},
   "outputs": [],
   "source": [
    "# Вывод: Таким образом, мы прослеживаем закономерность между количеством ошибок и неоднородностью графика eval.\n",
    "# Чем больше ошибок, тем более неоднароден график eval, тем более резкие перепады между приемуществами белых и черных."
   ]
  },
  {
   "cell_type": "code",
   "execution_count": null,
   "metadata": {},
   "outputs": [],
   "source": []
  },
  {
   "cell_type": "code",
   "execution_count": null,
   "metadata": {},
   "outputs": [],
   "source": []
  }
 ],
 "metadata": {
  "kernelspec": {
   "display_name": "Python 3",
   "language": "python",
   "name": "python3"
  },
  "language_info": {
   "codemirror_mode": {
    "name": "ipython",
    "version": 3
   },
   "file_extension": ".py",
   "mimetype": "text/x-python",
   "name": "python",
   "nbconvert_exporter": "python",
   "pygments_lexer": "ipython3",
   "version": "3.7.3"
  }
 },
 "nbformat": 4,
 "nbformat_minor": 4
}
