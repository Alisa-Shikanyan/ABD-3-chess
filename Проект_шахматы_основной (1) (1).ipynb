{
 "cells": [
  {
   "cell_type": "code",
   "execution_count": 6,
   "metadata": {
    "scrolled": true
   },
   "outputs": [],
   "source": [
    "import pandas as pd\n",
    "import seaborn as sns\n",
    "import matplotlib.pyplot as plt"
   ]
  },
  {
   "cell_type": "code",
   "execution_count": 7,
   "metadata": {},
   "outputs": [],
   "source": [
    "df = pd.read_csv('final_games.csv')"
   ]
  },
  {
   "cell_type": "code",
   "execution_count": 8,
   "metadata": {
    "scrolled": true
   },
   "outputs": [
    {
     "data": {
      "text/plain": [
       "(140792, 32)"
      ]
     },
     "execution_count": 8,
     "metadata": {},
     "output_type": "execute_result"
    }
   ],
   "source": [
    "df.shape"
   ]
  },
  {
   "cell_type": "code",
   "execution_count": 9,
   "metadata": {},
   "outputs": [
    {
     "data": {
      "text/html": [
       "<div>\n",
       "<style scoped>\n",
       "    .dataframe tbody tr th:only-of-type {\n",
       "        vertical-align: middle;\n",
       "    }\n",
       "\n",
       "    .dataframe tbody tr th {\n",
       "        vertical-align: top;\n",
       "    }\n",
       "\n",
       "    .dataframe thead th {\n",
       "        text-align: right;\n",
       "    }\n",
       "</style>\n",
       "<table border=\"1\" class=\"dataframe\">\n",
       "  <thead>\n",
       "    <tr style=\"text-align: right;\">\n",
       "      <th></th>\n",
       "      <th>Game_ID</th>\n",
       "      <th>Rated</th>\n",
       "      <th>Variant</th>\n",
       "      <th>Speed</th>\n",
       "      <th>Created_At</th>\n",
       "      <th>Last_Move_At</th>\n",
       "      <th>Game_Status</th>\n",
       "      <th>Source</th>\n",
       "      <th>Winner</th>\n",
       "      <th>Opening_Name</th>\n",
       "      <th>...</th>\n",
       "      <th>Black_Inaccuracy</th>\n",
       "      <th>Black_Mistake</th>\n",
       "      <th>Black_Blunder</th>\n",
       "      <th>Black_ACPL</th>\n",
       "      <th>Clocks</th>\n",
       "      <th>Analysis</th>\n",
       "      <th>Total_Time_Init</th>\n",
       "      <th>Total_Time_Increment</th>\n",
       "      <th>Total_Time</th>\n",
       "      <th>Moves</th>\n",
       "    </tr>\n",
       "  </thead>\n",
       "  <tbody>\n",
       "    <tr>\n",
       "      <th>0</th>\n",
       "      <td>PsevV6VH</td>\n",
       "      <td>True</td>\n",
       "      <td>standard</td>\n",
       "      <td>classical</td>\n",
       "      <td>2024-12-15T11:09:25.224000+00:00</td>\n",
       "      <td>2024-12-15T11:55:14.775000+00:00</td>\n",
       "      <td>resign</td>\n",
       "      <td>pool</td>\n",
       "      <td>white</td>\n",
       "      <td>English Opening: Symmetrical Variation</td>\n",
       "      <td>...</td>\n",
       "      <td>5</td>\n",
       "      <td>1</td>\n",
       "      <td>1</td>\n",
       "      <td>47</td>\n",
       "      <td>[180003, 180003, 178499, 178019, 178339, 17757...</td>\n",
       "      <td>[{'eval': 14}, {'eval': 25}, {'eval': 26}, {'e...</td>\n",
       "      <td>1800</td>\n",
       "      <td>0</td>\n",
       "      <td>1800</td>\n",
       "      <td>Nf3 c5 c4 Nc6 Nc3 g6 e3 Bg7 d4 cxd4 exd4 d6 h3...</td>\n",
       "    </tr>\n",
       "    <tr>\n",
       "      <th>1</th>\n",
       "      <td>diLZa8sj</td>\n",
       "      <td>True</td>\n",
       "      <td>standard</td>\n",
       "      <td>classical</td>\n",
       "      <td>2024-10-28T13:54:16.605000+00:00</td>\n",
       "      <td>2024-10-28T14:32:21.403000+00:00</td>\n",
       "      <td>resign</td>\n",
       "      <td>pool</td>\n",
       "      <td>white</td>\n",
       "      <td>French Defense: Winawer Variation, Advance Var...</td>\n",
       "      <td>...</td>\n",
       "      <td>4</td>\n",
       "      <td>0</td>\n",
       "      <td>1</td>\n",
       "      <td>31</td>\n",
       "      <td>[180003, 180003, 179827, 179683, 178619, 17936...</td>\n",
       "      <td>[{'eval': 18}, {'eval': 28}, {'eval': 28}, {'e...</td>\n",
       "      <td>1800</td>\n",
       "      <td>0</td>\n",
       "      <td>1800</td>\n",
       "      <td>e4 e6 d4 d5 Nc3 Bb4 e5 Ne7 a3 Bxc3+ bxc3 b6 Bb...</td>\n",
       "    </tr>\n",
       "  </tbody>\n",
       "</table>\n",
       "<p>2 rows × 32 columns</p>\n",
       "</div>"
      ],
      "text/plain": [
       "    Game_ID  Rated   Variant      Speed                        Created_At  \\\n",
       "0  PsevV6VH   True  standard  classical  2024-12-15T11:09:25.224000+00:00   \n",
       "1  diLZa8sj   True  standard  classical  2024-10-28T13:54:16.605000+00:00   \n",
       "\n",
       "                       Last_Move_At Game_Status Source Winner  \\\n",
       "0  2024-12-15T11:55:14.775000+00:00      resign   pool  white   \n",
       "1  2024-10-28T14:32:21.403000+00:00      resign   pool  white   \n",
       "\n",
       "                                        Opening_Name  ... Black_Inaccuracy  \\\n",
       "0             English Opening: Symmetrical Variation  ...                5   \n",
       "1  French Defense: Winawer Variation, Advance Var...  ...                4   \n",
       "\n",
       "   Black_Mistake Black_Blunder Black_ACPL  \\\n",
       "0              1             1         47   \n",
       "1              0             1         31   \n",
       "\n",
       "                                              Clocks  \\\n",
       "0  [180003, 180003, 178499, 178019, 178339, 17757...   \n",
       "1  [180003, 180003, 179827, 179683, 178619, 17936...   \n",
       "\n",
       "                                            Analysis  Total_Time_Init  \\\n",
       "0  [{'eval': 14}, {'eval': 25}, {'eval': 26}, {'e...             1800   \n",
       "1  [{'eval': 18}, {'eval': 28}, {'eval': 28}, {'e...             1800   \n",
       "\n",
       "   Total_Time_Increment  Total_Time  \\\n",
       "0                     0        1800   \n",
       "1                     0        1800   \n",
       "\n",
       "                                               Moves  \n",
       "0  Nf3 c5 c4 Nc6 Nc3 g6 e3 Bg7 d4 cxd4 exd4 d6 h3...  \n",
       "1  e4 e6 d4 d5 Nc3 Bb4 e5 Ne7 a3 Bxc3+ bxc3 b6 Bb...  \n",
       "\n",
       "[2 rows x 32 columns]"
      ]
     },
     "execution_count": 9,
     "metadata": {},
     "output_type": "execute_result"
    }
   ],
   "source": [
    "df.head(2)"
   ]
  },
  {
   "cell_type": "code",
   "execution_count": 10,
   "metadata": {},
   "outputs": [],
   "source": [
    "columns_for_eda = df[[\n",
    "    'Game_Status', 'Source', 'Winner',\n",
    "    'Opening_PLY', 'White_Player', 'White_Title',\n",
    "    'Black_Player', 'Black_Title'\n",
    "]]\n"
   ]
  },
  {
   "cell_type": "code",
   "execution_count": 11,
   "metadata": {},
   "outputs": [
    {
     "data": {
      "text/html": [
       "<div>\n",
       "<style scoped>\n",
       "    .dataframe tbody tr th:only-of-type {\n",
       "        vertical-align: middle;\n",
       "    }\n",
       "\n",
       "    .dataframe tbody tr th {\n",
       "        vertical-align: top;\n",
       "    }\n",
       "\n",
       "    .dataframe thead th {\n",
       "        text-align: right;\n",
       "    }\n",
       "</style>\n",
       "<table border=\"1\" class=\"dataframe\">\n",
       "  <thead>\n",
       "    <tr style=\"text-align: right;\">\n",
       "      <th></th>\n",
       "      <th>Game_Status</th>\n",
       "      <th>Source</th>\n",
       "      <th>Winner</th>\n",
       "      <th>Opening_PLY</th>\n",
       "      <th>White_Player</th>\n",
       "      <th>White_Title</th>\n",
       "      <th>Black_Player</th>\n",
       "      <th>Black_Title</th>\n",
       "    </tr>\n",
       "  </thead>\n",
       "  <tbody>\n",
       "    <tr>\n",
       "      <th>0</th>\n",
       "      <td>resign</td>\n",
       "      <td>pool</td>\n",
       "      <td>white</td>\n",
       "      <td>3.0</td>\n",
       "      <td>orenlivne</td>\n",
       "      <td>NaN</td>\n",
       "      <td>oyto_971179789</td>\n",
       "      <td>NaN</td>\n",
       "    </tr>\n",
       "    <tr>\n",
       "      <th>1</th>\n",
       "      <td>resign</td>\n",
       "      <td>pool</td>\n",
       "      <td>white</td>\n",
       "      <td>7.0</td>\n",
       "      <td>ludio_ludus</td>\n",
       "      <td>NaN</td>\n",
       "      <td>oyto_971179789</td>\n",
       "      <td>NaN</td>\n",
       "    </tr>\n",
       "    <tr>\n",
       "      <th>2</th>\n",
       "      <td>resign</td>\n",
       "      <td>pool</td>\n",
       "      <td>black</td>\n",
       "      <td>5.0</td>\n",
       "      <td>ribik</td>\n",
       "      <td>NaN</td>\n",
       "      <td>oyto_971179789</td>\n",
       "      <td>NaN</td>\n",
       "    </tr>\n",
       "    <tr>\n",
       "      <th>3</th>\n",
       "      <td>resign</td>\n",
       "      <td>pool</td>\n",
       "      <td>white</td>\n",
       "      <td>15.0</td>\n",
       "      <td>orel_chess13</td>\n",
       "      <td>NaN</td>\n",
       "      <td>oyto_971179789</td>\n",
       "      <td>NaN</td>\n",
       "    </tr>\n",
       "    <tr>\n",
       "      <th>4</th>\n",
       "      <td>draw</td>\n",
       "      <td>pool</td>\n",
       "      <td>NaN</td>\n",
       "      <td>3.0</td>\n",
       "      <td>jthain1</td>\n",
       "      <td>NaN</td>\n",
       "      <td>oyto_971179789</td>\n",
       "      <td>NaN</td>\n",
       "    </tr>\n",
       "    <tr>\n",
       "      <th>...</th>\n",
       "      <td>...</td>\n",
       "      <td>...</td>\n",
       "      <td>...</td>\n",
       "      <td>...</td>\n",
       "      <td>...</td>\n",
       "      <td>...</td>\n",
       "      <td>...</td>\n",
       "      <td>...</td>\n",
       "    </tr>\n",
       "    <tr>\n",
       "      <th>140787</th>\n",
       "      <td>outoftime</td>\n",
       "      <td>arena</td>\n",
       "      <td>black</td>\n",
       "      <td>5.0</td>\n",
       "      <td>sc1211</td>\n",
       "      <td>NaN</td>\n",
       "      <td>tuzakli_egitim</td>\n",
       "      <td>FM</td>\n",
       "    </tr>\n",
       "    <tr>\n",
       "      <th>140788</th>\n",
       "      <td>outoftime</td>\n",
       "      <td>arena</td>\n",
       "      <td>black</td>\n",
       "      <td>3.0</td>\n",
       "      <td>pro_in_atomic</td>\n",
       "      <td>NaN</td>\n",
       "      <td>tuzakli_egitim</td>\n",
       "      <td>FM</td>\n",
       "    </tr>\n",
       "    <tr>\n",
       "      <th>140789</th>\n",
       "      <td>outoftime</td>\n",
       "      <td>arena</td>\n",
       "      <td>white</td>\n",
       "      <td>1.0</td>\n",
       "      <td>tuzakli_egitim</td>\n",
       "      <td>FM</td>\n",
       "      <td>mel_pints123</td>\n",
       "      <td>NaN</td>\n",
       "    </tr>\n",
       "    <tr>\n",
       "      <th>140790</th>\n",
       "      <td>outoftime</td>\n",
       "      <td>arena</td>\n",
       "      <td>black</td>\n",
       "      <td>1.0</td>\n",
       "      <td>emirloyd</td>\n",
       "      <td>NaN</td>\n",
       "      <td>tuzakli_egitim</td>\n",
       "      <td>FM</td>\n",
       "    </tr>\n",
       "    <tr>\n",
       "      <th>140791</th>\n",
       "      <td>outoftime</td>\n",
       "      <td>arena</td>\n",
       "      <td>black</td>\n",
       "      <td>6.0</td>\n",
       "      <td>gambitoalaplancha</td>\n",
       "      <td>NaN</td>\n",
       "      <td>tuzakli_egitim</td>\n",
       "      <td>FM</td>\n",
       "    </tr>\n",
       "  </tbody>\n",
       "</table>\n",
       "<p>140792 rows × 8 columns</p>\n",
       "</div>"
      ],
      "text/plain": [
       "       Game_Status Source Winner  Opening_PLY       White_Player White_Title  \\\n",
       "0           resign   pool  white          3.0          orenlivne         NaN   \n",
       "1           resign   pool  white          7.0        ludio_ludus         NaN   \n",
       "2           resign   pool  black          5.0              ribik         NaN   \n",
       "3           resign   pool  white         15.0       orel_chess13         NaN   \n",
       "4             draw   pool    NaN          3.0            jthain1         NaN   \n",
       "...            ...    ...    ...          ...                ...         ...   \n",
       "140787   outoftime  arena  black          5.0             sc1211         NaN   \n",
       "140788   outoftime  arena  black          3.0      pro_in_atomic         NaN   \n",
       "140789   outoftime  arena  white          1.0     tuzakli_egitim          FM   \n",
       "140790   outoftime  arena  black          1.0           emirloyd         NaN   \n",
       "140791   outoftime  arena  black          6.0  gambitoalaplancha         NaN   \n",
       "\n",
       "          Black_Player Black_Title  \n",
       "0       oyto_971179789         NaN  \n",
       "1       oyto_971179789         NaN  \n",
       "2       oyto_971179789         NaN  \n",
       "3       oyto_971179789         NaN  \n",
       "4       oyto_971179789         NaN  \n",
       "...                ...         ...  \n",
       "140787  tuzakli_egitim          FM  \n",
       "140788  tuzakli_egitim          FM  \n",
       "140789    mel_pints123         NaN  \n",
       "140790  tuzakli_egitim          FM  \n",
       "140791  tuzakli_egitim          FM  \n",
       "\n",
       "[140792 rows x 8 columns]"
      ]
     },
     "execution_count": 11,
     "metadata": {},
     "output_type": "execute_result"
    }
   ],
   "source": [
    "columns_for_eda"
   ]
  },
  {
   "cell_type": "markdown",
   "metadata": {},
   "source": [
    "Проверим типы данных"
   ]
  },
  {
   "cell_type": "code",
   "execution_count": 12,
   "metadata": {},
   "outputs": [
    {
     "name": "stdout",
     "output_type": "stream",
     "text": [
      "<class 'pandas.core.frame.DataFrame'>\n",
      "RangeIndex: 140792 entries, 0 to 140791\n",
      "Data columns (total 8 columns):\n",
      " #   Column        Non-Null Count   Dtype  \n",
      "---  ------        --------------   -----  \n",
      " 0   Game_Status   140792 non-null  object \n",
      " 1   Source        140792 non-null  object \n",
      " 2   Winner        127103 non-null  object \n",
      " 3   Opening_PLY   139522 non-null  float64\n",
      " 4   White_Player  140565 non-null  object \n",
      " 5   White_Title   46713 non-null   object \n",
      " 6   Black_Player  140481 non-null  object \n",
      " 7   Black_Title   46512 non-null   object \n",
      "dtypes: float64(1), object(7)\n",
      "memory usage: 8.6+ MB\n"
     ]
    }
   ],
   "source": [
    "columns_for_eda.info()"
   ]
  },
  {
   "cell_type": "markdown",
   "metadata": {},
   "source": [
    "Проверка на наличие пропусков"
   ]
  },
  {
   "cell_type": "code",
   "execution_count": 13,
   "metadata": {},
   "outputs": [
    {
     "data": {
      "text/plain": [
       "Game_Status         0\n",
       "Source              0\n",
       "Winner          13689\n",
       "Opening_PLY      1270\n",
       "White_Player      227\n",
       "White_Title     94079\n",
       "Black_Player      311\n",
       "Black_Title     94280\n",
       "dtype: int64"
      ]
     },
     "execution_count": 13,
     "metadata": {},
     "output_type": "execute_result"
    }
   ],
   "source": [
    "columns_for_eda.isna().sum()"
   ]
  },
  {
   "cell_type": "markdown",
   "metadata": {},
   "source": [
    "Замена пропусков на 'other' у категориальных признаков."
   ]
  },
  {
   "cell_type": "code",
   "execution_count": 14,
   "metadata": {},
   "outputs": [
    {
     "name": "stderr",
     "output_type": "stream",
     "text": [
      "/opt/tljh/user/lib/python3.7/site-packages/pandas/core/frame.py:3065: SettingWithCopyWarning: \n",
      "A value is trying to be set on a copy of a slice from a DataFrame.\n",
      "Try using .loc[row_indexer,col_indexer] = value instead\n",
      "\n",
      "See the caveats in the documentation: https://pandas.pydata.org/pandas-docs/stable/user_guide/indexing.html#returning-a-view-versus-a-copy\n",
      "  self[k1] = value[k2]\n"
     ]
    }
   ],
   "source": [
    "columns_to_fill = ['Winner', 'White_Player', 'White_Title', 'Black_Player', 'Black_Title']\n",
    "columns_for_eda[columns_to_fill] = columns_for_eda[columns_to_fill].fillna('other')"
   ]
  },
  {
   "cell_type": "markdown",
   "metadata": {},
   "source": [
    "Замена пропусков на среднее у числовых признаков"
   ]
  },
  {
   "cell_type": "code",
   "execution_count": 15,
   "metadata": {},
   "outputs": [
    {
     "name": "stderr",
     "output_type": "stream",
     "text": [
      "/opt/tljh/user/lib/python3.7/site-packages/ipykernel_launcher.py:5: SettingWithCopyWarning: \n",
      "A value is trying to be set on a copy of a slice from a DataFrame.\n",
      "Try using .loc[row_indexer,col_indexer] = value instead\n",
      "\n",
      "See the caveats in the documentation: https://pandas.pydata.org/pandas-docs/stable/user_guide/indexing.html#returning-a-view-versus-a-copy\n",
      "  \"\"\"\n"
     ]
    }
   ],
   "source": [
    "# Вычисляем среднее значение, игнорируя NaN\n",
    "mean_opening_ply = columns_for_eda['Opening_PLY'].mean()\n",
    "\n",
    "# Заменяем пропуски на среднее значение\n",
    "columns_for_eda['Opening_PLY'] = columns_for_eda['Opening_PLY'].fillna(mean_opening_ply)"
   ]
  },
  {
   "cell_type": "code",
   "execution_count": 16,
   "metadata": {},
   "outputs": [
    {
     "data": {
      "text/plain": [
       "Game_Status     0\n",
       "Source          0\n",
       "Winner          0\n",
       "Opening_PLY     0\n",
       "White_Player    0\n",
       "White_Title     0\n",
       "Black_Player    0\n",
       "Black_Title     0\n",
       "dtype: int64"
      ]
     },
     "execution_count": 16,
     "metadata": {},
     "output_type": "execute_result"
    }
   ],
   "source": [
    "# Проверка на пропуски после замены\n",
    "columns_for_eda.isna().sum()"
   ]
  },
  {
   "cell_type": "markdown",
   "metadata": {},
   "source": [
    "1. Анализ столбца 'Game_Status' - статус завершения партии (ничья, мат, чит и т.д.) "
   ]
  },
  {
   "cell_type": "code",
   "execution_count": 17,
   "metadata": {},
   "outputs": [],
   "source": [
    "# Подсчет частоты значений в столбце Game_Status\n",
    "game_status_counts = columns_for_eda['Game_Status'].value_counts()"
   ]
  },
  {
   "cell_type": "code",
   "execution_count": 18,
   "metadata": {},
   "outputs": [
    {
     "data": {
      "text/plain": [
       "resign       77423\n",
       "outoftime    25236\n",
       "mate         24736\n",
       "draw         11705\n",
       "stalemate      859\n",
       "timeout        810\n",
       "cheat           23\n",
       "Name: Game_Status, dtype: int64"
      ]
     },
     "execution_count": 18,
     "metadata": {},
     "output_type": "execute_result"
    }
   ],
   "source": [
    "game_status_counts"
   ]
  },
  {
   "cell_type": "code",
   "execution_count": 19,
   "metadata": {},
   "outputs": [
    {
     "data": {
      "image/png": "[encoded data removed]",
      "text/plain": [
       "<Figure size 576x360 with 1 Axes>"
      ]
     },
     "metadata": {
      "needs_background": "light"
     },
     "output_type": "display_data"
    }
   ],
   "source": [
    "# Построение графика\n",
    "plt.figure(figsize=(8, 5))\n",
    "sns.barplot(x=game_status_counts.index, y=game_status_counts.values, palette='viridis')\n",
    "plt.title('Распределение статусов игры')\n",
    "plt.xlabel('Статус игры')\n",
    "plt.ylabel('Частота')\n",
    "plt.xticks(rotation=0)  # Установите угол поворота на 0 для горизонтальных меток\n",
    "plt.grid(axis='y')  # Включаем сетку по оси Y для лучшей читабельности\n",
    "plt.show()"
   ]
  },
  {
   "cell_type": "markdown",
   "metadata": {},
   "source": [
    "resign - (сдаться): игрок признает поражение и завершает партию.\n",
    "\n",
    "outoftime - (время истекло): игрок не успел сделать ход до истечения времени на часах, что приводит к его поражению.\n",
    "\n",
    "mate - (мат): партия заканчивается победой одного из игроков, когда король противника находится под шахом и не может избежать захвата.\n",
    "\n",
    "draw - (ничья): партия заканчивается вничью по соглашению игроков или из-за других условий (пат, троекратное повторение и т.д.).\n",
    "\n",
    "stalemate - (пат): партия заканчивается ничьей, когда один из игроков не может сделать законный ход, но его король не под шахом.\n",
    "\n",
    "timeout - (время вышло): игрок не успел сделать ход, и его время истекло, что приводит к поражению.\n",
    "\n",
    "cheat - (жульничество): один из игроков был пойман на использовании запрещенных методов (например, шахматного движка) во время игры."
   ]
  },
  {
   "cell_type": "markdown",
   "metadata": {},
   "source": [
    "2. Анализ столбца Source - источник партии (турнир, с другом, pool и т.д.)"
   ]
  },
  {
   "cell_type": "code",
   "execution_count": 20,
   "metadata": {},
   "outputs": [],
   "source": [
    "# Подсчет частоты значений в столбце Source\n",
    "source_counts = columns_for_eda['Source'].value_counts()"
   ]
  },
  {
   "cell_type": "code",
   "execution_count": 21,
   "metadata": {},
   "outputs": [
    {
     "data": {
      "text/plain": [
       "pool        83031\n",
       "lobby       25479\n",
       "arena       18181\n",
       "friend      10251\n",
       "swiss        2145\n",
       "simul        1170\n",
       "position      258\n",
       "ai            246\n",
       "api            31\n",
       "Name: Source, dtype: int64"
      ]
     },
     "execution_count": 21,
     "metadata": {},
     "output_type": "execute_result"
    }
   ],
   "source": [
    "source_counts"
   ]
  },
  {
   "cell_type": "code",
   "execution_count": 22,
   "metadata": {},
   "outputs": [
    {
     "data": {
      "image/png": "[encoded data removed]",
      "text/plain": [
       "<Figure size 576x360 with 1 Axes>"
      ]
     },
     "metadata": {
      "needs_background": "light"
     },
     "output_type": "display_data"
    }
   ],
   "source": [
    "# Построение графика\n",
    "plt.figure(figsize=(8, 5))\n",
    "sns.barplot(x=source_counts.index, y=source_counts.values, palette='viridis')\n",
    "plt.title('Распределение источников партии')\n",
    "plt.xlabel('Источник партии')\n",
    "plt.ylabel('Частота')\n",
    "plt.xticks(rotation=0)  # Установите угол поворота на 0 для горизонтальных меток\n",
    "plt.grid(axis='y')  # Включаем сетку по оси Y для лучшей читабельности\n",
    "plt.show()"
   ]
  },
  {
   "cell_type": "markdown",
   "metadata": {},
   "source": [
    "pool - игры из общего пула, где игроки могут автоматически подбираться друг к другу.\n",
    "\n",
    "lobby - игры, сыгранные в неформальной обстановке, где игроки могут общаться и находить соперников.\n",
    "\n",
    "arena - турнирный формат, где игроки соревнуются в ограниченное время, зарабатывая очки за победы.\n",
    "\n",
    "friend - игры между друзьями, приглашенными на партию.\n",
    "\n",
    "swiss - турнирный формат с несколькими раундами, где игроки играют с соперниками, имеющими схожие результаты.\n",
    "\n",
    "simul - симультанные игры, где один игрок играет против нескольких соперников одновременно.\n",
    "\n",
    "position - игры, сыгранные из определенной позиции для анализа или обучения.\n",
    "\n",
    "ai - игры против искусственного интеллекта для тренировки и улучшения навыков.\n",
    "\n",
    "api - игры, созданные или полученные через API, используемые для автоматизации или разработки приложений."
   ]
  },
  {
   "cell_type": "markdown",
   "metadata": {},
   "source": [
    "3. Анализ столбца Winner - победитель партии (White, Black или None в случае ничьей)"
   ]
  },
  {
   "cell_type": "code",
   "execution_count": 23,
   "metadata": {},
   "outputs": [],
   "source": [
    "# Подсчет частоты значений в столбце Winner \n",
    "winner_counts = columns_for_eda['Winner'].value_counts()"
   ]
  },
  {
   "cell_type": "code",
   "execution_count": 24,
   "metadata": {},
   "outputs": [
    {
     "data": {
      "text/plain": [
       "white    66836\n",
       "black    60267\n",
       "other    13689\n",
       "Name: Winner, dtype: int64"
      ]
     },
     "execution_count": 24,
     "metadata": {},
     "output_type": "execute_result"
    }
   ],
   "source": [
    "winner_counts"
   ]
  },
  {
   "cell_type": "code",
   "execution_count": 25,
   "metadata": {},
   "outputs": [
    {
     "data": {
      "image/png": "[encoded data removed]",
      "text/plain": [
       "<Figure size 576x360 with 1 Axes>"
      ]
     },
     "metadata": {
      "needs_background": "light"
     },
     "output_type": "display_data"
    }
   ],
   "source": [
    "# Построение графика\n",
    "plt.figure(figsize=(8, 5))\n",
    "sns.barplot(x=winner_counts.index, y=winner_counts.values, palette='viridis')\n",
    "plt.title('Распределение победителей партии')\n",
    "plt.xlabel('Победитель партии')\n",
    "plt.ylabel('Частота')\n",
    "plt.xticks(rotation=0)  # Установите угол поворота на 0 для горизонтальных меток\n",
    "plt.grid(axis='y')  # Включаем сетку по оси Y для лучшей читабельности\n",
    "plt.show()"
   ]
  },
  {
   "cell_type": "markdown",
   "metadata": {
    "scrolled": true
   },
   "source": [
    "4. Анализ столбца Opening_PLY"
   ]
  },
  {
   "cell_type": "code",
   "execution_count": 26,
   "metadata": {
    "scrolled": false
   },
   "outputs": [
    {
     "data": {
      "text/plain": [
       "2.000000     19287\n",
       "5.000000     17455\n",
       "4.000000     15379\n",
       "3.000000     11981\n",
       "8.000000     10901\n",
       "6.000000     10839\n",
       "7.000000     10220\n",
       "9.000000      9195\n",
       "10.000000     7221\n",
       "11.000000     6262\n",
       "1.000000      6208\n",
       "12.000000     4204\n",
       "13.000000     3000\n",
       "14.000000     2294\n",
       "15.000000     1518\n",
       "6.344412      1270\n",
       "17.000000     1099\n",
       "16.000000     1048\n",
       "18.000000      433\n",
       "20.000000      285\n",
       "19.000000      274\n",
       "22.000000      157\n",
       "21.000000      113\n",
       "24.000000       68\n",
       "28.000000       32\n",
       "23.000000       23\n",
       "25.000000       12\n",
       "27.000000        7\n",
       "26.000000        7\n",
       "Name: Opening_PLY, dtype: int64"
      ]
     },
     "execution_count": 26,
     "metadata": {},
     "output_type": "execute_result"
    }
   ],
   "source": [
    "columns_for_eda.Opening_PLY.value_counts()"
   ]
  },
  {
   "cell_type": "markdown",
   "metadata": {},
   "source": [
    "Столбец Opening_PLY показывает, сколько ходов игроки делают в дебютной стадии, прежде чем начинают играть по своему усмотрению. Значения от 2 до 26 означают, что есть дебюты очень короткие, а некоторые — более сложные и продолжительные."
   ]
  },
  {
   "cell_type": "code",
   "execution_count": 27,
   "metadata": {},
   "outputs": [
    {
     "data": {
      "image/png": "[encoded data removed]",
      "text/plain": [
       "<Figure size 720x432 with 1 Axes>"
      ]
     },
     "metadata": {
      "needs_background": "light"
     },
     "output_type": "display_data"
    }
   ],
   "source": [
    "# Построение гистограммы\n",
    "plt.figure(figsize=(10, 6))\n",
    "plt.hist(columns_for_eda['Opening_PLY'], bins=range(2, 28), edgecolor='black', alpha=0.7)\n",
    "plt.title('Распределение Opening PLY')\n",
    "plt.xlabel('Количество полуходов (Opening PLY)')\n",
    "plt.ylabel('Частота')\n",
    "plt.xticks(range(2, 27))\n",
    "plt.grid(axis='y')\n",
    "plt.show()"
   ]
  },
  {
   "cell_type": "code",
   "execution_count": 28,
   "metadata": {
    "scrolled": false
   },
   "outputs": [
    {
     "name": "stdout",
     "output_type": "stream",
     "text": [
      "Среднее значение Opening PLY: 6.34\n"
     ]
    }
   ],
   "source": [
    "mean_opening_ply = columns_for_eda['Opening_PLY'].mean()\n",
    "\n",
    "print(f\"Среднее значение Opening PLY: {mean_opening_ply:.2f}\")"
   ]
  },
  {
   "cell_type": "markdown",
   "metadata": {},
   "source": [
    "Вывод: в среднем, игроки делают около 6 ходов, следуя известным дебютам, прежде чем начинают играть по своему усмотрению.\n",
    "\n",
    "В данном столбце наблюдаатся снижение частоты после 6 полуходов. Это может свидетельствовать о том, что большинство игроков предпочитают использовать определенные стратегии в пределах первых шести полуходов, а затем переходят к более сложным маневрам. И можно сказать, что чем выше количество полудов, тем сложнее маневры совершают игроки. Также это может быть связано с тем, что игроки начинают переключаться на более агрессивные или оборонительные стратегии, требующие других актических подходов. И, возможно, это может говорить о том, что игроки в основном стремятся к более быстрым решениям и менее склонны затягивать игру. (Здесь можно проверить с данными о времени игры). При этом важно отметить, что между 3 и 4 полуходами отмечается снижение частоты. Это может говорить о том, на 4 полуходе игроки начинают учитывать действия соперника и переходят от агрессивных самых первых маневров к более осторожным. Начинают осознавать, что некоторые стратегии, с которых начали, могут быть менее эффективными, и на этом этапе вынуждены переосмыслить свою тактику игры, скорректировать свои планы и продумать более сложную стратегию."
   ]
  },
  {
   "cell_type": "markdown",
   "metadata": {
    "scrolled": true
   },
   "source": [
    "5. Анализ столбца White_Player - \n"
   ]
  },
  {
   "cell_type": "code",
   "execution_count": 29,
   "metadata": {},
   "outputs": [
    {
     "data": {
      "text/plain": [
       "zhigalko_sergei    493\n",
       "andrey11976        482\n",
       "dmitrijiiigm       456\n",
       "tuzakli_egitim     426\n",
       "littleplotkin      410\n",
       "                  ... \n",
       "platon_kalash        1\n",
       "remkof               1\n",
       "cipollino28          1\n",
       "sweetheart04         1\n",
       "dy0727               1\n",
       "Name: White_Player, Length: 24891, dtype: int64"
      ]
     },
     "execution_count": 29,
     "metadata": {},
     "output_type": "execute_result"
    }
   ],
   "source": [
    "columns_for_eda.White_Player.value_counts()"
   ]
  },
  {
   "cell_type": "code",
   "execution_count": 30,
   "metadata": {},
   "outputs": [],
   "source": [
    "White_Player_counts = columns_for_eda['White_Player'].value_counts()"
   ]
  },
  {
   "cell_type": "code",
   "execution_count": 31,
   "metadata": {},
   "outputs": [
    {
     "data": {
      "text/plain": [
       "zhigalko_sergei    493\n",
       "andrey11976        482\n",
       "dmitrijiiigm       456\n",
       "tuzakli_egitim     426\n",
       "littleplotkin      410\n",
       "                  ... \n",
       "platon_kalash        1\n",
       "remkof               1\n",
       "cipollino28          1\n",
       "sweetheart04         1\n",
       "dy0727               1\n",
       "Name: White_Player, Length: 24891, dtype: int64"
      ]
     },
     "execution_count": 31,
     "metadata": {},
     "output_type": "execute_result"
    }
   ],
   "source": [
    "White_Player_counts"
   ]
  },
  {
   "cell_type": "code",
   "execution_count": null,
   "metadata": {},
   "outputs": [],
   "source": [
    "plt.figure(figsize=(10, 6))\n",
    "White_Player_counts.plot(kind='barh', color='green')\n",
    "plt.xlabel('Количество игр')\n",
    "plt.title('Количество игр для игроков White_Player')\n",
    "plt.gca().invert_yaxis()  # Инвертируем ось Y\n",
    "plt.show()"
   ]
  },
  {
   "cell_type": "code",
   "execution_count": 41,
   "metadata": {
    "scrolled": true
   },
   "outputs": [
    {
     "ename": "KeyboardInterrupt",
     "evalue": "",
     "output_type": "error",
     "traceback": [
      "\u001b[0;31m---------------------------------------------------------------------------\u001b[0m",
      "\u001b[0;31mKeyboardInterrupt\u001b[0m                         Traceback (most recent call last)",
      "\u001b[0;32m<ipython-input-41-9d84647acd4b>\u001b[0m in \u001b[0;36m<module>\u001b[0;34m\u001b[0m\n\u001b[1;32m     10\u001b[0m \u001b[0mplt\u001b[0m\u001b[0;34m.\u001b[0m\u001b[0mxticks\u001b[0m\u001b[0;34m(\u001b[0m\u001b[0mrotation\u001b[0m\u001b[0;34m=\u001b[0m\u001b[0;36m0\u001b[0m\u001b[0;34m)\u001b[0m  \u001b[0;31m# Установите угол поворота на 0 для горизонтальных меток\u001b[0m\u001b[0;34m\u001b[0m\u001b[0;34m\u001b[0m\u001b[0m\n\u001b[1;32m     11\u001b[0m \u001b[0mplt\u001b[0m\u001b[0;34m.\u001b[0m\u001b[0mgrid\u001b[0m\u001b[0;34m(\u001b[0m\u001b[0maxis\u001b[0m\u001b[0;34m=\u001b[0m\u001b[0;34m'y'\u001b[0m\u001b[0;34m)\u001b[0m  \u001b[0;31m# Включаем сетку по оси Y для лучшей читабельности\u001b[0m\u001b[0;34m\u001b[0m\u001b[0;34m\u001b[0m\u001b[0m\n\u001b[0;32m---> 12\u001b[0;31m \u001b[0mplt\u001b[0m\u001b[0;34m.\u001b[0m\u001b[0mshow\u001b[0m\u001b[0;34m(\u001b[0m\u001b[0;34m)\u001b[0m\u001b[0;34m\u001b[0m\u001b[0;34m\u001b[0m\u001b[0m\n\u001b[0m",
      "\u001b[0;32m/opt/tljh/user/lib/python3.7/site-packages/matplotlib/pyplot.py\u001b[0m in \u001b[0;36mshow\u001b[0;34m(*args, **kw)\u001b[0m\n\u001b[1;32m    270\u001b[0m     \"\"\"\n\u001b[1;32m    271\u001b[0m     \u001b[0;32mglobal\u001b[0m \u001b[0m_show\u001b[0m\u001b[0;34m\u001b[0m\u001b[0;34m\u001b[0m\u001b[0m\n\u001b[0;32m--> 272\u001b[0;31m     \u001b[0;32mreturn\u001b[0m \u001b[0m_show\u001b[0m\u001b[0;34m(\u001b[0m\u001b[0;34m*\u001b[0m\u001b[0margs\u001b[0m\u001b[0;34m,\u001b[0m \u001b[0;34m**\u001b[0m\u001b[0mkw\u001b[0m\u001b[0;34m)\u001b[0m\u001b[0;34m\u001b[0m\u001b[0;34m\u001b[0m\u001b[0m\n\u001b[0m\u001b[1;32m    273\u001b[0m \u001b[0;34m\u001b[0m\u001b[0m\n\u001b[1;32m    274\u001b[0m \u001b[0;34m\u001b[0m\u001b[0m\n",
      "\u001b[0;32m/opt/tljh/user/lib/python3.7/site-packages/ipykernel/pylab/backend_inline.py\u001b[0m in \u001b[0;36mshow\u001b[0;34m(close, block)\u001b[0m\n\u001b[1;32m     41\u001b[0m             display(\n\u001b[1;32m     42\u001b[0m                 \u001b[0mfigure_manager\u001b[0m\u001b[0;34m.\u001b[0m\u001b[0mcanvas\u001b[0m\u001b[0;34m.\u001b[0m\u001b[0mfigure\u001b[0m\u001b[0;34m,\u001b[0m\u001b[0;34m\u001b[0m\u001b[0;34m\u001b[0m\u001b[0m\n\u001b[0;32m---> 43\u001b[0;31m                 \u001b[0mmetadata\u001b[0m\u001b[0;34m=\u001b[0m\u001b[0m_fetch_figure_metadata\u001b[0m\u001b[0;34m(\u001b[0m\u001b[0mfigure_manager\u001b[0m\u001b[0;34m.\u001b[0m\u001b[0mcanvas\u001b[0m\u001b[0;34m.\u001b[0m\u001b[0mfigure\u001b[0m\u001b[0;34m)\u001b[0m\u001b[0;34m\u001b[0m\u001b[0;34m\u001b[0m\u001b[0m\n\u001b[0m\u001b[1;32m     44\u001b[0m             )\n\u001b[1;32m     45\u001b[0m     \u001b[0;32mfinally\u001b[0m\u001b[0;34m:\u001b[0m\u001b[0;34m\u001b[0m\u001b[0;34m\u001b[0m\u001b[0m\n",
      "\u001b[0;32m/opt/tljh/user/lib/python3.7/site-packages/IPython/core/display.py\u001b[0m in \u001b[0;36mdisplay\u001b[0;34m(include, exclude, metadata, transient, display_id, *objs, **kwargs)\u001b[0m\n\u001b[1;32m    311\u001b[0m             \u001b[0mpublish_display_data\u001b[0m\u001b[0;34m(\u001b[0m\u001b[0mdata\u001b[0m\u001b[0;34m=\u001b[0m\u001b[0mobj\u001b[0m\u001b[0;34m,\u001b[0m \u001b[0mmetadata\u001b[0m\u001b[0;34m=\u001b[0m\u001b[0mmetadata\u001b[0m\u001b[0;34m,\u001b[0m \u001b[0;34m**\u001b[0m\u001b[0mkwargs\u001b[0m\u001b[0;34m)\u001b[0m\u001b[0;34m\u001b[0m\u001b[0;34m\u001b[0m\u001b[0m\n\u001b[1;32m    312\u001b[0m         \u001b[0;32melse\u001b[0m\u001b[0;34m:\u001b[0m\u001b[0;34m\u001b[0m\u001b[0;34m\u001b[0m\u001b[0m\n\u001b[0;32m--> 313\u001b[0;31m             \u001b[0mformat_dict\u001b[0m\u001b[0;34m,\u001b[0m \u001b[0mmd_dict\u001b[0m \u001b[0;34m=\u001b[0m \u001b[0mformat\u001b[0m\u001b[0;34m(\u001b[0m\u001b[0mobj\u001b[0m\u001b[0;34m,\u001b[0m \u001b[0minclude\u001b[0m\u001b[0;34m=\u001b[0m\u001b[0minclude\u001b[0m\u001b[0;34m,\u001b[0m \u001b[0mexclude\u001b[0m\u001b[0;34m=\u001b[0m\u001b[0mexclude\u001b[0m\u001b[0;34m)\u001b[0m\u001b[0;34m\u001b[0m\u001b[0;34m\u001b[0m\u001b[0m\n\u001b[0m\u001b[1;32m    314\u001b[0m             \u001b[0;32mif\u001b[0m \u001b[0;32mnot\u001b[0m \u001b[0mformat_dict\u001b[0m\u001b[0;34m:\u001b[0m\u001b[0;34m\u001b[0m\u001b[0;34m\u001b[0m\u001b[0m\n\u001b[1;32m    315\u001b[0m                 \u001b[0;31m# nothing to display (e.g. _ipython_display_ took over)\u001b[0m\u001b[0;34m\u001b[0m\u001b[0;34m\u001b[0m\u001b[0;34m\u001b[0m\u001b[0m\n",
      "\u001b[0;32m/opt/tljh/user/lib/python3.7/site-packages/IPython/core/formatters.py\u001b[0m in \u001b[0;36mformat\u001b[0;34m(self, obj, include, exclude)\u001b[0m\n\u001b[1;32m    178\u001b[0m             \u001b[0mmd\u001b[0m \u001b[0;34m=\u001b[0m \u001b[0;32mNone\u001b[0m\u001b[0;34m\u001b[0m\u001b[0;34m\u001b[0m\u001b[0m\n\u001b[1;32m    179\u001b[0m             \u001b[0;32mtry\u001b[0m\u001b[0;34m:\u001b[0m\u001b[0;34m\u001b[0m\u001b[0;34m\u001b[0m\u001b[0m\n\u001b[0;32m--> 180\u001b[0;31m                 \u001b[0mdata\u001b[0m \u001b[0;34m=\u001b[0m \u001b[0mformatter\u001b[0m\u001b[0;34m(\u001b[0m\u001b[0mobj\u001b[0m\u001b[0;34m)\u001b[0m\u001b[0;34m\u001b[0m\u001b[0;34m\u001b[0m\u001b[0m\n\u001b[0m\u001b[1;32m    181\u001b[0m             \u001b[0;32mexcept\u001b[0m\u001b[0;34m:\u001b[0m\u001b[0;34m\u001b[0m\u001b[0;34m\u001b[0m\u001b[0m\n\u001b[1;32m    182\u001b[0m                 \u001b[0;31m# FIXME: log the exception\u001b[0m\u001b[0;34m\u001b[0m\u001b[0;34m\u001b[0m\u001b[0;34m\u001b[0m\u001b[0m\n",
      "\u001b[0;32m</opt/tljh/user/lib/python3.7/site-packages/decorator.py:decorator-gen-9>\u001b[0m in \u001b[0;36m__call__\u001b[0;34m(self, obj)\u001b[0m\n",
      "\u001b[0;32m/opt/tljh/user/lib/python3.7/site-packages/IPython/core/formatters.py\u001b[0m in \u001b[0;36mcatch_format_error\u001b[0;34m(method, self, *args, **kwargs)\u001b[0m\n\u001b[1;32m    222\u001b[0m     \u001b[0;34m\"\"\"show traceback on failed format call\"\"\"\u001b[0m\u001b[0;34m\u001b[0m\u001b[0;34m\u001b[0m\u001b[0m\n\u001b[1;32m    223\u001b[0m     \u001b[0;32mtry\u001b[0m\u001b[0;34m:\u001b[0m\u001b[0;34m\u001b[0m\u001b[0;34m\u001b[0m\u001b[0m\n\u001b[0;32m--> 224\u001b[0;31m         \u001b[0mr\u001b[0m \u001b[0;34m=\u001b[0m \u001b[0mmethod\u001b[0m\u001b[0;34m(\u001b[0m\u001b[0mself\u001b[0m\u001b[0;34m,\u001b[0m \u001b[0;34m*\u001b[0m\u001b[0margs\u001b[0m\u001b[0;34m,\u001b[0m \u001b[0;34m**\u001b[0m\u001b[0mkwargs\u001b[0m\u001b[0;34m)\u001b[0m\u001b[0;34m\u001b[0m\u001b[0;34m\u001b[0m\u001b[0m\n\u001b[0m\u001b[1;32m    225\u001b[0m     \u001b[0;32mexcept\u001b[0m \u001b[0mNotImplementedError\u001b[0m\u001b[0;34m:\u001b[0m\u001b[0;34m\u001b[0m\u001b[0;34m\u001b[0m\u001b[0m\n\u001b[1;32m    226\u001b[0m         \u001b[0;31m# don't warn on NotImplementedErrors\u001b[0m\u001b[0;34m\u001b[0m\u001b[0;34m\u001b[0m\u001b[0;34m\u001b[0m\u001b[0m\n",
      "\u001b[0;32m/opt/tljh/user/lib/python3.7/site-packages/IPython/core/formatters.py\u001b[0m in \u001b[0;36m__call__\u001b[0;34m(self, obj)\u001b[0m\n\u001b[1;32m    339\u001b[0m                 \u001b[0;32mpass\u001b[0m\u001b[0;34m\u001b[0m\u001b[0;34m\u001b[0m\u001b[0m\n\u001b[1;32m    340\u001b[0m             \u001b[0;32melse\u001b[0m\u001b[0;34m:\u001b[0m\u001b[0;34m\u001b[0m\u001b[0;34m\u001b[0m\u001b[0m\n\u001b[0;32m--> 341\u001b[0;31m                 \u001b[0;32mreturn\u001b[0m \u001b[0mprinter\u001b[0m\u001b[0;34m(\u001b[0m\u001b[0mobj\u001b[0m\u001b[0;34m)\u001b[0m\u001b[0;34m\u001b[0m\u001b[0;34m\u001b[0m\u001b[0m\n\u001b[0m\u001b[1;32m    342\u001b[0m             \u001b[0;31m# Finally look for special method names\u001b[0m\u001b[0;34m\u001b[0m\u001b[0;34m\u001b[0m\u001b[0;34m\u001b[0m\u001b[0m\n\u001b[1;32m    343\u001b[0m             \u001b[0mmethod\u001b[0m \u001b[0;34m=\u001b[0m \u001b[0mget_real_method\u001b[0m\u001b[0;34m(\u001b[0m\u001b[0mobj\u001b[0m\u001b[0;34m,\u001b[0m \u001b[0mself\u001b[0m\u001b[0;34m.\u001b[0m\u001b[0mprint_method\u001b[0m\u001b[0;34m)\u001b[0m\u001b[0;34m\u001b[0m\u001b[0;34m\u001b[0m\u001b[0m\n",
      "\u001b[0;32m/opt/tljh/user/lib/python3.7/site-packages/IPython/core/pylabtools.py\u001b[0m in \u001b[0;36m<lambda>\u001b[0;34m(fig)\u001b[0m\n\u001b[1;32m    246\u001b[0m \u001b[0;34m\u001b[0m\u001b[0m\n\u001b[1;32m    247\u001b[0m     \u001b[0;32mif\u001b[0m \u001b[0;34m'png'\u001b[0m \u001b[0;32min\u001b[0m \u001b[0mformats\u001b[0m\u001b[0;34m:\u001b[0m\u001b[0;34m\u001b[0m\u001b[0;34m\u001b[0m\u001b[0m\n\u001b[0;32m--> 248\u001b[0;31m         \u001b[0mpng_formatter\u001b[0m\u001b[0;34m.\u001b[0m\u001b[0mfor_type\u001b[0m\u001b[0;34m(\u001b[0m\u001b[0mFigure\u001b[0m\u001b[0;34m,\u001b[0m \u001b[0;32mlambda\u001b[0m \u001b[0mfig\u001b[0m\u001b[0;34m:\u001b[0m \u001b[0mprint_figure\u001b[0m\u001b[0;34m(\u001b[0m\u001b[0mfig\u001b[0m\u001b[0;34m,\u001b[0m \u001b[0;34m'png'\u001b[0m\u001b[0;34m,\u001b[0m \u001b[0;34m**\u001b[0m\u001b[0mkwargs\u001b[0m\u001b[0;34m)\u001b[0m\u001b[0;34m)\u001b[0m\u001b[0;34m\u001b[0m\u001b[0;34m\u001b[0m\u001b[0m\n\u001b[0m\u001b[1;32m    249\u001b[0m     \u001b[0;32mif\u001b[0m \u001b[0;34m'retina'\u001b[0m \u001b[0;32min\u001b[0m \u001b[0mformats\u001b[0m \u001b[0;32mor\u001b[0m \u001b[0;34m'png2x'\u001b[0m \u001b[0;32min\u001b[0m \u001b[0mformats\u001b[0m\u001b[0;34m:\u001b[0m\u001b[0;34m\u001b[0m\u001b[0;34m\u001b[0m\u001b[0m\n\u001b[1;32m    250\u001b[0m         \u001b[0mpng_formatter\u001b[0m\u001b[0;34m.\u001b[0m\u001b[0mfor_type\u001b[0m\u001b[0;34m(\u001b[0m\u001b[0mFigure\u001b[0m\u001b[0;34m,\u001b[0m \u001b[0;32mlambda\u001b[0m \u001b[0mfig\u001b[0m\u001b[0;34m:\u001b[0m \u001b[0mretina_figure\u001b[0m\u001b[0;34m(\u001b[0m\u001b[0mfig\u001b[0m\u001b[0;34m,\u001b[0m \u001b[0;34m**\u001b[0m\u001b[0mkwargs\u001b[0m\u001b[0;34m)\u001b[0m\u001b[0;34m)\u001b[0m\u001b[0;34m\u001b[0m\u001b[0;34m\u001b[0m\u001b[0m\n",
      "\u001b[0;32m/opt/tljh/user/lib/python3.7/site-packages/IPython/core/pylabtools.py\u001b[0m in \u001b[0;36mprint_figure\u001b[0;34m(fig, fmt, bbox_inches, **kwargs)\u001b[0m\n\u001b[1;32m    130\u001b[0m         \u001b[0mFigureCanvasBase\u001b[0m\u001b[0;34m(\u001b[0m\u001b[0mfig\u001b[0m\u001b[0;34m)\u001b[0m\u001b[0;34m\u001b[0m\u001b[0;34m\u001b[0m\u001b[0m\n\u001b[1;32m    131\u001b[0m \u001b[0;34m\u001b[0m\u001b[0m\n\u001b[0;32m--> 132\u001b[0;31m     \u001b[0mfig\u001b[0m\u001b[0;34m.\u001b[0m\u001b[0mcanvas\u001b[0m\u001b[0;34m.\u001b[0m\u001b[0mprint_figure\u001b[0m\u001b[0;34m(\u001b[0m\u001b[0mbytes_io\u001b[0m\u001b[0;34m,\u001b[0m \u001b[0;34m**\u001b[0m\u001b[0mkw\u001b[0m\u001b[0;34m)\u001b[0m\u001b[0;34m\u001b[0m\u001b[0;34m\u001b[0m\u001b[0m\n\u001b[0m\u001b[1;32m    133\u001b[0m     \u001b[0mdata\u001b[0m \u001b[0;34m=\u001b[0m \u001b[0mbytes_io\u001b[0m\u001b[0;34m.\u001b[0m\u001b[0mgetvalue\u001b[0m\u001b[0;34m(\u001b[0m\u001b[0;34m)\u001b[0m\u001b[0;34m\u001b[0m\u001b[0;34m\u001b[0m\u001b[0m\n\u001b[1;32m    134\u001b[0m     \u001b[0;32mif\u001b[0m \u001b[0mfmt\u001b[0m \u001b[0;34m==\u001b[0m \u001b[0;34m'svg'\u001b[0m\u001b[0;34m:\u001b[0m\u001b[0;34m\u001b[0m\u001b[0;34m\u001b[0m\u001b[0m\n",
      "\u001b[0;32m/opt/tljh/user/lib/python3.7/site-packages/matplotlib/backend_bases.py\u001b[0m in \u001b[0;36mprint_figure\u001b[0;34m(self, filename, dpi, facecolor, edgecolor, orientation, format, bbox_inches, **kwargs)\u001b[0m\n\u001b[1;32m   2080\u001b[0m                     \u001b[0mbbox_artists\u001b[0m \u001b[0;34m=\u001b[0m \u001b[0mkwargs\u001b[0m\u001b[0;34m.\u001b[0m\u001b[0mpop\u001b[0m\u001b[0;34m(\u001b[0m\u001b[0;34m\"bbox_extra_artists\"\u001b[0m\u001b[0;34m,\u001b[0m \u001b[0;32mNone\u001b[0m\u001b[0;34m)\u001b[0m\u001b[0;34m\u001b[0m\u001b[0;34m\u001b[0m\u001b[0m\n\u001b[1;32m   2081\u001b[0m                     bbox_inches = self.figure.get_tightbbox(renderer,\n\u001b[0;32m-> 2082\u001b[0;31m                             bbox_extra_artists=bbox_artists)\n\u001b[0m\u001b[1;32m   2083\u001b[0m                     \u001b[0mpad\u001b[0m \u001b[0;34m=\u001b[0m \u001b[0mkwargs\u001b[0m\u001b[0;34m.\u001b[0m\u001b[0mpop\u001b[0m\u001b[0;34m(\u001b[0m\u001b[0;34m\"pad_inches\"\u001b[0m\u001b[0;34m,\u001b[0m \u001b[0;32mNone\u001b[0m\u001b[0;34m)\u001b[0m\u001b[0;34m\u001b[0m\u001b[0;34m\u001b[0m\u001b[0m\n\u001b[1;32m   2084\u001b[0m                     \u001b[0;32mif\u001b[0m \u001b[0mpad\u001b[0m \u001b[0;32mis\u001b[0m \u001b[0;32mNone\u001b[0m\u001b[0;34m:\u001b[0m\u001b[0;34m\u001b[0m\u001b[0;34m\u001b[0m\u001b[0m\n",
      "\u001b[0;32m/opt/tljh/user/lib/python3.7/site-packages/matplotlib/figure.py\u001b[0m in \u001b[0;36mget_tightbbox\u001b[0;34m(self, renderer, bbox_extra_artists)\u001b[0m\n\u001b[1;32m   2383\u001b[0m \u001b[0;34m\u001b[0m\u001b[0m\n\u001b[1;32m   2384\u001b[0m         \u001b[0;32mfor\u001b[0m \u001b[0ma\u001b[0m \u001b[0;32min\u001b[0m \u001b[0martists\u001b[0m\u001b[0;34m:\u001b[0m\u001b[0;34m\u001b[0m\u001b[0;34m\u001b[0m\u001b[0m\n\u001b[0;32m-> 2385\u001b[0;31m             \u001b[0mbbox\u001b[0m \u001b[0;34m=\u001b[0m \u001b[0ma\u001b[0m\u001b[0;34m.\u001b[0m\u001b[0mget_tightbbox\u001b[0m\u001b[0;34m(\u001b[0m\u001b[0mrenderer\u001b[0m\u001b[0;34m)\u001b[0m\u001b[0;34m\u001b[0m\u001b[0;34m\u001b[0m\u001b[0m\n\u001b[0m\u001b[1;32m   2386\u001b[0m             \u001b[0;32mif\u001b[0m \u001b[0mbbox\u001b[0m \u001b[0;32mis\u001b[0m \u001b[0;32mnot\u001b[0m \u001b[0;32mNone\u001b[0m \u001b[0;32mand\u001b[0m \u001b[0;34m(\u001b[0m\u001b[0mbbox\u001b[0m\u001b[0;34m.\u001b[0m\u001b[0mwidth\u001b[0m \u001b[0;34m!=\u001b[0m \u001b[0;36m0\u001b[0m \u001b[0;32mor\u001b[0m \u001b[0mbbox\u001b[0m\u001b[0;34m.\u001b[0m\u001b[0mheight\u001b[0m \u001b[0;34m!=\u001b[0m \u001b[0;36m0\u001b[0m\u001b[0;34m)\u001b[0m\u001b[0;34m:\u001b[0m\u001b[0;34m\u001b[0m\u001b[0;34m\u001b[0m\u001b[0m\n\u001b[1;32m   2387\u001b[0m                 \u001b[0mbb\u001b[0m\u001b[0;34m.\u001b[0m\u001b[0mappend\u001b[0m\u001b[0;34m(\u001b[0m\u001b[0mbbox\u001b[0m\u001b[0;34m)\u001b[0m\u001b[0;34m\u001b[0m\u001b[0;34m\u001b[0m\u001b[0m\n",
      "\u001b[0;32m/opt/tljh/user/lib/python3.7/site-packages/matplotlib/axes/_base.py\u001b[0m in \u001b[0;36mget_tightbbox\u001b[0;34m(self, renderer, call_axes_locator, bbox_extra_artists)\u001b[0m\n\u001b[1;32m   4315\u001b[0m \u001b[0;34m\u001b[0m\u001b[0m\n\u001b[1;32m   4316\u001b[0m         \u001b[0;32mif\u001b[0m \u001b[0mself\u001b[0m\u001b[0;34m.\u001b[0m\u001b[0maxison\u001b[0m\u001b[0;34m:\u001b[0m\u001b[0;34m\u001b[0m\u001b[0;34m\u001b[0m\u001b[0m\n\u001b[0;32m-> 4317\u001b[0;31m             \u001b[0mbb_xaxis\u001b[0m \u001b[0;34m=\u001b[0m \u001b[0mself\u001b[0m\u001b[0;34m.\u001b[0m\u001b[0mxaxis\u001b[0m\u001b[0;34m.\u001b[0m\u001b[0mget_tightbbox\u001b[0m\u001b[0;34m(\u001b[0m\u001b[0mrenderer\u001b[0m\u001b[0;34m)\u001b[0m\u001b[0;34m\u001b[0m\u001b[0;34m\u001b[0m\u001b[0m\n\u001b[0m\u001b[1;32m   4318\u001b[0m             \u001b[0;32mif\u001b[0m \u001b[0mbb_xaxis\u001b[0m\u001b[0;34m:\u001b[0m\u001b[0;34m\u001b[0m\u001b[0;34m\u001b[0m\u001b[0m\n\u001b[1;32m   4319\u001b[0m                 \u001b[0mbb\u001b[0m\u001b[0;34m.\u001b[0m\u001b[0mappend\u001b[0m\u001b[0;34m(\u001b[0m\u001b[0mbb_xaxis\u001b[0m\u001b[0;34m)\u001b[0m\u001b[0;34m\u001b[0m\u001b[0;34m\u001b[0m\u001b[0m\n",
      "\u001b[0;32m/opt/tljh/user/lib/python3.7/site-packages/matplotlib/axis.py\u001b[0m in \u001b[0;36mget_tightbbox\u001b[0;34m(self, renderer)\u001b[0m\n\u001b[1;32m   1190\u001b[0m         \u001b[0;31m# go back to just this axis's tick labels\u001b[0m\u001b[0;34m\u001b[0m\u001b[0;34m\u001b[0m\u001b[0;34m\u001b[0m\u001b[0m\n\u001b[1;32m   1191\u001b[0m         ticklabelBoxes, ticklabelBoxes2 = self._get_tick_bboxes(\n\u001b[0;32m-> 1192\u001b[0;31m                     ticks_to_draw, renderer)\n\u001b[0m\u001b[1;32m   1193\u001b[0m \u001b[0;34m\u001b[0m\u001b[0m\n\u001b[1;32m   1194\u001b[0m         \u001b[0mself\u001b[0m\u001b[0;34m.\u001b[0m\u001b[0m_update_offset_text_position\u001b[0m\u001b[0;34m(\u001b[0m\u001b[0mticklabelBoxes\u001b[0m\u001b[0;34m,\u001b[0m \u001b[0mticklabelBoxes2\u001b[0m\u001b[0;34m)\u001b[0m\u001b[0;34m\u001b[0m\u001b[0;34m\u001b[0m\u001b[0m\n",
      "\u001b[0;32m/opt/tljh/user/lib/python3.7/site-packages/matplotlib/axis.py\u001b[0m in \u001b[0;36m_get_tick_bboxes\u001b[0;34m(self, ticks, renderer)\u001b[0m\n\u001b[1;32m   1172\u001b[0m         \u001b[0;34m\"\"\"Return lists of bboxes for ticks' label1's and label2's.\"\"\"\u001b[0m\u001b[0;34m\u001b[0m\u001b[0;34m\u001b[0m\u001b[0m\n\u001b[1;32m   1173\u001b[0m         return ([tick.label1.get_window_extent(renderer)\n\u001b[0;32m-> 1174\u001b[0;31m                  for tick in ticks if tick.label1.get_visible()],\n\u001b[0m\u001b[1;32m   1175\u001b[0m                 [tick.label2.get_window_extent(renderer)\n\u001b[1;32m   1176\u001b[0m                  for tick in ticks if tick.label2.get_visible()])\n",
      "\u001b[0;32m/opt/tljh/user/lib/python3.7/site-packages/matplotlib/axis.py\u001b[0m in \u001b[0;36m<listcomp>\u001b[0;34m(.0)\u001b[0m\n\u001b[1;32m   1172\u001b[0m         \u001b[0;34m\"\"\"Return lists of bboxes for ticks' label1's and label2's.\"\"\"\u001b[0m\u001b[0;34m\u001b[0m\u001b[0;34m\u001b[0m\u001b[0m\n\u001b[1;32m   1173\u001b[0m         return ([tick.label1.get_window_extent(renderer)\n\u001b[0;32m-> 1174\u001b[0;31m                  for tick in ticks if tick.label1.get_visible()],\n\u001b[0m\u001b[1;32m   1175\u001b[0m                 [tick.label2.get_window_extent(renderer)\n\u001b[1;32m   1176\u001b[0m                  for tick in ticks if tick.label2.get_visible()])\n",
      "\u001b[0;32m/opt/tljh/user/lib/python3.7/site-packages/matplotlib/text.py\u001b[0m in \u001b[0;36mget_window_extent\u001b[0;34m(self, renderer, dpi)\u001b[0m\n\u001b[1;32m    903\u001b[0m             \u001b[0;32mraise\u001b[0m \u001b[0mRuntimeError\u001b[0m\u001b[0;34m(\u001b[0m\u001b[0;34m'Cannot get window extent w/o renderer'\u001b[0m\u001b[0;34m)\u001b[0m\u001b[0;34m\u001b[0m\u001b[0;34m\u001b[0m\u001b[0m\n\u001b[1;32m    904\u001b[0m \u001b[0;34m\u001b[0m\u001b[0m\n\u001b[0;32m--> 905\u001b[0;31m         \u001b[0mbbox\u001b[0m\u001b[0;34m,\u001b[0m \u001b[0minfo\u001b[0m\u001b[0;34m,\u001b[0m \u001b[0mdescent\u001b[0m \u001b[0;34m=\u001b[0m \u001b[0mself\u001b[0m\u001b[0;34m.\u001b[0m\u001b[0m_get_layout\u001b[0m\u001b[0;34m(\u001b[0m\u001b[0mself\u001b[0m\u001b[0;34m.\u001b[0m\u001b[0m_renderer\u001b[0m\u001b[0;34m)\u001b[0m\u001b[0;34m\u001b[0m\u001b[0;34m\u001b[0m\u001b[0m\n\u001b[0m\u001b[1;32m    906\u001b[0m         \u001b[0mx\u001b[0m\u001b[0;34m,\u001b[0m \u001b[0my\u001b[0m \u001b[0;34m=\u001b[0m \u001b[0mself\u001b[0m\u001b[0;34m.\u001b[0m\u001b[0mget_unitless_position\u001b[0m\u001b[0;34m(\u001b[0m\u001b[0;34m)\u001b[0m\u001b[0;34m\u001b[0m\u001b[0;34m\u001b[0m\u001b[0m\n\u001b[1;32m    907\u001b[0m         \u001b[0mx\u001b[0m\u001b[0;34m,\u001b[0m \u001b[0my\u001b[0m \u001b[0;34m=\u001b[0m \u001b[0mself\u001b[0m\u001b[0;34m.\u001b[0m\u001b[0mget_transform\u001b[0m\u001b[0;34m(\u001b[0m\u001b[0;34m)\u001b[0m\u001b[0;34m.\u001b[0m\u001b[0mtransform\u001b[0m\u001b[0;34m(\u001b[0m\u001b[0;34m(\u001b[0m\u001b[0mx\u001b[0m\u001b[0;34m,\u001b[0m \u001b[0my\u001b[0m\u001b[0;34m)\u001b[0m\u001b[0;34m)\u001b[0m\u001b[0;34m\u001b[0m\u001b[0;34m\u001b[0m\u001b[0m\n",
      "\u001b[0;32m/opt/tljh/user/lib/python3.7/site-packages/matplotlib/text.py\u001b[0m in \u001b[0;36m_get_layout\u001b[0;34m(self, renderer)\u001b[0m\n\u001b[1;32m    423\u001b[0m         \u001b[0mxys\u001b[0m \u001b[0;34m=\u001b[0m \u001b[0mM\u001b[0m\u001b[0;34m.\u001b[0m\u001b[0mtransform\u001b[0m\u001b[0;34m(\u001b[0m\u001b[0moffset_layout\u001b[0m\u001b[0;34m)\u001b[0m \u001b[0;34m-\u001b[0m \u001b[0;34m(\u001b[0m\u001b[0moffsetx\u001b[0m\u001b[0;34m,\u001b[0m \u001b[0moffsety\u001b[0m\u001b[0;34m)\u001b[0m\u001b[0;34m\u001b[0m\u001b[0;34m\u001b[0m\u001b[0m\n\u001b[1;32m    424\u001b[0m \u001b[0;34m\u001b[0m\u001b[0m\n\u001b[0;32m--> 425\u001b[0;31m         \u001b[0mret\u001b[0m \u001b[0;34m=\u001b[0m \u001b[0mbbox\u001b[0m\u001b[0;34m,\u001b[0m \u001b[0mlist\u001b[0m\u001b[0;34m(\u001b[0m\u001b[0mzip\u001b[0m\u001b[0;34m(\u001b[0m\u001b[0mlines\u001b[0m\u001b[0;34m,\u001b[0m \u001b[0mzip\u001b[0m\u001b[0;34m(\u001b[0m\u001b[0mws\u001b[0m\u001b[0;34m,\u001b[0m \u001b[0mhs\u001b[0m\u001b[0;34m)\u001b[0m\u001b[0;34m,\u001b[0m \u001b[0;34m*\u001b[0m\u001b[0mxys\u001b[0m\u001b[0;34m.\u001b[0m\u001b[0mT\u001b[0m\u001b[0;34m)\u001b[0m\u001b[0;34m)\u001b[0m\u001b[0;34m,\u001b[0m \u001b[0mdescent\u001b[0m\u001b[0;34m\u001b[0m\u001b[0;34m\u001b[0m\u001b[0m\n\u001b[0m\u001b[1;32m    426\u001b[0m         \u001b[0mself\u001b[0m\u001b[0;34m.\u001b[0m\u001b[0m_cached\u001b[0m\u001b[0;34m[\u001b[0m\u001b[0mkey\u001b[0m\u001b[0;34m]\u001b[0m \u001b[0;34m=\u001b[0m \u001b[0mret\u001b[0m\u001b[0;34m\u001b[0m\u001b[0;34m\u001b[0m\u001b[0m\n\u001b[1;32m    427\u001b[0m         \u001b[0;32mreturn\u001b[0m \u001b[0mret\u001b[0m\u001b[0;34m\u001b[0m\u001b[0;34m\u001b[0m\u001b[0m\n",
      "\u001b[0;31mKeyboardInterrupt\u001b[0m: "
     ]
    }
   ],
   "source": [
    "import pandas as pd\n",
    "import matplotlib.pyplot as plt\n",
    "import seaborn as sns\n",
    "\n",
    "plt.figure(figsize=(8, 5))\n",
    "sns.barplot(x=White_Player_counts.index, y=White_Player_counts.values, palette='viridis')\n",
    "plt.title('Количество игр для игроков White_Player')\n",
    "plt.xlabel('Играющий \"Белыми\"')\n",
    "plt.ylabel('Количество игр')\n",
    "plt.xticks(rotation=0)  # Установите угол поворота на 0 для горизонтальных меток\n",
    "plt.grid(axis='y')  # Включаем сетку по оси Y для лучшей читабельности\n",
    "plt.show()"
   ]
  },
  {
   "cell_type": "markdown",
   "metadata": {},
   "source": [
    "Описание: Разброс очков варьируется от 1 до 493. Самый успешный в этом списке игрок набрал 493 очка с ником \"zhigalko_sergei\". "
   ]
  },
  {
   "cell_type": "markdown",
   "metadata": {},
   "source": [
    "6. Анализ столбца White_Title "
   ]
  },
  {
   "cell_type": "code",
   "execution_count": 34,
   "metadata": {},
   "outputs": [
    {
     "data": {
      "text/plain": [
       "other    94079\n",
       "GM       17689\n",
       "IM       11676\n",
       "FM       11509\n",
       "CM        3108\n",
       "NM        2463\n",
       "BOT        165\n",
       "LM          47\n",
       "WFM         24\n",
       "WIM         18\n",
       "WCM         12\n",
       "WGM          2\n",
       "Name: White_Title, dtype: int64"
      ]
     },
     "execution_count": 34,
     "metadata": {},
     "output_type": "execute_result"
    }
   ],
   "source": [
    "columns_for_eda.White_Title.value_counts()"
   ]
  },
  {
   "cell_type": "markdown",
   "metadata": {},
   "source": [
    "В колонке White_Title представлены  звания игрока, который играет белыми.\n",
    "otрer - другие, т.е. игроки, не достигшие звания.\n",
    "GM (Grandmaster) - Гроссмейстер \n",
    "IM (International Master) - Международный мастер \n",
    "FM (FIDE Master)  - Мастер ФИДЕ\n",
    "CM (Candidate Master) - Кандидат в мастера\n",
    "WGM (Woman Grandmaster) - Женщина-гроссмейстер\n",
    "WIM (Woman International Master) - Женщина - международный мастер\n",
    "WFM (Woman FIDE Master) - Женщина - мастер ФИДЕ\n",
    "WCM (Woman Candidate Master) - Женщина-кандидат в мастера\n"
   ]
  },
  {
   "cell_type": "code",
   "execution_count": 36,
   "metadata": {},
   "outputs": [],
   "source": [
    "White_Title_counts = columns_for_eda['White_Title'].value_counts()"
   ]
  },
  {
   "cell_type": "code",
   "execution_count": 37,
   "metadata": {
    "scrolled": true
   },
   "outputs": [
    {
     "data": {
      "text/plain": [
       "other    94079\n",
       "GM       17689\n",
       "IM       11676\n",
       "FM       11509\n",
       "CM        3108\n",
       "NM        2463\n",
       "BOT        165\n",
       "LM          47\n",
       "WFM         24\n",
       "WIM         18\n",
       "WCM         12\n",
       "WGM          2\n",
       "Name: White_Title, dtype: int64"
      ]
     },
     "execution_count": 37,
     "metadata": {},
     "output_type": "execute_result"
    }
   ],
   "source": [
    "White_Title_counts"
   ]
  },
  {
   "cell_type": "code",
   "execution_count": 38,
   "metadata": {
    "scrolled": true
   },
   "outputs": [
    {
     "data": {
      "image/png": "[encoded data removed]",
      "text/plain": [
       "<Figure size 576x360 with 1 Axes>"
      ]
     },
     "metadata": {
      "needs_background": "light"
     },
     "output_type": "display_data"
    }
   ],
   "source": [
    "plt.figure(figsize=(8, 5))\n",
    "sns.barplot(x=White_Title_counts.index, y=White_Title_counts.values, palette='viridis')\n",
    "plt.title('Количество игр для игроков White_Title')\n",
    "plt.xlabel('Звание')\n",
    "plt.ylabel('Количество игроков')\n",
    "plt.xticks(rotation=0)  # Установите угол поворота на 0 для горизонтальных меток\n",
    "plt.grid(axis='y')  # Включаем сетку по оси Y для лучшей читабельности\n",
    "plt.show()"
   ]
  },
  {
   "cell_type": "markdown",
   "metadata": {},
   "source": [
    "Вывод.\n",
    "Как мы видим, к категории \"other\" относится наибольшее число игроков, 94079 игрока, т.е. большниство шахматистов не являются титулованными. Возможно, это игроки, которые заинтересовались шахматами, решили попробовать себя и свои силы, но не стали продолжать, не так сильно ими увлеклись. \n",
    "\n",
    "Титул, который имеют наибольшее количество игроков  - GM - Титул Гроссмейстера, его получили 17689 игроков. Этот титут является самым высоким и престижным званием в шахматах. Это может свидетельствовать о том, что игроки стремятся к получению именно этого звания.\n",
    "\n",
    "Также, отметим, что Титулов, полученных игроками-женщинами, существенно меньше, количество таких игроков варьируется от 2 до 24. Максимальное количество игроков с Титулом WFM (Женщина - мастер ФИДЕ)  - 24 игрока. Минимальное количество игроков-женщин с Титулом WGM (Женщина-Гроссмейстер) - 2 игрока. Это может говорить о том, что женщины в меньшей степени стремятся к достижению определенного Титула.          "
   ]
  },
  {
   "cell_type": "markdown",
   "metadata": {},
   "source": [
    "6. Анализ столбца Black_Player "
   ]
  },
  {
   "cell_type": "code",
   "execution_count": 39,
   "metadata": {
    "scrolled": false
   },
   "outputs": [
    {
     "data": {
      "text/plain": [
       "andrey11976         471\n",
       "zhigalko_sergei     469\n",
       "dmitrijiiigm        456\n",
       "ediz_gurel          416\n",
       "littleplotkin       415\n",
       "                   ... \n",
       "spectral-ai           1\n",
       "itayakiri             1\n",
       "olemor                1\n",
       "amirkhanyan_karo      1\n",
       "kaptenevans           1\n",
       "Name: Black_Player, Length: 25227, dtype: int64"
      ]
     },
     "execution_count": 39,
     "metadata": {},
     "output_type": "execute_result"
    }
   ],
   "source": [
    "columns_for_eda.Black_Player.value_counts()"
   ]
  },
  {
   "cell_type": "markdown",
   "metadata": {},
   "source": [
    "Разброс очков варьируется от 1 до 493. Самый успешный в этом списке игрок набрал 493 очка с ником \"andrey11976\". "
   ]
  },
  {
   "cell_type": "code",
   "execution_count": 42,
   "metadata": {},
   "outputs": [
    {
     "data": {
      "text/plain": [
       "andrey11976         471\n",
       "zhigalko_sergei     469\n",
       "dmitrijiiigm        456\n",
       "ediz_gurel          416\n",
       "littleplotkin       415\n",
       "                   ... \n",
       "spectral-ai           1\n",
       "itayakiri             1\n",
       "olemor                1\n",
       "amirkhanyan_karo      1\n",
       "kaptenevans           1\n",
       "Name: Black_Player, Length: 25227, dtype: int64"
      ]
     },
     "execution_count": 42,
     "metadata": {},
     "output_type": "execute_result"
    }
   ],
   "source": [
    "Black_Player_counts = columns_for_eda['Black_Player'].value_counts()\n",
    "Black_Player_counts"
   ]
  },
  {
   "cell_type": "code",
   "execution_count": null,
   "metadata": {},
   "outputs": [],
   "source": [
    "import pandas as pd\n",
    "import matplotlib.pyplot as plt\n",
    "import seaborn as sns\n",
    "\n",
    "plt.figure(figsize=(8, 5))\n",
    "sns.barplot(x=Black_Player_counts.index, y=Black_Player_counts.values, palette='viridis')\n",
    "plt.title('Количество игр для игроков Black_Player')\n",
    "plt.xlabel('Играющий \"Черными\"')\n",
    "plt.ylabel('Количество игр')\n",
    "plt.xticks(rotation=0)  # Установите угол поворота на 0 для горизонтальных меток\n",
    "plt.grid(axis='y')  # Включаем сетку по оси Y для лучшей читабельности\n",
    "plt.show()"
   ]
  },
  {
   "cell_type": "markdown",
   "metadata": {},
   "source": [
    "8. Анализ столбца Black_Title "
   ]
  },
  {
   "cell_type": "code",
   "execution_count": 43,
   "metadata": {},
   "outputs": [
    {
     "data": {
      "text/plain": [
       "other    94280\n",
       "GM       17787\n",
       "FM       11677\n",
       "IM       11364\n",
       "CM        3023\n",
       "NM        2512\n",
       "LM          50\n",
       "WFM         39\n",
       "BOT         25\n",
       "WIM         18\n",
       "WCM         11\n",
       "WGM          6\n",
       "Name: Black_Title, dtype: int64"
      ]
     },
     "execution_count": 43,
     "metadata": {},
     "output_type": "execute_result"
    }
   ],
   "source": [
    "columns_for_eda.Black_Title.value_counts()"
   ]
  },
  {
   "cell_type": "markdown",
   "metadata": {},
   "source": [
    "В колонке Black_Title представлены  звания игрока, который играет белыми.\n",
    "other - другие, т.е. игроки, не достигшие звания.\n",
    "GM (Grandmaster) - Гроссмейстер \n",
    "IM (International Master) - Международный мастер \n",
    "FM (FIDE Master)  - Мастер ФИДЕ\n",
    "CM (Candidate Master) - Кандидат в мастера\n",
    "WGM (Woman Grandmaster) - Женщина-гроссмейстер\n",
    "WIM (Woman International Master) - Женщина - международный мастер\n",
    "WFM (Woman FIDE Master) - Женщина - мастер ФИДЕ\n",
    "WCM (Woman Candidate Master) - Женщина-кандидат в мастера\n"
   ]
  },
  {
   "cell_type": "code",
   "execution_count": 44,
   "metadata": {},
   "outputs": [],
   "source": [
    "Black_Title_counts = columns_for_eda['Black_Title'].value_counts()"
   ]
  },
  {
   "cell_type": "code",
   "execution_count": 45,
   "metadata": {
    "scrolled": true
   },
   "outputs": [
    {
     "data": {
      "text/plain": [
       "other    94280\n",
       "GM       17787\n",
       "FM       11677\n",
       "IM       11364\n",
       "CM        3023\n",
       "NM        2512\n",
       "LM          50\n",
       "WFM         39\n",
       "BOT         25\n",
       "WIM         18\n",
       "WCM         11\n",
       "WGM          6\n",
       "Name: Black_Title, dtype: int64"
      ]
     },
     "execution_count": 45,
     "metadata": {},
     "output_type": "execute_result"
    }
   ],
   "source": [
    "Black_Title_counts"
   ]
  },
  {
   "cell_type": "code",
   "execution_count": 46,
   "metadata": {},
   "outputs": [
    {
     "data": {
      "image/png": "[encoded data removed]",
      "text/plain": [
       "<Figure size 576x360 with 1 Axes>"
      ]
     },
     "metadata": {
      "needs_background": "light"
     },
     "output_type": "display_data"
    }
   ],
   "source": [
    "plt.figure(figsize=(8, 5))\n",
    "sns.barplot(x=Black_Title_counts.index, y=Black_Title_counts.values, palette='viridis')\n",
    "plt.title('Количество игр для игроков Black_Title')\n",
    "plt.xlabel('Звание')\n",
    "plt.ylabel('Количество игроков')\n",
    "plt.xticks(rotation=0)  # Установите угол поворота на 0 для горизонтальных меток\n",
    "plt.grid(axis='y')  # Включаем сетку по оси Y для лучшей читабельности\n",
    "plt.show()"
   ]
  },
  {
   "cell_type": "markdown",
   "metadata": {},
   "source": [
    "Вывод.\n",
    "Наибольшее количество гроков имеет титул \"other\"  - 94280 игрока, это количество игроков, не имеющих официальных шахматных титулов.\n",
    "Среди игроков, наибольшее количество  имеет титул GM -  Гроссмейстер. Это самый высокий титул в шахматах. И далее мы  наблюдаем снижение количества игроков, имеющих титулы, что отражает иерархию титулов в шахматах - от самых высоких к более низким. \n",
    "При этом среди игроков-щенщин обладателей титулов значительно меньше. Разброс варьируется от 6 до 39. Среди женщин наибольшее количество являются обладателями титула WFM - Женщина - мастер ФИДЕ -39 игрока, которые достигли определенного мастерства в шахматах. Наменьшее число игроков-женщин, 6 человек, достигли титула WGM - Женщина-гроссмейстер.\n",
    "Сравнивая данные, полученные  по столбцам Black_Title и  White_Title, где получены данные по количеству игроков-женщин, у количество женщин, играющих \"Белыми\", достигшие титут  FM - Женщина - мастер ФИДЕ - 24 человека, меньше, по осравнению с количеством женщин, играющих \"Черными\", - 39 человек. Таким образом, можно предположить, что у женщин, играющих \"Черными\", больше вероятность получения Титула, нежели при игре \"Белыми\". \n"
   ]
  },
  {
   "cell_type": "code",
   "execution_count": null,
   "metadata": {},
   "outputs": [],
   "source": []
  }
 ],
 "metadata": {
  "kernelspec": {
   "display_name": "Python 3",
   "language": "python",
   "name": "python3"
  },
  "language_info": {
   "codemirror_mode": {
    "name": "ipython",
    "version": 3
   },
   "file_extension": ".py",
   "mimetype": "text/x-python",
   "name": "python",
   "nbconvert_exporter": "python",
   "pygments_lexer": "ipython3",
   "version": "3.7.3"
  }
 },
 "nbformat": 4,
 "nbformat_minor": 4
}
