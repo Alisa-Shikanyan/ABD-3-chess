{
 "cells": [
  {
   "cell_type": "code",
   "execution_count": 28,
   "metadata": {},
   "outputs": [],
   "source": [
    "import pandas as pd\n",
    "import scipy.stats as stats\n",
    "import gdown\n",
    "import os"
   ]
  },
  {
   "cell_type": "code",
   "execution_count": 29,
   "metadata": {},
   "outputs": [],
   "source": [
    "file_id = '1BM7QmO4GoR5YxlMPfM5DLyrxBm3mn3oB'\n",
    "dataset_link = f'https://drive.google.com/uc?id={file_id}'\n",
    "output_file = 'after_eda_dataset.zip'"
   ]
  },
  {
   "cell_type": "code",
   "execution_count": 30,
   "metadata": {},
   "outputs": [
    {
     "name": "stdout",
     "output_type": "stream",
     "text": [
      "Файл after_eda_dataset.zip уже существует.\n"
     ]
    }
   ],
   "source": [
    "if not os.path.exists(output_file):\n",
    "    gdown.download(dataset_link, output_file, quiet=False)\n",
    "    print(f\"Файл {output_file} скачан.\")\n",
    "else:\n",
    "    print(f\"Файл {output_file} уже существует.\")"
   ]
  },
  {
   "cell_type": "code",
   "execution_count": 31,
   "metadata": {},
   "outputs": [],
   "source": [
    "df = pd.read_csv(output_file, compression='zip')"
   ]
  },
  {
   "cell_type": "markdown",
   "metadata": {},
   "source": [
    "Гипотеза: В классических партиях допускают меньшее количество ошибок и неточностей, чем в блиц-партиях."
   ]
  },
  {
   "cell_type": "markdown",
   "metadata": {},
   "source": [
    "Нулевая гипотеза (H0): \"В классических и блиц-партиях нет значимой разницы в количестве ошибок.\"\n",
    "\n",
    "Альтернативная гипотеза (H1): \"В классических партиях допускают меньшее количество ошибок и неточностей, чем в блиц-партиях.\""
   ]
  },
  {
   "cell_type": "code",
   "execution_count": 32,
   "metadata": {},
   "outputs": [],
   "source": [
    "# Подсчет общего числа ошибок и неточностей для белых и черных игроков.\n",
    "df['Total_Errors'] = df['White_Inaccuracy'] + df['Black_Inaccuracy'] + df['White_Mistake'] + df['Black_Mistake'] + df['White_Blunder'] + df['Black_Blunder']"
   ]
  },
  {
   "cell_type": "code",
   "execution_count": 33,
   "metadata": {},
   "outputs": [],
   "source": [
    "#Найдем среднее количество ошибок по типу партии\n",
    "grouped_data = df.groupby('Speed')['Total_Errors'].mean().reset_index()"
   ]
  },
  {
   "cell_type": "code",
   "execution_count": 34,
   "metadata": {},
   "outputs": [
    {
     "data": {
      "text/html": [
       "<div>\n",
       "<style scoped>\n",
       "    .dataframe tbody tr th:only-of-type {\n",
       "        vertical-align: middle;\n",
       "    }\n",
       "\n",
       "    .dataframe tbody tr th {\n",
       "        vertical-align: top;\n",
       "    }\n",
       "\n",
       "    .dataframe thead th {\n",
       "        text-align: right;\n",
       "    }\n",
       "</style>\n",
       "<table border=\"1\" class=\"dataframe\">\n",
       "  <thead>\n",
       "    <tr style=\"text-align: right;\">\n",
       "      <th></th>\n",
       "      <th>Speed</th>\n",
       "      <th>Total_Errors</th>\n",
       "    </tr>\n",
       "  </thead>\n",
       "  <tbody>\n",
       "    <tr>\n",
       "      <th>0</th>\n",
       "      <td>blitz</td>\n",
       "      <td>10.372252</td>\n",
       "    </tr>\n",
       "    <tr>\n",
       "      <th>1</th>\n",
       "      <td>bullet</td>\n",
       "      <td>12.237267</td>\n",
       "    </tr>\n",
       "    <tr>\n",
       "      <th>2</th>\n",
       "      <td>classical</td>\n",
       "      <td>9.607100</td>\n",
       "    </tr>\n",
       "    <tr>\n",
       "      <th>3</th>\n",
       "      <td>rapid</td>\n",
       "      <td>9.605795</td>\n",
       "    </tr>\n",
       "    <tr>\n",
       "      <th>4</th>\n",
       "      <td>ultraBullet</td>\n",
       "      <td>14.023365</td>\n",
       "    </tr>\n",
       "  </tbody>\n",
       "</table>\n",
       "</div>"
      ],
      "text/plain": [
       "         Speed  Total_Errors\n",
       "0        blitz     10.372252\n",
       "1       bullet     12.237267\n",
       "2    classical      9.607100\n",
       "3        rapid      9.605795\n",
       "4  ultraBullet     14.023365"
      ]
     },
     "execution_count": 34,
     "metadata": {},
     "output_type": "execute_result"
    }
   ],
   "source": [
    "grouped_data"
   ]
  },
  {
   "cell_type": "code",
   "execution_count": 35,
   "metadata": {},
   "outputs": [],
   "source": [
    "# 2. Сравнение средних значений\n",
    "classical_mistakes = df[df['Speed'] == 'classical']['Total_Errors']\n",
    "blitz_mistakes = df[df['Speed'] == 'blitz']['Total_Errors']"
   ]
  },
  {
   "cell_type": "code",
   "execution_count": 36,
   "metadata": {},
   "outputs": [],
   "source": [
    "# 3. Проведение t-теста\n",
    "t_stat, p_value = stats.ttest_ind(classical_mistakes, blitz_mistakes)"
   ]
  },
  {
   "cell_type": "code",
   "execution_count": 37,
   "metadata": {},
   "outputs": [
    {
     "name": "stdout",
     "output_type": "stream",
     "text": [
      "\n",
      "T-статистика: -15.470435727334054, P-значение: 7.127088447300062e-54\n"
     ]
    }
   ],
   "source": [
    "print(f\"\\nT-статистика: {t_stat}, P-значение: {p_value}\")"
   ]
  },
  {
   "cell_type": "code",
   "execution_count": 38,
   "metadata": {},
   "outputs": [
    {
     "name": "stdout",
     "output_type": "stream",
     "text": [
      "Отвергаем нулевую гипотезу: есть значимая разница в количестве ошибок между классикой и блицом.\n"
     ]
    }
   ],
   "source": [
    "# 5. Интерпретация результатов\n",
    "alpha = 0.05  # уровень значимости\n",
    "if p_value < alpha:\n",
    "    print(\"Отвергаем нулевую гипотезу: есть значимая разница в количестве ошибок между классикой и блицом.\")\n",
    "else:\n",
    "    print(\"Не можем отвергнуть нулевую гипотезу: нет значимой разницы в количестве ошибок между классикой и блицом.\")"
   ]
  },
  {
   "cell_type": "markdown",
   "metadata": {},
   "source": [
    "Так как наше p_value равно 7.127088447300062e-54, а это значительно меньше 0.05,\n",
    "следовательно, мы отвергаем нулевую гипотезу, т.е. мы доказали, что есть значимая разница в количестве ошибок между классикой и блицом.\n",
    "\n",
    "Таким образом наша гипотеза (в классических партиях допускают меньшее количество ошибок и неточностей, чем в блиц-партиях) верна."
   ]
  },
  {
   "cell_type": "markdown",
   "metadata": {},
   "source": []
  }
 ],
 "metadata": {
  "kernelspec": {
   "display_name": "base",
   "language": "python",
   "name": "python3"
  },
  "language_info": {
   "codemirror_mode": {
    "name": "ipython",
    "version": 3
   },
   "file_extension": ".py",
   "mimetype": "text/x-python",
   "name": "python",
   "nbconvert_exporter": "python",
   "pygments_lexer": "ipython3",
   "version": "3.12.7"
  }
 },
 "nbformat": 4,
 "nbformat_minor": 4
}
