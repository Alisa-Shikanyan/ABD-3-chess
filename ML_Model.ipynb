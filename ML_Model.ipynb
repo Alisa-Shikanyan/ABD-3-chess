{
 "cells": [
  {
   "cell_type": "markdown",
   "metadata": {},
   "source": [
    "Цель: Предсказание выйгрыша в онлайн шахматной партии на основе анализа известной дебютной части\n"
   ]
  },
  {
   "cell_type": "code",
   "execution_count": 1,
   "metadata": {},
   "outputs": [],
   "source": [
    "import joblib\n",
    "from catboost import CatBoostClassifier, Pool\n",
    "import seaborn as sns\n",
    "import matplotlib.pyplot as plt\n",
    "from sklearn.linear_model import LogisticRegression\n",
    "from sklearn.ensemble import RandomForestClassifier, StackingClassifier\n",
    "from sklearn.utils import resample\n",
    "from sklearn.metrics import classification_report, confusion_matrix\n",
    "from sklearn.pipeline import Pipeline\n",
    "from sklearn.compose import ColumnTransformer\n",
    "from sklearn.preprocessing import LabelEncoder, StandardScaler, OneHotEncoder\n",
    "from sklearn.model_selection import train_test_split, StratifiedKFold, GridSearchCV, RandomizedSearchCV\n",
    "import ast\n",
    "import numpy as np\n",
    "import pandas as pd\n",
    "import warnings\n",
    "from collections import Counter\n",
    "from sklearn.base import BaseEstimator, ClassifierMixin\n",
    "\n",
    "warnings.filterwarnings('ignore')"
   ]
  },
  {
   "cell_type": "code",
   "execution_count": 2,
   "metadata": {},
   "outputs": [
    {
     "data": {
      "text/plain": [
       "(112481, 66)"
      ]
     },
     "execution_count": 2,
     "metadata": {},
     "output_type": "execute_result"
    }
   ],
   "source": [
    "df = pd.read_csv('./after_eda_dataset.zip', compression='zip')\n",
    "df.shape"
   ]
  },
  {
   "cell_type": "markdown",
   "metadata": {},
   "source": [
    "Предсказание исхода - это классификация."
   ]
  },
  {
   "cell_type": "code",
   "execution_count": 3,
   "metadata": {},
   "outputs": [],
   "source": [
    "df = df[df['Is_Berserk_White'] == False]\n",
    "df = df[df['Is_Berserk_Black'] == False]\n",
    "df = df[df['Speed'] != 'ultraBullet']\n",
    "df = df[df['Source'] != 'friend']\n",
    "df = df[df['Total_Time_Init'] >= 60]"
   ]
  },
  {
   "cell_type": "code",
   "execution_count": 4,
   "metadata": {},
   "outputs": [],
   "source": [
    "df['target'] = df['Winner']\n",
    "df['Diff_Rating'] = abs(df['White_Rating'] - df['Black_Rating'])\n",
    "df['eval'] = df['eval'].apply(lambda x: ast.literal_eval(x))\n",
    "df['White_Eval'] = df['eval'].apply(lambda x: x[::2])\n",
    "df['Black_Eval'] = df['eval'].apply(lambda x: x[1::2])"
   ]
  },
  {
   "cell_type": "code",
   "execution_count": 5,
   "metadata": {},
   "outputs": [
    {
     "data": {
      "text/plain": [
       "{'blitz': 10, 'bullet': 8, 'classical': 10, 'rapid': 11}"
      ]
     },
     "execution_count": 5,
     "metadata": {},
     "output_type": "execute_result"
    }
   ],
   "source": [
    "ply_q80_map = (\n",
    "    df.groupby('Speed')['Opening_PLY']\n",
    "    .quantile(0.8)\n",
    "    .round()\n",
    "    .astype(int)\n",
    "    .to_dict()\n",
    ")\n",
    "ply_q80_map"
   ]
  },
  {
   "cell_type": "code",
   "execution_count": 6,
   "metadata": {},
   "outputs": [],
   "source": [
    "def mean_eval(seq, limit):\n",
    "    if not seq:\n",
    "        return 0.0\n",
    "    seq = seq[:limit]\n",
    "    if not seq:\n",
    "        return 0.0\n",
    "    return float(np.mean(seq))"
   ]
  },
  {
   "cell_type": "code",
   "execution_count": 7,
   "metadata": {},
   "outputs": [],
   "source": [
    "df['N_Move'] = df['Speed'].map(ply_q80_map)\n",
    "df = df[df['Num_Moves'] > (df['N_Move'] + df['N_Move'] / 2)]"
   ]
  },
  {
   "cell_type": "code",
   "execution_count": 8,
   "metadata": {},
   "outputs": [],
   "source": [
    "df['white_eval_q80'] = df.apply(lambda row: mean_eval(\n",
    "    row['White_Eval'], ply_q80_map[row['Speed']]), axis=1)\n",
    "df['black_eval_q80'] = df.apply(lambda row: mean_eval(\n",
    "    row['Black_Eval'], ply_q80_map[row['Speed']]), axis=1)"
   ]
  },
  {
   "cell_type": "code",
   "execution_count": 9,
   "metadata": {},
   "outputs": [],
   "source": [
    "df['Black_Clocks'] = df['Black_Clocks'].apply(lambda x: ast.literal_eval(x))\n",
    "df['White_Clocks'] = df['White_Clocks'].apply(lambda x: ast.literal_eval(x))"
   ]
  },
  {
   "cell_type": "code",
   "execution_count": 10,
   "metadata": {},
   "outputs": [],
   "source": [
    "df['White_Time_Remaining'] = df.apply(\n",
    "    lambda row: round(row['Total_Time_Init'] -\n",
    "                      (row['White_Clocks'][row['N_Move']] / 1000)),\n",
    "    axis=1\n",
    ")\n",
    "df['Black_Time_Remaining'] = df.apply(\n",
    "    lambda row: round(row['Total_Time_Init'] -\n",
    "                      (row['Black_Clocks'][row['N_Move']] / 1000)),\n",
    "    axis=1\n",
    ")"
   ]
  },
  {
   "cell_type": "code",
   "execution_count": 11,
   "metadata": {},
   "outputs": [],
   "source": [
    "df['White_Time_To_Move_q80'] = df['White_Clocks'].apply(lambda x: np.mean(\n",
    "    [abs(b - a) for a, b in zip(x[:-1], x[1:])]).round(2))\n",
    "df['Black_Time_To_Move_q80'] = df['Black_Clocks'].apply(lambda x: np.mean(\n",
    "    [abs(b - a) for a, b in zip(x[:-1], x[1:])]).round(2))"
   ]
  },
  {
   "cell_type": "code",
   "execution_count": 12,
   "metadata": {},
   "outputs": [],
   "source": [
    "features = [\n",
    "    \"Speed\",\n",
    "    \"Opening_ECO\",\n",
    "    \"White_Rating\",\n",
    "    \"Black_Rating\",\n",
    "    \"Diff_Rating\",\n",
    "    \"white_eval_q80\",\n",
    "    \"black_eval_q80\",\n",
    "    \"Total_Time_Increment_Group\",\n",
    "    \"White_Time_To_Move_q80\",\n",
    "    \"Black_Time_To_Move_q80\",\n",
    "    \"White_Time_Remaining\",\n",
    "    \"Black_Time_Remaining\",\n",
    "]\n",
    "categorical = [\"Speed\", \"Opening_ECO\", \"Total_Time_Increment_Group\"]\n",
    "numerical = [\n",
    "    \"White_Rating\",\n",
    "    \"Black_Rating\",\n",
    "    \"Diff_Rating\",\n",
    "    \"white_eval_q80\",\n",
    "    \"black_eval_q80\",\n",
    "    \"White_Time_To_Move_q80\",\n",
    "    \"Black_Time_To_Move_q80\",\n",
    "    \"White_Time_Remaining\",\n",
    "    \"Black_Time_Remaining\",\n",
    "]\n",
    "\n",
    "X_raw = df[features].copy()\n",
    "y = df[\"target\"].copy()\n",
    "\n",
    "le = LabelEncoder()\n",
    "y_enc = le.fit_transform(y)\n",
    "\n",
    "X_train_raw, X_test_raw, y_train_raw, y_test_enc = train_test_split(\n",
    "    X_raw, y_enc, test_size=0.3, random_state=42, stratify=y_enc\n",
    ")\n",
    "\n",
    "train_df = X_train_raw.copy()\n",
    "train_df[\"target\"] = y_train_raw\n",
    "\n",
    "white_label, black_label, draw_label = le.transform([\"white\", \"black\", \"draw\"])\n",
    "white_df = train_df[train_df[\"target\"] == white_label]\n",
    "black_df = train_df[train_df[\"target\"] == black_label]\n",
    "draw_df = train_df[train_df[\"target\"] == draw_label]\n",
    "\n",
    "balanced_df_raw = pd.concat([white_df, black_df, draw_df])\n",
    "X_train_balanced_raw = balanced_df_raw[features]\n",
    "y_train_balanced = balanced_df_raw[\"target\"]"
   ]
  },
  {
   "cell_type": "code",
   "execution_count": 13,
   "metadata": {},
   "outputs": [],
   "source": [
    "cnt = Counter(y_train_balanced)\n",
    "total = sum(cnt.values())\n",
    "n_cls = len(cnt)\n",
    "\n",
    "class_weights = {c: total / (n_cls * cnt[c]) for c in cnt}"
   ]
  },
  {
   "cell_type": "code",
   "execution_count": 14,
   "metadata": {},
   "outputs": [
    {
     "data": {
      "text/plain": [
       "{2: 0.7094754540828743, 0: 0.7824951809286778, 1: 3.199541055572184}"
      ]
     },
     "execution_count": 14,
     "metadata": {},
     "output_type": "execute_result"
    }
   ],
   "source": [
    "class_weights"
   ]
  },
  {
   "cell_type": "markdown",
   "metadata": {},
   "source": [
    "## Random Forest Model"
   ]
  },
  {
   "cell_type": "code",
   "execution_count": 15,
   "metadata": {},
   "outputs": [
    {
     "name": "stdout",
     "output_type": "stream",
     "text": [
      "RF best params: {'classifier__max_depth': None, 'classifier__max_features': 'sqrt', 'classifier__min_samples_leaf': 2, 'classifier__min_samples_split': 5, 'classifier__n_estimators': 100}\n",
      "RF TRAIN\n",
      "               precision    recall  f1-score   support\n",
      "\n",
      "       black       0.82      0.76      0.79     27322\n",
      "        draw       0.45      0.82      0.58      6682\n",
      "       white       0.85      0.75      0.80     30134\n",
      "\n",
      "    accuracy                           0.76     64138\n",
      "   macro avg       0.71      0.78      0.72     64138\n",
      "weighted avg       0.79      0.76      0.77     64138\n",
      "\n",
      "RF TEST\n",
      "               precision    recall  f1-score   support\n",
      "\n",
      "       black       0.68      0.63      0.65     11710\n",
      "        draw       0.23      0.40      0.29      2864\n",
      "       white       0.71      0.63      0.67     12914\n",
      "\n",
      "    accuracy                           0.61     27488\n",
      "   macro avg       0.54      0.55      0.54     27488\n",
      "weighted avg       0.64      0.61      0.62     27488\n",
      "\n"
     ]
    },
    {
     "data": {
      "image/png": "[encoded data removed]",
      "text/plain": [
       "<Figure size 640x480 with 2 Axes>"
      ]
     },
     "metadata": {},
     "output_type": "display_data"
    },
    {
     "data": {
      "text/plain": [
       "['best_rf_model.pkl']"
      ]
     },
     "execution_count": 15,
     "metadata": {},
     "output_type": "execute_result"
    }
   ],
   "source": [
    "preprocessor = ColumnTransformer(\n",
    "    transformers=[\n",
    "        (\"cat\", OneHotEncoder(handle_unknown=\"ignore\"), categorical),\n",
    "        (\"num\", StandardScaler(), numerical),\n",
    "    ]\n",
    ")\n",
    "\n",
    "rf_pipeline = Pipeline(\n",
    "    steps=[\n",
    "        (\"preprocessor\", preprocessor),\n",
    "        (\n",
    "            \"classifier\",\n",
    "            RandomForestClassifier(\n",
    "                class_weight=class_weights, random_state=42),\n",
    "        ),\n",
    "    ]\n",
    ")\n",
    "\n",
    "param_grid_rf = {\n",
    "    \"classifier__n_estimators\": [100],\n",
    "    \"classifier__max_depth\": [None, 3, 5],\n",
    "    \"classifier__min_samples_split\": [2, 5, 10],\n",
    "    \"classifier__min_samples_leaf\": [1, 2, 4],\n",
    "    \"classifier__max_features\": [\"sqrt\", \"log2\"],\n",
    "}\n",
    "\n",
    "grid_search_rf = GridSearchCV(\n",
    "    rf_pipeline, param_grid_rf, cv=5, scoring=\"f1_macro\", n_jobs=-1\n",
    ")\n",
    "grid_search_rf.fit(X_train_balanced_raw, y_train_balanced)\n",
    "\n",
    "y_pred_train_rf = grid_search_rf.predict(X_train_balanced_raw)\n",
    "y_pred_test_rf = grid_search_rf.predict(X_test_raw)\n",
    "\n",
    "print(\"RF best params:\", grid_search_rf.best_params_)\n",
    "print(\n",
    "    \"RF TRAIN\\n\",\n",
    "    classification_report(y_train_balanced, y_pred_train_rf,\n",
    "                          target_names=le.classes_),\n",
    ")\n",
    "print(\n",
    "    \"RF TEST\\n\",\n",
    "    classification_report(y_test_enc, y_pred_test_rf,\n",
    "                          target_names=le.classes_),\n",
    ")\n",
    "\n",
    "cm_rf = confusion_matrix(y_test_enc, y_pred_test_rf)\n",
    "sns.heatmap(cm_rf, annot=True, fmt=\"d\",\n",
    "            xticklabels=le.classes_, yticklabels=le.classes_)\n",
    "plt.xlabel(\"Predicted\")\n",
    "plt.ylabel(\"True\")\n",
    "plt.title(\"Confusion Matrix (RandomForest)\")\n",
    "plt.show()\n",
    "\n",
    "joblib.dump(grid_search_rf.best_estimator_, \"best_rf_model.pkl\")"
   ]
  },
  {
   "cell_type": "markdown",
   "metadata": {},
   "source": [
    "## CatBoost Model"
   ]
  },
  {
   "cell_type": "code",
   "execution_count": 16,
   "metadata": {},
   "outputs": [
    {
     "name": "stdout",
     "output_type": "stream",
     "text": [
      "0:\tlearn: 1.0913975\ttest: 1.0921900\tbest: 1.0921900 (0)\ttotal: 88.5ms\tremaining: 1m 1s\n",
      "100:\tlearn: 0.9246120\ttest: 0.9396577\tbest: 0.9396577 (100)\ttotal: 10.3s\tremaining: 1m\n",
      "200:\tlearn: 0.9025768\ttest: 0.9259533\tbest: 0.9258914 (199)\ttotal: 18.8s\tremaining: 46.6s\n",
      "300:\tlearn: 0.8895745\ttest: 0.9205473\tbest: 0.9205473 (300)\ttotal: 26.9s\tremaining: 35.7s\n",
      "400:\tlearn: 0.8797681\ttest: 0.9186604\tbest: 0.9185140 (393)\ttotal: 34.8s\tremaining: 26s\n",
      "500:\tlearn: 0.8715241\ttest: 0.9182615\tbest: 0.9182163 (473)\ttotal: 42.4s\tremaining: 16.8s\n",
      "600:\tlearn: 0.8634558\ttest: 0.9172350\tbest: 0.9171717 (572)\ttotal: 50.6s\tremaining: 8.34s\n",
      "699:\tlearn: 0.8562432\ttest: 0.9171120\tbest: 0.9168292 (684)\ttotal: 58.3s\tremaining: 0us\n",
      "\n",
      "bestTest = 0.9168291643\n",
      "bestIteration = 684\n",
      "\n",
      "Shrink model to first 685 iterations.\n",
      "CB best params: {'learning_rate': np.float64(0.15), 'l2_leaf_reg': 5, 'iterations': 700, 'depth': 4}\n",
      "CB TRAIN\n",
      "               precision    recall  f1-score   support\n",
      "\n",
      "       black       0.73      0.57      0.64     27322\n",
      "        draw       0.22      0.65      0.33      6682\n",
      "       white       0.77      0.59      0.66     30134\n",
      "\n",
      "    accuracy                           0.59     64138\n",
      "   macro avg       0.57      0.60      0.55     64138\n",
      "weighted avg       0.69      0.59      0.62     64138\n",
      "\n",
      "CB TEST\n",
      "               precision    recall  f1-score   support\n",
      "\n",
      "       black       0.71      0.56      0.63     11710\n",
      "        draw       0.20      0.59      0.30      2864\n",
      "       white       0.75      0.58      0.65     12914\n",
      "\n",
      "    accuracy                           0.57     27488\n",
      "   macro avg       0.55      0.57      0.53     27488\n",
      "weighted avg       0.68      0.57      0.60     27488\n",
      "\n"
     ]
    },
    {
     "data": {
      "image/png": "[encoded data removed]",
      "text/plain": [
       "<Figure size 640x480 with 2 Axes>"
      ]
     },
     "metadata": {},
     "output_type": "display_data"
    },
    {
     "data": {
      "text/plain": [
       "['catboost_best.pkl']"
      ]
     },
     "execution_count": 16,
     "metadata": {},
     "output_type": "execute_result"
    }
   ],
   "source": [
    "cat_features_idx = [X_train_balanced_raw.columns.get_loc(\n",
    "    col) for col in categorical]\n",
    "\n",
    "param_dist_cb = {\n",
    "    \"depth\": [3, 4],\n",
    "    \"learning_rate\": np.linspace(0.03, 0.15, 5),\n",
    "    \"iterations\": [500, 700, 1000],\n",
    "    \"l2_leaf_reg\": [3, 5, 7],\n",
    "}\n",
    "\n",
    "cv_cb = StratifiedKFold(n_splits=5, shuffle=True, random_state=42)\n",
    "cb_search = CatBoostClassifier(\n",
    "    loss_function=\"MultiClass\",\n",
    "    random_state=42,\n",
    "    class_weights=list(dict(sorted(class_weights.items())).values()),\n",
    "    verbose=0,\n",
    ")\n",
    "\n",
    "random_search_cb = RandomizedSearchCV(\n",
    "    cb_search,\n",
    "    param_dist_cb,\n",
    "    n_iter=25,\n",
    "    scoring=\"f1_macro\",\n",
    "    cv=cv_cb,\n",
    "    refit=False,\n",
    "    # n_jobs=-1,\n",
    "    random_state=42,\n",
    ")\n",
    "\n",
    "random_search_cb.fit(X_train_balanced_raw, y_train_balanced,\n",
    "                     cat_features=cat_features_idx)\n",
    "best_params_cb = random_search_cb.best_params_\n",
    "\n",
    "X_train_inner_raw, X_valid_raw, y_train_inner, y_valid_inner = train_test_split(\n",
    "    X_train_balanced_raw,\n",
    "    y_train_balanced,\n",
    "    test_size=0.2,\n",
    "    random_state=42,\n",
    "    stratify=y_train_balanced,\n",
    ")\n",
    "\n",
    "train_pool = Pool(X_train_inner_raw, y_train_inner,\n",
    "                  cat_features=cat_features_idx)\n",
    "valid_pool = Pool(X_valid_raw, y_valid_inner, cat_features=cat_features_idx)\n",
    "\n",
    "final_cb = CatBoostClassifier(\n",
    "    **best_params_cb,\n",
    "    loss_function=\"MultiClass\",\n",
    "    random_state=42,\n",
    "    class_weights=list(dict(sorted(class_weights.items())).values()),\n",
    "    early_stopping_rounds=50,\n",
    "    verbose=100,\n",
    ")\n",
    "\n",
    "final_cb.fit(train_pool, eval_set=valid_pool, use_best_model=True)\n",
    "\n",
    "y_pred_train_cb = final_cb.predict(X_train_balanced_raw)\n",
    "y_pred_test_cb = final_cb.predict(X_test_raw)\n",
    "\n",
    "print(\"CB best params:\", best_params_cb)\n",
    "print(\n",
    "    \"CB TRAIN\\n\",\n",
    "    classification_report(y_train_balanced, y_pred_train_cb,\n",
    "                          target_names=le.classes_),\n",
    ")\n",
    "print(\n",
    "    \"CB TEST\\n\",\n",
    "    classification_report(y_test_enc, y_pred_test_cb,\n",
    "                          target_names=le.classes_),\n",
    ")\n",
    "\n",
    "cm_cb = confusion_matrix(y_test_enc, y_pred_test_cb)\n",
    "sns.heatmap(cm_cb, annot=True, fmt=\"d\",\n",
    "            xticklabels=le.classes_, yticklabels=le.classes_)\n",
    "plt.xlabel(\"Predicted\")\n",
    "plt.ylabel(\"True\")\n",
    "plt.title(\"Confusion Matrix (CatBoost)\")\n",
    "plt.show()\n",
    "\n",
    "final_cb.save_model(\"catboost_best.cbm\")\n",
    "joblib.dump(final_cb, \"catboost_best.pkl\")"
   ]
  },
  {
   "cell_type": "markdown",
   "metadata": {},
   "source": [
    "## Stacking"
   ]
  },
  {
   "cell_type": "code",
   "execution_count": 17,
   "metadata": {},
   "outputs": [],
   "source": [
    "class CBWrapper(BaseEstimator, ClassifierMixin):\n",
    "    def __init__(self, cat_features, **params):\n",
    "        self.cat_features = cat_features\n",
    "        self.params = params\n",
    "        self.model = CatBoostClassifier(**params)\n",
    "\n",
    "    def fit(self, X, y):\n",
    "        self.model.fit(X, y, cat_features=self.cat_features, verbose=0)\n",
    "        self.classes_ = self.model.classes_\n",
    "        self.n_features_in_ = X.shape[1]\n",
    "        return self\n",
    "\n",
    "    def predict(self, X):\n",
    "        return self.model.predict(X)\n",
    "\n",
    "    def predict_proba(self, X):\n",
    "        return self.model.predict_proba(X)"
   ]
  },
  {
   "cell_type": "code",
   "execution_count": 18,
   "metadata": {},
   "outputs": [
    {
     "name": "stdout",
     "output_type": "stream",
     "text": [
      "STACK TRAIN\n",
      "               precision    recall  f1-score   support\n",
      "\n",
      "       black       0.78      0.64      0.70     27322\n",
      "        draw       0.30      0.78      0.43      6682\n",
      "       white       0.80      0.65      0.72     30134\n",
      "\n",
      "    accuracy                           0.66     64138\n",
      "   macro avg       0.63      0.69      0.62     64138\n",
      "weighted avg       0.74      0.66      0.68     64138\n",
      "\n",
      "STACK TEST\n",
      "               precision    recall  f1-score   support\n",
      "\n",
      "       black       0.72      0.59      0.65     11710\n",
      "        draw       0.21      0.54      0.30      2864\n",
      "       white       0.75      0.61      0.67     12914\n",
      "\n",
      "    accuracy                           0.59     27488\n",
      "   macro avg       0.56      0.58      0.54     27488\n",
      "weighted avg       0.68      0.59      0.62     27488\n",
      "\n"
     ]
    },
    {
     "data": {
      "image/png": "[encoded data removed]",
      "text/plain": [
       "<Figure size 640x480 with 2 Axes>"
      ]
     },
     "metadata": {},
     "output_type": "display_data"
    },
    {
     "data": {
      "text/plain": [
       "['stacking_model.pkl']"
      ]
     },
     "execution_count": 18,
     "metadata": {},
     "output_type": "execute_result"
    }
   ],
   "source": [
    "rf_best = grid_search_rf.best_estimator_\n",
    "\n",
    "cb_base = CBWrapper(\n",
    "    cat_features=cat_features_idx,\n",
    "    thread_count=4,\n",
    "    **best_params_cb,\n",
    "    loss_function=\"MultiClass\",\n",
    "    random_state=42,\n",
    "    class_weights=list(dict(sorted(class_weights.items())).values()),\n",
    "    early_stopping_rounds=50,\n",
    "    verbose=0,\n",
    ")\n",
    "\n",
    "logreg_meta = LogisticRegression(max_iter=1000, class_weight=class_weights)\n",
    "\n",
    "stack_model = StackingClassifier(\n",
    "    estimators=[(\"rf\", rf_best), (\"cb\", cb_base)],\n",
    "    final_estimator=logreg_meta,\n",
    "    cv=3,\n",
    "    n_jobs=-1,\n",
    "    passthrough=False,\n",
    ")\n",
    "\n",
    "stack_model.fit(X_train_balanced_raw, y_train_balanced)\n",
    "\n",
    "y_pred_train_stack = stack_model.predict(X_train_balanced_raw)\n",
    "y_pred_test_stack = stack_model.predict(X_test_raw)\n",
    "\n",
    "print(\n",
    "    \"STACK TRAIN\\n\",\n",
    "    classification_report(\n",
    "        y_train_balanced, y_pred_train_stack, target_names=le.classes_),\n",
    ")\n",
    "print(\n",
    "    \"STACK TEST\\n\",\n",
    "    classification_report(y_test_enc, y_pred_test_stack,\n",
    "                          target_names=le.classes_),\n",
    ")\n",
    "\n",
    "cm_stack = confusion_matrix(y_test_enc, y_pred_test_stack)\n",
    "sns.heatmap(cm_stack, annot=True, fmt=\"d\",\n",
    "            xticklabels=le.classes_, yticklabels=le.classes_)\n",
    "plt.xlabel(\"Predicted\")\n",
    "plt.ylabel(\"True\")\n",
    "plt.title(\"Confusion Matrix (Stacking)\")\n",
    "plt.show()\n",
    "\n",
    "joblib.dump(stack_model, \"stacking_model.pkl\")"
   ]
  },
  {
   "cell_type": "code",
   "execution_count": 18,
   "metadata": {},
   "outputs": [],
   "source": [
    "# Дебют и его стата на ничью / вин в каждом варианте Speed\n",
    "# Протестить abs(Diff_Rating)\n",
    "# Total Time Increment - булевый признак есть или нет. Или комбинация признаков Total Time Increment и Среднее время на ход у игрока за N ходов\n",
    "# Увеличить iteration на ночь\n",
    "# ПОпробовать прогнать на только одном варианте Speed"
   ]
  },
  {
   "cell_type": "code",
   "execution_count": null,
   "metadata": {},
   "outputs": [],
   "source": []
  }
 ],
 "metadata": {
  "kernelspec": {
   "display_name": "venv",
   "language": "python",
   "name": "python3"
  },
  "language_info": {
   "codemirror_mode": {
    "name": "ipython",
    "version": 3
   },
   "file_extension": ".py",
   "mimetype": "text/x-python",
   "name": "python",
   "nbconvert_exporter": "python",
   "pygments_lexer": "ipython3",
   "version": "3.12.0"
  }
 },
 "nbformat": 4,
 "nbformat_minor": 2
}
