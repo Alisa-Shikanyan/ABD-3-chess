{
 "cells": [
  {
   "cell_type": "code",
   "execution_count": 2,
   "metadata": {},
   "outputs": [],
   "source": [
    "import pandas as pd\n",
    "import numpy as np\n",
    "import matplotlib.pyplot as plt\n",
    "import seaborn as sns \n",
    "import scipy.stats as stats\n",
    "import pingouin as pg\n",
    "\n",
    "df = pd.read_csv('final_games-3.csv')"
   ]
  },
  {
   "cell_type": "markdown",
   "metadata": {},
   "source": [
    "Посмотрим на данные"
   ]
  },
  {
   "cell_type": "code",
   "execution_count": 3,
   "metadata": {},
   "outputs": [
    {
     "data": {
      "text/html": [
       "<div>\n",
       "<style scoped>\n",
       "    .dataframe tbody tr th:only-of-type {\n",
       "        vertical-align: middle;\n",
       "    }\n",
       "\n",
       "    .dataframe tbody tr th {\n",
       "        vertical-align: top;\n",
       "    }\n",
       "\n",
       "    .dataframe thead th {\n",
       "        text-align: right;\n",
       "    }\n",
       "</style>\n",
       "<table border=\"1\" class=\"dataframe\">\n",
       "  <thead>\n",
       "    <tr style=\"text-align: right;\">\n",
       "      <th></th>\n",
       "      <th>Game_ID</th>\n",
       "      <th>Rated</th>\n",
       "      <th>Variant</th>\n",
       "      <th>Speed</th>\n",
       "      <th>Created_At</th>\n",
       "      <th>Last_Move_At</th>\n",
       "      <th>Game_Status</th>\n",
       "      <th>Source</th>\n",
       "      <th>Winner</th>\n",
       "      <th>Opening_Name</th>\n",
       "      <th>...</th>\n",
       "      <th>Black_Inaccuracy</th>\n",
       "      <th>Black_Mistake</th>\n",
       "      <th>Black_Blunder</th>\n",
       "      <th>Black_ACPL</th>\n",
       "      <th>Clocks</th>\n",
       "      <th>Analysis</th>\n",
       "      <th>Total_Time_Init</th>\n",
       "      <th>Total_Time_Increment</th>\n",
       "      <th>Total_Time</th>\n",
       "      <th>Moves</th>\n",
       "    </tr>\n",
       "  </thead>\n",
       "  <tbody>\n",
       "    <tr>\n",
       "      <th>0</th>\n",
       "      <td>PsevV6VH</td>\n",
       "      <td>True</td>\n",
       "      <td>standard</td>\n",
       "      <td>classical</td>\n",
       "      <td>2024-12-15T11:09:25.224000+00:00</td>\n",
       "      <td>2024-12-15T11:55:14.775000+00:00</td>\n",
       "      <td>resign</td>\n",
       "      <td>pool</td>\n",
       "      <td>white</td>\n",
       "      <td>English Opening: Symmetrical Variation</td>\n",
       "      <td>...</td>\n",
       "      <td>5</td>\n",
       "      <td>1</td>\n",
       "      <td>1</td>\n",
       "      <td>47</td>\n",
       "      <td>[180003, 180003, 178499, 178019, 178339, 17757...</td>\n",
       "      <td>[{'eval': 14}, {'eval': 25}, {'eval': 26}, {'e...</td>\n",
       "      <td>1800</td>\n",
       "      <td>0</td>\n",
       "      <td>1800</td>\n",
       "      <td>Nf3 c5 c4 Nc6 Nc3 g6 e3 Bg7 d4 cxd4 exd4 d6 h3...</td>\n",
       "    </tr>\n",
       "    <tr>\n",
       "      <th>1</th>\n",
       "      <td>diLZa8sj</td>\n",
       "      <td>True</td>\n",
       "      <td>standard</td>\n",
       "      <td>classical</td>\n",
       "      <td>2024-10-28T13:54:16.605000+00:00</td>\n",
       "      <td>2024-10-28T14:32:21.403000+00:00</td>\n",
       "      <td>resign</td>\n",
       "      <td>pool</td>\n",
       "      <td>white</td>\n",
       "      <td>French Defense: Winawer Variation, Advance Var...</td>\n",
       "      <td>...</td>\n",
       "      <td>4</td>\n",
       "      <td>0</td>\n",
       "      <td>1</td>\n",
       "      <td>31</td>\n",
       "      <td>[180003, 180003, 179827, 179683, 178619, 17936...</td>\n",
       "      <td>[{'eval': 18}, {'eval': 28}, {'eval': 28}, {'e...</td>\n",
       "      <td>1800</td>\n",
       "      <td>0</td>\n",
       "      <td>1800</td>\n",
       "      <td>e4 e6 d4 d5 Nc3 Bb4 e5 Ne7 a3 Bxc3+ bxc3 b6 Bb...</td>\n",
       "    </tr>\n",
       "    <tr>\n",
       "      <th>2</th>\n",
       "      <td>O8TSZ7bq</td>\n",
       "      <td>True</td>\n",
       "      <td>standard</td>\n",
       "      <td>classical</td>\n",
       "      <td>2024-10-05T13:58:55.992000+00:00</td>\n",
       "      <td>2024-10-05T14:27:57.120000+00:00</td>\n",
       "      <td>resign</td>\n",
       "      <td>pool</td>\n",
       "      <td>black</td>\n",
       "      <td>London System</td>\n",
       "      <td>...</td>\n",
       "      <td>3</td>\n",
       "      <td>1</td>\n",
       "      <td>5</td>\n",
       "      <td>56</td>\n",
       "      <td>[180003, 180003, 179707, 179035, 179051, 17678...</td>\n",
       "      <td>[{'eval': 17}, {'eval': 17}, {'eval': 11}, {'e...</td>\n",
       "      <td>1800</td>\n",
       "      <td>0</td>\n",
       "      <td>1800</td>\n",
       "      <td>d4 Nf6 Nf3 g6 Bf4 Bg7 e3 d6 Be2 O-O O-O Nbd7 h...</td>\n",
       "    </tr>\n",
       "    <tr>\n",
       "      <th>3</th>\n",
       "      <td>vtMjWIUv</td>\n",
       "      <td>True</td>\n",
       "      <td>standard</td>\n",
       "      <td>classical</td>\n",
       "      <td>2024-08-23T07:33:49.932000+00:00</td>\n",
       "      <td>2024-08-23T08:04:22.421000+00:00</td>\n",
       "      <td>resign</td>\n",
       "      <td>pool</td>\n",
       "      <td>white</td>\n",
       "      <td>King's Indian Defense: Orthodox Variation, Pos...</td>\n",
       "      <td>...</td>\n",
       "      <td>5</td>\n",
       "      <td>1</td>\n",
       "      <td>2</td>\n",
       "      <td>42</td>\n",
       "      <td>[180003, 180003, 179731, 179283, 179443, 17872...</td>\n",
       "      <td>[{'eval': 16}, {'eval': 17}, {'eval': 15}, {'e...</td>\n",
       "      <td>1800</td>\n",
       "      <td>0</td>\n",
       "      <td>1800</td>\n",
       "      <td>d4 Nf6 Nf3 d6 c4 g6 Nc3 Bg7 e4 O-O Be2 Nbd7 O-...</td>\n",
       "    </tr>\n",
       "    <tr>\n",
       "      <th>4</th>\n",
       "      <td>GC8I3jiq</td>\n",
       "      <td>True</td>\n",
       "      <td>standard</td>\n",
       "      <td>classical</td>\n",
       "      <td>2024-08-22T13:24:49.024000+00:00</td>\n",
       "      <td>2024-08-22T14:18:09.814000+00:00</td>\n",
       "      <td>draw</td>\n",
       "      <td>pool</td>\n",
       "      <td>NaN</td>\n",
       "      <td>English Opening: Anglo-Indian Defense, King's ...</td>\n",
       "      <td>...</td>\n",
       "      <td>5</td>\n",
       "      <td>1</td>\n",
       "      <td>2</td>\n",
       "      <td>26</td>\n",
       "      <td>[180003, 180003, 179867, 178467, 175067, 17782...</td>\n",
       "      <td>[{'eval': 17}, {'eval': 18}, {'eval': 23}, {'e...</td>\n",
       "      <td>1800</td>\n",
       "      <td>0</td>\n",
       "      <td>1800</td>\n",
       "      <td>Nf3 Nf6 c4 c5 g3 g6 b3 Bg7 Bb2 O-O Bg2 Nc6 O-O...</td>\n",
       "    </tr>\n",
       "  </tbody>\n",
       "</table>\n",
       "<p>5 rows × 32 columns</p>\n",
       "</div>"
      ],
      "text/plain": [
       "    Game_ID  Rated   Variant      Speed                        Created_At  \\\n",
       "0  PsevV6VH   True  standard  classical  2024-12-15T11:09:25.224000+00:00   \n",
       "1  diLZa8sj   True  standard  classical  2024-10-28T13:54:16.605000+00:00   \n",
       "2  O8TSZ7bq   True  standard  classical  2024-10-05T13:58:55.992000+00:00   \n",
       "3  vtMjWIUv   True  standard  classical  2024-08-23T07:33:49.932000+00:00   \n",
       "4  GC8I3jiq   True  standard  classical  2024-08-22T13:24:49.024000+00:00   \n",
       "\n",
       "                       Last_Move_At Game_Status Source Winner  \\\n",
       "0  2024-12-15T11:55:14.775000+00:00      resign   pool  white   \n",
       "1  2024-10-28T14:32:21.403000+00:00      resign   pool  white   \n",
       "2  2024-10-05T14:27:57.120000+00:00      resign   pool  black   \n",
       "3  2024-08-23T08:04:22.421000+00:00      resign   pool  white   \n",
       "4  2024-08-22T14:18:09.814000+00:00        draw   pool    NaN   \n",
       "\n",
       "                                        Opening_Name  ... Black_Inaccuracy  \\\n",
       "0             English Opening: Symmetrical Variation  ...                5   \n",
       "1  French Defense: Winawer Variation, Advance Var...  ...                4   \n",
       "2                                      London System  ...                3   \n",
       "3  King's Indian Defense: Orthodox Variation, Pos...  ...                5   \n",
       "4  English Opening: Anglo-Indian Defense, King's ...  ...                5   \n",
       "\n",
       "   Black_Mistake Black_Blunder Black_ACPL  \\\n",
       "0              1             1         47   \n",
       "1              0             1         31   \n",
       "2              1             5         56   \n",
       "3              1             2         42   \n",
       "4              1             2         26   \n",
       "\n",
       "                                              Clocks  \\\n",
       "0  [180003, 180003, 178499, 178019, 178339, 17757...   \n",
       "1  [180003, 180003, 179827, 179683, 178619, 17936...   \n",
       "2  [180003, 180003, 179707, 179035, 179051, 17678...   \n",
       "3  [180003, 180003, 179731, 179283, 179443, 17872...   \n",
       "4  [180003, 180003, 179867, 178467, 175067, 17782...   \n",
       "\n",
       "                                            Analysis  Total_Time_Init  \\\n",
       "0  [{'eval': 14}, {'eval': 25}, {'eval': 26}, {'e...             1800   \n",
       "1  [{'eval': 18}, {'eval': 28}, {'eval': 28}, {'e...             1800   \n",
       "2  [{'eval': 17}, {'eval': 17}, {'eval': 11}, {'e...             1800   \n",
       "3  [{'eval': 16}, {'eval': 17}, {'eval': 15}, {'e...             1800   \n",
       "4  [{'eval': 17}, {'eval': 18}, {'eval': 23}, {'e...             1800   \n",
       "\n",
       "   Total_Time_Increment  Total_Time  \\\n",
       "0                     0        1800   \n",
       "1                     0        1800   \n",
       "2                     0        1800   \n",
       "3                     0        1800   \n",
       "4                     0        1800   \n",
       "\n",
       "                                               Moves  \n",
       "0  Nf3 c5 c4 Nc6 Nc3 g6 e3 Bg7 d4 cxd4 exd4 d6 h3...  \n",
       "1  e4 e6 d4 d5 Nc3 Bb4 e5 Ne7 a3 Bxc3+ bxc3 b6 Bb...  \n",
       "2  d4 Nf6 Nf3 g6 Bf4 Bg7 e3 d6 Be2 O-O O-O Nbd7 h...  \n",
       "3  d4 Nf6 Nf3 d6 c4 g6 Nc3 Bg7 e4 O-O Be2 Nbd7 O-...  \n",
       "4  Nf3 Nf6 c4 c5 g3 g6 b3 Bg7 Bb2 O-O Bg2 Nc6 O-O...  \n",
       "\n",
       "[5 rows x 32 columns]"
      ]
     },
     "execution_count": 3,
     "metadata": {},
     "output_type": "execute_result"
    }
   ],
   "source": [
    "df.head()"
   ]
  },
  {
   "cell_type": "markdown",
   "metadata": {},
   "source": [
    "Оставим только исследуемые колонки"
   ]
  },
  {
   "cell_type": "code",
   "execution_count": 4,
   "metadata": {},
   "outputs": [],
   "source": [
    "columns_for_eda = [\n",
    "    'Game_ID', 'Rated', 'White_Rating',\n",
    "    'Black_Rating', 'White_Inaccuracy', 'Black_Inaccuracy',\n",
    "    'Opening_Name', 'Clocks'\n",
    "]"
   ]
  },
  {
   "cell_type": "code",
   "execution_count": 5,
   "metadata": {},
   "outputs": [],
   "source": [
    "df_filtered = df.filter(items=columns_for_eda)"
   ]
  },
  {
   "cell_type": "markdown",
   "metadata": {},
   "source": [
    "Постороим корреляционную матрицу"
   ]
  },
  {
   "cell_type": "code",
   "execution_count": 6,
   "metadata": {},
   "outputs": [
    {
     "data": {
      "image/png": "[encoded data removed]",
      "text/plain": [
       "<Figure size 720x432 with 2 Axes>"
      ]
     },
     "metadata": {
      "needs_background": "light"
     },
     "output_type": "display_data"
    }
   ],
   "source": [
    "correlation_matrix = df_filtered.filter(items=columns_for_eda).select_dtypes(include=[np.number]).corr()\n",
    "\n",
    "plt.figure(figsize=(10, 6))\n",
    "sns.heatmap(correlation_matrix, annot=True, fmt=\".2f\",\n",
    "            cmap=\"coolwarm\", linewidths=0.5)\n",
    "plt.title(\"Матрица корреляций числовых переменных\")\n",
    "plt.show()"
   ]
  },
  {
   "cell_type": "markdown",
   "metadata": {},
   "source": [
    "Проверяем типы данных в колонках"
   ]
  },
  {
   "cell_type": "code",
   "execution_count": 7,
   "metadata": {},
   "outputs": [
    {
     "data": {
      "text/plain": [
       "Game_ID              object\n",
       "Rated                  bool\n",
       "White_Rating        float64\n",
       "Black_Rating        float64\n",
       "White_Inaccuracy      int64\n",
       "Black_Inaccuracy      int64\n",
       "Opening_Name         object\n",
       "Clocks               object\n",
       "dtype: object"
      ]
     },
     "execution_count": 7,
     "metadata": {},
     "output_type": "execute_result"
    }
   ],
   "source": [
    "df_filtered.dtypes"
   ]
  },
  {
   "cell_type": "markdown",
   "metadata": {},
   "source": [
    "Проверяем пропуски в данных"
   ]
  },
  {
   "cell_type": "code",
   "execution_count": 8,
   "metadata": {},
   "outputs": [
    {
     "name": "stdout",
     "output_type": "stream",
     "text": [
      "Game_ID                0\n",
      "Rated                  0\n",
      "White_Rating         227\n",
      "Black_Rating         311\n",
      "White_Inaccuracy       0\n",
      "Black_Inaccuracy       0\n",
      "Opening_Name        1270\n",
      "Clocks                 0\n",
      "dtype: int64\n"
     ]
    }
   ],
   "source": [
    "print(df_filtered.isnull().sum())"
   ]
  },
  {
   "cell_type": "markdown",
   "metadata": {},
   "source": [
    "Разбираемся с колонкой White_Rating"
   ]
  },
  {
   "cell_type": "code",
   "execution_count": 9,
   "metadata": {},
   "outputs": [
    {
     "data": {
      "text/plain": [
       "count    140565.000000\n",
       "mean       2548.521766\n",
       "std         360.134879\n",
       "min         455.000000\n",
       "25%        2294.000000\n",
       "50%        2591.000000\n",
       "75%        2808.000000\n",
       "max        3438.000000\n",
       "Name: White_Rating, dtype: float64"
      ]
     },
     "execution_count": 9,
     "metadata": {},
     "output_type": "execute_result"
    }
   ],
   "source": [
    "df_filtered['White_Rating'].describe()\n",
    "# предлагаю заменить пропуски рейтинга на среднее"
   ]
  },
  {
   "cell_type": "code",
   "execution_count": 10,
   "metadata": {},
   "outputs": [],
   "source": [
    "# Вычисление среднего значения для колонки \n",
    "mean_A = df['White_Rating'].mean()\n",
    "\n",
    "# Замена пропусков в колонке 'A' на среднее значение\n",
    "df_filtered['White_Rating'].fillna(mean_A, inplace=True)"
   ]
  },
  {
   "cell_type": "code",
   "execution_count": 11,
   "metadata": {},
   "outputs": [
    {
     "data": {
      "image/png": "[encoded data removed]",
      "text/plain": [
       "<Figure size 432x288 with 1 Axes>"
      ]
     },
     "metadata": {
      "needs_background": "light"
     },
     "output_type": "display_data"
    }
   ],
   "source": [
    "# Построение гистограммы для колонки 'White_Rating'\n",
    "plt.hist(df_filtered['White_Rating'], bins=30, color='skyblue')\n",
    "plt.title('Распределение рейтингов белых шахматистов')\n",
    "plt.xlabel('Рейтинг')\n",
    "plt.ylabel('Количество игроков')\n",
    "plt.grid(True)\n",
    "\n",
    "# Отображение графика\n",
    "plt.show()"
   ]
  },
  {
   "cell_type": "markdown",
   "metadata": {},
   "source": [
    "Посмотрим выбросы в колонке White_Rating"
   ]
  },
  {
   "cell_type": "code",
   "execution_count": 12,
   "metadata": {},
   "outputs": [
    {
     "name": "stdout",
     "output_type": "stream",
     "text": [
      "208       1442.0\n",
      "332       1435.0\n",
      "416       1061.0\n",
      "417        920.0\n",
      "424       1198.0\n",
      "           ...  \n",
      "140721    1500.0\n",
      "140749    1380.0\n",
      "140752    1470.0\n",
      "140778    1200.0\n",
      "140790    1309.0\n",
      "Name: White_Rating, Length: 1451, dtype: float64\n"
     ]
    }
   ],
   "source": [
    "# Вычисление квартиля\n",
    "Q1 = df_filtered['White_Rating'].quantile(0.25)\n",
    "Q3 = df_filtered['White_Rating'].quantile(0.75)\n",
    "IQR = Q3 - Q1\n",
    "\n",
    "# Определение границ для выявления выбросов\n",
    "lower_bound = Q1 - 1.5 * IQR\n",
    "upper_bound = Q3 + 1.5 * IQR\n",
    "\n",
    "# Поиск выбросов\n",
    "outliers_wr = df_filtered[(df_filtered['White_Rating'] < lower_bound) | (df_filtered['White_Rating'] > upper_bound)]\n",
    "\n",
    "# Выводим только колонку с выбросами\n",
    "outlier_column = outliers_wr['White_Rating']\n",
    "print(outlier_column)"
   ]
  },
  {
   "cell_type": "markdown",
   "metadata": {},
   "source": [
    "Разбираемся с колонкой Black_Rating"
   ]
  },
  {
   "cell_type": "code",
   "execution_count": 13,
   "metadata": {},
   "outputs": [
    {
     "data": {
      "text/plain": [
       "count    140481.000000\n",
       "mean       2549.812081\n",
       "std         358.765826\n",
       "min         458.000000\n",
       "25%        2296.000000\n",
       "50%        2591.000000\n",
       "75%        2808.000000\n",
       "max        3441.000000\n",
       "Name: Black_Rating, dtype: float64"
      ]
     },
     "execution_count": 13,
     "metadata": {},
     "output_type": "execute_result"
    }
   ],
   "source": [
    "df_filtered['Black_Rating'].describe()\n",
    "# предлагаю заменить пропуски рейтинга на среднее"
   ]
  },
  {
   "cell_type": "code",
   "execution_count": 14,
   "metadata": {},
   "outputs": [],
   "source": [
    "# Вычисление среднего значения для колонки \n",
    "mean_B = df_filtered['Black_Rating'].mean()\n",
    "\n",
    "# Замена пропусков в колонке 'A' на среднее значение\n",
    "df_filtered['Black_Rating'].fillna(mean_B, inplace=True)"
   ]
  },
  {
   "cell_type": "code",
   "execution_count": 15,
   "metadata": {},
   "outputs": [
    {
     "data": {
      "image/png": "[encoded data removed]",
      "text/plain": [
       "<Figure size 432x288 with 1 Axes>"
      ]
     },
     "metadata": {
      "needs_background": "light"
     },
     "output_type": "display_data"
    }
   ],
   "source": [
    "# Построение гистограммы для колонки 'Black_Rating'\n",
    "plt.hist(df_filtered['Black_Rating'], bins=30, color='skyblue')\n",
    "plt.title('Распределение рейтингов черных шахматистов')\n",
    "plt.xlabel('Рейтинг')\n",
    "plt.ylabel('Количество игроков')\n",
    "plt.grid(True)\n",
    "\n",
    "# Отображение графика\n",
    "plt.show()"
   ]
  },
  {
   "cell_type": "markdown",
   "metadata": {},
   "source": [
    "Посмотрим выбросы в колонке Black_Rating'"
   ]
  },
  {
   "cell_type": "code",
   "execution_count": 16,
   "metadata": {},
   "outputs": [
    {
     "name": "stdout",
     "output_type": "stream",
     "text": [
      "207       1495.0\n",
      "333       1081.0\n",
      "423       1476.0\n",
      "1062      1038.0\n",
      "1137      1309.0\n",
      "           ...  \n",
      "140722    1497.0\n",
      "140779    1382.0\n",
      "140785    1339.0\n",
      "140789    1468.0\n",
      "140791    1500.0\n",
      "Name: Black_Rating, Length: 1526, dtype: float64\n"
     ]
    }
   ],
   "source": [
    "# Вычисление квартиля\n",
    "Q1 = df_filtered['Black_Rating'].quantile(0.25)\n",
    "Q3 = df_filtered['Black_Rating'].quantile(0.75)\n",
    "IQR = Q3 - Q1\n",
    "\n",
    "# Определение границ для выявления выбросов\n",
    "lower_bound = Q1 - 1.5 * IQR\n",
    "upper_bound = Q3 + 1.5 * IQR\n",
    "\n",
    "# Поиск выбросов\n",
    "outliers_br = df_filtered[(df_filtered['Black_Rating'] < lower_bound) | (df_filtered['Black_Rating'] > upper_bound)]\n",
    "\n",
    "# Выводим только колонку с выбросами\n",
    "outlier_column = outliers_br['Black_Rating']\n",
    "print(outlier_column)"
   ]
  },
  {
   "cell_type": "markdown",
   "metadata": {},
   "source": [
    "Разбираемся с колонкой White_Inaccuracy - количество неточностей, допущенных белым игроком"
   ]
  },
  {
   "cell_type": "code",
   "execution_count": 17,
   "metadata": {},
   "outputs": [
    {
     "data": {
      "text/plain": [
       "count    140792.000000\n",
       "mean          2.937937\n",
       "std           2.278716\n",
       "min           0.000000\n",
       "25%           1.000000\n",
       "50%           3.000000\n",
       "75%           4.000000\n",
       "max          41.000000\n",
       "Name: White_Inaccuracy, dtype: float64"
      ]
     },
     "execution_count": 17,
     "metadata": {},
     "output_type": "execute_result"
    }
   ],
   "source": [
    "df_filtered['White_Inaccuracy'].describe()"
   ]
  },
  {
   "cell_type": "code",
   "execution_count": 18,
   "metadata": {},
   "outputs": [
    {
     "data": {
      "image/png": "[encoded data removed]",
      "text/plain": [
       "<Figure size 432x288 with 1 Axes>"
      ]
     },
     "metadata": {
      "needs_background": "light"
     },
     "output_type": "display_data"
    }
   ],
   "source": [
    "# Построение диаграммы рассеяния\n",
    "plt.scatter(df_filtered['White_Rating'], df_filtered['White_Inaccuracy'], s=1)\n",
    "\n",
    "plt.title('Зависимость ошибок от рейтинга белого игрока')\n",
    "plt.xlabel('Рейтинг')\n",
    "plt.ylabel('Количество ошибок')\n",
    "plt.grid(True)\n",
    "\n",
    "plt.show()"
   ]
  },
  {
   "cell_type": "markdown",
   "metadata": {},
   "source": [
    "Посмотрим как распределились неточности белого игрока по количеству игр"
   ]
  },
  {
   "cell_type": "code",
   "execution_count": 19,
   "metadata": {},
   "outputs": [
    {
     "data": {
      "image/png": "[encoded data removed]",
      "text/plain": [
       "<Figure size 432x288 with 1 Axes>"
      ]
     },
     "metadata": {
      "needs_background": "light"
     },
     "output_type": "display_data"
    }
   ],
   "source": [
    "# Построение гистограммы для колонки 'White_Inaccuracy'\n",
    "plt.hist(df_filtered['White_Inaccuracy'], bins=70, color='skyblue')\n",
    "plt.title('Распределение неточностей белых шахматистов')\n",
    "plt.xlabel('Неточности')\n",
    "plt.ylabel('Количество игроков')\n",
    "plt.grid(True)\n",
    "\n",
    "# Отображение графика\n",
    "plt.show()"
   ]
  },
  {
   "cell_type": "markdown",
   "metadata": {},
   "source": [
    "Определение выбросов в колонке White_Inaccuracy"
   ]
  },
  {
   "cell_type": "code",
   "execution_count": 20,
   "metadata": {},
   "outputs": [
    {
     "name": "stdout",
     "output_type": "stream",
     "text": [
      "41        16\n",
      "47         9\n",
      "100       14\n",
      "108        9\n",
      "128       10\n",
      "          ..\n",
      "140650    11\n",
      "140684     9\n",
      "140722    12\n",
      "140732    10\n",
      "140759    11\n",
      "Name: White_Inaccuracy, Length: 3108, dtype: int64\n"
     ]
    }
   ],
   "source": [
    "# Вычисление квартиля\n",
    "Q1 = df_filtered['White_Inaccuracy'].quantile(0.25)\n",
    "Q3 = df_filtered['White_Inaccuracy'].quantile(0.75)\n",
    "IQR = Q3 - Q1\n",
    "\n",
    "# Определение границ для выявления выбросов\n",
    "lower_bound = Q1 - 1.5 * IQR\n",
    "upper_bound = Q3 + 1.5 * IQR\n",
    "\n",
    "# Поиск выбросов\n",
    "outliers_white = df_filtered[\n",
    "    (df_filtered['White_Inaccuracy'] < lower_bound) |\n",
    "    (df_filtered['White_Inaccuracy'] > upper_bound)]\n",
    "# Выводим только колонку с выбросами\n",
    "outlier_column = outliers_white['White_Inaccuracy']\n",
    "print(outlier_column)"
   ]
  },
  {
   "cell_type": "markdown",
   "metadata": {},
   "source": [
    "Разбираемся с колонкой Black_Inaccuracy - количество неточностей, допущенных черным игроком"
   ]
  },
  {
   "cell_type": "code",
   "execution_count": 21,
   "metadata": {},
   "outputs": [
    {
     "data": {
      "text/plain": [
       "count    140792.000000\n",
       "mean          2.968869\n",
       "std           2.263913\n",
       "min           0.000000\n",
       "25%           1.000000\n",
       "50%           3.000000\n",
       "75%           4.000000\n",
       "max          45.000000\n",
       "Name: Black_Inaccuracy, dtype: float64"
      ]
     },
     "execution_count": 21,
     "metadata": {},
     "output_type": "execute_result"
    }
   ],
   "source": [
    "df_filtered['Black_Inaccuracy'].describe()"
   ]
  },
  {
   "cell_type": "code",
   "execution_count": 22,
   "metadata": {},
   "outputs": [
    {
     "data": {
      "image/png": "[encoded data removed]",
      "text/plain": [
       "<Figure size 432x288 with 1 Axes>"
      ]
     },
     "metadata": {
      "needs_background": "light"
     },
     "output_type": "display_data"
    }
   ],
   "source": [
    "# Построение диаграммы рассеяния\n",
    "plt.scatter(df_filtered['Black_Rating'], df_filtered['Black_Inaccuracy'], s=1)\n",
    "\n",
    "plt.title('Зависимость ошибок от рейтинга черного игрока')\n",
    "plt.xlabel('Рейтинг')\n",
    "plt.ylabel('Количество ошибок')\n",
    "plt.grid(True)\n",
    "\n",
    "plt.show()"
   ]
  },
  {
   "cell_type": "code",
   "execution_count": 23,
   "metadata": {},
   "outputs": [
    {
     "data": {
      "image/png": "[encoded data removed]",
      "text/plain": [
       "<Figure size 432x288 with 1 Axes>"
      ]
     },
     "metadata": {
      "needs_background": "light"
     },
     "output_type": "display_data"
    }
   ],
   "source": [
    "# Построение гистограммы для колонки 'Black_Inaccuracy'\n",
    "plt.hist(df_filtered['Black_Inaccuracy'], bins=70, color='skyblue')\n",
    "plt.title('Распределение неточностей черных шахматистов')\n",
    "plt.xlabel('Неточности')\n",
    "plt.ylabel('Количество игроков')\n",
    "plt.grid(True)\n",
    "\n",
    "# Отображение графика\n",
    "plt.show()"
   ]
  },
  {
   "cell_type": "code",
   "execution_count": null,
   "metadata": {},
   "outputs": [],
   "source": [
    "df_filtered['Black_Inaccuracy_log'] = np.log1p(df_filtered['Black_Inaccuracy'])"
   ]
  },
  {
   "cell_type": "code",
   "execution_count": null,
   "metadata": {},
   "outputs": [],
   "source": [
    "# Построение гистограммы для колонки 'Black_Inaccuracy'\n",
    "plt.hist(df_filtered['Black_Inaccuracy_log'], bins=70, color='skyblue')\n",
    "plt.title('Распределение неточностей черных шахматистов')\n",
    "plt.xlabel('Неточности')\n",
    "plt.ylabel('Количество игроков')\n",
    "plt.grid(True)\n",
    "\n",
    "# Отображение графика\n",
    "plt.show()"
   ]
  },
  {
   "cell_type": "markdown",
   "metadata": {},
   "source": [
    "Определение выбросов в колонке Black_Inaccuracy"
   ]
  },
  {
   "cell_type": "code",
   "execution_count": 24,
   "metadata": {},
   "outputs": [
    {
     "name": "stdout",
     "output_type": "stream",
     "text": [
      "33         9\n",
      "41        13\n",
      "100       11\n",
      "124       10\n",
      "153       11\n",
      "          ..\n",
      "140616    12\n",
      "140650    11\n",
      "140693     9\n",
      "140713    10\n",
      "140724    10\n",
      "Name: Black_Inaccuracy, Length: 3048, dtype: int64\n"
     ]
    }
   ],
   "source": [
    "# Вычисление квартиля\n",
    "Q1 = df_filtered['Black_Inaccuracy'].quantile(0.25)\n",
    "Q3 = df_filtered['Black_Inaccuracy'].quantile(0.75)\n",
    "IQR = Q3 - Q1\n",
    "\n",
    "# Определение границ для выявления выбросов\n",
    "lower_bound = Q1 - 1.5 * IQR\n",
    "upper_bound = Q3 + 1.5 * IQR\n",
    "\n",
    "# Поиск выбросов\n",
    "outliers_black = df_filtered[(df_filtered['Black_Inaccuracy'] < lower_bound) | (df_filtered['Black_Inaccuracy'] > upper_bound)]\n",
    "\n",
    "# Выводим только колонку с выбросами\n",
    "outlier_column = outliers_black['Black_Inaccuracy']\n",
    "print(outlier_column)"
   ]
  },
  {
   "cell_type": "markdown",
   "metadata": {},
   "source": [
    "Посмотрим на колонку Rated - улевый признак, показывающий, является ли партия рейтинговой (True) или нет (False) "
   ]
  },
  {
   "cell_type": "code",
   "execution_count": 25,
   "metadata": {},
   "outputs": [
    {
     "data": {
      "text/plain": [
       "True     134761\n",
       "False      6031\n",
       "Name: Rated, dtype: int64"
      ]
     },
     "execution_count": 25,
     "metadata": {},
     "output_type": "execute_result"
    }
   ],
   "source": [
    "df_filtered['Rated'].value_counts()"
   ]
  },
  {
   "cell_type": "markdown",
   "metadata": {},
   "source": [
    "Посмотрим на колонку Opening_Name - название дебюта, который был сыгран"
   ]
  },
  {
   "cell_type": "code",
   "execution_count": 26,
   "metadata": {},
   "outputs": [
    {
     "data": {
      "text/plain": [
       "Indian Defense                                                        1891\n",
       "Sicilian Defense: Closed                                              1569\n",
       "Zukertort Opening                                                     1280\n",
       "King's Indian Attack                                                  1267\n",
       "Modern Defense                                                        1185\n",
       "                                                                      ... \n",
       "English Opening: Myers Gambit                                            1\n",
       "Tarrasch Defense: Rubinstein System                                      1\n",
       "Grünfeld Defense: Exchange Variation, Simagin's Improved Variation       1\n",
       "Italian Game: Two Knights Defense, Max Lange Attack, Loman Defense       1\n",
       "Dutch Defense: Classical Variation, Blackburne Attack                    1\n",
       "Name: Opening_Name, Length: 2318, dtype: int64"
      ]
     },
     "execution_count": 26,
     "metadata": {},
     "output_type": "execute_result"
    }
   ],
   "source": [
    "df_filtered['Opening_Name'].value_counts()"
   ]
  },
  {
   "cell_type": "markdown",
   "metadata": {},
   "source": [
    "Попробуем заменить пропуски в колонке Opening_Name"
   ]
  },
  {
   "cell_type": "code",
   "execution_count": 27,
   "metadata": {},
   "outputs": [
    {
     "name": "stdout",
     "output_type": "stream",
     "text": [
      "\n",
      "DataFrame после обрезки ходов:\n",
      "         Game_ID  Rated   Variant        Speed  \\\n",
      "0       PsevV6VH   True  standard    classical   \n",
      "1       diLZa8sj   True  standard    classical   \n",
      "2       O8TSZ7bq   True  standard    classical   \n",
      "3       vtMjWIUv   True  standard    classical   \n",
      "4       GC8I3jiq   True  standard    classical   \n",
      "...          ...    ...       ...          ...   \n",
      "140787  nFPldl4M   True  standard  ultraBullet   \n",
      "140788  qjnWre9p   True  standard  ultraBullet   \n",
      "140789  urNcmiBj   True  standard  ultraBullet   \n",
      "140790  sVXMAWZV   True  standard  ultraBullet   \n",
      "140791  Q2mKx3Ra   True  standard  ultraBullet   \n",
      "\n",
      "                              Created_At                      Last_Move_At  \\\n",
      "0       2024-12-15T11:09:25.224000+00:00  2024-12-15T11:55:14.775000+00:00   \n",
      "1       2024-10-28T13:54:16.605000+00:00  2024-10-28T14:32:21.403000+00:00   \n",
      "2       2024-10-05T13:58:55.992000+00:00  2024-10-05T14:27:57.120000+00:00   \n",
      "3       2024-08-23T07:33:49.932000+00:00  2024-08-23T08:04:22.421000+00:00   \n",
      "4       2024-08-22T13:24:49.024000+00:00  2024-08-22T14:18:09.814000+00:00   \n",
      "...                                  ...                               ...   \n",
      "140787  2020-12-03T07:45:10.481000+00:00  2020-12-03T07:45:41.441000+00:00   \n",
      "140788  2020-12-03T07:44:37.297000+00:00  2020-12-03T07:45:03.988000+00:00   \n",
      "140789  2020-12-03T07:43:51.442000+00:00  2020-12-03T07:44:27.563000+00:00   \n",
      "140790  2020-12-03T07:43:07.905000+00:00  2020-12-03T07:43:41.084000+00:00   \n",
      "140791  2020-12-03T07:41:15.686000+00:00  2020-12-03T07:41:53.251000+00:00   \n",
      "\n",
      "       Game_Status Source Winner  \\\n",
      "0           resign   pool  white   \n",
      "1           resign   pool  white   \n",
      "2           resign   pool  black   \n",
      "3           resign   pool  white   \n",
      "4             draw   pool    NaN   \n",
      "...            ...    ...    ...   \n",
      "140787   outoftime  arena  black   \n",
      "140788   outoftime  arena  black   \n",
      "140789   outoftime  arena  white   \n",
      "140790   outoftime  arena  black   \n",
      "140791   outoftime  arena  black   \n",
      "\n",
      "                                             Opening_Name  ... Black_Mistake  \\\n",
      "0                  English Opening: Symmetrical Variation  ...             1   \n",
      "1       French Defense: Winawer Variation, Advance Var...  ...             0   \n",
      "2                                           London System  ...             1   \n",
      "3       King's Indian Defense: Orthodox Variation, Pos...  ...             1   \n",
      "4       English Opening: Anglo-Indian Defense, King's ...  ...             1   \n",
      "...                                                   ...  ...           ...   \n",
      "140787                      Modern Defense: Standard Line  ...             2   \n",
      "140788               French Defense: King's Indian Attack  ...             1   \n",
      "140789                                  Hungarian Opening  ...             1   \n",
      "140790                               Van't Kruijs Opening  ...             3   \n",
      "140791          Scandinavian Defense: Valencian Variation  ...             0   \n",
      "\n",
      "        Black_Blunder Black_ACPL  \\\n",
      "0                   1         47   \n",
      "1                   1         31   \n",
      "2                   5         56   \n",
      "3                   2         42   \n",
      "4                   2         26   \n",
      "...               ...        ...   \n",
      "140787              4        148   \n",
      "140788              6        225   \n",
      "140789              5        118   \n",
      "140790             11        222   \n",
      "140791              1         66   \n",
      "\n",
      "                                                   Clocks  \\\n",
      "0       [180003, 180003, 178499, 178019, 178339, 17757...   \n",
      "1       [180003, 180003, 179827, 179683, 178619, 17936...   \n",
      "2       [180003, 180003, 179707, 179035, 179051, 17678...   \n",
      "3       [180003, 180003, 179731, 179283, 179443, 17872...   \n",
      "4       [180003, 180003, 179867, 178467, 175067, 17782...   \n",
      "...                                                   ...   \n",
      "140787  [1499, 1499, 1483, 1499, 1451, 1499, 1419, 148...   \n",
      "140788  [1499, 1499, 1499, 1491, 1403, 1491, 1267, 149...   \n",
      "140789  [1499, 1499, 1499, 1499, 1499, 1435, 1499, 139...   \n",
      "140790  [1499, 750, 1483, 743, 1467, 729, 1451, 727, 1...   \n",
      "140791  [1499, 1499, 1499, 1491, 1403, 1491, 1371, 149...   \n",
      "\n",
      "                                                 Analysis  Total_Time_Init  \\\n",
      "0       [{'eval': 14}, {'eval': 25}, {'eval': 26}, {'e...             1800   \n",
      "1       [{'eval': 18}, {'eval': 28}, {'eval': 28}, {'e...             1800   \n",
      "2       [{'eval': 17}, {'eval': 17}, {'eval': 11}, {'e...             1800   \n",
      "3       [{'eval': 16}, {'eval': 17}, {'eval': 15}, {'e...             1800   \n",
      "4       [{'eval': 17}, {'eval': 18}, {'eval': 23}, {'e...             1800   \n",
      "...                                                   ...              ...   \n",
      "140787  [{'eval': 0}, {'eval': 40}, {'eval': 56}, {'ev...               15   \n",
      "140788  [{'eval': -13}, {'eval': -24}, {'eval': 0}, {'...               15   \n",
      "140789  [{'eval': 16}, {'eval': 13}, {'eval': -13}, {'...               15   \n",
      "140790  [{'eval': 9}, {'eval': 40}, {'eval': -5}, {'ev...               15   \n",
      "140791  [{'eval': 0}, {'eval': 52, 'best': 'c7c5', 'va...               15   \n",
      "\n",
      "        Total_Time_Increment  Total_Time  \\\n",
      "0                          0        1800   \n",
      "1                          0        1800   \n",
      "2                          0        1800   \n",
      "3                          0        1800   \n",
      "4                          0        1800   \n",
      "...                      ...         ...   \n",
      "140787                     0          15   \n",
      "140788                     0          15   \n",
      "140789                     0          15   \n",
      "140790                     0          15   \n",
      "140791                     0          15   \n",
      "\n",
      "                                                    Moves TrimmedMoves  \n",
      "0       Nf3 c5 c4 Nc6 Nc3 g6 e3 Bg7 d4 cxd4 exd4 d6 h3...       Nf3 c5  \n",
      "1       e4 e6 d4 d5 Nc3 Bb4 e5 Ne7 a3 Bxc3+ bxc3 b6 Bb...        e4 e6  \n",
      "2       d4 Nf6 Nf3 g6 Bf4 Bg7 e3 d6 Be2 O-O O-O Nbd7 h...       d4 Nf6  \n",
      "3       d4 Nf6 Nf3 d6 c4 g6 Nc3 Bg7 e4 O-O Be2 Nbd7 O-...       d4 Nf6  \n",
      "4       Nf3 Nf6 c4 c5 g3 g6 b3 Bg7 Bb2 O-O Bg2 Nc6 O-O...      Nf3 Nf6  \n",
      "...                                                   ...          ...  \n",
      "140787  e4 g6 d4 Bg7 Nc3 Nf6 Be3 O-O f3 Nxe4 fxe4 d5 Q...        e4 g6  \n",
      "140788  d3 e6 e4 Bb4+ c3 Be7 Bg5 Nf6 Bxf6 Bxf6 e5 d5 d...        d3 e6  \n",
      "140789  g3 e5 Bg2 d5 Nf3 e4 O-O exf3 exf3 Nf6 Re1+ Be7...        g3 e5  \n",
      "140790  e3 g6 d3 Bg7 Bd2 Nf6 Be2 O-O Qc1 e5 Qd1 e4 c3 ...        e3 g6  \n",
      "140791  e4 d5 exd5 Qxd5 Nc3 Qd8 d4 Nf6 Nf3 Nc6 Bd3 e6 ...        e4 d5  \n",
      "\n",
      "[140792 rows x 33 columns]\n"
     ]
    }
   ],
   "source": [
    "# Функция для обрезки ходов до нужного количества\n",
    "def trim_moves(moves, num_moves):\n",
    "    # Разбиваем строку на отдельные ходы\n",
    "    move_list = moves.split()\n",
    "    # Обрезаем до нужного количества ходов\n",
    "    trimmed_moves = ' '.join(move_list[:num_moves])\n",
    "    return trimmed_moves\n",
    "\n",
    "# Применяем функцию к столбцу 'Moves', обрезая до 2-х ходов\n",
    "df['TrimmedMoves'] = df['Moves'].apply(lambda x: trim_moves(x, 2))  # Обрезаем до 2-х ходов (1 для белых и 1 для черных)\n",
    "\n",
    "print(\"\\nDataFrame после обрезки ходов:\")\n",
    "print(df)\n"
   ]
  },
  {
   "cell_type": "code",
   "execution_count": 28,
   "metadata": {},
   "outputs": [
    {
     "name": "stdout",
     "output_type": "stream",
     "text": [
      "\n",
      "Словарь дебютов:\n",
      "{'Nf3 c5': 'Zukertort Opening: Sicilian Invitation', 'e4 e6': \"French Defense: Queen's Knight\", 'd4 Nf6': 'Indian Defense: Normal Variation', 'Nf3 Nf6': \"King's Indian Defense: Normal Variation, King's Knight Variation\", 'e4 c6': 'Caro-Kann Defense', 'e4 c5': 'Sicilian Defense: Closed', 'e4 e5': \"Petrov's Defense: Modern Attack\", 'e4 Nc6': 'Nimzowitsch Defense', 'e4 d5': 'Scandinavian Defense: Valencian Variation', 'e4 b6': 'Owen Defense', 'e4 g6': 'Modern Defense: Standard Line', 'e4 d6': 'Rat Defense: Antal Defense', 'd4 d5': 'Slav Defense: Slav Gambit, Alekhine Attack', 'Nf3 d5': 'English Opening: Agincourt Defense, Catalan Defense, Semi-Slav Defense', 'd4 c5': 'Caro-Kann Defense: Exchange Variation', 'c4 e5': 'English Opening: The Whale', 'd4 d6': \"Queen's Pawn Game\", 'c4 d6': 'English Opening', 'Nf3 g6': 'Zukertort Opening: Kingside Fianchetto', 'Nf3 e6': 'English Opening: Agincourt Defense, Neo-Catalan Declined', 'c4 c6': 'English Opening: Caro-Kann Defensive System', 'g3 d5': \"King's Indian Attack\", 'd4 e6': 'Horwitz Defense', 'b3 e5': 'Nimzo-Larsen Attack: Modern Variation', 'd4 f5': \"Dutch Defense: Queen's Knight Variation\", 'c4 Nf6': 'Catalan Opening: Open Defense', 'd4 g6': \"Queen's Pawn Game: Modern Defense\", 'b3 b6': 'Nimzo-Larsen Attack: Symmetrical Variation', 'h4 e5': 'Kádas Opening', 'c4 c5': 'English Opening: Symmetrical Variation, Two Knights Variation', 'a3 c5': \"Anderssen's Opening\", 'd4 a6': \"Queen's Pawn Game\", 'd4 Nh6': \"Queen's Pawn Game\", 'b4 e5': 'Polish Opening', 'e4 Nf6': 'Zukertort Opening: Lemberger Gambit', 'e3 Nf6': \"Van't Kruijs Opening\", 'd4 Nc6': 'Mikenas Defense', 'b3 Nf6': 'Nimzo-Larsen Attack: Indian Variation', 'Nc3 Nf6': 'Alekhine Defense: Scandinavian Variation', 'd4 b6': 'English Defense', 'b3 d5': 'Nimzo-Larsen Attack: Classical Variation', 'Nc3 d5': 'Van Geet Opening', 'd4 e5': 'Englund Gambit Declined: Reversed Alekhine', 'g3 c5': 'Hungarian Opening: Sicilian Invitation', 'c3 Nf6': 'Saragossa Opening', 'Nf3 Nc6': 'Zukertort Opening: Black Mustang Defense', 'Nf3 e5': 'Zukertort Opening: Ross Gambit', 'Nf3 f5': 'Zukertort Opening: Dutch Variation', 'c3 d5': 'Saragossa Opening', 'c4 e6': 'Benoni Defense: Franco-Sicilian Hybrid', 'c4 f5': \"Dutch Defense: Queen's Knight Variation\", 'c4 g6': 'English Opening: Great Snake Variation', 'c4 d5': \"Queen's Gambit Declined: Austrian Defense\", 'c6 d4': nan, 'd4 d3': nan, 'e3 e5': \"Van't Kruijs Opening\", 'b4 Nf6': \"Polish Opening: King's Indian Variation\", 'g4 h5': 'Grob Opening', 'f4 g6': 'Bird Opening', 'Nf3 b6': 'Zukertort Opening: Queenside Fianchetto Variation', 'f4 e5': \"Bird Opening: From's Gambit\", 'g4 d5': 'Grob Opening: Grob Gambit', 'f4 c5': 'Bird Opening', 'g4 e5': 'Grob Opening', 'd3 Nf6': 'Mieses Opening', 'f4 Nf6': 'Bird Opening', 'c4 Nc6': 'English Opening: Anglo-Lithuanian Variation', 'a3 h6': \"Anderssen's Opening\", 'g3 Nf6': 'Hungarian Opening: Indian Defense', 'd4 b5': 'Polish Defense', 'g3 e5': 'Hungarian Opening', 'g3 g6': 'Hungarian Opening: Symmetrical Variation', 'f4 d5': 'Bird Opening: Dutch Variation', 'd4 c6': \"Queen's Pawn Game\", 'b3 e6': 'Nimzo-Larsen Attack', 'a3 d5': \"Anderssen's Opening\", 'c4 b6': 'English Opening', 'b3 c6': 'Nimzo-Larsen Attack', 'Nc3 e5': 'Vienna Game: Anderssen Defense', 'd3 c5': 'Mieses Opening', 'c4 f6': 'English Opening', 'c4 a6': 'English Opening', 'Be3 Bg7': nan, 'Nc3 c6': 'Caro-Kann Defense: Two Knights Attack', 'd3 c6': 'Mieses Opening', 'Nce3 g6': nan, 'f4 f5': 'Bird Opening', 'd3 f5': 'Mieses Opening', 'e4 f5': 'Duras Gambit', 'e3 f5': \"Van't Kruijs Opening\", 'b4 d6': 'Polish Opening', 'e3 d5': \"Van't Kruijs Opening\", 'Nc3 Nc6': 'Van Geet Opening: Napoleon Attack', 'Nc3 d6': 'Van Geet Opening', 'Nc3 c5': 'Van Geet Opening', 'Nc3 g6': 'Van Geet Opening', 'Nc3 f5': 'Van Geet Opening', 'f4 e6': 'Bird Opening', 'b4 e6': 'Polish Opening', 'Nf3 g5': 'Zukertort Opening: Herrstrom Gambit', 'Nf6 e5': nan, 'e5 Nc3': nan, 'd3 d5': 'Mieses Opening', 'b3 g6': 'Nimzo-Larsen Attack', 'Nf3 d6': 'Zukertort Opening: Pirc Invitation', 'g4 e6': 'Grob Opening', 'f4 b6': 'Bird Opening', 'e4 a6': 'St. George Defense', 'b3 c5': 'Nimzo-Larsen Attack: English Variation', 'b4 d5': 'Polish Opening', 'd3 g6': 'Mieses Opening', 'c3 e5': 'Saragossa Opening', 'd3 e5': 'Mieses Opening: Reversed Rat', 'b4 g6': \"Polish Opening: King's Indian Variation\", 'd3 e6': \"French Defense: King's Indian Attack\", 'd4 a5': \"Queen's Pawn Game\", 'Nf3 c6': \"King's Indian Attack: Yugoslav Variation\", 'Nf3 f6': 'Zukertort Opening: Arctic Defense', 'e5 Nf3': nan, 'Nf3 a6': 'Zukertort Opening: St. George Defense', 'g4 h6': 'Grob Opening', 'b4 b6': 'Polish Opening', 'b4 f5': 'Polish Opening: Dutch Defense', 'a4 Nf6': 'Ware Opening', 'a4 e5': 'Ware Opening', 'd4 f6': \"Queen's Pawn Game\", 'g3 d6': 'Hungarian Opening', 'Nf3 h6': 'Zukertort Opening: Basman Defense', 'b4 c6': 'Polish Opening: Outflank Variation', 'a3 g6': \"Anderssen's Opening\", 'f4 Nc6': 'Bird Opening', 'h4 c5': 'Kádas Opening', 'f4 d6': 'Bird Opening', 'g6 Qe1+': nan, 'd5 b6': nan, 'h7 Kc8': nan, 'Rff1 Nf6': nan, 'h3 e5': 'Clemenz Opening', 'c6 Nf3': nan, 'g4 g6': 'Grob Opening', 'g4 b6': 'Grob Opening', 'e4 g5': 'Borg Defense', 'd4 h6': \"Queen's Pawn Game\", 'Nh3 d5': 'Amar Opening', 'Na3 e5': 'Sodium Attack', 'Nf3 b5': 'Zukertort Opening: Polish Defense', 'Kd3 Ke7': nan, 'a3 e5': \"Anderssen's Opening\", 'a3 Nf6': \"Anderssen's Opening\", 'a3 f5': \"Anderssen's Opening\", 'a3 c6': \"Anderssen's Opening\", 'a3 f6': \"Anderssen's Opening\", 'a3 a6': \"Anderssen's Opening\", 'e3 c5': \"Van't Kruijs Opening\", 'b3 d6': 'Nimzo-Larsen Attack', 'f3 d6': 'Barnes Opening', 'b4 a5': 'Polish Opening', 'g3 f5': 'Hungarian Opening: Dutch Defense', 'e3 e6': \"Van't Kruijs Opening\", 'g3 c6': 'Hungarian Opening: Slav Formation', 'g3 b6': 'Hungarian Opening', 'g3 e6': 'Hungarian Opening', 'f4 c6': 'Bird Opening', 'e4 b5': \"King's Pawn Game\", 'a4 g6': 'Ware Opening', 'e3 g6': \"Van't Kruijs Opening\", 'c6 Nc3': nan, 'e4 f6': 'Zukertort Opening: Arctic Defense, Drunken Knight Variation', 'Nf6 c4': nan, 'b3 a5': 'Nimzo-Larsen Attack', 'b3 Nc6': 'Nimzo-Larsen Attack: Modern Variation', 'b3 b5': 'Nimzo-Larsen Attack: Polish Variation', 'b3 f5': 'Nimzo-Larsen Attack: Dutch Variation', 'Nf3 Na6': 'Zukertort Opening', 'a4 d5': 'Ware Opening', 'f4 Nh6': 'Bird Opening: Horsefly Defense', 'e4 h6': 'Carr Defense', 'Bd3 Nc6': nan, 'Bd3 Nf6': nan, 'e5 Nd5': nan, 'f5 Bxc3': nan, 'c5 dxc5': nan, 'Re8 Nh2': nan, 'Nd2 Ba6': nan, 'Nd2 a5': nan, 'Na3 f6': nan, 'Kg3 Kh6': nan, 'Kd5 Kg7': nan, 'Kc2 Kf4': nan, 'Rxd7 Rxd7': nan, 'Be2 Nc6': nan, 'Ke3 Kf8': nan, 'Nc3 dxe4': nan, 'Qc2 O-O': nan, 'e5 d4': nan, 'Nc6 d4': nan, 'Nd5 Nxd5': nan, 'Nc3 Qc7': nan, 'Nd7 Rc8': nan, 'd5 Bg2': nan, 'exd5 Nf6': nan, 'Nf6 Bg2': nan, 'Nf6 g3': nan, 'Nf6 d4': nan, 'Nf6 e4': nan, 'Nxe5 d6': nan, 'Nxe5 c6': nan, 'Nxe5 Qe7': nan, 'Nc6 Bb2': nan, 'h3 Rhg8': nan, 'Bb5 Ng6': nan, 'g3 Bc1': nan, 'g3 Kf5': nan, 'Nc3 a6': 'Van Geet Opening', 'Bxc3+ bxc3': nan, 'Bg2 b4': nan, 'h3 h6': 'Clemenz Opening', 'Qg3 Kf8': nan, 'Kf8 Rhf1': nan, 'c3 g6': 'Saragossa Opening', 'd4 Na6': 'Australian Defense', 'g4 f5': nan, 'b4 h5': 'Polish Opening', 'a3 a5': \"Anderssen's Opening\", 'g3 h5': 'Lasker Simul Special', 'h4 h6': 'Kádas Opening', 'd4 h5': \"Queen's Pawn Game\", 'f3 e5': 'Barnes Opening', 'e3 b6': \"Van't Kruijs Opening\", 'b8=Q Bd6': nan, 'g5 h2': nan, 'Kc3 Rf6': nan, 'Rh7 Rb6': nan, 'Ke6 Re1+': nan, 'Kb2 Ke4': nan, 'Nf3 Nh6': 'Zukertort Opening', 'd3 a6': 'Mieses Opening', 'Qxb3 axb3': nan, 'Qb6+ Rd6': nan, 'Qc4+ Ke5': nan, 'g4 b5': 'Grob Opening', 'f3 a6': 'Barnes Opening', 'Nc3 Kh5': nan, 'f5 Ke3': nan, 'Kf8 Kg3': nan, 'g4 g5': 'Grob Opening: Double Grob, Coca-Cola Gambit', 'b3 f6': 'Nimzo-Larsen Attack', 'h4 d5': 'Kádas Opening', 'c3 b6': 'Saragossa Opening', 'e4 Ke7': nan, 'Nf3 h5': 'Hungarian Opening: Van Kuijk Gambit', 'e4 a5': 'Ware Defense', 'h3 d5': 'Clemenz Opening', 'h3 Nf6': 'Clemenz Opening', 'Nc3 b6': 'Van Geet Opening', 'Qxa1+ Kxa1': nan, 'Qb7+ Ka3': nan, 'Rg2+ Kf4': nan, 'Rc2 h3': nan, 'Bc5 O-O': nan, 'Nf6 d3': nan, 'Bc5 d3': nan, 'Kb7 f4': nan, 'd3 d6': 'Mieses Opening', 'c3 Nc6': 'Saragossa Opening', 'c4 a5': 'English Opening', 'Nf3 a5': 'Zukertort Opening: Ware Defense', 'f3 d5': 'Barnes Opening', 'f3 c5': 'Barnes Opening', 'g3 a5': 'Hungarian Opening', 'h5 f3': nan, 'b5 Nf1': nan, 'Kf2 g6': nan, 'Be2 Bh1': nan, 'Kg7 h4': nan, 'Nc5 Bc2': nan, 'Bd2 Bd4': nan, 'h6 Bf1': nan, 'h3 Rfd8': nan, 'Rfd8 Bf1': nan, 'Nd2 Qe6': nan, 'c3 f5': 'Saragossa Opening', 'g4 d6': 'Grob Opening', 'Nc3 e6': 'Van Geet Opening', 'c4 h6': 'English Opening', 'Rg7+ Ke8': nan, 'd3 b6': 'Mieses Opening', 'Nh3 e5': 'Amar Opening', 'a3 e6': \"Anderssen's Opening\", 'c4 g5': 'English Opening: Myers Defense', 'Bd2 h6': nan, 'a5 Ba3': nan, 'h3 a6': 'Clemenz Opening', 'Re8 O-O': nan, 'h6 Bh4': nan, 'a4 a5': 'Ware Opening: Symmetric Variation', 'a5 h4': nan, 'Rxf5 Rd8': nan, 'c6 h5': nan, 'c6 e4': nan, 'Rh4+ Kg5': nan, 'h4 a5': 'Kádas Opening: Koola-Koola Variation', 'e3 Nc6': \"Van't Kruijs Opening\", 'a4 e6': 'Ware Opening', 'g6 Nf4': nan, 'g4 Nfe7': nan, 'Rd6 Rxd6': nan, 'h4 h5': 'Kádas Opening', 'c3 Nb6': nan, 'Rad1 Bc5': nan, 'b4 Bxb4': nan, 'g3 hxg3+': nan, 'Bc8 Bf3': nan, 'd6 Nc3': nan, 'f4 Qg7': nan, 'c4 Be2': nan, 'Rb8 Bd3': nan, 'b6 axb6': nan, 'O-O-O f3': nan, 'f3 Nc6': nan, 'Bb4 Bd2': nan, 'Bb4 Qc2': nan, 'Bf5 Re1': nan, 'f4 Bc5': nan, 'Qe7 Be2': nan, 'b4 Nxb4': nan, 'Kh1 Nd4': nan, 'h5 Bd7': nan, 'Nc5 Qc8': nan, 'Nxb5 cxb5': nan, 'Nd2 Bd8': nan, 'Nbd2 O-O': nan, 'cxb5 cxd5': nan, 'Bg2 bxc4': nan, 'dxc6 dxc6': nan, 'e3 c6': \"Van't Kruijs Opening\", 'Rc8 a4': nan, 'Qe7 h3': nan, 'Ke2 Kf8': nan, 'Qh5 Kg8': nan, 'Rxb7+ Bxb7': nan, 'O-O-O a5': nan, 'e4 h5': 'Goldsmith Defense', 'e3 d6': \"Van't Kruijs Opening\", 'b3 a6': 'Nimzo-Larsen Attack', 'e3 h6': \"Van't Kruijs Opening\", 'Nh5 Bg3': nan, 'Nc3 g5': 'Van Geet Opening', 'Nc3 b5': 'Van Geet Opening: Laroche Gambit', 'h6 Bxf6': nan, 'Na3 Nh6': 'Sodium Attack', 'Na3 d5': 'Sodium Attack', 'Na3 Na6': 'Sodium Attack', 'Na3 g6': 'Sodium Attack', 'e4 Na6': 'Lemming Defense', 'f4 g5': 'Bird Opening: Hobbs-Zilbermints Gambit', 'f4 h6': 'Bird Opening', 'f4 b5': 'Bird Opening: Myers Defense', 'c3 a5': 'Saragossa Opening', 'c4 b5': 'English Opening: Jaenisch Gambit', 'g6 Nd4': nan, 'e5 c5': nan, 'b3 Na6': 'Nimzo-Larsen Attack', 'h4 Nf6': 'Kádas Opening', 'f3 h6': 'Barnes Opening', 'h3 f6': 'Clemenz Opening', 'a4 Na6': 'Ware Opening', 'Nh3 f6': 'Amar Opening', 'Nh3 Na6': 'Amar Opening', 'a4 c5': 'Ware Opening', 'Bxa6 Rxa6': nan, 'c4 h5': 'English Opening', 'g3 a6': 'Hungarian Opening', 'Rc5 Rd3': nan, 'Ra8 Kf5': nan, 'Ra7 Rb2+': nan, 'Rxa6 Rxh4': nan, 'g6 fxg6': nan, 'Kf2 Kh6': nan, 'Kf2 Kg8': nan, 'Kh1 Kd2': nan, 'Kb3 Kf2': nan, 'Kh2 Kg7': nan, 'Kh2 Kg8': nan, 'Nf3+ Ke4': nan, 'Nf3+ Kd5': nan, 'Qb3 b6': nan, 'a4 Rfe8': nan, 'Nc3 Kd4': nan, 'Kd2 Ke4': nan, 'Kd2 Kd5': nan, 'Ke2 Ke4': nan, 'Kc4 g5': nan, 'Rf5+ Ke6': nan, 'Rf4 Rxf4': nan, 'Rh3 Rg4': nan, 'h4 d6': 'Kádas Opening', 'Kd6 Kf7': nan, 'Bg5 Nbd7': nan, 'O-O Bg2': nan, 'c5 c3': nan, 'g6 h4': nan, 'Bf5 f4': nan, 'Bf5 Nf3': nan, 'Bf5 g4': nan, 'e6 Nf3': nan, 'f4 h5': 'Bird Opening', 'Bb6 Na3': nan, 'c3 e6': 'Saragossa Opening', 'a7 Ra2+': nan, 'a7 Rxa7': nan, 'Nd5 c4': nan, 'f4 f6': nan, 'Kc3 Kd5': nan, 'Kd3 Kd5': nan, 'c3 d6': 'Saragossa Opening', 'dxe6 Bxe6': nan, 'Kf1 Kf7': nan, 'e4 Kf7': nan, 'd4 Kf7': nan, 'Kd3 Ke5': nan, 'e3 Ke4': nan, 'Kf3 Kf5': nan, 'Qg4+ Kh2': nan, 'Qd7+ Kc2': nan, 'O-O Kd8': nan, 'g4 Kf8': nan, 'Kf2 h4': nan, 'Kf2 Kd7': nan, 'Kf1 d6': nan, 'Rh6 Ke7': nan, 'Rh5 Ke6': nan, 'Kf2 Kf6': nan, 'f4 Kf8': nan, 'Nf3 Nge7': nan, 'Qd2 Kg1': nan, 'Qd5+ Kc2': nan, 'Kg4 Kh7': nan, 'Kg4 Kg6': nan, 'e3 Kf6': nan, 'Ke3 Kf5': nan, 'Ke3 Kd5': nan, 'e3 Kd5': nan, 'Qf3 Kd4': nan, 'e4 Be7': nan, 'Rf2 Rxf2': nan, 'Kf2 Ke4': nan, 'Kf3 Kd5': nan, 'Rh4 Kc6': nan, 'Rh4 Kd6': nan, 'Rh4 Ke5': nan, 'f6 Kf8': nan, 'Kc2 Ke7': nan, 'Kc1 Ke7': nan, 'Kd2 Ke7': nan, 'Kd7 Kd4': nan, 'Kd5 Kd3': nan, 'Kd5 Kb4': nan, 'Bb5+ Bd7': nan, 'Kb1 c3': nan, 'a5 b5': nan, 'Kc4 a6': nan, 'exf4 Bc4': nan, 'd3 Kf7': nan, 'Nf3 Kf7': nan, 'Kb1 a3': nan, 'Kh2 Kf3': nan, 'a5 Kd5': nan, 'e3 Kf7': nan, 'f3 Kf7': nan, 'Be2 Nf6': nan, 'd4 Qh4+': nan, 'Nf3 Bg4': nan, 'Nc3 dxc4': nan, 'Bg4 Bb5+': nan, 'Bg4 f3': nan, 'Bg4 Nf3': nan, 'Nxd5 c4': nan, 'Bg4 Be2': nan, 'Nb3 Bg7': nan, 'Nc3 Bg7': nan, 'Bc4 Bg7': nan, 'Nc3 Nxd4': nan, 'Nxc6 bxc6': nan, 'Nc3 exd5': nan, 'Qh5 Nd6': nan, 'Qh5 Qf6': nan, 'Bxf7+ Kxf7': nan, 'Bg5 e6': nan, 'Bd3 e5': nan, 'Bg5 e5': nan, 'Qf3 e5': nan, 'cxd5 Nxd5': nan, 'Nf3 Bg7': nan, 'cxd5 Bg7': nan, 'Bg5 Ne4': nan, 'Qe7 Qe2': nan, 'Qe7 f4': nan, 'cxd5 Bf5': nan, 'Qb3 dxc4': nan, 'Ne4 Nd2': nan, 'Qe7 Bf4': nan, 'Bg5 Bg7': nan, 'h3 Bg7': nan, 'Be3 Nc6': nan, 'Be2 Bg7': nan, 'h4 b6': 'Kádas Opening', 'Nf3 Nd7': nan, 'exd5 cxd5': nan, 'g6 Nf3': nan, 'Nc6 c5': nan, 'Bb5 a6': nan, 'Bb5 Bb4': nan, 'c3 a6': 'Saragossa Opening', 'Be3 e5': nan, 'd6 Nf3': nan, 'd6 c4': nan, 'Qa4 Nc6': nan, 'g4 c6': 'Grob Opening: Grob Gambit Declined', 'exd5 exd5': nan, 'c6 Be3': nan, 'a6 Bxc6': nan, 'Bc5 c3': nan, 'f5 exf5': nan, 'a6 Ba4': nan, 'Nf6 Nc3': nan, 'd6 O-O': nan, 'f5 d3': nan, 'f5 Bxc6': nan, 'c3 c6': 'Saragossa Opening', 'Ra3 Ke5': nan, 'Rh1 Kf4': nan, 'Ke4 Kf6': nan, 'Rc6+ Kf5': nan, 'Kf3 Bc6+': nan, 'd4 g5': 'Borg Defense: Borg Gambit', 'h3 g6': 'Clemenz Opening', 'Nb3 Qd8': nan, 'a6 a4': nan, 'Bd7 Nf1': nan, 'Be7 Nc3': nan, 'Be7 Bg5': nan, 'Rg6+ Kf7': nan, 'Re1 Nc5': nan, 'f3 b5': nan, 'Rd1+ Ke3': nan, 'Be2 Kd5': nan, 'Be1 Kc7': nan, 'Nd1 Bc8': nan, 'Rxa5 Rd8': nan, 'Kf3 Re1': nan, 'a3 Bd5': nan, 'f5 Ne2': nan, 'Nd4+ Ke3': nan, 'h4 Nb6': nan, 'Rh1 h6': nan, 'f5+ Kf4': nan, 'Bd7 Rd6': nan, 'Rc8 Rd4+': nan, 'a3 Ra7': nan, 'a6 Ra7': nan, 'Nd2+ Ke1': nan, 'h6 Rc1': nan, 'Be1 Bd8': nan, 'Rh1 Bc8': nan, 'Re6 f3': nan, 'Ke6 Nxc5+': nan, 'Kb5 Rh8': nan, 'Qg5 Qf3': nan, 'Nfd2 Nd5': nan, 'Bd6 f3': nan, 'Nxd4 Bxd4': nan, 'Be7 Rde1': nan, 'Qe1 Rh5': nan, 'Bd6 h3': nan, 'Rg2 Ra4': nan, 'e3 cxd4': nan, 'e4 Qc2': nan, 'c3 Nf3+': nan, 'Rb1+ Kh2': nan, 'Kd5 f3': nan, 'Rd4 Bf5': nan, 'Ne5 Bh7': nan, 'O-O Nb4': nan, 'Qe4+ Kd7': nan, 'Kc4 Kc6': nan, 'Rhe1 Bg7': nan, 'Rc4+ Kg5': nan, 'f3 Rb6': nan, 'Kg2 h4': nan, 'gxh5 gxh5': nan, 'Ngh4+ Ke6': nan, 'Rb1 Rc5': nan, 'b5 f5': nan, 'Kd2 Ra8': nan, 'Kc5 Ke4': nan, 'Ngf6 Bb5': nan, 'Rxe8+ Kxe8': nan, 'Nc6 Be2': nan, 'O-O a3': nan, 'Ke6 Kg1': nan, 'Nd7+ Kg8': nan, 'Rc6 Rg1': nan, 'Rhe1 Kc7': nan, 'Nd5 e6': nan, 'O-O Be6': nan, 'h4 Rab1': nan, 'Rfe1 dxc4': nan, 'h4 e6': 'Kádas Opening', 'O-O Nd4': nan, 'Bc4 Nh6': nan, 'dxc5 Nxc5': nan, 'Nxc5 Nxc5': nan, 'Nd5 a3': nan, 'Nd5 Nb3': nan, 'Nd5 dxc5': nan, 'Bc4 e6': nan, 'Nxe5 Nxe5': nan, 'O-O b4': nan, 'O-O O-O': nan, 'Ne5 Nbd7': nan, 'Re5 Bxe5': nan, 'Rxe6+ fxe6': nan, 'Qf3 Nbd7': nan, 'Bf4 Bxf4': nan, 'axb5 Nxc3': nan, 'g5 Bg3': nan, 'O-O-O Qc2': nan, 'O-O-O Bf4': nan, 'O-O-O Bd2': nan, 'Be2 b4': nan, 'Be3 d4': nan, 'h4 Rb8': nan, 'cxd5 hxg5': nan, 'a4 d4': nan, 'e4 dxe4': nan, 'Bxf6 exf6': nan, 'O-O Nc6': nan, 'Ne2 Ne4': nan, 'Ne2 c5': nan, 'Rfe1 Rh4': nan, 'Bxe7 Nxe7': nan, 'Bxe7 Qxe7': nan, 'Nbd2 Nxd2': nan, 'Nd7 Be3': nan, 'Nd7 Nd3': nan, 'Nxd5 cxd4': nan, 'Nxd5 Ne4': nan, 'Nxd5 Nxf7': nan, 'f3 Ra7': nan, 'f3 Rb4': nan, 'Nd4 c3': nan, 'd4 cxd4': nan, 'Bg4 Qc2': nan, 'Kg8 d5': nan, 'Nc3 Nxf4': nan, 'Nxc3 bxc3': nan, 'a6 e3': nan, 'cxd5 cxd5': nan, 'c3 c5': 'Sicilian Defense: Alapin Variation', 'Kh3 Kxb4': nan, 'Rcc7 Rf6': nan, 'Na4 Bg6': nan, 'Qc3 Bf6': nan, 'g4 Nd6': nan, 'h5 c6': nan, 'gxf4 Bxf4': nan, 'Nxe7+ Nxe7': nan, 'd4 Nd1': nan, 'Ra2 c4': nan, 'gxf4+ Kxf4': nan, 'Bxe4 Bxe4': nan, 'c4 Qf1': nan, 'Qb1 Qd4': nan, 'Bxe4 fxe4': nan, 'Qf4 Nd5': nan, 'Nb5 Nd5': nan, 'bxa5 Qxa5': nan, 'e6+ Kc7': nan, 'Nf5 Nc6': nan, 'Bb3 Qh3': nan, 'Qg5 Kf7': nan, 'Qc2 bxa4': nan, 'Bc3 Qa3': nan, 'Nf6+ Kf7': nan, 'Ne8+ Kd7': nan, 'f7 exd6': nan, 'Bxg6 fxg6': nan, 'Rxd8+ Kxd8': nan, 'Rxg7 Qxc3': nan, 'e5 fxe5': nan, 'd5 Bxd5': nan, 'Nxf7 Kxf7': nan, 'Rxf5 exf5': nan, 'Qf3+ d5': nan, 'Nc8+ Qxc8': nan, 'Rd7+ Ke6': nan, 'Rxe7 Qxe7': nan, 'Bxf6 Bxf6': nan, 'Nxh6+ gxh6': nan, 'Rxh5 gxh5': nan, 'e3 a5': \"Van't Kruijs Opening\", 'c5 O-O': nan, 'd5 a3': nan, 'Qg4 Kf8': nan, 'O-O c3': nan, 'a6 e4': nan, 'a6 Bf4': nan, 'a6 h4': nan, 'a6 Nf3': nan, 'Qh4+ Kf1': nan, 'd3 Bxd3': nan, 'Nc6 cxd4': nan, 'd5 Qxd4': nan, 'g3 Nc6': 'Hungarian Opening', 'd6 d4': nan, 'Rb7 Ra5': nan, 'Bxd2+ Nbxd2': nan, 'Qe2 g6': nan, 'Nf6 Bxc6': nan, 'Bd2 Bxc3': nan, 'Bd2 O-O': nan, 'b4 Bb6': nan, 'd4 Bxd4': nan, 'd5 d3': nan, 'Nc6 Nf3': nan, 'd5 Nf3': nan, 'c5 Nf3': nan, 'd5 e3': nan, 'Qd8+ Kg7': nan, 'Re1 b6': nan, 'a5 e5': nan, 'a5 Qf3': nan, 'Nc6 a3': nan, 'Kxg7 Re5': nan, 'Bf5 Ra8': nan, 'Qe5 Qxe5': nan, 'Re7 b5': nan, 'e5 c4': nan, 'Kg7 Bxd5': nan, 'Bg4 Bd3': nan, 'dxe4 Nxe4': nan, 'Bg7 e3': nan, 'Nf3 Ngf6': nan, 'Qe2 Ndf6': nan, 'Bd3 Ngf6': nan, 'Bxc6 dxc6': nan, 'O-O Nf6': nan, 'O-O Nf3': nan, 'Nc3 Bb4': nan, 'd5 e5': nan, 'd6 c3': nan, 'e3 Be7': nan, 'Bb6 a4': nan, 'Bxb4 c3': nan, 'dxc6 h3': nan, 'g4 Nh4': nan, 'Bxc5 dxc5': nan, 'd4 Ne2': nan, 'a5 h3': nan, 'Ne5 Bxb7': nan, 'Kg7 Kg3': nan, 'h4 Ne8': nan, 'Bb7 Nde7+': nan, 'Nf4 Bc2': nan, 'Qxf7 Qd6': nan, 'Rd8 Be2': nan, 'Re1 exd4': nan, 'e5 Rfd1': nan, 'a5 a4': nan, 'c5 d5': nan, 'Rad8 Nd1': nan, 'Qc7 Bh6': nan, 'Qg6 Nc7': nan, 'Rb1 Qxb5': nan, 'Rb1 Rd8': nan, 'Ne4 Bd3': nan, 'Ne4 a3': nan, 'Be3 Rde1': nan, 'h5 Ke8': nan, 'Kg5 Kf7': nan, 'Qh5 Qg5': nan, 'Qh5 Bf6': nan, 'Nc3 Ng4': nan, 'Qc7 dxc5': nan, 'Kf2 Rf5+': nan, 'Rb6 Nxd5': nan, 'Bb7 Nd3': nan, 'Ng5 d5': nan, 'Ng5 Bc5': nan, 'dxe6 fxe6': nan, 'e6 fxe6': nan, 'g3 Bg7': nan, 'Bf4 a6': nan, 'Bf8 Be1': nan, 'Ba5 Rc8': nan, 'Bb7 Bd3': nan, 'Bb7 e3': nan, 'Bb4+ Nfd2': nan, 'Bb7 Bg2': nan, 'Bb7 Nc3': nan, 'O-O Bd2': nan, 'b6 f3': nan, 'cxb5 a6': nan, 'c5 Bxb4': nan, 'Be7 Bg2': nan, 'Be7 Nf3': nan, 'Bb4+ Bd2': nan, 'Bb4+ Nc3': nan, 'Be7 Qc2': nan, 'd3 O-O': nan, 'e4 O-O': nan, 'e5 Be3': nan, 'Na6 f4': nan, 'h6 Be3': nan, 'e4 Nh6': 'Hippopotamus Defense', 'a4 c6': 'Ware Opening', 'Nh3 Nh6': 'Amar Opening', 'Nc3 Na6': 'Van Geet Opening', 'dxc5 Bxc5': nan, 'cxd5 exd5': nan, 'Bg5 cxd4': nan, 'e3 bxc4': nan, 'Nf3 Bb7': nan, 'Nc6 e3': nan, 'Nc6 f3': nan, 'd5 cxd5': nan, 'O-O e3': nan, 'exd4 Nxd4': nan, 'e3 Bb4': nan, 'e3 Bd6': nan, 'c4 Na6': 'English Opening', 'Nf6 Nf3': nan, 'Nc6 Nc3': nan, 'd3 Qc7': nan, 'b6 Ke2': nan, 'Nf3 Bxc4': nan, 'Bd3 Ke7': nan, 'Nf3 Kf8': nan, 'h3 h5': 'Clemenz Opening', 'Kg2 Ke5': nan, 'Kd4 Ke6': nan, 'Kd2 Kd4': nan, 'Nh3 g6': 'Amar Opening', 'Nh3 Nf6': 'Amar Opening', 'h3 c5': 'Clemenz Opening', 'b4 c5': 'Polish Opening: Birmingham Gambit', 'h3 e6': 'Clemenz Opening', 'h3 d6': 'Clemenz Opening', 'a4 a6': 'Ware Opening', 'e3 a6': \"Van't Kruijs Opening\", 'd3 Nc6': 'Mieses Opening', 'f3 g6': 'Barnes Opening', 'g4 c5': 'Grob Opening', 'f3 Nf6': 'Barnes Opening', 'g3 Na6': 'Hungarian Opening', 'Nh3 c5': 'Amar Opening', 'd3 a5': 'Mieses Opening', 'f3 b6': 'Barnes Opening', 'c4 Nh6': 'English Opening', 'f3 e6': 'Barnes Opening', 'a3 h5': \"Anderssen's Opening\", 'f3 c6': 'Barnes Opening', 'Na3 Nf6': 'Sodium Attack', 'Na3 d6': 'Sodium Attack', 'h4 c6': 'Kádas Opening', 'b3 h5': 'Nimzo-Larsen Attack', 'Nbd7 Bg5': nan, 'Nbd7 Be2': nan, 'g3 f6': 'Hungarian Opening', 'Nh3 e6': 'Amar Opening', 'Nh3 h5': 'Amar Opening', 'Qd1 Nd4': nan, 'Qd1 Ng8': nan, 'Na3 e6': 'Sodium Attack', 'Na3 b6': 'Sodium Attack', 'e3 b5': \"Van't Kruijs Opening\", 'g3 g5': 'Hungarian Opening: Myers Defense', 'Nd6 Qd3+': nan, 'a4 h6': 'Ware Opening', 'f3 a5': 'Barnes Opening', 'h4 Nc6': 'Kádas Opening', 'Nh3 c6': 'Amar Opening', 'd3 f6': 'Mieses Opening', 'g3 h6': 'Hungarian Opening', 'e3 h5': \"Van't Kruijs Opening\", 'Ke2 Nd7': nan, 'Nxe4 Bd3': nan, 'Nxe4 dxe5': nan, 'Nxe4 Nxe5': nan, 'Nxe4 d5': nan, 'd6 dxe5': nan, 'exd4 e5': nan, 'a4 d6': 'Ware Opening', 'Nh3 d6': 'Amar Opening', 'g3 Nh6': 'Hungarian Opening', 'd3 h5': 'Mieses Opening', 'Qe2 Kc6': nan, 'Qd3 Kc7': nan, 'h4 g6': 'Kádas Opening', 'Rc1 Ba4': nan, 'Qf3 Nd6': nan, 'exd5 c3': nan, 'b3 h6': 'Nimzo-Larsen Attack', 'h3 a5': 'Clemenz Opening', 'a3 b6': \"Anderssen's Opening\", 'a3 d6': \"Anderssen's Opening\", 'Na3 a5': 'Sodium Attack', 'd5 exd5': nan, 'Kg2 Rf4': nan, 'Bf6+ Kf8': nan, 'Be2 Ke4': nan, 'Be2 Ke7': nan, 'Nc3 h5': 'Van Geet Opening', 'd3 Bbc6': nan, 'Rd6 Bb3': nan, 'Rc1 Bb3': nan, 'Rd6 a4': nan, 'Kd2 Kd8': nan, 'Qe2+ Kf7': nan, 'a3 g5': \"Anderssen's Opening\", 'g4 a5': 'Grob Opening', 'a4 f5': 'Ware Opening', 'a4 Nc6': 'Ware Opening', 'd3 g5': 'Mieses Opening', 'Nh3 a6': 'Amar Opening', 'c3 g5': 'Saragossa Opening', 'h4 Nh6': 'Kádas Opening', 'Rf4 Kf7': nan, 'Kd3 Kc6': nan, 'e6 e3': nan, 'h3 Nc6': 'Clemenz Opening', 'd3 h6': 'Mieses Opening', 'h4 g5': 'Kádas Opening: Schneider Gambit', 'h4 b5': 'Kádas Opening', 'h3 c6': 'Clemenz Opening', 'Ke7 h4': nan, 'Nc3 a5': 'Van Geet Opening', 'c3 h5': 'Saragossa Opening', 'c3 b5': 'Saragossa Opening', 'a4 h5': 'Ware Opening', 'e3 g5': \"Van't Kruijs Opening\", 'a4 b5': 'Ware Opening', 'h3 b6': 'Clemenz Opening', 'Nh3 b6': 'Amar Opening', 'b4 a6': 'Polish Opening', 'd3 Nh6': 'Mieses Opening', 'e3 f6': \"Van't Kruijs Opening\", 'b4 Nc6': 'Polish Opening: Grigorian Variation', 'b4 b5': 'Polish Opening: Symmetrical Variation', 'd3 b5': 'Mieses Opening', 'a4 b6': 'Ware Opening', 'Nh3 Nc6': 'Amar Opening', 'Nh3 g5': 'Amar Opening', 'Qab8+ Qfg8': nan}\n"
     ]
    }
   ],
   "source": [
    "# Создаем словарь из DataFrame\n",
    "opening_dict = df.set_index('TrimmedMoves')['Opening_Name'].to_dict()\n",
    "\n",
    "print(\"\\nСловарь дебютов:\")\n",
    "print(opening_dict)"
   ]
  },
  {
   "cell_type": "code",
   "execution_count": 29,
   "metadata": {},
   "outputs": [
    {
     "name": "stdout",
     "output_type": "stream",
     "text": [
      "\n",
      "DataFrame после определения дебютов:\n",
      "         Game_ID  Rated   Variant        Speed  \\\n",
      "0       PsevV6VH   True  standard    classical   \n",
      "1       diLZa8sj   True  standard    classical   \n",
      "2       O8TSZ7bq   True  standard    classical   \n",
      "3       vtMjWIUv   True  standard    classical   \n",
      "4       GC8I3jiq   True  standard    classical   \n",
      "...          ...    ...       ...          ...   \n",
      "140787  nFPldl4M   True  standard  ultraBullet   \n",
      "140788  qjnWre9p   True  standard  ultraBullet   \n",
      "140789  urNcmiBj   True  standard  ultraBullet   \n",
      "140790  sVXMAWZV   True  standard  ultraBullet   \n",
      "140791  Q2mKx3Ra   True  standard  ultraBullet   \n",
      "\n",
      "                              Created_At                      Last_Move_At  \\\n",
      "0       2024-12-15T11:09:25.224000+00:00  2024-12-15T11:55:14.775000+00:00   \n",
      "1       2024-10-28T13:54:16.605000+00:00  2024-10-28T14:32:21.403000+00:00   \n",
      "2       2024-10-05T13:58:55.992000+00:00  2024-10-05T14:27:57.120000+00:00   \n",
      "3       2024-08-23T07:33:49.932000+00:00  2024-08-23T08:04:22.421000+00:00   \n",
      "4       2024-08-22T13:24:49.024000+00:00  2024-08-22T14:18:09.814000+00:00   \n",
      "...                                  ...                               ...   \n",
      "140787  2020-12-03T07:45:10.481000+00:00  2020-12-03T07:45:41.441000+00:00   \n",
      "140788  2020-12-03T07:44:37.297000+00:00  2020-12-03T07:45:03.988000+00:00   \n",
      "140789  2020-12-03T07:43:51.442000+00:00  2020-12-03T07:44:27.563000+00:00   \n",
      "140790  2020-12-03T07:43:07.905000+00:00  2020-12-03T07:43:41.084000+00:00   \n",
      "140791  2020-12-03T07:41:15.686000+00:00  2020-12-03T07:41:53.251000+00:00   \n",
      "\n",
      "       Game_Status Source Winner  \\\n",
      "0           resign   pool  white   \n",
      "1           resign   pool  white   \n",
      "2           resign   pool  black   \n",
      "3           resign   pool  white   \n",
      "4             draw   pool    NaN   \n",
      "...            ...    ...    ...   \n",
      "140787   outoftime  arena  black   \n",
      "140788   outoftime  arena  black   \n",
      "140789   outoftime  arena  white   \n",
      "140790   outoftime  arena  black   \n",
      "140791   outoftime  arena  black   \n",
      "\n",
      "                                             Opening_Name  ... Black_Mistake  \\\n",
      "0                  Zukertort Opening: Sicilian Invitation  ...             1   \n",
      "1                          French Defense: Queen's Knight  ...             0   \n",
      "2                        Indian Defense: Normal Variation  ...             1   \n",
      "3                        Indian Defense: Normal Variation  ...             1   \n",
      "4       King's Indian Defense: Normal Variation, King'...  ...             1   \n",
      "...                                                   ...  ...           ...   \n",
      "140787                      Modern Defense: Standard Line  ...             2   \n",
      "140788               French Defense: King's Indian Attack  ...             1   \n",
      "140789                                  Hungarian Opening  ...             1   \n",
      "140790                               Van't Kruijs Opening  ...             3   \n",
      "140791          Scandinavian Defense: Valencian Variation  ...             0   \n",
      "\n",
      "        Black_Blunder Black_ACPL  \\\n",
      "0                   1         47   \n",
      "1                   1         31   \n",
      "2                   5         56   \n",
      "3                   2         42   \n",
      "4                   2         26   \n",
      "...               ...        ...   \n",
      "140787              4        148   \n",
      "140788              6        225   \n",
      "140789              5        118   \n",
      "140790             11        222   \n",
      "140791              1         66   \n",
      "\n",
      "                                                   Clocks  \\\n",
      "0       [180003, 180003, 178499, 178019, 178339, 17757...   \n",
      "1       [180003, 180003, 179827, 179683, 178619, 17936...   \n",
      "2       [180003, 180003, 179707, 179035, 179051, 17678...   \n",
      "3       [180003, 180003, 179731, 179283, 179443, 17872...   \n",
      "4       [180003, 180003, 179867, 178467, 175067, 17782...   \n",
      "...                                                   ...   \n",
      "140787  [1499, 1499, 1483, 1499, 1451, 1499, 1419, 148...   \n",
      "140788  [1499, 1499, 1499, 1491, 1403, 1491, 1267, 149...   \n",
      "140789  [1499, 1499, 1499, 1499, 1499, 1435, 1499, 139...   \n",
      "140790  [1499, 750, 1483, 743, 1467, 729, 1451, 727, 1...   \n",
      "140791  [1499, 1499, 1499, 1491, 1403, 1491, 1371, 149...   \n",
      "\n",
      "                                                 Analysis  Total_Time_Init  \\\n",
      "0       [{'eval': 14}, {'eval': 25}, {'eval': 26}, {'e...             1800   \n",
      "1       [{'eval': 18}, {'eval': 28}, {'eval': 28}, {'e...             1800   \n",
      "2       [{'eval': 17}, {'eval': 17}, {'eval': 11}, {'e...             1800   \n",
      "3       [{'eval': 16}, {'eval': 17}, {'eval': 15}, {'e...             1800   \n",
      "4       [{'eval': 17}, {'eval': 18}, {'eval': 23}, {'e...             1800   \n",
      "...                                                   ...              ...   \n",
      "140787  [{'eval': 0}, {'eval': 40}, {'eval': 56}, {'ev...               15   \n",
      "140788  [{'eval': -13}, {'eval': -24}, {'eval': 0}, {'...               15   \n",
      "140789  [{'eval': 16}, {'eval': 13}, {'eval': -13}, {'...               15   \n",
      "140790  [{'eval': 9}, {'eval': 40}, {'eval': -5}, {'ev...               15   \n",
      "140791  [{'eval': 0}, {'eval': 52, 'best': 'c7c5', 'va...               15   \n",
      "\n",
      "        Total_Time_Increment  Total_Time  \\\n",
      "0                          0        1800   \n",
      "1                          0        1800   \n",
      "2                          0        1800   \n",
      "3                          0        1800   \n",
      "4                          0        1800   \n",
      "...                      ...         ...   \n",
      "140787                     0          15   \n",
      "140788                     0          15   \n",
      "140789                     0          15   \n",
      "140790                     0          15   \n",
      "140791                     0          15   \n",
      "\n",
      "                                                    Moves TrimmedMoves  \n",
      "0       Nf3 c5 c4 Nc6 Nc3 g6 e3 Bg7 d4 cxd4 exd4 d6 h3...       Nf3 c5  \n",
      "1       e4 e6 d4 d5 Nc3 Bb4 e5 Ne7 a3 Bxc3+ bxc3 b6 Bb...        e4 e6  \n",
      "2       d4 Nf6 Nf3 g6 Bf4 Bg7 e3 d6 Be2 O-O O-O Nbd7 h...       d4 Nf6  \n",
      "3       d4 Nf6 Nf3 d6 c4 g6 Nc3 Bg7 e4 O-O Be2 Nbd7 O-...       d4 Nf6  \n",
      "4       Nf3 Nf6 c4 c5 g3 g6 b3 Bg7 Bb2 O-O Bg2 Nc6 O-O...      Nf3 Nf6  \n",
      "...                                                   ...          ...  \n",
      "140787  e4 g6 d4 Bg7 Nc3 Nf6 Be3 O-O f3 Nxe4 fxe4 d5 Q...        e4 g6  \n",
      "140788  d3 e6 e4 Bb4+ c3 Be7 Bg5 Nf6 Bxf6 Bxf6 e5 d5 d...        d3 e6  \n",
      "140789  g3 e5 Bg2 d5 Nf3 e4 O-O exf3 exf3 Nf6 Re1+ Be7...        g3 e5  \n",
      "140790  e3 g6 d3 Bg7 Bd2 Nf6 Be2 O-O Qc1 e5 Qd1 e4 c3 ...        e3 g6  \n",
      "140791  e4 d5 exd5 Qxd5 Nc3 Qd8 d4 Nf6 Nf3 Nc6 Bd3 e6 ...        e4 d5  \n",
      "\n",
      "[140792 rows x 33 columns]\n"
     ]
    }
   ],
   "source": [
    "# Функция для определения дебюта по обрезанным ходам\n",
    "def determine_opening(trimmed_moves):\n",
    "    return opening_dict.get(trimmed_moves, None)\n",
    "\n",
    "# Заполняем пропуски в столбце 'Opening' на основе обрезанных ходов\n",
    "df['Opening_Name'] = df['TrimmedMoves'].apply(determine_opening)\n",
    "\n",
    "print(\"\\nDataFrame после определения дебютов:\")\n",
    "print(df)"
   ]
  },
  {
   "cell_type": "code",
   "execution_count": 30,
   "metadata": {},
   "outputs": [
    {
     "name": "stdout",
     "output_type": "stream",
     "text": [
      "Game_ID                     0\n",
      "Rated                       0\n",
      "Variant                     0\n",
      "Speed                       0\n",
      "Created_At                  0\n",
      "Last_Move_At                0\n",
      "Game_Status                 0\n",
      "Source                      0\n",
      "Winner                  13689\n",
      "Opening_Name              950\n",
      "Opening_ECO              1270\n",
      "Opening_PLY              1270\n",
      "White_Player              227\n",
      "White_Title             94079\n",
      "White_Rating              227\n",
      "White_Inaccuracy            0\n",
      "White_Mistake               0\n",
      "White_Blunder               0\n",
      "White_ACPL                  0\n",
      "Black_Player              311\n",
      "Black_Title             94280\n",
      "Black_Rating              311\n",
      "Black_Inaccuracy            0\n",
      "Black_Mistake               0\n",
      "Black_Blunder               0\n",
      "Black_ACPL                  0\n",
      "Clocks                      0\n",
      "Analysis                    0\n",
      "Total_Time_Init             0\n",
      "Total_Time_Increment        0\n",
      "Total_Time                  0\n",
      "Moves                       0\n",
      "TrimmedMoves                0\n",
      "dtype: int64\n"
     ]
    }
   ],
   "source": [
    "print(df.isnull().sum())\n",
    "# осталось все равно 950 пропусков, предлагаю их оставить как other\n"
   ]
  },
  {
   "cell_type": "markdown",
   "metadata": {},
   "source": [
    "Манипуляции над колонкой Clock - информация о времени игроков по ходу партии в виде последовательного числового списка"
   ]
  },
  {
   "cell_type": "code",
   "execution_count": 34,
   "metadata": {},
   "outputs": [
    {
     "name": "stdout",
     "output_type": "stream",
     "text": [
      "После преобразования:\n",
      "         Game_ID  Rated  White_Rating  Black_Rating  White_Inaccuracy  \\\n",
      "0       PsevV6VH   True        2334.0        2272.0                 1   \n",
      "1       diLZa8sj   True        2111.0        2272.0                 3   \n",
      "2       O8TSZ7bq   True        2158.0        2259.0                 4   \n",
      "3       vtMjWIUv   True        2299.0        2252.0                 0   \n",
      "4       GC8I3jiq   True        2299.0        2251.0                 0   \n",
      "...          ...    ...           ...           ...               ...   \n",
      "140787  nFPldl4M   True        1786.0        1949.0                 2   \n",
      "140788  qjnWre9p   True        1532.0        1924.0                 5   \n",
      "140789  urNcmiBj   True        1900.0        1468.0                 1   \n",
      "140790  sVXMAWZV   True        1309.0        1887.0                 6   \n",
      "140791  Q2mKx3Ra   True        1616.0        1500.0                 4   \n",
      "\n",
      "        Black_Inaccuracy                                       Opening_Name  \\\n",
      "0                      5             English Opening: Symmetrical Variation   \n",
      "1                      4  French Defense: Winawer Variation, Advance Var...   \n",
      "2                      3                                      London System   \n",
      "3                      5  King's Indian Defense: Orthodox Variation, Pos...   \n",
      "4                      5  English Opening: Anglo-Indian Defense, King's ...   \n",
      "...                  ...                                                ...   \n",
      "140787                 4                      Modern Defense: Standard Line   \n",
      "140788                 1               French Defense: King's Indian Attack   \n",
      "140789                 0                                  Hungarian Opening   \n",
      "140790                 4                               Van't Kruijs Opening   \n",
      "140791                 5          Scandinavian Defense: Valencian Variation   \n",
      "\n",
      "                                                   Clocks  Thinking_Time  \n",
      "0       (180003, 180003, 178499, 178019, 178339, 17757...        7895597  \n",
      "1       (180003, 180003, 179827, 179683, 178619, 17936...       12557556  \n",
      "2       (180003, 180003, 179707, 179035, 179051, 17678...       10851875  \n",
      "3       (180003, 180003, 179731, 179283, 179443, 17872...       13059498  \n",
      "4       (180003, 180003, 179867, 178467, 175067, 17782...        9047215  \n",
      "...                                                   ...            ...  \n",
      "140787  (1499, 1499, 1483, 1499, 1451, 1499, 1419, 148...          69985  \n",
      "140788  (1499, 1499, 1499, 1491, 1403, 1491, 1267, 149...          40890  \n",
      "140789  (1499, 1499, 1499, 1499, 1499, 1435, 1499, 139...          66550  \n",
      "140790  (1499, 750, 1483, 743, 1467, 729, 1451, 727, 1...          47089  \n",
      "140791  (1499, 1499, 1499, 1491, 1403, 1491, 1371, 149...          48656  \n",
      "\n",
      "[140792 rows x 9 columns]\n"
     ]
    }
   ],
   "source": [
    "import ast\n",
    "# Функция для безопасного преобразования строки в список\n",
    "def safe_literal_eval(value):\n",
    "    if isinstance(value, str):  # Проверяем, является ли значение строкой\n",
    "        try:\n",
    "            return ast.literal_eval(value)\n",
    "        except (ValueError, SyntaxError):\n",
    "            return []  # Возвращаем пустой список в случае ошибки\n",
    "    return value  # Если это не строка, возвращаем значение как есть\n",
    "\n",
    "# Преобразование строки в список\n",
    "df_filtered['Clocks'] = df_filtered['Clocks'].apply(safe_literal_eval)\n",
    "\n",
    "# Проверка результата\n",
    "print(\"После преобразования:\")\n",
    "print(df_filtered)\n",
    "\n"
   ]
  },
  {
   "cell_type": "code",
   "execution_count": 32,
   "metadata": {},
   "outputs": [
    {
     "name": "stdout",
     "output_type": "stream",
     "text": [
      "         Game_ID  Rated  White_Rating  Black_Rating  White_Inaccuracy  \\\n",
      "0       PsevV6VH   True        2334.0        2272.0                 1   \n",
      "1       diLZa8sj   True        2111.0        2272.0                 3   \n",
      "2       O8TSZ7bq   True        2158.0        2259.0                 4   \n",
      "3       vtMjWIUv   True        2299.0        2252.0                 0   \n",
      "4       GC8I3jiq   True        2299.0        2251.0                 0   \n",
      "...          ...    ...           ...           ...               ...   \n",
      "140787  nFPldl4M   True        1786.0        1949.0                 2   \n",
      "140788  qjnWre9p   True        1532.0        1924.0                 5   \n",
      "140789  urNcmiBj   True        1900.0        1468.0                 1   \n",
      "140790  sVXMAWZV   True        1309.0        1887.0                 6   \n",
      "140791  Q2mKx3Ra   True        1616.0        1500.0                 4   \n",
      "\n",
      "        Black_Inaccuracy                                       Opening_Name  \\\n",
      "0                      5             English Opening: Symmetrical Variation   \n",
      "1                      4  French Defense: Winawer Variation, Advance Var...   \n",
      "2                      3                                      London System   \n",
      "3                      5  King's Indian Defense: Orthodox Variation, Pos...   \n",
      "4                      5  English Opening: Anglo-Indian Defense, King's ...   \n",
      "...                  ...                                                ...   \n",
      "140787                 4                      Modern Defense: Standard Line   \n",
      "140788                 1               French Defense: King's Indian Attack   \n",
      "140789                 0                                  Hungarian Opening   \n",
      "140790                 4                               Van't Kruijs Opening   \n",
      "140791                 5          Scandinavian Defense: Valencian Variation   \n",
      "\n",
      "                                                   Clocks  Thinking_Time  \n",
      "0       180003,180003,178499,178019,178339,177571,1781...        7895597  \n",
      "1       180003,180003,179827,179683,178619,179363,1771...       12557556  \n",
      "2       180003,180003,179707,179035,179051,176787,1787...       10851875  \n",
      "3       180003,180003,179731,179283,179443,178723,1792...       13059498  \n",
      "4       180003,180003,179867,178467,175067,177827,1739...        9047215  \n",
      "...                                                   ...            ...  \n",
      "140787  1499,1499,1483,1499,1451,1499,1419,1483,1379,1...          69985  \n",
      "140788  1499,1499,1499,1491,1403,1491,1267,1491,1203,1...          40890  \n",
      "140789  1499,1499,1499,1499,1499,1435,1499,1395,1499,1...          66550  \n",
      "140790  1499,750,1483,743,1467,729,1451,727,1411,727,1...          47089  \n",
      "140791  1499,1499,1499,1491,1403,1491,1371,1491,1323,1...          48656  \n",
      "\n",
      "[140792 rows x 9 columns]\n"
     ]
    }
   ],
   "source": [
    "# Замена пустых значений в колонке Clocks на строку с нулями\n",
    "df_filtered['Clocks'] = df_filtered['Clocks'].fillna('0,0,0,0,0')\n",
    "\n",
    "# Преобразование списков в строки, если такие есть\n",
    "df_filtered['Clocks'] = df_filtered['Clocks'].apply(lambda x: ','.join(map(str, x)) if isinstance(x, list) else x)\n",
    "\n",
    "# Функция для разделения строки времени обдумывания на отдельные значения\n",
    "def split_and_sum_thinking_time(time_string):\n",
    "    if not time_string:  # Проверка на пустую строку\n",
    "        return 0\n",
    "    times = map(int, time_string.split(','))\n",
    "    return sum(times) #суммируем время обдумывания\n",
    "\n",
    "# Применяем функцию к колонке Thinking_Time\n",
    "df_filtered['Thinking_Time'] = df_filtered['Clocks'].apply(split_and_sum_thinking_time)\n",
    "\n",
    "# Выводим обновленный датафрейм\n",
    "print(df_filtered)\n",
    "\n"
   ]
  },
  {
   "cell_type": "markdown",
   "metadata": {},
   "source": [
    "Мы получили новую колонку о затраченном времени на обдумывание"
   ]
  },
  {
   "cell_type": "code",
   "execution_count": 33,
   "metadata": {},
   "outputs": [
    {
     "data": {
      "text/plain": [
       "count    1.407920e+05\n",
       "mean     2.953541e+06\n",
       "std      4.812517e+06\n",
       "min      0.000000e+00\n",
       "25%      3.662300e+05\n",
       "50%      1.035180e+06\n",
       "75%      3.554997e+06\n",
       "max      1.865495e+08\n",
       "Name: Thinking_Time, dtype: float64"
      ]
     },
     "execution_count": 33,
     "metadata": {},
     "output_type": "execute_result"
    }
   ],
   "source": [
    "df_filtered['Thinking_Time'].describe()"
   ]
  },
  {
   "cell_type": "code",
   "execution_count": null,
   "metadata": {},
   "outputs": [],
   "source": [
    "# Построение графика с помощью Seaborn\n",
    "sns.set(style=\"whitegrid\")  # Установка стиля\n",
    "plt.figure(figsize=(8, 6))  # Размер графика\n",
    "\n",
    "# Теперь передаем столбцы как строки, а не как массивы данных\n",
    "ax = sns.lineplot(x='Thinking_Time', y='White_Inaccuracy', data=df_filtered, marker='o')\n",
    "\n",
    "# Настройка осей и меток\n",
    "plt.xlabel('Время на обдумывание (секунды)')\n",
    "plt.ylabel('Количество неточностей')\n",
    "plt.title('Зависимость времени на обдумывание от количества ошибок')\n",
    "\n",
    "# Отображение сетки\n",
    "plt.grid(True)\n",
    "\n",
    "# Показ графика\n",
    "plt.show()"
   ]
  },
  {
   "cell_type": "code",
   "execution_count": null,
   "metadata": {},
   "outputs": [],
   "source": []
  }
 ],
 "metadata": {
  "kernelspec": {
   "display_name": "Python 3",
   "language": "python",
   "name": "python3"
  },
  "language_info": {
   "codemirror_mode": {
    "name": "ipython",
    "version": 3
   },
   "file_extension": ".py",
   "mimetype": "text/x-python",
   "name": "python",
   "nbconvert_exporter": "python",
   "pygments_lexer": "ipython3",
   "version": "3.7.3"
  }
 },
 "nbformat": 4,
 "nbformat_minor": 4
}
