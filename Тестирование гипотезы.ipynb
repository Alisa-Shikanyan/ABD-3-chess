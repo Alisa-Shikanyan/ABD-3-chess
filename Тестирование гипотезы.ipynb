{
 "cells": [
  {
   "cell_type": "code",
   "execution_count": 1,
   "metadata": {},
   "outputs": [],
   "source": [
    "import pandas as pd\n",
    "from scipy.stats import ttest_ind\n",
    "import gdown\n",
    "import os"
   ]
  },
  {
   "cell_type": "code",
   "execution_count": 2,
   "metadata": {},
   "outputs": [],
   "source": [
    "file_id = '1BM7QmO4GoR5YxlMPfM5DLyrxBm3mn3oB'\n",
    "dataset_link = f'https://drive.google.com/uc?id={file_id}'\n",
    "output_file = 'after_eda_dataset.zip'"
   ]
  },
  {
   "cell_type": "code",
   "execution_count": 3,
   "metadata": {},
   "outputs": [
    {
     "name": "stdout",
     "output_type": "stream",
     "text": [
      "Файл after_eda_dataset.zip уже существует.\n"
     ]
    }
   ],
   "source": [
    "if not os.path.exists(output_file):\n",
    "    gdown.download(dataset_link, output_file, quiet=False)\n",
    "    print(f\"Файл {output_file} скачан.\")\n",
    "else:\n",
    "    print(f\"Файл {output_file} уже существует.\")"
   ]
  },
  {
   "cell_type": "code",
   "execution_count": 4,
   "metadata": {},
   "outputs": [],
   "source": [
    "df = pd.read_csv(output_file, compression='zip')"
   ]
  },
  {
   "cell_type": "markdown",
   "metadata": {},
   "source": [
    "Формулируем гипотезы:\n",
    "\n",
    "Нулевая гипотеза (H0): Игра с сильнейшим противником не влияет на общее количество ошибок и неточностей.\n",
    "\n",
    "Альтернативная гипотеза (HA): Игра с сильнейшим противником увеличивает общее количество ошибок и неточностей."
   ]
  },
  {
   "cell_type": "code",
   "execution_count": 5,
   "metadata": {},
   "outputs": [
    {
     "name": "stdout",
     "output_type": "stream",
     "text": [
      "Тестовое значение (белый игрок): -2.1614931567646543, P-value: 0.030659367732580007\n",
      "Гипотеза отклоняется: сила противника существенно влияет на количество ошибок.\n",
      "Тестовое значение (черный игрок): -5.860439247408993, P-value: 4.629258892176753e-09\n",
      "Гипотеза отклоняется: сила противника существенно влияет на количество ошибок.\n"
     ]
    }
   ],
   "source": [
    "# Этап 1: Создание общего числа ошибок для обоих игроков\n",
    "df['Total_Errors_WHITE'] = df['White_Inaccuracy'] + df['White_Mistake'] + df['White_Blunder']\n",
    "df['Total_Errors_BLACK'] = df['Black_Inaccuracy'] + df['Black_Mistake'] + df['Black_Blunder']\n",
    "\n",
    "# Этап 2: Определение сильных соперников (предположим порог различия в рейтинге 325)\n",
    "rating_difference_threshold = 325\n",
    "\n",
    "# Вычисляем разность рейтинга (белый игрок минус черный игрок)\n",
    "df['Rating_Difference'] = abs(df['White_Rating'] - df['Black_Rating'])\n",
    "\n",
    "# Группируем матчи на основании разницы в рейтинге\n",
    "strong_opponent_games = df[df['Rating_Difference'] >= rating_difference_threshold]\n",
    "weak_or_average_opponent_games = df[df['Rating_Difference'] < rating_difference_threshold]\n",
    "\n",
    "# Этап 3: Извлекаем суммарные ошибки для обеих групп (отдельно для черных и белых)\n",
    "total_errors_strong_white = strong_opponent_games['Total_Errors_WHITE'].values\n",
    "total_errors_strong_black = strong_opponent_games['Total_Errors_BLACK'].values\n",
    "\n",
    "total_errors_weak_white = weak_or_average_opponent_games['Total_Errors_WHITE'].values\n",
    "total_errors_weak_black = weak_or_average_opponent_games['Total_Errors_BLACK'].values\n",
    "\n",
    "# Этап 4: Применение t-теста для оценки различий между группами\n",
    "# Проверка изменения качества игры белого игрока\n",
    "statistic_white, p_value_white = ttest_ind(total_errors_strong_white, total_errors_weak_white)\n",
    "print(f\"Тестовое значение (белый игрок): {statistic_white}, P-value: {p_value_white}\")\n",
    "\n",
    "# Анализ результатов\n",
    "if p_value_white < 0.05:\n",
    "    print(\"Гипотеза отклоняется: сила противника существенно влияет на количество ошибок.\")\n",
    "else:\n",
    "    print(\"Гипотеза принимается: нет доказательств существенного влияния силы противника на количество ошибок.\")\n",
    "    \n",
    "# Проверка изменения качества игры черного игрока\n",
    "statistic_black, p_value_black = ttest_ind(total_errors_strong_black, total_errors_weak_black)\n",
    "print(f\"Тестовое значение (черный игрок): {statistic_black}, P-value: {p_value_black}\")\n",
    "\n",
    "# Анализ результатов\n",
    "if p_value_black < 0.05:\n",
    "    print(\"Гипотеза отклоняется: сила противника существенно влияет на количество ошибок.\")\n",
    "else:\n",
    "    print(\"Гипотеза принимается: нет доказательств существенного влияния силы противника на количество ошибок.\")"
   ]
  },
  {
   "cell_type": "markdown",
   "metadata": {},
   "source": [
    "ВЫВОД:\n",
    "\n",
    "Используем подходящий статистический критерий для сравнения средних значений двух групп (игр с сильными игроками и игр со средними/более слабыми). Наиболее подходящим методом здесь является t-тест, поскольку мы сравниваем средние значения между двумя независимыми выборками.\n",
    "\n",
    "По нашему тесту видно, что существует прямая зависимость между силой игрока и количеством допускаемых ошибок при игре с ним. НО эта зависимость есть, если разница в рейтинге более 325. Этот порог выявили экспериментальным путем подбора разницы рейтингов, так как если рейтинг ниже 325, то у белых игроков такой зависимости уже не наблюдается."
   ]
  },
  {
   "cell_type": "code",
   "execution_count": null,
   "metadata": {},
   "outputs": [],
   "source": []
  }
 ],
 "metadata": {
  "kernelspec": {
   "display_name": "Python 3",
   "language": "python",
   "name": "python3"
  },
  "language_info": {
   "codemirror_mode": {
    "name": "ipython",
    "version": 3
   },
   "file_extension": ".py",
   "mimetype": "text/x-python",
   "name": "python",
   "nbconvert_exporter": "python",
   "pygments_lexer": "ipython3",
   "version": "3.7.3"
  }
 },
 "nbformat": 4,
 "nbformat_minor": 4
}
