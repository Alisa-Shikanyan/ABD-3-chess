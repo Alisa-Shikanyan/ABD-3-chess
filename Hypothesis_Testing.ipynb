{
 "cells": [
  {
   "cell_type": "code",
   "execution_count": 1,
   "id": "560f9539",
   "metadata": {},
   "outputs": [],
   "source": [
    "import pandas as pd\n",
    "import re\n",
    "from scipy.stats import chi2_contingency\n",
    "from math import log, exp, sqrt\n",
    "import gdown\n",
    "import os"
   ]
  },
  {
   "cell_type": "code",
   "execution_count": 2,
   "id": "322fb734",
   "metadata": {},
   "outputs": [],
   "source": [
    "pd.set_option(\"display.max_rows\", None)\n",
    "pd.set_option(\"display.max_columns\", None)\n",
    "pd.set_option(\"display.width\", 0)\n",
    "pd.set_option(\"display.max_colwidth\", None)"
   ]
  },
  {
   "cell_type": "code",
   "execution_count": 3,
   "id": "1373fcd4",
   "metadata": {},
   "outputs": [],
   "source": [
    "file_id = '1BM7QmO4GoR5YxlMPfM5DLyrxBm3mn3oB'\n",
    "dataset_link = f'https://drive.google.com/uc?id={file_id}'\n",
    "output_file = 'after_eda_dataset.zip'"
   ]
  },
  {
   "cell_type": "code",
   "execution_count": 4,
   "id": "03e1bdfb",
   "metadata": {},
   "outputs": [
    {
     "name": "stdout",
     "output_type": "stream",
     "text": [
      "Файл after_eda_dataset.zip уже существует.\n"
     ]
    }
   ],
   "source": [
    "if not os.path.exists(output_file):\n",
    "    gdown.download(dataset_link, output_file, quiet=False)\n",
    "    print(f\"Файл {output_file} скачан.\")\n",
    "else:\n",
    "    print(f\"Файл {output_file} уже существует.\")"
   ]
  },
  {
   "cell_type": "markdown",
   "id": "329813ec",
   "metadata": {},
   "source": [
    "## Гипотеза 1"
   ]
  },
  {
   "cell_type": "markdown",
   "id": "7057d1e4",
   "metadata": {},
   "source": [
    "Разнофланговая рокировка открывает сторонам возможность одновременных пешечных штурмов — короли оказываются под встречными атаками, поэтому партии реже заканчиваются миром. Сформулируем гипотезы ..."
   ]
  },
  {
   "cell_type": "markdown",
   "id": "107d8b33",
   "metadata": {},
   "source": [
    "- **H1**: Партии, где стороны рокировались в разные фланги, заканчиваются чаще результативно (win/lose), чем партии с одинаковой рокировкой.\n",
    "- **H0**: Доли результативных партий в группах рокировавшихся в одну сторону и в разные стороны равны."
   ]
  },
  {
   "cell_type": "code",
   "execution_count": 5,
   "id": "6040e84a",
   "metadata": {},
   "outputs": [],
   "source": [
    "df = pd.read_csv(output_file, compression='zip')"
   ]
  },
  {
   "cell_type": "code",
   "execution_count": 6,
   "id": "f2de5d46",
   "metadata": {},
   "outputs": [],
   "source": [
    "# Убираем игры, где кол-во ходов было меньше 10.\n",
    "# Т.е. игры по какой-либо причине закончившиеся слишком быстро\n",
    "# Стоило бы это сделать на этапе EDA еще\n",
    "df = df[(df[\"Num_Moves\"] >= 10) & (df['Game_Duration'] >= 15)]"
   ]
  },
  {
   "cell_type": "code",
   "execution_count": 7,
   "id": "27e8bbf9",
   "metadata": {},
   "outputs": [
    {
     "data": {
      "text/plain": [
       "white_castle\n",
       "O-O      84686\n",
       "O-O-O    14173\n",
       "<NA>     12978\n",
       "Name: count, dtype: int64"
      ]
     },
     "execution_count": 7,
     "metadata": {},
     "output_type": "execute_result"
    }
   ],
   "source": [
    "# Очищаем шахматные ходы (moves) от лишних знаков\n",
    "# И создаем колонку - white_castle и black_castle - какую рокировку делали белые и черные.\n",
    "def clean_move(move_str):\n",
    "    return move_str.rstrip(\"+#?!\")\n",
    "\n",
    "\n",
    "def define_castle(moves_str, color):\n",
    "    cl_df = re.sub(r\"\\{[^}]*\\}\", \" \", moves_str)\n",
    "    cl_df = re.sub(r\"\\d+\\.\", \" \", cl_df)\n",
    "    cl_df = re.sub(r\"\\s*(1-0|0-1|1/2-1/2)\\s*$\", \" \", cl_df)\n",
    "    cl_df = \" \".join(cl_df.split())\n",
    "\n",
    "    moves = cl_df.split(\" \")\n",
    "    if color == \"white\":\n",
    "        rel_moves = [clean_move(m) for i, m in enumerate(moves) if i % 2 == 0]\n",
    "    else:\n",
    "        rel_moves = [clean_move(m) for i, m in enumerate(moves) if i % 2 == 1]\n",
    "\n",
    "    for move in rel_moves:\n",
    "        if move.startswith(\"O-O-O\"):\n",
    "            return \"O-O-O\"\n",
    "        elif move.startswith(\"O-O\"):\n",
    "            return \"O-O\"\n",
    "    return pd.NA\n",
    "\n",
    "\n",
    "df[\"white_castle\"] = df[\"Moves\"].apply(lambda moves: define_castle(moves, \"white\"))\n",
    "df[\"white_castle\"].value_counts(dropna=False)"
   ]
  },
  {
   "cell_type": "code",
   "execution_count": 8,
   "id": "b9ea9b7a",
   "metadata": {},
   "outputs": [
    {
     "data": {
      "text/plain": [
       "black_castle\n",
       "O-O      85909\n",
       "<NA>     17573\n",
       "O-O-O     8355\n",
       "Name: count, dtype: int64"
      ]
     },
     "execution_count": 8,
     "metadata": {},
     "output_type": "execute_result"
    }
   ],
   "source": [
    "df[\"black_castle\"] = df[\"Moves\"].apply(lambda moves: define_castle(moves, \"black\"))\n",
    "df[\"black_castle\"].value_counts(dropna=False)"
   ]
  },
  {
   "cell_type": "code",
   "execution_count": 9,
   "id": "003784f8",
   "metadata": {},
   "outputs": [
    {
     "data": {
      "text/plain": [
       "castle_type\n",
       "Same        73631\n",
       "None        25918\n",
       "Opposite    12288\n",
       "Name: count, dtype: int64"
      ]
     },
     "execution_count": 9,
     "metadata": {},
     "output_type": "execute_result"
    }
   ],
   "source": [
    "# Сравниваем рокировку белых и черных\n",
    "def compare_castle(row):\n",
    "    white, black = row[\"white_castle\"], row[\"black_castle\"]\n",
    "\n",
    "    if pd.isna(white) or pd.isna(black):\n",
    "        return \"None\"\n",
    "\n",
    "    return \"Same\" if white == black else \"Opposite\"\n",
    "\n",
    "\n",
    "df[\"castle_type\"] = df.apply(compare_castle, axis=1)\n",
    "df[\"castle_type\"].value_counts()"
   ]
  },
  {
   "cell_type": "code",
   "execution_count": 10,
   "id": "96336eff",
   "metadata": {},
   "outputs": [],
   "source": [
    "# Создаем колонку - игра была результативная или ничейная\n",
    "df[\"result_game\"] = df[\"Winner\"].apply(\n",
    "    lambda x: \"draw\" if x == \"draw\" else \"has_result\")"
   ]
  },
  {
   "cell_type": "markdown",
   "id": "a8a1d7f8",
   "metadata": {},
   "source": [
    "Т.к. у нас обе переменные - рокировка и исход партии - категориальные и мы проверяем частотность распределения, поэтому применим $\\chi^2$-тест Пирсона"
   ]
  },
  {
   "cell_type": "code",
   "execution_count": 11,
   "id": "c751cdca",
   "metadata": {},
   "outputs": [
    {
     "data": {
      "text/html": [
       "<div>\n",
       "<style scoped>\n",
       "    .dataframe tbody tr th:only-of-type {\n",
       "        vertical-align: middle;\n",
       "    }\n",
       "\n",
       "    .dataframe tbody tr th {\n",
       "        vertical-align: top;\n",
       "    }\n",
       "\n",
       "    .dataframe thead th {\n",
       "        text-align: right;\n",
       "    }\n",
       "</style>\n",
       "<table border=\"1\" class=\"dataframe\">\n",
       "  <thead>\n",
       "    <tr style=\"text-align: right;\">\n",
       "      <th></th>\n",
       "      <th>Speed</th>\n",
       "      <th>Opp_has_result</th>\n",
       "      <th>Opp_total</th>\n",
       "      <th>Same_has_result</th>\n",
       "      <th>Same_total</th>\n",
       "      <th>OR</th>\n",
       "      <th>CI_low</th>\n",
       "      <th>CI_high</th>\n",
       "      <th>p_value</th>\n",
       "    </tr>\n",
       "  </thead>\n",
       "  <tbody>\n",
       "    <tr>\n",
       "      <th>0</th>\n",
       "      <td>blitz</td>\n",
       "      <td>3293</td>\n",
       "      <td>3571</td>\n",
       "      <td>18947</td>\n",
       "      <td>21227</td>\n",
       "      <td>1.425</td>\n",
       "      <td>1.252</td>\n",
       "      <td>1.623</td>\n",
       "      <td>7.726398e-08</td>\n",
       "    </tr>\n",
       "    <tr>\n",
       "      <th>1</th>\n",
       "      <td>bullet</td>\n",
       "      <td>2609</td>\n",
       "      <td>2747</td>\n",
       "      <td>15520</td>\n",
       "      <td>16724</td>\n",
       "      <td>1.467</td>\n",
       "      <td>1.224</td>\n",
       "      <td>1.758</td>\n",
       "      <td>3.024523e-05</td>\n",
       "    </tr>\n",
       "    <tr>\n",
       "      <th>2</th>\n",
       "      <td>classical</td>\n",
       "      <td>2335</td>\n",
       "      <td>2572</td>\n",
       "      <td>12878</td>\n",
       "      <td>14848</td>\n",
       "      <td>1.507</td>\n",
       "      <td>1.308</td>\n",
       "      <td>1.737</td>\n",
       "      <td>1.161354e-08</td>\n",
       "    </tr>\n",
       "    <tr>\n",
       "      <th>3</th>\n",
       "      <td>rapid</td>\n",
       "      <td>2667</td>\n",
       "      <td>2913</td>\n",
       "      <td>16107</td>\n",
       "      <td>18449</td>\n",
       "      <td>1.576</td>\n",
       "      <td>1.374</td>\n",
       "      <td>1.809</td>\n",
       "      <td>6.480513e-11</td>\n",
       "    </tr>\n",
       "    <tr>\n",
       "      <th>4</th>\n",
       "      <td>ultraBullet</td>\n",
       "      <td>474</td>\n",
       "      <td>485</td>\n",
       "      <td>2323</td>\n",
       "      <td>2383</td>\n",
       "      <td>1.113</td>\n",
       "      <td>0.581</td>\n",
       "      <td>2.133</td>\n",
       "      <td>7.469061e-01</td>\n",
       "    </tr>\n",
       "  </tbody>\n",
       "</table>\n",
       "</div>"
      ],
      "text/plain": [
       "         Speed  Opp_has_result  Opp_total  Same_has_result  Same_total     OR  \\\n",
       "0        blitz            3293       3571            18947       21227  1.425   \n",
       "1       bullet            2609       2747            15520       16724  1.467   \n",
       "2    classical            2335       2572            12878       14848  1.507   \n",
       "3        rapid            2667       2913            16107       18449  1.576   \n",
       "4  ultraBullet             474        485             2323        2383  1.113   \n",
       "\n",
       "   CI_low  CI_high       p_value  \n",
       "0   1.252    1.623  7.726398e-08  \n",
       "1   1.224    1.758  3.024523e-05  \n",
       "2   1.308    1.737  1.161354e-08  \n",
       "3   1.374    1.809  6.480513e-11  \n",
       "4   0.581    2.133  7.469061e-01  "
      ]
     },
     "execution_count": 11,
     "metadata": {},
     "output_type": "execute_result"
    }
   ],
   "source": [
    "records = []\n",
    "\n",
    "# Проходимся по каждому speed_type \n",
    "# -> оставляем только игры, где были рокировки у обеих сторон\n",
    "# -> создаем сопряженную таблицу с булевыми значениями\n",
    "# -> вычисляем OR - отношение шансов\n",
    "# -> проводим тест chi2, т.к. работаем с частотностью\n",
    "# -> вычисляем доверительный интервал\n",
    "# -> добавляем все результаты в один массив и создаем красивую таблицу для вывода\n",
    "for speed_type, sub_df in df.groupby(\"Speed\"):\n",
    "    sub_df = sub_df[sub_df[\"castle_type\"].isin([\"Opposite\", \"Same\"])]\n",
    "\n",
    "    table = pd.crosstab(\n",
    "        sub_df[\"castle_type\"],\n",
    "        sub_df[\"result_game\"] == \"has_result\"\n",
    "    ).reindex(\n",
    "        index=[\"Opposite\", \"Same\"],\n",
    "        columns=[True, False],\n",
    "        fill_value=0\n",
    "    )\n",
    "\n",
    "    opp_has_result, opp_draw = table.loc[\"Opposite\"]\n",
    "    same_has_result, same_draw = table.loc[\"Same\"]\n",
    "\n",
    "    odds_ratio = (opp_has_result * same_draw) / (opp_draw * same_has_result)\n",
    "    se_log_or = sqrt(\n",
    "        1/opp_has_result + 1/opp_draw + 1/same_has_result + 1/same_draw\n",
    "    )\n",
    "    ci_low = exp(log(odds_ratio) - 1.96 * se_log_or)\n",
    "    ci_high = exp(log(odds_ratio) + 1.96 * se_log_or)\n",
    "\n",
    "    _, p_value, _, _ = chi2_contingency(table, correction=False)\n",
    "\n",
    "    records.append({\n",
    "        \"Speed\": speed_type,\n",
    "        \"Opp_has_result\": opp_has_result,\n",
    "        \"Opp_total\":    opp_has_result + opp_draw,\n",
    "        \"Same_has_result\": same_has_result,\n",
    "        \"Same_total\":    same_has_result + same_draw,\n",
    "        \"OR\": round(odds_ratio, 3),\n",
    "        \"CI_low\": round(ci_low, 3),\n",
    "        \"CI_high\": round(ci_high, 3),\n",
    "        \"p_value\": p_value\n",
    "    })\n",
    "\n",
    "summary = pd.DataFrame(records)\n",
    "summary"
   ]
  },
  {
   "cell_type": "markdown",
   "id": "72da5982",
   "metadata": {},
   "source": [
    "В форматах classical, rapid, blitz и bullet разница в исходах статистически значима (p-value < 0,05). Значит, можно уверенно сказать: когда игроки рокируются в разные стороны, партия чаще заканчивается победой одной из сторон, а не ничьёй.\n",
    "\n",
    "В ultrabullet значимой разницы нет (p-value ≈ 0,75). Там почти каждая партия и так решается из-за жёсткого цейтнота, поэтому тип рокировки уже не влияет."
   ]
  },
  {
   "cell_type": "markdown",
   "id": "c125f86a",
   "metadata": {},
   "source": [
    "**Вывод:**\n",
    "\n",
    "- В любых партиях от bullet до classical разнофланговая рокировка действительно делает исход более «боевым».\n",
    "\n",
    "- В ultrabullet разницы нет, потому что почти все партии и так заканчиваются победой по времени."
   ]
  },
  {
   "cell_type": "markdown",
   "id": "751fb694",
   "metadata": {},
   "source": [
    "## Гипотеза 2"
   ]
  }
 ],
 "metadata": {
  "kernelspec": {
   "display_name": "venv",
   "language": "python",
   "name": "python3"
  },
  "language_info": {
   "codemirror_mode": {
    "name": "ipython",
    "version": 3
   },
   "file_extension": ".py",
   "mimetype": "text/x-python",
   "name": "python",
   "nbconvert_exporter": "python",
   "pygments_lexer": "ipython3",
   "version": "3.12.0"
  }
 },
 "nbformat": 4,
 "nbformat_minor": 5
}
