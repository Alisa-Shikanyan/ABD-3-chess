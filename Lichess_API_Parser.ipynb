{
 "cells": [
  {
   "cell_type": "code",
   "execution_count": 1,
   "metadata": {},
   "outputs": [],
   "source": [
    "# Imports\n",
    "import berserk\n",
    "import pandas as pd\n",
    "import datetime\n",
    "import time\n",
    "from tqdm import tqdm\n",
    "import os\n",
    "from typing import Dict, Any, Optional"
   ]
  },
  {
   "cell_type": "code",
   "execution_count": 2,
   "metadata": {},
   "outputs": [],
   "source": [
    "API_TOKEN = os.getenv('API_TOKEN')\n",
    "\n",
    "session = berserk.TokenSession(API_TOKEN)\n",
    "client = berserk.Client(session=session)"
   ]
  },
  {
   "cell_type": "code",
   "execution_count": null,
   "metadata": {},
   "outputs": [],
   "source": [
    "start_users_set = set()\n",
    "blitz_users_list = []\n",
    "bullet_users_list = []\n",
    "classical_users_list = []\n",
    "rapid_users_list = []\n",
    "max_amount_users = 200\n",
    "cnt_games_by_user = 200\n",
    "time_for_sleep = 0.025"
   ]
  },
  {
   "cell_type": "code",
   "execution_count": 3,
   "metadata": {},
   "outputs": [],
   "source": [
    "try:\n",
    "    blitz_users_list = [i.get('id') for i in client.users.get_leaderboard(\n",
    "        count=max_amount_users, perf_type='blitz')]\n",
    "    start_users_set = start_users_set.union(blitz_users_list)\n",
    "except Exception as e:\n",
    "    print(f\"Ошибка при получении списка пользователей для 'blitz': {e}\")\n",
    "\n",
    "try:\n",
    "    bullet_users_list = [i.get('id') for i in client.users.get_leaderboard(\n",
    "        count=max_amount_users, perf_type='bullet')]\n",
    "    start_users_set = start_users_set.union(bullet_users_list)\n",
    "except Exception as e:\n",
    "    print(f\"Ошибка при получении списка пользователей для 'bullet': {e}\")\n",
    "\n",
    "try:\n",
    "    classical_users_list = [i.get('id') for i in client.users.get_leaderboard(\n",
    "        count=max_amount_users, perf_type='classical')]\n",
    "    start_users_set = start_users_set.union(classical_users_list)\n",
    "except Exception as e:\n",
    "    print(f\"Ошибка при получении списка пользователей для 'classical': {e}\")\n",
    "\n",
    "try:\n",
    "    rapid_users_list = [i.get('id') for i in client.users.get_leaderboard(\n",
    "        count=max_amount_users, perf_type='rapid')]\n",
    "    start_users_set = start_users_set.union(rapid_users_list)\n",
    "except Exception as e:\n",
    "    print(f\"Ошибка при получении списка пользователей для 'rapid': {e}\")"
   ]
  },
  {
   "cell_type": "code",
   "execution_count": 4,
   "metadata": {},
   "outputs": [],
   "source": [
    "def transform_game_by_user(game_data: Dict[str, Any]) -> Dict[str, Optional[Any]]:\n",
    "    \"\"\"\n",
    "    Преобразует данные шахматной партии в удобный формат.\n",
    "    \"\"\"\n",
    "    return {\n",
    "        'Game_ID': game_data.get('id'),\n",
    "        'Rated': game_data.get('rated', False),\n",
    "        'Variant': game_data.get('variant'),\n",
    "        'Speed': game_data.get('speed'),\n",
    "        'Perf': game_data.get('perf'),\n",
    "        'Created_At': game_data.get('createdAt').isoformat() if isinstance(game_data.get('createdAt'), datetime.datetime) else None,\n",
    "        'Last_Move_At': game_data.get('lastMoveAt').isoformat() if isinstance(game_data.get('lastMoveAt'), datetime.datetime) else None,\n",
    "        'Game_Status': game_data.get('status'),\n",
    "        'Source': game_data.get('source'),\n",
    "        'Winner': game_data.get('winner'),\n",
    "        'Opening_Name': game_data.get('opening', {}).get('name'),\n",
    "        'Opening_ECO': game_data.get('opening', {}).get('eco'),\n",
    "        'Opening_PLY': game_data.get('opening', {}).get('ply'),\n",
    "        'White_Player': game_data.get('players', {}).get('white', {}).get('user', {}).get('id'),\n",
    "        'White_Title': game_data.get('players', {}).get('white', {}).get('user', {}).get('title'),\n",
    "        'White_Rating': game_data.get('players', {}).get('white', {}).get('rating', None),\n",
    "        'White_Inaccuracy': game_data.get('players').get('white', {}).get('analysis').get('inaccuracy'),\n",
    "        'White_Mistake': game_data.get('players').get('white', {}).get('analysis').get('mistake'),\n",
    "        'White_Blunder': game_data.get('players').get('white', {}).get('analysis').get('blunder'),\n",
    "        'White_ACPL': game_data.get('players').get('white', {}).get('analysis').get('acpl'),\n",
    "        'Black_Player': game_data.get('players', {}).get('black', {}).get('user', {}).get('id'),\n",
    "        'Black_Title': game_data.get('players', {}).get('black', {}).get('user', {}).get('title'),\n",
    "        'Black_Rating': game_data.get('players', {}).get('black', {}).get('rating', None),\n",
    "        'Black_Inaccuracy': game_data.get('players').get('black', {}).get('analysis').get('inaccuracy'),\n",
    "        'Black_Mistake': game_data.get('players').get('black', {}).get('analysis').get('mistake'),\n",
    "        'Black_Blunder': game_data.get('players').get('black', {}).get('analysis').get('blunder'),\n",
    "        'Black_ACPL': game_data.get('players').get('black', {}).get('analysis').get('acpl'),\n",
    "        'Clocks': game_data.get('clocks', []),\n",
    "        'Analysis': game_data.get('analysis', []),\n",
    "        'Total_Time_Init': game_data.get('clock', {}).get('initial', None),\n",
    "        'Total_Time_Increment': game_data.get('clock', {}).get('increment', None),\n",
    "        'Total_Time': game_data.get('clock', {}).get('totalTime', None),\n",
    "        \"Moves\": game_data.get('moves', '')\n",
    "    }"
   ]
  },
  {
   "cell_type": "code",
   "execution_count": null,
   "metadata": {},
   "outputs": [
    {
     "name": "stderr",
     "output_type": "stream",
     "text": [
      "Обработка пользователей: 100%|██████████| 5/5 [00:04<00:00,  1.16пользователь/s]\n"
     ]
    }
   ],
   "source": [
    "blitz_df = pd.DataFrame()\n",
    "processed_users_list = []\n",
    "\n",
    "\n",
    "for user in tqdm(list(set(blitz_users_list)), desc=\"Обработка пользователей\", unit=\"пользователь\"):\n",
    "    try:\n",
    "        for game in client.games.export_by_player(\n",
    "            max=cnt_games_by_user, username=user,\n",
    "            analysed=True, perf_type=['blitz'],\n",
    "            evals=True, opening=True, clocks=True, literate=True,\n",
    "            pgn_in_json=True, tags=True, finished=True\n",
    "        ):\n",
    "            try:\n",
    "                transformed_game = transform_game_by_user(game)\n",
    "                time.sleep(time_for_sleep)\n",
    "                if transformed_game:\n",
    "                    df = pd.DataFrame([transformed_game])\n",
    "                    blitz_df = pd.concat([blitz_df, df], ignore_index=True)\n",
    "            except Exception as e:\n",
    "                print(\n",
    "                    f\"Ошибка при преобразовании игры для пользователя {user}: {e}\")\n",
    "\n",
    "        processed_users_list.append(user)\n",
    "    except Exception as e:\n",
    "        print(f\"Ошибка при получении игр для пользователя {user}: {e}\")"
   ]
  },
  {
   "cell_type": "code",
   "execution_count": 6,
   "metadata": {},
   "outputs": [
    {
     "name": "stderr",
     "output_type": "stream",
     "text": [
      "Обработка пользователей: 100%|██████████| 5/5 [00:02<00:00,  1.75пользователь/s]\n"
     ]
    }
   ],
   "source": [
    "ultra_bullet_df = pd.DataFrame()\n",
    "\n",
    "for user in tqdm(list(set(bullet_users_list)), desc=\"Обработка пользователей\", unit=\"пользователь\"):\n",
    "    try:\n",
    "        for game in client.games.export_by_player(\n",
    "            max=cnt_games_by_user, username=user,\n",
    "            analysed=True, perf_type=['ultraBullet'],\n",
    "            evals=True, opening=True, clocks=True, literate=True,\n",
    "            pgn_in_json=True, tags=True, finished=True\n",
    "        ):\n",
    "            try:\n",
    "                transformed_game = transform_game_by_user(game)\n",
    "                time.sleep(time_for_sleep)\n",
    "\n",
    "                if transformed_game:\n",
    "                    df = pd.DataFrame([transformed_game])\n",
    "                    ultra_bullet_df = pd.concat(\n",
    "                        [ultra_bullet_df, df], ignore_index=True)\n",
    "            except Exception as e:\n",
    "                print(\n",
    "                    f\"Ошибка при преобразовании игры для пользователя {user}: {e}\")\n",
    "\n",
    "        processed_users_list.append(user)\n",
    "    except Exception as e:\n",
    "        print(f\"Ошибка при получении игр для пользователя {user}: {e}\")"
   ]
  },
  {
   "cell_type": "code",
   "execution_count": 7,
   "metadata": {},
   "outputs": [
    {
     "name": "stderr",
     "output_type": "stream",
     "text": [
      "Обработка пользователей:  60%|██████    | 3/5 [00:00<00:00,  4.71пользователь/s]"
     ]
    },
    {
     "name": "stdout",
     "output_type": "stream",
     "text": [
      "Ошибка при получении игр для пользователя mishka_the_great: 429 Client Error: Too Many Requests for url: https://lichess.org/api/games/user/mishka_the_great?max=5&perfType=bullet&analysed=True&pgnInJson=True&tags=True&clocks=True&evals=True&opening=True&finished=True&literate=True\n",
      "Ошибка при получении игр для пользователя ediz_gurel: 429 Client Error: Too Many Requests for url: https://lichess.org/api/games/user/ediz_gurel?max=5&perfType=bullet&analysed=True&pgnInJson=True&tags=True&clocks=True&evals=True&opening=True&finished=True&literate=True\n",
      "Ошибка при получении игр для пользователя azzaro25: 429 Client Error: Too Many Requests for url: https://lichess.org/api/games/user/azzaro25?max=5&perfType=bullet&analysed=True&pgnInJson=True&tags=True&clocks=True&evals=True&opening=True&finished=True&literate=True\n"
     ]
    },
    {
     "name": "stderr",
     "output_type": "stream",
     "text": [
      "Обработка пользователей: 100%|██████████| 5/5 [00:01<00:00,  4.95пользователь/s]"
     ]
    },
    {
     "name": "stdout",
     "output_type": "stream",
     "text": [
      "Ошибка при получении игр для пользователя chess-art-us: 429 Client Error: Too Many Requests for url: https://lichess.org/api/games/user/chess-art-us?max=5&perfType=bullet&analysed=True&pgnInJson=True&tags=True&clocks=True&evals=True&opening=True&finished=True&literate=True\n"
     ]
    },
    {
     "name": "stderr",
     "output_type": "stream",
     "text": [
      "\n"
     ]
    }
   ],
   "source": [
    "bullet_df = pd.DataFrame()\n",
    "\n",
    "for user in tqdm(list(set(bullet_users_list)), desc=\"Обработка пользователей\", unit=\"пользователь\"):\n",
    "    try:\n",
    "        for game in client.games.export_by_player(\n",
    "            max=cnt_games_by_user, username=user,\n",
    "            analysed=True, perf_type=['bullet'],\n",
    "            evals=True, opening=True, clocks=True, literate=True,\n",
    "            pgn_in_json=True, tags=True, finished=True\n",
    "        ):\n",
    "            try:\n",
    "                transformed_game = transform_game_by_user(game)\n",
    "                time.sleep(time_for_sleep)\n",
    "\n",
    "                if transformed_game:\n",
    "                    df = pd.DataFrame([transformed_game])\n",
    "                    bullet_df = pd.concat(\n",
    "                        [bullet_df, df], ignore_index=True)\n",
    "            except Exception as e:\n",
    "                print(\n",
    "                    f\"Ошибка при преобразовании игры для пользователя {user}: {e}\")\n",
    "\n",
    "        processed_users_list.append(user)\n",
    "    except Exception as e:\n",
    "        print(f\"Ошибка при получении игр для пользователя {user}: {e}\")"
   ]
  },
  {
   "cell_type": "code",
   "execution_count": 8,
   "metadata": {},
   "outputs": [
    {
     "name": "stderr",
     "output_type": "stream",
     "text": [
      "Обработка пользователей:  20%|██        | 1/5 [00:00<00:00,  9.56пользователь/s]"
     ]
    },
    {
     "name": "stdout",
     "output_type": "stream",
     "text": [
      "Ошибка при получении игр для пользователя just_no_fun: 429 Client Error: Too Many Requests for url: https://lichess.org/api/games/user/just_no_fun?max=5&perfType=rapid&analysed=True&pgnInJson=True&tags=True&clocks=True&evals=True&opening=True&finished=True&literate=True\n"
     ]
    },
    {
     "name": "stderr",
     "output_type": "stream",
     "text": [
      "Обработка пользователей:  60%|██████    | 3/5 [00:00<00:00,  9.47пользователь/s]"
     ]
    },
    {
     "name": "stdout",
     "output_type": "stream",
     "text": [
      "Ошибка при получении игр для пользователя ilqar_7474: 429 Client Error: Too Many Requests for url: https://lichess.org/api/games/user/ilqar_7474?max=5&perfType=rapid&analysed=True&pgnInJson=True&tags=True&clocks=True&evals=True&opening=True&finished=True&literate=True\n",
      "Ошибка при получении игр для пользователя pultis12: 429 Client Error: Too Many Requests for url: https://lichess.org/api/games/user/pultis12?max=5&perfType=rapid&analysed=True&pgnInJson=True&tags=True&clocks=True&evals=True&opening=True&finished=True&literate=True\n"
     ]
    },
    {
     "name": "stderr",
     "output_type": "stream",
     "text": [
      "Обработка пользователей: 100%|██████████| 5/5 [00:00<00:00,  9.51пользователь/s]"
     ]
    },
    {
     "name": "stdout",
     "output_type": "stream",
     "text": [
      "Ошибка при получении игр для пользователя americanchampion: 429 Client Error: Too Many Requests for url: https://lichess.org/api/games/user/americanchampion?max=5&perfType=rapid&analysed=True&pgnInJson=True&tags=True&clocks=True&evals=True&opening=True&finished=True&literate=True\n",
      "Ошибка при получении игр для пользователя tuzakli_egitim: 429 Client Error: Too Many Requests for url: https://lichess.org/api/games/user/tuzakli_egitim?max=5&perfType=rapid&analysed=True&pgnInJson=True&tags=True&clocks=True&evals=True&opening=True&finished=True&literate=True\n"
     ]
    },
    {
     "name": "stderr",
     "output_type": "stream",
     "text": [
      "\n"
     ]
    }
   ],
   "source": [
    "rapid_df = pd.DataFrame()\n",
    "\n",
    "for user in tqdm(list(set(rapid_users_list)), desc=\"Обработка пользователей\", unit=\"пользователь\"):\n",
    "    try:\n",
    "        for game in client.games.export_by_player(\n",
    "            max=cnt_games_by_user, username=user,\n",
    "            analysed=True, perf_type=['rapid'],\n",
    "            evals=True, opening=True, clocks=True, literate=True,\n",
    "            pgn_in_json=True, tags=True, finished=True\n",
    "        ):\n",
    "            try:\n",
    "                transformed_game = transform_game_by_user(game)\n",
    "                time.sleep(time_for_sleep)\n",
    "                if transformed_game:\n",
    "                    df = pd.DataFrame([transformed_game])\n",
    "                    rapid_df = pd.concat(\n",
    "                        [rapid_df, df], ignore_index=True)\n",
    "            except Exception as e:\n",
    "                print(\n",
    "                    f\"Ошибка при преобразовании игры для пользователя {user}: {e}\")\n",
    "\n",
    "        processed_users_list.append(user)\n",
    "    except Exception as e:\n",
    "        print(f\"Ошибка при получении игр для пользователя {user}: {e}\")"
   ]
  },
  {
   "cell_type": "code",
   "execution_count": 9,
   "metadata": {},
   "outputs": [
    {
     "name": "stderr",
     "output_type": "stream",
     "text": [
      "Обработка пользователей:  60%|██████    | 3/5 [00:00<00:00,  4.78пользователь/s]"
     ]
    },
    {
     "name": "stdout",
     "output_type": "stream",
     "text": [
      "Ошибка при получении игр для пользователя vlad_lazarev79: 429 Client Error: Too Many Requests for url: https://lichess.org/api/games/user/vlad_lazarev79?max=5&perfType=classical&analysed=True&pgnInJson=True&tags=True&clocks=True&evals=True&opening=True&finished=True&literate=True\n",
      "Ошибка при получении игр для пользователя tinea: 429 Client Error: Too Many Requests for url: https://lichess.org/api/games/user/tinea?max=5&perfType=classical&analysed=True&pgnInJson=True&tags=True&clocks=True&evals=True&opening=True&finished=True&literate=True\n"
     ]
    },
    {
     "name": "stderr",
     "output_type": "stream",
     "text": [
      "Обработка пользователей:  80%|████████  | 4/5 [00:22<00:08,  8.67s/пользователь]"
     ]
    },
    {
     "name": "stdout",
     "output_type": "stream",
     "text": [
      "Ошибка при получении игр для пользователя chesstheory64: ('Connection aborted.', RemoteDisconnected('Remote end closed connection without response'))\n"
     ]
    },
    {
     "name": "stderr",
     "output_type": "stream",
     "text": [
      "Обработка пользователей: 100%|██████████| 5/5 [00:43<00:00,  8.70s/пользователь]"
     ]
    },
    {
     "name": "stdout",
     "output_type": "stream",
     "text": [
      "Ошибка при получении игр для пользователя truemasterme: HTTPSConnectionPool(host='lichess.org', port=443): Max retries exceeded with url: /api/games/user/truemasterme?max=5&perfType=classical&analysed=True&pgnInJson=True&tags=True&clocks=True&evals=True&opening=True&finished=True&literate=True (Caused by ConnectTimeoutError(<urllib3.connection.HTTPSConnection object at 0x0000024765CB1F10>, 'Connection to lichess.org timed out. (connect timeout=None)'))\n"
     ]
    },
    {
     "name": "stderr",
     "output_type": "stream",
     "text": [
      "\n"
     ]
    }
   ],
   "source": [
    "classical_df = pd.DataFrame()\n",
    "\n",
    "for user in tqdm(list(set(classical_users_list)), desc=\"Обработка пользователей\", unit=\"пользователь\"):\n",
    "    try:\n",
    "        for game in client.games.export_by_player(\n",
    "            max=cnt_games_by_user, username=user,\n",
    "            analysed=True, perf_type=['classical'],\n",
    "            evals=True, opening=True, clocks=True, literate=True,\n",
    "            pgn_in_json=True, tags=True, finished=True\n",
    "        ):\n",
    "            try:\n",
    "                transformed_game = transform_game_by_user(game)\n",
    "                time.sleep(time_for_sleep)\n",
    "                if transformed_game:\n",
    "                    df = pd.DataFrame([transformed_game])\n",
    "                    classical_df = pd.concat(\n",
    "                        [classical_df, df], ignore_index=True)\n",
    "            except Exception as e:\n",
    "                print(\n",
    "                    f\"Ошибка при преобразовании игры для пользователя {user}: {e}\")\n",
    "\n",
    "        processed_users_list.append(user)\n",
    "    except Exception as e:\n",
    "        print(f\"Ошибка при получении игр для пользователя {user}: {e}\")"
   ]
  },
  {
   "cell_type": "code",
   "execution_count": 10,
   "metadata": {},
   "outputs": [
    {
     "data": {
      "text/plain": [
       "Speed\n",
       "blitz          25\n",
       "ultraBullet    25\n",
       "classical       5\n",
       "bullet          5\n",
       "Name: count, dtype: int64"
      ]
     },
     "execution_count": 10,
     "metadata": {},
     "output_type": "execute_result"
    }
   ],
   "source": [
    "common_df = pd.concat(\n",
    "    [classical_df, blitz_df, rapid_df, bullet_df, ultra_bullet_df], ignore_index=True)\n",
    "common_df['Speed'].value_counts()"
   ]
  },
  {
   "cell_type": "code",
   "execution_count": 12,
   "metadata": {},
   "outputs": [],
   "source": [
    "common_df.filter(\n",
    "    regex=r'^(?!.*Perf).*$').to_csv('final_games.csv', index=False)"
   ]
  }
 ],
 "metadata": {
  "kernelspec": {
   "display_name": "venv",
   "language": "python",
   "name": "python3"
  },
  "language_info": {
   "codemirror_mode": {
    "name": "ipython",
    "version": 3
   },
   "file_extension": ".py",
   "mimetype": "text/x-python",
   "name": "python",
   "nbconvert_exporter": "python",
   "pygments_lexer": "ipython3",
   "version": "3.12.0"
  }
 },
 "nbformat": 4,
 "nbformat_minor": 2
}
