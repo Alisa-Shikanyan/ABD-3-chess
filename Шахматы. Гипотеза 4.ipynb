{
 "cells": [
  {
   "cell_type": "code",
   "execution_count": 1,
   "metadata": {},
   "outputs": [],
   "source": [
    "import pandas as pd\n",
    "import seaborn as sns\n",
    "import matplotlib.pyplot as plt"
   ]
  },
  {
   "cell_type": "code",
   "execution_count": null,
   "metadata": {},
   "outputs": [],
   "source": [
    "# Гипотеза 4. Чем больше общее время (общее затраченное время), тем меньше ошибка.\n",
    "Total_Time представляет собой общее время, проведенное в игре, предположительно в секундах. \n",
    "В колонке Black_Blunder отмечено количество грубых ошибок, допущенных черным игроком в игре. Грубый промах - это серьезная ошибка, которая значительно ухудшает позицию игрока.\n"
   ]
  },
  {
   "cell_type": "code",
   "execution_count": 3,
   "metadata": {},
   "outputs": [],
   "source": [
    "df = pd.read_csv(\"final_games.csv\")\n"
   ]
  },
  {
   "cell_type": "code",
   "execution_count": 11,
   "metadata": {},
   "outputs": [
    {
     "name": "stdout",
     "output_type": "stream",
     "text": [
      "    Game_ID  Rated   Variant      Speed                        Created_At  \\\n",
      "0  PsevV6VH   True  standard  classical  2024-12-15T11:09:25.224000+00:00   \n",
      "1  diLZa8sj   True  standard  classical  2024-10-28T13:54:16.605000+00:00   \n",
      "2  O8TSZ7bq   True  standard  classical  2024-10-05T13:58:55.992000+00:00   \n",
      "3  vtMjWIUv   True  standard  classical  2024-08-23T07:33:49.932000+00:00   \n",
      "4  GC8I3jiq   True  standard  classical  2024-08-22T13:24:49.024000+00:00   \n",
      "\n",
      "                       Last_Move_At Game_Status Source Winner  \\\n",
      "0  2024-12-15T11:55:14.775000+00:00      resign   pool  white   \n",
      "1  2024-10-28T14:32:21.403000+00:00      resign   pool  white   \n",
      "2  2024-10-05T14:27:57.120000+00:00      resign   pool  black   \n",
      "3  2024-08-23T08:04:22.421000+00:00      resign   pool  white   \n",
      "4  2024-08-22T14:18:09.814000+00:00        draw   pool    NaN   \n",
      "\n",
      "                                        Opening_Name  ... Black_Inaccuracy  \\\n",
      "0             English Opening: Symmetrical Variation  ...                5   \n",
      "1  French Defense: Winawer Variation, Advance Var...  ...                4   \n",
      "2                                      London System  ...                3   \n",
      "3  King's Indian Defense: Orthodox Variation, Pos...  ...                5   \n",
      "4  English Opening: Anglo-Indian Defense, King's ...  ...                5   \n",
      "\n",
      "   Black_Mistake Black_Blunder Black_ACPL  \\\n",
      "0              1             1         47   \n",
      "1              0             1         31   \n",
      "2              1             5         56   \n",
      "3              1             2         42   \n",
      "4              1             2         26   \n",
      "\n",
      "                                              Clocks  \\\n",
      "0  [180003, 180003, 178499, 178019, 178339, 17757...   \n",
      "1  [180003, 180003, 179827, 179683, 178619, 17936...   \n",
      "2  [180003, 180003, 179707, 179035, 179051, 17678...   \n",
      "3  [180003, 180003, 179731, 179283, 179443, 17872...   \n",
      "4  [180003, 180003, 179867, 178467, 175067, 17782...   \n",
      "\n",
      "                                            Analysis  Total_Time_Init  \\\n",
      "0  [{'eval': 14}, {'eval': 25}, {'eval': 26}, {'e...             1800   \n",
      "1  [{'eval': 18}, {'eval': 28}, {'eval': 28}, {'e...             1800   \n",
      "2  [{'eval': 17}, {'eval': 17}, {'eval': 11}, {'e...             1800   \n",
      "3  [{'eval': 16}, {'eval': 17}, {'eval': 15}, {'e...             1800   \n",
      "4  [{'eval': 17}, {'eval': 18}, {'eval': 23}, {'e...             1800   \n",
      "\n",
      "   Total_Time_Increment  Total_Time  \\\n",
      "0                     0        1800   \n",
      "1                     0        1800   \n",
      "2                     0        1800   \n",
      "3                     0        1800   \n",
      "4                     0        1800   \n",
      "\n",
      "                                               Moves  \n",
      "0  Nf3 c5 c4 Nc6 Nc3 g6 e3 Bg7 d4 cxd4 exd4 d6 h3...  \n",
      "1  e4 e6 d4 d5 Nc3 Bb4 e5 Ne7 a3 Bxc3+ bxc3 b6 Bb...  \n",
      "2  d4 Nf6 Nf3 g6 Bf4 Bg7 e3 d6 Be2 O-O O-O Nbd7 h...  \n",
      "3  d4 Nf6 Nf3 d6 c4 g6 Nc3 Bg7 e4 O-O Be2 Nbd7 O-...  \n",
      "4  Nf3 Nf6 c4 c5 g3 g6 b3 Bg7 Bb2 O-O Bg2 Nc6 O-O...  \n",
      "\n",
      "[5 rows x 32 columns]\n"
     ]
    }
   ],
   "source": [
    "print(df.head())"
   ]
  },
  {
   "cell_type": "code",
   "execution_count": 13,
   "metadata": {
    "scrolled": true
   },
   "outputs": [
    {
     "name": "stdout",
     "output_type": "stream",
     "text": [
      "Missing values in Total_Time: 0\n",
      "Missing values in error: 0\n"
     ]
    }
   ],
   "source": [
    "print(\"Missing values in Total_Time:\", df['Total_Time'].isnull().sum()) \n",
    "print(\"Missing values in error:\", df['Black_Blunder'].isnull().sum())  "
   ]
  },
  {
   "cell_type": "code",
   "execution_count": 15,
   "metadata": {},
   "outputs": [],
   "source": [
    "df = df.dropna(subset=['Total_Time', 'Black_Blunder'])"
   ]
  },
  {
   "cell_type": "code",
   "execution_count": 16,
   "metadata": {},
   "outputs": [],
   "source": [
    "correlation, p_value = pearsonr(df['Total_Time'], df['Black_Blunder']) "
   ]
  },
  {
   "cell_type": "code",
   "execution_count": 17,
   "metadata": {
    "scrolled": true
   },
   "outputs": [
    {
     "name": "stdout",
     "output_type": "stream",
     "text": [
      "Pearson correlation coefficient: -0.17\n",
      "P-value: 0.000\n"
     ]
    }
   ],
   "source": [
    "print(f\"Pearson correlation coefficient: {correlation:.2f}\")\n",
    "print(f\"P-value: {p_value:.3f}\")\n"
   ]
  },
  {
   "cell_type": "code",
   "execution_count": null,
   "metadata": {},
   "outputs": [],
   "source": [
    "# Коэффициент корреляции Пирсона: -0,17 говорит о слабой отрицательной линейной зависимостью между Total_Time и Black_Blunder. \n",
    "# Корреляция, равная -0,17, считается довольно слабой. \n",
    "# Это говорит о том, что с увеличением Total_Time значение Black_Blunder имеет тенденцию к небольшому снижению, но связь не очень сильная.\n",
    "# Поскольку значение p меньше уровня значимости (альфа = 0,05), мы отвергаеаем нулевую гипотезу. Это означает, что имеются статистически значимые доказательства того, что  корреляция существует.\n",
    "\n"
   ]
  },
  {
   "cell_type": "code",
   "execution_count": 18,
   "metadata": {},
   "outputs": [],
   "source": [
    "alpha = 0.05"
   ]
  },
  {
   "cell_type": "code",
   "execution_count": 19,
   "metadata": {
    "scrolled": false
   },
   "outputs": [
    {
     "name": "stdout",
     "output_type": "stream",
     "text": [
      "Reject the null hypothesis.\n",
      "There is a statistically significant negative correlation between total_time and error.\n"
     ]
    }
   ],
   "source": [
    "if p_value < alpha:\n",
    "    print(\"Reject the null hypothesis.\")\n",
    "    if correlation < 0:  # Check the direction of the correlation\n",
    "        print(\"There is a statistically significant negative correlation between total_time and error.\")\n",
    "    else:\n",
    "        print(\"There is a statistically significant positive correlation between total_time and error.\")\n",
    "else:\n",
    "    print(\"Fail to reject the null hypothesis.\")\n",
    "    print(\"There is no statistically significant correlation between total_time and error.\")\n",
    "\n"
   ]
  },
  {
   "cell_type": "code",
   "execution_count": 20,
   "metadata": {},
   "outputs": [],
   "source": [
    "# Отвергаем нулевую гипотезу.  Существует статистически значимая отрицательная корреляция между total_time и ошибкой.\n",
    "\n"
   ]
  },
  {
   "cell_type": "code",
   "execution_count": 9,
   "metadata": {},
   "outputs": [
    {
     "ename": "NameError",
     "evalue": "name 'p_value' is not defined",
     "output_type": "error",
     "traceback": [
      "\u001b[0;31m---------------------------------------------------------------------------\u001b[0m",
      "\u001b[0;31mNameError\u001b[0m                                 Traceback (most recent call last)",
      "\u001b[0;32m<ipython-input-9-9e54c76890d4>\u001b[0m in \u001b[0;36m<module>\u001b[0;34m\u001b[0m\n\u001b[0;32m----> 1\u001b[0;31m \u001b[0;32mif\u001b[0m \u001b[0mp_value\u001b[0m \u001b[0;34m<\u001b[0m \u001b[0malpha\u001b[0m\u001b[0;34m:\u001b[0m\u001b[0;34m\u001b[0m\u001b[0;34m\u001b[0m\u001b[0m\n\u001b[0m\u001b[1;32m      2\u001b[0m     \u001b[0mprint\u001b[0m\u001b[0;34m(\u001b[0m\u001b[0;34m\"Reject the null hypothesis.\"\u001b[0m\u001b[0;34m)\u001b[0m\u001b[0;34m\u001b[0m\u001b[0;34m\u001b[0m\u001b[0m\n\u001b[1;32m      3\u001b[0m     \u001b[0;32mif\u001b[0m \u001b[0mcorrelation\u001b[0m \u001b[0;34m<\u001b[0m \u001b[0;36m0\u001b[0m\u001b[0;34m:\u001b[0m  \u001b[0;31m# Check the direction of the correlation\u001b[0m\u001b[0;34m\u001b[0m\u001b[0;34m\u001b[0m\u001b[0m\n\u001b[1;32m      4\u001b[0m         \u001b[0mprint\u001b[0m\u001b[0;34m(\u001b[0m\u001b[0;34m\"There is a statistically significant negative correlation between total_time and error.\"\u001b[0m\u001b[0;34m)\u001b[0m\u001b[0;34m\u001b[0m\u001b[0;34m\u001b[0m\u001b[0m\n\u001b[1;32m      5\u001b[0m     \u001b[0;32melse\u001b[0m\u001b[0;34m:\u001b[0m\u001b[0;34m\u001b[0m\u001b[0;34m\u001b[0m\u001b[0m\n",
      "\u001b[0;31mNameError\u001b[0m: name 'p_value' is not defined"
     ]
    }
   ],
   "source": [
    "if p_value < alpha:\n",
    "    print(\"Reject the null hypothesis.\")\n",
    "    if correlation < 0:  # Check the direction of the correlation\n",
    "        print(\"There is a statistically significant negative correlation between total_time and error.\")\n",
    "    else:\n",
    "        print(\"There is a statistically significant positive correlation between total_time and error.\")\n",
    "else:\n",
    "    print(\"Fail to reject the null hypothesis.\")\n",
    "    print(\"There is no statistically significant correlation between total_time and error.\")"
   ]
  },
  {
   "cell_type": "code",
   "execution_count": 21,
   "metadata": {
    "scrolled": true
   },
   "outputs": [
    {
     "data": {
      "image/png": "[encoded data removed]",
      "text/plain": [
       "<Figure size 432x288 with 1 Axes>"
      ]
     },
     "metadata": {
      "needs_background": "light"
     },
     "output_type": "display_data"
    }
   ],
   "source": [
    "sns.scatterplot(x='Total_Time', y='Black_Blunder', data=df)  # Corrected. Replace \"Black_Blunder\" if needed.\n",
    "plt.title('Scatter plot of Total_Time vs. Black_Blunder') # Corrected. Replace \"Black_Blunder\" if needed.\n",
    "plt.xlabel('Total Time')\n",
    "plt.ylabel('Black Blunder')   # Corrected. Replace \"Black_Blunder\" if needed.\n",
    "plt.show()\n"
   ]
  },
  {
   "cell_type": "code",
   "execution_count": null,
   "metadata": {},
   "outputs": [],
   "source": [
    "# Проверка с White_Blunder.\n"
   ]
  },
  {
   "cell_type": "code",
   "execution_count": null,
   "metadata": {},
   "outputs": [],
   "source": []
  },
  {
   "cell_type": "code",
   "execution_count": 22,
   "metadata": {},
   "outputs": [
    {
     "name": "stdout",
     "output_type": "stream",
     "text": [
      "Missing values in Total_Time: 0\n",
      "Missing values in White_Blunder: 0\n"
     ]
    }
   ],
   "source": [
    "print(\"Missing values in Total_Time:\", df['Total_Time'].isnull().sum())\n",
    "print(\"Missing values in White_Blunder:\", df['White_Blunder'].isnull().sum())  "
   ]
  },
  {
   "cell_type": "code",
   "execution_count": 23,
   "metadata": {},
   "outputs": [],
   "source": [
    "df = df.dropna(subset=['Total_Time', 'White_Blunder'])  "
   ]
  },
  {
   "cell_type": "code",
   "execution_count": 24,
   "metadata": {},
   "outputs": [],
   "source": [
    "correlation, p_value = pearsonr(df['Total_Time'], df['White_Blunder'])  "
   ]
  },
  {
   "cell_type": "code",
   "execution_count": 25,
   "metadata": {},
   "outputs": [
    {
     "name": "stdout",
     "output_type": "stream",
     "text": [
      "Pearson correlation coefficient: -0.17\n",
      "P-value: 0.000\n"
     ]
    }
   ],
   "source": [
    "print(f\"Pearson correlation coefficient: {correlation:.2f}\")\n",
    "print(f\"P-value: {p_value:.3f}\")\n"
   ]
  },
  {
   "cell_type": "code",
   "execution_count": 26,
   "metadata": {},
   "outputs": [],
   "source": [
    "alpha = 0.05"
   ]
  },
  {
   "cell_type": "code",
   "execution_count": 28,
   "metadata": {
    "scrolled": false
   },
   "outputs": [
    {
     "name": "stdout",
     "output_type": "stream",
     "text": [
      "Reject the null hypothesis.\n",
      "There is a statistically significant negative correlation between total_time and error.\n"
     ]
    }
   ],
   "source": [
    "if p_value < alpha:\n",
    "    print(\"Reject the null hypothesis.\")\n",
    "    if correlation < 0:  \n",
    "        print(\"There is a statistically significant negative correlation between total_time and error.\")\n",
    "    else:\n",
    "        print(\"There is a statistically significant positive correlation between total_time and error.\")\n",
    "else:\n",
    "    print(\"Fail to reject the null hypothesis.\")\n",
    "    print(\"There is no statistically significant correlation between total_time and error.\")\n"
   ]
  },
  {
   "cell_type": "code",
   "execution_count": null,
   "metadata": {},
   "outputs": [],
   "source": [
    "#Отвергаем нулевую гипотезу. Существует статистически значимая отрицательная корреляция между total_time и ошибкой.\n"
   ]
  },
  {
   "cell_type": "code",
   "execution_count": 29,
   "metadata": {},
   "outputs": [
    {
     "data": {
      "image/png": "[encoded data removed]",
      "text/plain": [
       "<Figure size 432x288 with 1 Axes>"
      ]
     },
     "metadata": {
      "needs_background": "light"
     },
     "output_type": "display_data"
    }
   ],
   "source": [
    "sns.scatterplot(x='Total_Time', y='White_Blunder', data=df)  \n",
    "plt.title('Scatter plot of Total_Time vs. White_Blunder') \n",
    "plt.xlabel('Total Time')\n",
    "plt.ylabel('White Blunder')  \n",
    "plt.show()\n"
   ]
  },
  {
   "cell_type": "code",
   "execution_count": null,
   "metadata": {},
   "outputs": [],
   "source": [
    "  # Выводы. Между Total_Time и Black_Blunder обнаружена статистически значимая (p < 0,0005), но слабая (r = -0,17) отрицательная корреляция. Это говорит о том, что существует небольшая взаимосвязь между общей длительностью игры Это говорит о том, что существует небольшая взаимосвязь между общей длительностью игры и количесвом ошибок черных. Но эта связь очень славая и, вероятно, есть другие показатели, которые больше влияют на общую продолжительность игры.\n",
    "  # Между Total_Time и White_Blunder обнаружена статистически значимая (p < 0,0005), но также слабая (r = -0,17) отрицательная корреляция. Поскольку значение p меньше 0,05, мы отвергаем нулевую гипотезу и приходим к выводу, что существует статистически значимая связь между Total_Time и White_Blunder.\n",
    "# Это говорит о том, что существует небольшая взаимосвязь между общей длительностью игры и количеством ошибок (в равной степени, как черных, так и белых). Но сила корреляции очень слабая, в связи с этим, возможно, стоит рассмотреть другие показатели, у которых связь сильнее. "
   ]
  }
 ],
 "metadata": {
  "kernelspec": {
   "display_name": "Python 3",
   "language": "python",
   "name": "python3"
  },
  "language_info": {
   "codemirror_mode": {
    "name": "ipython",
    "version": 3
   },
   "file_extension": ".py",
   "mimetype": "text/x-python",
   "name": "python",
   "nbconvert_exporter": "python",
   "pygments_lexer": "ipython3",
   "version": "3.7.3"
  }
 },
 "nbformat": 4,
 "nbformat_minor": 4
}
