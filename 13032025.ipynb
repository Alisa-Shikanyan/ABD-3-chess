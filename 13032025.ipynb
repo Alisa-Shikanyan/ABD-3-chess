{
 "cells": [
  {
   "cell_type": "code",
   "execution_count": 4,
   "metadata": {},
   "outputs": [],
   "source": [
    "import pandas as pd\n",
    "import numpy as np\n",
    "import matplotlib.pyplot as plt\n",
    "import seaborn as sns \n",
    "import scipy.stats as stats\n",
    "import pingouin as pg\n",
    "\n",
    "df = pd.read_csv('final_games-3.csv')"
   ]
  },
  {
   "cell_type": "markdown",
   "metadata": {},
   "source": [
    "Посмотрим на колонку Rated - булевый признак, показывающий, является ли партия рейтинговой (True) или нет (False) "
   ]
  },
  {
   "cell_type": "code",
   "execution_count": 5,
   "metadata": {},
   "outputs": [
    {
     "data": {
      "text/plain": [
       "True     134761\n",
       "False      6031\n",
       "Name: Rated, dtype: int64"
      ]
     },
     "execution_count": 5,
     "metadata": {},
     "output_type": "execute_result"
    }
   ],
   "source": [
    "df['Rated'].value_counts()"
   ]
  },
  {
   "cell_type": "markdown",
   "metadata": {},
   "source": [
    "Удалим безрейтинговые игры, потому что в них может быть больше всего ошибок и игроки могут делать экстремальные ходы и экспериментировать"
   ]
  },
  {
   "cell_type": "code",
   "execution_count": 6,
   "metadata": {},
   "outputs": [],
   "source": [
    "df = df[df['Rated'] == True]"
   ]
  },
  {
   "cell_type": "code",
   "execution_count": 7,
   "metadata": {},
   "outputs": [
    {
     "data": {
      "text/plain": [
       "(134761, 32)"
      ]
     },
     "execution_count": 7,
     "metadata": {},
     "output_type": "execute_result"
    }
   ],
   "source": [
    "df.shape"
   ]
  },
  {
   "cell_type": "markdown",
   "metadata": {},
   "source": [
    "Оставим только исследуемые колонки"
   ]
  },
  {
   "cell_type": "code",
   "execution_count": 8,
   "metadata": {},
   "outputs": [],
   "source": [
    "columns_for_eda = [\n",
    "    'Game_ID', 'Rated', 'White_Rating',\n",
    "    'Black_Rating', 'White_Inaccuracy', 'Black_Inaccuracy',\n",
    "    'Opening_Name', 'Clocks', 'Moves'\n",
    "]"
   ]
  },
  {
   "cell_type": "code",
   "execution_count": 9,
   "metadata": {},
   "outputs": [],
   "source": [
    "df_filtered = df.filter(items=columns_for_eda)"
   ]
  },
  {
   "cell_type": "markdown",
   "metadata": {},
   "source": [
    "Постороим корреляционную матрицу"
   ]
  },
  {
   "cell_type": "code",
   "execution_count": 10,
   "metadata": {},
   "outputs": [
    {
     "data": {
      "image/png": "[encoded data removed]",
      "text/plain": [
       "<Figure size 720x432 with 2 Axes>"
      ]
     },
     "metadata": {
      "needs_background": "light"
     },
     "output_type": "display_data"
    }
   ],
   "source": [
    "correlation_matrix = df_filtered.filter(items=columns_for_eda).select_dtypes(include=[np.number]).corr()\n",
    "\n",
    "plt.figure(figsize=(10, 6))\n",
    "sns.heatmap(correlation_matrix, annot=True, fmt=\".2f\",\n",
    "            cmap=\"coolwarm\", linewidths=0.5)\n",
    "plt.title(\"Матрица корреляций числовых переменных\")\n",
    "plt.show()"
   ]
  },
  {
   "cell_type": "markdown",
   "metadata": {},
   "source": [
    "Проверяем типы данных в колонках"
   ]
  },
  {
   "cell_type": "code",
   "execution_count": 11,
   "metadata": {},
   "outputs": [
    {
     "data": {
      "text/plain": [
       "Game_ID              object\n",
       "Rated                  bool\n",
       "White_Rating        float64\n",
       "Black_Rating        float64\n",
       "White_Inaccuracy      int64\n",
       "Black_Inaccuracy      int64\n",
       "Opening_Name         object\n",
       "Clocks               object\n",
       "Moves                object\n",
       "dtype: object"
      ]
     },
     "execution_count": 11,
     "metadata": {},
     "output_type": "execute_result"
    }
   ],
   "source": [
    "df_filtered.dtypes"
   ]
  },
  {
   "cell_type": "markdown",
   "metadata": {},
   "source": [
    "Проверяем пропуски в данных"
   ]
  },
  {
   "cell_type": "code",
   "execution_count": 12,
   "metadata": {},
   "outputs": [
    {
     "name": "stdout",
     "output_type": "stream",
     "text": [
      "Game_ID               0\n",
      "Rated                 0\n",
      "White_Rating          0\n",
      "Black_Rating          0\n",
      "White_Inaccuracy      0\n",
      "Black_Inaccuracy      0\n",
      "Opening_Name        322\n",
      "Clocks                0\n",
      "Moves                 0\n",
      "dtype: int64\n"
     ]
    }
   ],
   "source": [
    "print(df_filtered.isnull().sum())"
   ]
  },
  {
   "cell_type": "markdown",
   "metadata": {},
   "source": [
    "Разбираемся с колонкой White_Rating"
   ]
  },
  {
   "cell_type": "code",
   "execution_count": 13,
   "metadata": {},
   "outputs": [
    {
     "data": {
      "text/plain": [
       "count    134761.000000\n",
       "mean       2559.973242\n",
       "std         349.163792\n",
       "min         599.000000\n",
       "25%        2304.000000\n",
       "50%        2600.000000\n",
       "75%        2812.000000\n",
       "max        3438.000000\n",
       "Name: White_Rating, dtype: float64"
      ]
     },
     "execution_count": 13,
     "metadata": {},
     "output_type": "execute_result"
    }
   ],
   "source": [
    "df_filtered['White_Rating'].describe()\n"
   ]
  },
  {
   "cell_type": "code",
   "execution_count": 14,
   "metadata": {},
   "outputs": [],
   "source": [
    "# Вычисление среднего значения для колонки \n",
    "#mean_A = df['White_Rating'].mean()\n",
    "\n",
    "# Замена пропусков в колонке 'A' на среднее значение\n",
    "#df_filtered['White_Rating'].fillna(mean_A, inplace=True)"
   ]
  },
  {
   "cell_type": "code",
   "execution_count": 15,
   "metadata": {},
   "outputs": [
    {
     "data": {
      "image/png": "[encoded data removed]",
      "text/plain": [
       "<Figure size 432x288 with 1 Axes>"
      ]
     },
     "metadata": {
      "needs_background": "light"
     },
     "output_type": "display_data"
    }
   ],
   "source": [
    "# Построение гистограммы для колонки 'White_Rating'\n",
    "plt.hist(df_filtered['White_Rating'], bins=30, color='skyblue')\n",
    "plt.title('Распределение рейтингов белых шахматистов')\n",
    "plt.xlabel('Рейтинг')\n",
    "plt.ylabel('Количество игроков')\n",
    "plt.grid(True)\n",
    "\n",
    "# Отображение графика\n",
    "plt.show()"
   ]
  },
  {
   "cell_type": "markdown",
   "metadata": {},
   "source": [
    "Посмотрим выбросы в колонке White_Rating"
   ]
  },
  {
   "cell_type": "code",
   "execution_count": 16,
   "metadata": {},
   "outputs": [
    {
     "name": "stdout",
     "output_type": "stream",
     "text": [
      "208       1442.0\n",
      "332       1435.0\n",
      "347       1540.0\n",
      "416       1061.0\n",
      "417        920.0\n",
      "           ...  \n",
      "140749    1380.0\n",
      "140752    1470.0\n",
      "140778    1200.0\n",
      "140788    1532.0\n",
      "140790    1309.0\n",
      "Name: White_Rating, Length: 955, dtype: float64\n"
     ]
    }
   ],
   "source": [
    "# Вычисление квартиля\n",
    "Q1 = df_filtered['White_Rating'].quantile(0.25)\n",
    "Q3 = df_filtered['White_Rating'].quantile(0.75)\n",
    "IQR = Q3 - Q1\n",
    "\n",
    "# Определение границ для выявления выбросов\n",
    "lower_bound = Q1 - 1.5 * IQR\n",
    "upper_bound = Q3 + 1.5 * IQR\n",
    "\n",
    "# Поиск выбросов\n",
    "outliers_wr = df_filtered[(df_filtered['White_Rating'] < lower_bound) | (df_filtered['White_Rating'] > upper_bound)]\n",
    "\n",
    "# Выводим только колонку с выбросами\n",
    "outlier_column = outliers_wr['White_Rating']\n",
    "print(outlier_column)"
   ]
  },
  {
   "cell_type": "code",
   "execution_count": 17,
   "metadata": {},
   "outputs": [
    {
     "name": "stdout",
     "output_type": "stream",
     "text": [
      "1542.0\n",
      "3574.0\n"
     ]
    }
   ],
   "source": [
    "print(lower_bound)\n",
    "print(upper_bound)"
   ]
  },
  {
   "cell_type": "markdown",
   "metadata": {},
   "source": [
    "Удаляем все выбросы до рейтинга 1542 и после рейтинга 3574"
   ]
  },
  {
   "cell_type": "code",
   "execution_count": 18,
   "metadata": {},
   "outputs": [],
   "source": [
    "# Шаг 4: Удаление выбросов\n",
    "df_no_outliers_wr = df_filtered[(df_filtered['White_Rating'] >= lower_bound) & (df_filtered['White_Rating'] <= upper_bound)]"
   ]
  },
  {
   "cell_type": "code",
   "execution_count": 19,
   "metadata": {},
   "outputs": [
    {
     "data": {
      "text/plain": [
       "(133806, 9)"
      ]
     },
     "execution_count": 19,
     "metadata": {},
     "output_type": "execute_result"
    }
   ],
   "source": [
    "df_no_outliers_wr.shape"
   ]
  },
  {
   "cell_type": "markdown",
   "metadata": {},
   "source": [
    "Разбираемся с колонкой Black_Rating"
   ]
  },
  {
   "cell_type": "code",
   "execution_count": 20,
   "metadata": {},
   "outputs": [
    {
     "data": {
      "text/plain": [
       "count    133806.000000\n",
       "mean       2564.955421\n",
       "std         342.282359\n",
       "min         689.000000\n",
       "25%        2310.000000\n",
       "50%        2600.000000\n",
       "75%        2813.000000\n",
       "max        3441.000000\n",
       "Name: Black_Rating, dtype: float64"
      ]
     },
     "execution_count": 20,
     "metadata": {},
     "output_type": "execute_result"
    }
   ],
   "source": [
    "df_no_outliers_wr['Black_Rating'].describe()\n"
   ]
  },
  {
   "cell_type": "code",
   "execution_count": 21,
   "metadata": {},
   "outputs": [],
   "source": [
    "# Вычисление среднего значения для колонки \n",
    "#mean_B = df_filtered['Black_Rating'].mean()\n",
    "\n",
    "# Замена пропусков в колонке 'A' на среднее значение\n",
    "#df_filtered['Black_Rating'].fillna(mean_B, inplace=True)"
   ]
  },
  {
   "cell_type": "code",
   "execution_count": 22,
   "metadata": {},
   "outputs": [
    {
     "data": {
      "image/png": "[encoded data removed]",
      "text/plain": [
       "<Figure size 432x288 with 1 Axes>"
      ]
     },
     "metadata": {
      "needs_background": "light"
     },
     "output_type": "display_data"
    }
   ],
   "source": [
    "# Построение гистограммы для колонки 'Black_Rating'\n",
    "plt.hist(df_no_outliers_wr['Black_Rating'], bins=30, color='skyblue')\n",
    "plt.title('Распределение рейтингов черных шахматистов')\n",
    "plt.xlabel('Рейтинг')\n",
    "plt.ylabel('Количество игроков')\n",
    "plt.grid(True)\n",
    "\n",
    "# Отображение графика\n",
    "plt.show()"
   ]
  },
  {
   "cell_type": "markdown",
   "metadata": {},
   "source": [
    "Посмотрим выбросы в колонке Black_Rating'"
   ]
  },
  {
   "cell_type": "code",
   "execution_count": 23,
   "metadata": {},
   "outputs": [
    {
     "name": "stdout",
     "output_type": "stream",
     "text": [
      "179       1546.0\n",
      "186       1536.0\n",
      "207       1495.0\n",
      "333       1081.0\n",
      "385       1544.0\n",
      "           ...  \n",
      "140768    1543.0\n",
      "140779    1382.0\n",
      "140785    1339.0\n",
      "140789    1468.0\n",
      "140791    1500.0\n",
      "Name: Black_Rating, Length: 678, dtype: float64\n"
     ]
    }
   ],
   "source": [
    "# Вычисление квартиля\n",
    "Q1 = df_no_outliers_wr['Black_Rating'].quantile(0.25)\n",
    "Q3 = df_no_outliers_wr['Black_Rating'].quantile(0.75)\n",
    "IQR = Q3 - Q1\n",
    "\n",
    "# Определение границ для выявления выбросов\n",
    "lower_bound = Q1 - 1.5 * IQR\n",
    "upper_bound = Q3 + 1.5 * IQR\n",
    "\n",
    "# Поиск выбросов\n",
    "outliers_br = df_no_outliers_wr[(df_no_outliers_wr['Black_Rating'] < lower_bound) | (df_no_outliers_wr['Black_Rating'] > upper_bound)]\n",
    "\n",
    "# Выводим только колонку с выбросами\n",
    "outlier_column = outliers_br['Black_Rating']\n",
    "print(outlier_column)"
   ]
  },
  {
   "cell_type": "code",
   "execution_count": 24,
   "metadata": {},
   "outputs": [
    {
     "name": "stdout",
     "output_type": "stream",
     "text": [
      "1555.5\n",
      "3567.5\n"
     ]
    }
   ],
   "source": [
    "print(lower_bound)\n",
    "print(upper_bound)"
   ]
  },
  {
   "cell_type": "markdown",
   "metadata": {},
   "source": [
    "Удаляем все выбросы до рейтинга 1555.5 и после рейтинга 3567.5"
   ]
  },
  {
   "cell_type": "code",
   "execution_count": 25,
   "metadata": {},
   "outputs": [],
   "source": [
    "# Шаг 4: Удаление выбросов\n",
    "df_no_outliers = df_no_outliers_wr[(df_no_outliers_wr['Black_Rating'] >= lower_bound) & (df_no_outliers_wr['Black_Rating'] <= upper_bound)]"
   ]
  },
  {
   "cell_type": "code",
   "execution_count": 26,
   "metadata": {},
   "outputs": [
    {
     "data": {
      "text/plain": [
       "(133128, 9)"
      ]
     },
     "execution_count": 26,
     "metadata": {},
     "output_type": "execute_result"
    }
   ],
   "source": [
    "df_no_outliers.shape"
   ]
  },
  {
   "cell_type": "markdown",
   "metadata": {},
   "source": [
    "Разбираемся с колонкой White_Inaccuracy - количество неточностей, допущенных белым игроком"
   ]
  },
  {
   "cell_type": "code",
   "execution_count": 27,
   "metadata": {},
   "outputs": [
    {
     "data": {
      "text/plain": [
       "count    133128.000000\n",
       "mean          2.965267\n",
       "std           2.276561\n",
       "min           0.000000\n",
       "25%           1.000000\n",
       "50%           3.000000\n",
       "75%           4.000000\n",
       "max          20.000000\n",
       "Name: White_Inaccuracy, dtype: float64"
      ]
     },
     "execution_count": 27,
     "metadata": {},
     "output_type": "execute_result"
    }
   ],
   "source": [
    "df_no_outliers['White_Inaccuracy'].describe()"
   ]
  },
  {
   "cell_type": "code",
   "execution_count": 28,
   "metadata": {},
   "outputs": [
    {
     "data": {
      "image/png": "[encoded data removed]",
      "text/plain": [
       "<Figure size 432x288 with 1 Axes>"
      ]
     },
     "metadata": {
      "needs_background": "light"
     },
     "output_type": "display_data"
    }
   ],
   "source": [
    "# Построение диаграммы рассеяния\n",
    "plt.scatter(df_no_outliers['White_Rating'], df_no_outliers['White_Inaccuracy'], s=1)\n",
    "\n",
    "plt.title('Зависимость ошибок от рейтинга белого игрока')\n",
    "plt.xlabel('Рейтинг')\n",
    "plt.ylabel('Количество ошибок')\n",
    "plt.grid(True)\n",
    "\n",
    "plt.show()"
   ]
  },
  {
   "cell_type": "markdown",
   "metadata": {},
   "source": [
    "Посмотрим как распределились неточности белого игрока по количеству игр"
   ]
  },
  {
   "cell_type": "code",
   "execution_count": 29,
   "metadata": {},
   "outputs": [
    {
     "data": {
      "image/png": "[encoded data removed]",
      "text/plain": [
       "<Figure size 432x288 with 1 Axes>"
      ]
     },
     "metadata": {
      "needs_background": "light"
     },
     "output_type": "display_data"
    }
   ],
   "source": [
    "# Построение гистограммы для колонки 'White_Inaccuracy'\n",
    "plt.hist(df_no_outliers['White_Inaccuracy'], bins=70, color='skyblue')\n",
    "plt.title('Распределение неточностей белых шахматистов')\n",
    "plt.xlabel('Неточности')\n",
    "plt.ylabel('Количество игроков')\n",
    "plt.grid(True)\n",
    "\n",
    "# Отображение графика\n",
    "plt.show()"
   ]
  },
  {
   "cell_type": "markdown",
   "metadata": {},
   "source": [
    "Определение выбросов в колонке White_Inaccuracy"
   ]
  },
  {
   "cell_type": "code",
   "execution_count": 30,
   "metadata": {},
   "outputs": [
    {
     "name": "stdout",
     "output_type": "stream",
     "text": [
      "41        16\n",
      "47         9\n",
      "100       14\n",
      "108        9\n",
      "128       10\n",
      "          ..\n",
      "140616    10\n",
      "140650    11\n",
      "140684     9\n",
      "140732    10\n",
      "140759    11\n",
      "Name: White_Inaccuracy, Length: 2971, dtype: int64\n"
     ]
    }
   ],
   "source": [
    "# Вычисление квартиля\n",
    "Q1 = df_no_outliers['White_Inaccuracy'].quantile(0.25)\n",
    "Q3 = df_no_outliers['White_Inaccuracy'].quantile(0.75)\n",
    "IQR = Q3 - Q1\n",
    "\n",
    "# Определение границ для выявления выбросов\n",
    "lower_bound = Q1 - 1.5 * IQR\n",
    "upper_bound = Q3 + 1.5 * IQR\n",
    "\n",
    "# Поиск выбросов\n",
    "outliers_white = df_no_outliers[\n",
    "    (df_no_outliers['White_Inaccuracy'] < lower_bound) |\n",
    "    (df_no_outliers['White_Inaccuracy'] > upper_bound)]\n",
    "# Выводим только колонку с выбросами\n",
    "outlier_column = outliers_white['White_Inaccuracy']\n",
    "print(outlier_column)"
   ]
  },
  {
   "cell_type": "code",
   "execution_count": 31,
   "metadata": {},
   "outputs": [],
   "source": [
    "# Шаг 4: Удаление выбросов\n",
    "df_clear_wr = df_no_outliers[(df_no_outliers['White_Inaccuracy'] >= lower_bound) & (df_no_outliers['White_Inaccuracy'] <= upper_bound)]"
   ]
  },
  {
   "cell_type": "code",
   "execution_count": 32,
   "metadata": {},
   "outputs": [
    {
     "data": {
      "text/plain": [
       "(130157, 9)"
      ]
     },
     "execution_count": 32,
     "metadata": {},
     "output_type": "execute_result"
    }
   ],
   "source": [
    "df_clear_wr.shape"
   ]
  },
  {
   "cell_type": "markdown",
   "metadata": {},
   "source": [
    "Разбираемся с колонкой Black_Inaccuracy - количество неточностей, допущенных черным игроком"
   ]
  },
  {
   "cell_type": "code",
   "execution_count": 33,
   "metadata": {},
   "outputs": [
    {
     "data": {
      "text/plain": [
       "count    130157.000000\n",
       "mean          2.917761\n",
       "std           2.185010\n",
       "min           0.000000\n",
       "25%           1.000000\n",
       "50%           3.000000\n",
       "75%           4.000000\n",
       "max          17.000000\n",
       "Name: Black_Inaccuracy, dtype: float64"
      ]
     },
     "execution_count": 33,
     "metadata": {},
     "output_type": "execute_result"
    }
   ],
   "source": [
    "df_clear_wr['Black_Inaccuracy'].describe()"
   ]
  },
  {
   "cell_type": "code",
   "execution_count": 34,
   "metadata": {},
   "outputs": [
    {
     "data": {
      "image/png": "[encoded data removed]",
      "text/plain": [
       "<Figure size 432x288 with 1 Axes>"
      ]
     },
     "metadata": {
      "needs_background": "light"
     },
     "output_type": "display_data"
    }
   ],
   "source": [
    "# Построение диаграммы рассеяния\n",
    "plt.scatter(df_clear_wr['Black_Rating'], df_clear_wr['Black_Inaccuracy'], s=1)\n",
    "\n",
    "plt.title('Зависимость ошибок от рейтинга черного игрока')\n",
    "plt.xlabel('Рейтинг')\n",
    "plt.ylabel('Количество ошибок')\n",
    "plt.grid(True)\n",
    "\n",
    "plt.show()"
   ]
  },
  {
   "cell_type": "code",
   "execution_count": 35,
   "metadata": {},
   "outputs": [
    {
     "data": {
      "image/png": "[encoded data removed]",
      "text/plain": [
       "<Figure size 432x288 with 1 Axes>"
      ]
     },
     "metadata": {
      "needs_background": "light"
     },
     "output_type": "display_data"
    }
   ],
   "source": [
    "# Построение гистограммы для колонки 'Black_Inaccuracy'\n",
    "plt.hist(df_clear_wr['Black_Inaccuracy'], bins=70, color='skyblue')\n",
    "plt.title('Распределение неточностей черных шахматистов')\n",
    "plt.xlabel('Неточности')\n",
    "plt.ylabel('Количество игроков')\n",
    "plt.grid(True)\n",
    "\n",
    "# Отображение графика\n",
    "plt.show()"
   ]
  },
  {
   "cell_type": "markdown",
   "metadata": {},
   "source": [
    "Определение выбросов в колонке Black_Inaccuracy"
   ]
  },
  {
   "cell_type": "code",
   "execution_count": 36,
   "metadata": {},
   "outputs": [
    {
     "name": "stdout",
     "output_type": "stream",
     "text": [
      "33         9\n",
      "124       10\n",
      "153       11\n",
      "175        9\n",
      "263       10\n",
      "          ..\n",
      "140496    10\n",
      "140532     9\n",
      "140693     9\n",
      "140713    10\n",
      "140724    10\n",
      "Name: Black_Inaccuracy, Length: 2281, dtype: int64\n"
     ]
    }
   ],
   "source": [
    "# Вычисление квартиля\n",
    "Q1 = df_clear_wr['Black_Inaccuracy'].quantile(0.25)\n",
    "Q3 = df_clear_wr['Black_Inaccuracy'].quantile(0.75)\n",
    "IQR = Q3 - Q1\n",
    "\n",
    "# Определение границ для выявления выбросов\n",
    "lower_bound = Q1 - 1.5 * IQR\n",
    "upper_bound = Q3 + 1.5 * IQR\n",
    "\n",
    "# Поиск выбросов\n",
    "outliers_black = df_clear_wr[(df_clear_wr['Black_Inaccuracy'] < lower_bound) | (df_clear_wr['Black_Inaccuracy'] > upper_bound)]\n",
    "\n",
    "# Выводим только колонку с выбросами\n",
    "outlier_column = outliers_black['Black_Inaccuracy']\n",
    "print(outlier_column)"
   ]
  },
  {
   "cell_type": "code",
   "execution_count": 37,
   "metadata": {},
   "outputs": [],
   "source": [
    "# Шаг 4: Удаление выбросов\n",
    "df_clear = df_clear_wr[(df_clear_wr['Black_Inaccuracy'] >= lower_bound) & (df_clear_wr['Black_Inaccuracy'] <= upper_bound)]"
   ]
  },
  {
   "cell_type": "code",
   "execution_count": 38,
   "metadata": {},
   "outputs": [
    {
     "data": {
      "text/plain": [
       "(127876, 9)"
      ]
     },
     "execution_count": 38,
     "metadata": {},
     "output_type": "execute_result"
    }
   ],
   "source": [
    "df_clear.shape"
   ]
  },
  {
   "cell_type": "markdown",
   "metadata": {},
   "source": [
    "Посмотрим на колонку Opening_Name - название дебюта, который был сыгран"
   ]
  },
  {
   "cell_type": "code",
   "execution_count": 39,
   "metadata": {},
   "outputs": [
    {
     "data": {
      "text/plain": [
       "Indian Defense                                                                 1725\n",
       "Sicilian Defense: Closed                                                       1459\n",
       "Zukertort Opening                                                              1179\n",
       "King's Indian Attack                                                           1178\n",
       "Zukertort Opening: Kingside Fianchetto                                         1076\n",
       "                                                                               ... \n",
       "Ruy Lopez: Bird Variation, Paulsen Variation                                      1\n",
       "Alekhine Defense: Scandinavian Variation, Myers Gambit                            1\n",
       "Zukertort Opening: Arctic Defense, Drunken Knight Variation                       1\n",
       "Nimzo-Indian Defense: Classical Variation, Berlin Variation, Macieja System       1\n",
       "Philidor Defense: Nimzowitsch, Larobok Variation                                  1\n",
       "Name: Opening_Name, Length: 2279, dtype: int64"
      ]
     },
     "execution_count": 39,
     "metadata": {},
     "output_type": "execute_result"
    }
   ],
   "source": [
    "df_clear['Opening_Name'].value_counts()"
   ]
  },
  {
   "cell_type": "markdown",
   "metadata": {},
   "source": [
    "Попробуем заменить пропуски в колонке Opening_Name"
   ]
  },
  {
   "cell_type": "code",
   "execution_count": 40,
   "metadata": {},
   "outputs": [
    {
     "name": "stdout",
     "output_type": "stream",
     "text": [
      "\n",
      "DataFrame после обрезки ходов:\n",
      "         Game_ID  Rated  White_Rating  Black_Rating  White_Inaccuracy  \\\n",
      "0       PsevV6VH   True        2334.0        2272.0                 1   \n",
      "1       diLZa8sj   True        2111.0        2272.0                 3   \n",
      "2       O8TSZ7bq   True        2158.0        2259.0                 4   \n",
      "3       vtMjWIUv   True        2299.0        2252.0                 0   \n",
      "4       GC8I3jiq   True        2299.0        2251.0                 0   \n",
      "...          ...    ...           ...           ...               ...   \n",
      "140782  3BfRgZMW   True        2125.0        2138.0                 5   \n",
      "140783  uUIODOLE   True        2115.0        1702.0                 5   \n",
      "140784  YGQMCsEt   True        2106.0        1709.0                 1   \n",
      "140786  FJJJFwXH   True        2006.0        1626.0                 4   \n",
      "140787  nFPldl4M   True        1786.0        1949.0                 2   \n",
      "\n",
      "        Black_Inaccuracy                                       Opening_Name  \\\n",
      "0                      5             English Opening: Symmetrical Variation   \n",
      "1                      4  French Defense: Winawer Variation, Advance Var...   \n",
      "2                      3                                      London System   \n",
      "3                      5  King's Indian Defense: Orthodox Variation, Pos...   \n",
      "4                      5  English Opening: Anglo-Indian Defense, King's ...   \n",
      "...                  ...                                                ...   \n",
      "140782                 6                  Hungarian Opening: Indian Defense   \n",
      "140783                 2                               King's Indian Attack   \n",
      "140784                 3           Hungarian Opening: Symmetrical Variation   \n",
      "140786                 1                                  Hungarian Opening   \n",
      "140787                 4                      Modern Defense: Standard Line   \n",
      "\n",
      "                                                   Clocks  \\\n",
      "0       [180003, 180003, 178499, 178019, 178339, 17757...   \n",
      "1       [180003, 180003, 179827, 179683, 178619, 17936...   \n",
      "2       [180003, 180003, 179707, 179035, 179051, 17678...   \n",
      "3       [180003, 180003, 179731, 179283, 179443, 17872...   \n",
      "4       [180003, 180003, 179867, 178467, 175067, 17782...   \n",
      "...                                                   ...   \n",
      "140782  [1499, 1499, 1483, 1499, 1467, 1499, 1443, 149...   \n",
      "140783  [1499, 1499, 1499, 1483, 1483, 1475, 1459, 146...   \n",
      "140784  [1499, 1499, 1499, 1491, 1499, 1435, 1499, 142...   \n",
      "140786  [1499, 1499, 1499, 1499, 1499, 1491, 1483, 149...   \n",
      "140787  [1499, 1499, 1483, 1499, 1451, 1499, 1419, 148...   \n",
      "\n",
      "                                                    Moves TrimmedMoves  \n",
      "0       Nf3 c5 c4 Nc6 Nc3 g6 e3 Bg7 d4 cxd4 exd4 d6 h3...       Nf3 c5  \n",
      "1       e4 e6 d4 d5 Nc3 Bb4 e5 Ne7 a3 Bxc3+ bxc3 b6 Bb...        e4 e6  \n",
      "2       d4 Nf6 Nf3 g6 Bf4 Bg7 e3 d6 Be2 O-O O-O Nbd7 h...       d4 Nf6  \n",
      "3       d4 Nf6 Nf3 d6 c4 g6 Nc3 Bg7 e4 O-O Be2 Nbd7 O-...       d4 Nf6  \n",
      "4       Nf3 Nf6 c4 c5 g3 g6 b3 Bg7 Bb2 O-O Bg2 Nc6 O-O...      Nf3 Nf6  \n",
      "...                                                   ...          ...  \n",
      "140782  g3 Nf6 Bg2 g6 Nf3 Bg7 O-O O-O e4 e5 d4 d6 dxe5...       g3 Nf6  \n",
      "140783  g3 d5 Nf3 c6 Bg2 e6 O-O Bd6 e4 f5 e5 Bc7 d4 Ne...        g3 d5  \n",
      "140784  g3 g6 Bg2 Nf6 Nf3 d5 O-O c5 e4 Bg7 e5 O-O d4 N...        g3 g6  \n",
      "140786  g3 e6 Bg2 Ne7 Nf3 g6 O-O Bg7 d4 O-O Bh6 f5 Bxg...        g3 e6  \n",
      "140787  e4 g6 d4 Bg7 Nc3 Nf6 Be3 O-O f3 Nxe4 fxe4 d5 Q...        e4 g6  \n",
      "\n",
      "[127876 rows x 10 columns]\n"
     ]
    }
   ],
   "source": [
    "# Функция для обрезки ходов до нужного количества\n",
    "def trim_moves(moves, num_moves):\n",
    "    # Разбиваем строку на отдельные ходы\n",
    "    move_list = moves.split()\n",
    "    # Обрезаем до нужного количества ходов\n",
    "    trimmed_moves = ' '.join(move_list[:num_moves])\n",
    "    return trimmed_moves\n",
    "\n",
    "# Создаем явную копию для работы\n",
    "df_clear = df_clear.copy()\n",
    "\n",
    "# Применяем функцию к столбцу 'Moves', обрезая до 2-х ходов\n",
    "df_clear.loc[:, 'TrimmedMoves'] = df_clear['Moves'].apply(lambda x: trim_moves(x, 2))\n",
    "\n",
    "print(\"\\nDataFrame после обрезки ходов:\")\n",
    "print(df_clear)\n"
   ]
  },
  {
   "cell_type": "code",
   "execution_count": 41,
   "metadata": {},
   "outputs": [
    {
     "name": "stdout",
     "output_type": "stream",
     "text": [
      "\n",
      "Словарь дебютов:\n",
      "{'Nf3 c5': 'Zukertort Opening: Sicilian Invitation', 'e4 e6': \"French Defense: Queen's Knight\", 'd4 Nf6': 'Indian Defense: Normal Variation', 'Nf3 Nf6': \"King's Indian Defense: Normal Variation, King's Knight Variation\", 'e4 c6': 'Caro-Kann Defense', 'e4 c5': 'Sicilian Defense: Closed', 'e4 e5': \"Petrov's Defense: Modern Attack\", 'e4 Nc6': 'Nimzowitsch Defense', 'e4 d5': 'Scandinavian Defense', 'e4 b6': 'Owen Defense', 'e4 g6': 'Modern Defense: Standard Line', 'e4 d6': 'Rat Defense: Antal Defense', 'd4 d5': \"Queen's Gambit Declined: Austrian Defense\", 'Nf3 d5': 'English Opening: Agincourt Defense, Catalan Defense, Semi-Slav Defense', 'd4 c5': 'Caro-Kann Defense: Exchange Variation', 'c4 e5': 'English Opening: The Whale', 'd4 d6': \"Queen's Pawn Game\", 'c4 d6': 'English Opening', 'Nf3 g6': 'Zukertort Opening: Kingside Fianchetto', 'Nf3 e6': 'English Opening: Agincourt Defense, Neo-Catalan Declined', 'c4 c6': 'English Opening: Caro-Kann Defensive System', 'g3 d5': \"King's Indian Attack\", 'd4 e6': 'Horwitz Defense', 'b3 e5': 'Nimzo-Larsen Attack: Modern Variation', 'd4 f5': 'Dutch Defense', 'c4 Nf6': 'Catalan Opening: Open Defense', 'd4 g6': \"Queen's Pawn Game: Modern Defense\", 'b3 b6': 'Nimzo-Larsen Attack: Symmetrical Variation', 'h4 e5': 'Kádas Opening', 'c4 c5': 'English Opening: Symmetrical Variation, Two Knights Variation', 'a3 c5': \"Anderssen's Opening\", 'd4 a6': \"Queen's Pawn Game\", 'b4 e5': 'Polish Opening', 'e4 Nf6': 'Alekhine Defense', 'e3 Nf6': \"Van't Kruijs Opening\", 'd4 Nc6': 'Mikenas Defense', 'b3 Nf6': 'Nimzo-Larsen Attack: Indian Variation', 'Nc3 Nf6': 'Van Geet Opening', 'd4 b6': 'English Defense', 'b3 d5': 'Nimzo-Larsen Attack: Classical Variation', 'Nc3 d5': 'Van Geet Opening', 'd4 e5': 'Englund Gambit Declined: Reversed French', 'g3 c5': 'Hungarian Opening: Sicilian Invitation', 'c3 Nf6': 'Saragossa Opening', 'Nf3 Nc6': 'Zukertort Opening: Black Mustang Defense', 'Nf3 e5': 'Zukertort Opening: Ross Gambit', 'Nf3 f5': 'Zukertort Opening: Dutch Variation', 'c3 d5': 'Saragossa Opening', 'c4 e6': 'English Opening: Agincourt Defense, Neo-Catalan Declined', 'c4 f5': \"Dutch Defense: Queen's Knight Variation\", 'c4 g6': 'English Opening: Great Snake Variation', 'c4 d5': \"Queen's Gambit Declined: Austrian Defense\", 'c6 d4': nan, 'd4 d3': nan, 'e3 e5': \"Van't Kruijs Opening\", 'b4 Nf6': \"Polish Opening: King's Indian Variation\", 'g4 h5': 'Grob Opening', 'f4 g6': 'Bird Opening', 'Nf3 b6': 'Zukertort Opening: Queenside Fianchetto Variation', 'f4 e5': \"Bird Opening: From's Gambit\", 'g4 d5': 'Grob Opening: Grob Gambit', 'f4 c5': 'Bird Opening', 'g4 e5': 'Grob Opening', 'd3 Nf6': 'Mieses Opening', 'f4 Nf6': 'Bird Opening', 'c4 Nc6': 'English Opening: Anglo-Lithuanian Variation', 'a3 h6': \"Anderssen's Opening\", 'd4 b5': 'Polish Defense', 'a3 d5': \"Anderssen's Opening\", 'c4 b6': 'English Opening', 'f4 d5': 'Bird Opening: Dutch Variation', 'b3 c6': 'Nimzo-Larsen Attack', 'b3 e6': 'Nimzo-Larsen Attack', 'd4 c6': \"Queen's Pawn Game\", 'Nc3 e5': 'Vienna Game: Anderssen Defense', 'd3 c5': 'Mieses Opening', 'c4 a6': 'English Opening', 'Be3 Bg7': nan, 'Nc3 c6': 'Caro-Kann Defense: Two Knights Attack', 'd3 c6': 'Mieses Opening', 'g3 g6': 'Hungarian Opening: Symmetrical Variation', 'g3 e5': 'Hungarian Opening', 'f4 f5': 'Bird Opening', 'd3 f5': 'Mieses Opening', 'e4 f5': 'Duras Gambit', 'e3 f5': \"Van't Kruijs Opening\", 'b4 d6': 'Polish Opening', 'Nc3 Nc6': 'Four Knights Game: Italian Variation', 'Nc3 d6': 'Van Geet Opening', 'Nc3 c5': 'Van Geet Opening', 'Nc3 g6': 'Van Geet Opening', 'Nc3 f5': 'Van Geet Opening', 'f4 e6': 'Bird Opening', 'b4 e6': 'Polish Opening', 'e3 d5': \"Van't Kruijs Opening\", 'Nf3 g5': 'Zukertort Opening: Herrstrom Gambit', 'Nf6 e5': nan, 'e5 Nc3': nan, 'd3 d5': 'Mieses Opening', 'b3 g6': 'Nimzo-Larsen Attack', 'Nf3 d6': 'Zukertort Opening: Pirc Invitation', 'e4 a6': 'St. George Defense', 'b3 c5': 'Nimzo-Larsen Attack: English Variation', 'b4 d5': 'Polish Opening', 'd3 g6': 'Mieses Opening', 'g3 Nf6': 'Hungarian Opening: Indian Defense', 'c3 e5': 'Saragossa Opening', 'd3 e5': 'Mieses Opening: Reversed Rat', 'b4 g6': \"Polish Opening: King's Indian Variation\", 'd3 e6': 'Mieses Opening', 'd4 a5': \"Queen's Pawn Game\", 'Nf3 c6': \"King's Indian Attack: Yugoslav Variation\", 'Nf3 f6': 'Zukertort Opening: Arctic Defense', 'e5 Nf3': nan, 'Nf3 a6': 'Zukertort Opening: St. George Defense', 'g4 h6': 'Grob Opening', 'b4 b6': 'Polish Opening', 'b4 f5': 'Polish Opening: Dutch Defense', 'a4 Nf6': 'Ware Opening', 'a4 e5': 'Ware Opening', 'd4 f6': \"Queen's Pawn Game\", 'g3 d6': 'Hungarian Opening', 'Nf3 h6': 'Zukertort Opening: Basman Defense', 'b4 c6': 'Polish Opening: Outflank Variation', 'a3 g6': \"Anderssen's Opening\", 'f4 Nc6': 'Bird Opening', 'h4 c5': 'Kádas Opening', 'f4 d6': 'Bird Opening', 'h3 e5': 'Clemenz Opening', 'c6 Nf3': nan, 'g4 g6': 'Grob Opening', 'g4 b6': 'Grob Opening', 'e4 g5': 'Borg Defense', 'd4 h6': \"Queen's Pawn Game\", 'Nh3 d5': 'Amar Opening', 'Nf3 b5': 'Zukertort Opening: Polish Defense', 'a3 e5': \"Anderssen's Opening\", 'a3 Nf6': \"Anderssen's Opening\", 'a3 f5': \"Anderssen's Opening\", 'a3 c6': \"Anderssen's Opening\", 'a3 f6': \"Anderssen's Opening\", 'a3 a6': \"Anderssen's Opening\", 'e3 c5': \"Van't Kruijs Opening\", 'b3 d6': 'Nimzo-Larsen Attack', 'f3 d6': 'Barnes Opening', 'b4 a5': 'Polish Opening', 'g3 f5': 'Hungarian Opening: Dutch Defense', 'f4 b6': 'Bird Opening', 'c4 f6': 'English Opening', 'e3 e6': \"Van't Kruijs Opening\", 'g3 c6': 'Hungarian Opening: Slav Formation', 'g3 b6': 'Hungarian Opening', 'g3 e6': 'Hungarian Opening', 'f4 c6': 'Bird Opening', 'e4 b5': \"King's Pawn Game\", 'e3 g6': \"Van't Kruijs Opening\", 'c6 Nc3': nan, 'e4 f6': 'Zukertort Opening: Arctic Defense, Drunken Knight Variation', 'b3 a5': 'Nimzo-Larsen Attack', 'b3 Nc6': 'Nimzo-Larsen Attack: Modern Variation', 'b3 b5': 'Nimzo-Larsen Attack: Polish Variation', 'b3 f5': 'Nimzo-Larsen Attack: Dutch Variation', 'g4 e6': 'Grob Opening', 'a4 d5': 'Ware Opening', 'f4 Nh6': 'Bird Opening: Horsefly Defense', 'e4 h6': 'Carr Defense', 'Nc3 a6': 'Van Geet Opening', 'c3 g6': 'Saragossa Opening', 'd4 Na6': 'Australian Defense', 'g4 f5': 'Grob Opening: Alessi Gambit', 'b4 h5': 'Polish Opening', 'a3 a5': \"Anderssen's Opening\", 'g3 h5': 'Lasker Simul Special', 'h4 h6': 'Kádas Opening', 'd4 h5': \"Queen's Pawn Game\", 'f3 e5': 'Barnes Opening', 'e3 b6': \"Van't Kruijs Opening\", 'd3 a6': 'Mieses Opening', 'b3 f6': 'Nimzo-Larsen Attack', 'h4 d5': 'Kádas Opening', 'c3 b6': 'Saragossa Opening', 'Nf3 h5': 'Hungarian Opening: Van Kuijk Gambit', 'e4 a5': 'Ware Defense', 'h3 d5': 'Clemenz Opening', 'h3 Nf6': 'Clemenz Opening', 'Nc3 b6': 'Van Geet Opening', 'd3 d6': 'Mieses Opening', 'c3 Nc6': 'Saragossa Opening', 'c4 a5': 'English Opening', 'Nf3 a5': 'Zukertort Opening: Ware Defense', 'f3 d5': 'Barnes Opening', 'f3 c5': 'Barnes Opening', 'g3 a5': 'Hungarian Opening', 'c3 f5': 'Saragossa Opening', 'Nc3 e6': 'Van Geet Opening', 'd3 b6': 'Mieses Opening', 'Nh3 e5': 'Amar Opening', 'a3 e6': \"Anderssen's Opening\", 'c4 g5': 'English Opening: Myers Defense', 'd4 Nh6': \"Queen's Pawn Game\", 'h3 a6': 'Clemenz Opening', 'e3 Nc6': \"Van't Kruijs Opening\", 'a4 e6': 'Ware Opening', 'e3 c6': \"Van't Kruijs Opening\", 'e4 h5': 'Goldsmith Defense', 'e3 d6': \"Van't Kruijs Opening\", 'b3 a6': 'Nimzo-Larsen Attack', 'Nc3 g5': 'Van Geet Opening', 'Na3 d5': 'Sodium Attack', 'Na3 Na6': 'Sodium Attack', 'Na3 g6': 'Sodium Attack', 'e4 Na6': 'Lemming Defense', 'Nf3 Na6': 'Zukertort Opening', 'h4 h5': 'Kádas Opening', 'f4 g5': 'Bird Opening: Hobbs Gambit', 'f4 h6': 'Bird Opening', 'f4 b5': 'Bird Opening: Myers Defense', 'b3 Na6': 'Nimzo-Larsen Attack', 'h4 Nf6': 'Kádas Opening', 'a4 a5': 'Ware Opening: Symmetric Variation', 'h3 f6': 'Clemenz Opening', 'a4 Na6': 'Ware Opening', 'Nh3 f6': 'Amar Opening', 'Nh3 Na6': 'Amar Opening', 'c4 b5': 'English Opening: Jaenisch Gambit', 'c4 h5': 'English Opening', 'g3 a6': 'Hungarian Opening', 'h4 d6': 'Kádas Opening', 'Bg5 Nbd7': nan, 'O-O Bg2': nan, 'c5 c3': nan, 'g6 h4': nan, 'Bf5 f4': nan, 'Bf5 Nf3': nan, 'Bf5 g4': nan, 'e6 Nf3': nan, 'f4 h5': 'Bird Opening', 'c3 e6': 'Saragossa Opening', 'dxe6 Bxe6': nan, 'Nf3 Nge7': nan, 'Bb5+ Bd7': nan, 'c4 h6': 'English Opening', 'Nf3 Bg4': nan, 'Nc3 dxc4': nan, 'Bg4 Bb5+': nan, 'Bg4 f3': nan, 'Bg4 Nf3': nan, 'Nxd5 c4': nan, 'Bg4 Be2': nan, 'Nb3 Bg7': nan, 'Nc3 Bg7': nan, 'Bc4 Bg7': nan, 'Nxc6 bxc6': nan, 'Nc3 exd5': nan, 'Qh5 Nd6': nan, 'Bxf7+ Kxf7': nan, 'Bg5 e6': nan, 'Bd3 e5': nan, 'cxd5 Nxd5': nan, 'Nf3 Bg7': nan, 'cxd5 Bg7': nan, 'Nd5 c4': nan, 'Qe7 Be2': nan, 'Qe7 Qe2': nan, 'Qe7 f4': nan, 'cxd5 Bf5': nan, 'Qb3 dxc4': nan, 'Bg5 Ne4': nan, 'Ne4 Nd2': nan, 'Qe7 Bf4': nan, 'Bg5 Bg7': nan, 'h3 Bg7': nan, 'Be3 Nc6': nan, 'Be2 Bg7': nan, 'Nf3 Nd7': nan, 'g6 Nf3': nan, 'Nc6 c5': nan, 'Bb5 a6': nan, 'c3 d6': 'Saragossa Opening', 'c3 a6': 'Saragossa Opening', 'd6 Nf3': nan, 'd6 c4': nan, 'g4 c6': 'Grob Opening: Grob Gambit Declined', 'c6 Be3': nan, 'c3 c6': 'Saragossa Opening', 'g4 d6': 'Grob Opening', 'Nf3 Nh6': 'Zukertort Opening', 'h4 e6': 'Kádas Opening', 'c3 c5': 'Sicilian Defense: Alapin Variation', 'c5 O-O': nan, 'd5 a3': nan, 'Qg4 Kf8': nan, 'Nf6 d4': nan, 'O-O c3': nan, 'Qh4+ Kf1': nan, 'd5 Bxd5': nan, 'd3 Bxd3': nan, 'Nc6 cxd4': nan, 'd5 Qxd4': nan, 'd6 d4': nan, 'Bd2 Bxc3': nan, 'e5 Nd5': nan, 'd5 d3': nan, 'e5 fxe5': nan, 'd5 Nf3': nan, 'c5 Nf3': nan, 'd5 e3': nan, 'd4 g5': 'Borg Defense: Borg Gambit', 'Bg4 Bd3': nan, 'dxe4 Nxe4': nan, 'Bg7 e3': nan, 'a6 Nf3': nan, 'Nf3 Ngf6': nan, 'Bd3 Ngf6': nan, 'Bxc6 dxc6': nan, 'O-O Nf6': nan, 'O-O Nf3': nan, 'd5 e5': nan, 'd6 c3': nan, 'e3 Be7': nan, 'Bb6 a4': nan, 'Bxb4 c3': nan, 'dxc6 h3': nan, 'Nf6 d3': nan, 'Bc5 c3': nan, 'Ng5 d5': nan, 'Ng5 Bc5': nan, 'dxe6 fxe6': nan, 'e5 Be3': nan, 'c5 d5': nan, 'Na6 f4': nan, 'c5 dxc5': nan, 'h6 Be3': nan, 'e4 Nh6': 'Hippopotamus Defense', 'a4 c6': 'Ware Opening', 'Nh3 Nh6': 'Amar Opening', 'Nc3 Na6': 'Van Geet Opening', 'e3 cxd4': nan, 'dxc5 Bxc5': nan, 'cxd5 exd5': nan, 'Bg5 cxd4': nan, 'cxb5 a6': nan, 'e3 bxc4': nan, 'Nf3 Bb7': nan, 'Nc6 e3': nan, 'Nc6 f3': nan, 'Nc6 Nf3': nan, 'O-O e3': nan, 'O-O Nd4': nan, 'Nxe5 Nxe5': nan, 'exd4 Nxd4': nan, 'e3 Bb4': nan, 'e3 Bd6': nan, 'Nf6 Nf3': nan, 'Nc6 Nc3': nan, 'g3 Nc6': 'Hungarian Opening', 'h3 h5': 'Clemenz Opening', 'Nh3 g6': 'Amar Opening', 'c4 Na6': 'English Opening', 'Nh3 Nf6': 'Amar Opening', 'h3 c5': 'Clemenz Opening', 'b4 c5': 'Polish Opening: Birmingham Gambit', 'h3 e6': 'Clemenz Opening', 'h3 h6': 'Clemenz Opening', 'h3 d6': 'Clemenz Opening', 'a4 a6': 'Ware Opening', 'e3 a6': \"Van't Kruijs Opening\", 'd3 Nc6': 'Mieses Opening', 'f3 g6': 'Barnes Opening', 'Na3 e5': 'Sodium Attack', 'g4 c5': 'Grob Opening', 'f3 Nf6': 'Barnes Opening', 'g3 Na6': 'Hungarian Opening', 'Nh3 c5': 'Amar Opening', 'd3 a5': 'Mieses Opening', 'f3 e6': 'Barnes Opening', 'a3 h5': \"Anderssen's Opening\", 'f3 c6': 'Barnes Opening', 'a4 c5': 'Ware Opening', 'Na3 Nf6': 'Sodium Attack', 'Na3 d6': 'Sodium Attack', 'Nc3 b5': 'Van Geet Opening: Laroche Gambit', 'h4 c6': 'Kádas Opening', 'b3 h5': 'Nimzo-Larsen Attack', 'g3 f6': 'Hungarian Opening', 'Nh3 e6': 'Amar Opening', 'Nh3 h5': 'Amar Opening', 'a4 g6': 'Ware Opening', 'Na3 e6': 'Sodium Attack', 'Na3 b6': 'Sodium Attack', 'e3 b5': \"Van't Kruijs Opening\", 'g3 g5': 'Hungarian Opening: Myers Defense', 'a4 h6': 'Ware Opening', 'f3 a5': 'Barnes Opening', 'g3 h6': 'Hungarian Opening', 'Nxe4 Bd3': nan, 'Nxe4 dxe5': nan, 'Nxe4 Nxe5': nan, 'Nxe4 d5': nan, 'd6 dxe5': nan, 'exd4 e5': nan, 'a4 d6': 'Ware Opening', 'Nh3 d6': 'Amar Opening', 'e3 a5': \"Van't Kruijs Opening\", 'g3 Nh6': 'Hungarian Opening', 'd3 h5': 'Mieses Opening', 'h4 g6': 'Kádas Opening', 'h4 a5': 'Kádas Opening: Koola-Koola Variation', 'b3 h6': 'Nimzo-Larsen Attack', 'h3 a5': 'Clemenz Opening', 'a3 b6': \"Anderssen's Opening\", 'a3 d6': \"Anderssen's Opening\", 'Na3 a5': 'Sodium Attack', 'e3 h6': \"Van't Kruijs Opening\", 'Nc3 h5': 'Van Geet Opening', 'g4 a5': 'Grob Opening', 'a4 f5': 'Ware Opening', 'a4 Nc6': 'Ware Opening', 'Nh3 a6': 'Amar Opening', 'd3 g5': 'Mieses Opening', 'c3 g5': 'Saragossa Opening', 'h4 Nh6': 'Kádas Opening', 'h4 Nc6': 'Kádas Opening', 'h3 Nc6': 'Clemenz Opening', 'd3 h6': 'Mieses Opening', 'c3 a5': 'Saragossa Opening', 'h4 g5': 'Kádas Opening: Schneider Gambit', 'h4 b5': 'Kádas Opening', 'h3 c6': 'Clemenz Opening', 'h4 b6': 'Kádas Opening', 'Nc3 a5': 'Van Geet Opening', 'e3 h5': \"Van't Kruijs Opening\", 'c3 h5': 'Saragossa Opening', 'c3 b5': 'Saragossa Opening', 'a4 h5': 'Ware Opening', 'e3 g5': \"Van't Kruijs Opening\", 'h3 g6': 'Clemenz Opening', 'a4 b5': 'Ware Opening', 'd3 Nh6': 'Mieses Opening', 'e3 f6': \"Van't Kruijs Opening\", 'b4 b5': 'Polish Opening: Symmetrical Variation', 'd3 b5': 'Mieses Opening', 'a4 b6': 'Ware Opening', 'Nh3 Nc6': 'Amar Opening', 'Nh3 g5': 'Amar Opening', 'b4 Nc6': 'Polish Opening: Grigorian Variation', 'Nh3 b6': 'Amar Opening'}\n"
     ]
    }
   ],
   "source": [
    "# Создаем словарь из DataFrame\n",
    "opening_dict = df_clear.set_index('TrimmedMoves')['Opening_Name'].to_dict()\n",
    "\n",
    "print(\"\\nСловарь дебютов:\")\n",
    "print(opening_dict)"
   ]
  },
  {
   "cell_type": "code",
   "execution_count": 42,
   "metadata": {},
   "outputs": [
    {
     "name": "stdout",
     "output_type": "stream",
     "text": [
      "\n",
      "DataFrame после определения дебютов:\n",
      "         Game_ID  Rated  White_Rating  Black_Rating  White_Inaccuracy  \\\n",
      "0       PsevV6VH   True        2334.0        2272.0                 1   \n",
      "1       diLZa8sj   True        2111.0        2272.0                 3   \n",
      "2       O8TSZ7bq   True        2158.0        2259.0                 4   \n",
      "3       vtMjWIUv   True        2299.0        2252.0                 0   \n",
      "4       GC8I3jiq   True        2299.0        2251.0                 0   \n",
      "...          ...    ...           ...           ...               ...   \n",
      "140782  3BfRgZMW   True        2125.0        2138.0                 5   \n",
      "140783  uUIODOLE   True        2115.0        1702.0                 5   \n",
      "140784  YGQMCsEt   True        2106.0        1709.0                 1   \n",
      "140786  FJJJFwXH   True        2006.0        1626.0                 4   \n",
      "140787  nFPldl4M   True        1786.0        1949.0                 2   \n",
      "\n",
      "        Black_Inaccuracy                                       Opening_Name  \\\n",
      "0                      5             Zukertort Opening: Sicilian Invitation   \n",
      "1                      4                     French Defense: Queen's Knight   \n",
      "2                      3                   Indian Defense: Normal Variation   \n",
      "3                      5                   Indian Defense: Normal Variation   \n",
      "4                      5  King's Indian Defense: Normal Variation, King'...   \n",
      "...                  ...                                                ...   \n",
      "140782                 6                  Hungarian Opening: Indian Defense   \n",
      "140783                 2                               King's Indian Attack   \n",
      "140784                 3           Hungarian Opening: Symmetrical Variation   \n",
      "140786                 1                                  Hungarian Opening   \n",
      "140787                 4                      Modern Defense: Standard Line   \n",
      "\n",
      "                                                   Clocks  \\\n",
      "0       [180003, 180003, 178499, 178019, 178339, 17757...   \n",
      "1       [180003, 180003, 179827, 179683, 178619, 17936...   \n",
      "2       [180003, 180003, 179707, 179035, 179051, 17678...   \n",
      "3       [180003, 180003, 179731, 179283, 179443, 17872...   \n",
      "4       [180003, 180003, 179867, 178467, 175067, 17782...   \n",
      "...                                                   ...   \n",
      "140782  [1499, 1499, 1483, 1499, 1467, 1499, 1443, 149...   \n",
      "140783  [1499, 1499, 1499, 1483, 1483, 1475, 1459, 146...   \n",
      "140784  [1499, 1499, 1499, 1491, 1499, 1435, 1499, 142...   \n",
      "140786  [1499, 1499, 1499, 1499, 1499, 1491, 1483, 149...   \n",
      "140787  [1499, 1499, 1483, 1499, 1451, 1499, 1419, 148...   \n",
      "\n",
      "                                                    Moves TrimmedMoves  \n",
      "0       Nf3 c5 c4 Nc6 Nc3 g6 e3 Bg7 d4 cxd4 exd4 d6 h3...       Nf3 c5  \n",
      "1       e4 e6 d4 d5 Nc3 Bb4 e5 Ne7 a3 Bxc3+ bxc3 b6 Bb...        e4 e6  \n",
      "2       d4 Nf6 Nf3 g6 Bf4 Bg7 e3 d6 Be2 O-O O-O Nbd7 h...       d4 Nf6  \n",
      "3       d4 Nf6 Nf3 d6 c4 g6 Nc3 Bg7 e4 O-O Be2 Nbd7 O-...       d4 Nf6  \n",
      "4       Nf3 Nf6 c4 c5 g3 g6 b3 Bg7 Bb2 O-O Bg2 Nc6 O-O...      Nf3 Nf6  \n",
      "...                                                   ...          ...  \n",
      "140782  g3 Nf6 Bg2 g6 Nf3 Bg7 O-O O-O e4 e5 d4 d6 dxe5...       g3 Nf6  \n",
      "140783  g3 d5 Nf3 c6 Bg2 e6 O-O Bd6 e4 f5 e5 Bc7 d4 Ne...        g3 d5  \n",
      "140784  g3 g6 Bg2 Nf6 Nf3 d5 O-O c5 e4 Bg7 e5 O-O d4 N...        g3 g6  \n",
      "140786  g3 e6 Bg2 Ne7 Nf3 g6 O-O Bg7 d4 O-O Bh6 f5 Bxg...        g3 e6  \n",
      "140787  e4 g6 d4 Bg7 Nc3 Nf6 Be3 O-O f3 Nxe4 fxe4 d5 Q...        e4 g6  \n",
      "\n",
      "[127876 rows x 10 columns]\n"
     ]
    }
   ],
   "source": [
    "# Функция для определения дебюта по обрезанным ходам\n",
    "def determine_opening(trimmed_moves):\n",
    "    return opening_dict.get(trimmed_moves, None)\n",
    "\n",
    "# Заполняем пропуски в столбце 'Opening' на основе обрезанных ходов\n",
    "df_clear['Opening_Name'] = df_clear['TrimmedMoves'].apply(determine_opening)\n",
    "\n",
    "print(\"\\nDataFrame после определения дебютов:\")\n",
    "print(df_clear)"
   ]
  },
  {
   "cell_type": "code",
   "execution_count": null,
   "metadata": {},
   "outputs": [],
   "source": []
  },
  {
   "cell_type": "code",
   "execution_count": 44,
   "metadata": {},
   "outputs": [
    {
     "name": "stdout",
     "output_type": "stream",
     "text": [
      "Game_ID               0\n",
      "Rated                 0\n",
      "White_Rating          0\n",
      "Black_Rating          0\n",
      "White_Inaccuracy      0\n",
      "Black_Inaccuracy      0\n",
      "Opening_Name        223\n",
      "Clocks                0\n",
      "Moves                 0\n",
      "TrimmedMoves          0\n",
      "dtype: int64\n"
     ]
    }
   ],
   "source": [
    "print(df_clear.isnull().sum())\n",
    "# осталось все равно 223 пропусков, предлагаю их оставить как other\n"
   ]
  },
  {
   "cell_type": "code",
   "execution_count": 45,
   "metadata": {},
   "outputs": [],
   "source": [
    "# Заполнение пропусков словом \"other\"\n",
    "df_clear['Opening_Name'] = df_clear['Opening_Name'].fillna('other')"
   ]
  },
  {
   "cell_type": "code",
   "execution_count": 46,
   "metadata": {},
   "outputs": [
    {
     "data": {
      "text/plain": [
       "(127876, 10)"
      ]
     },
     "execution_count": 46,
     "metadata": {},
     "output_type": "execute_result"
    }
   ],
   "source": [
    "df_clear.shape"
   ]
  },
  {
   "cell_type": "markdown",
   "metadata": {},
   "source": [
    "Манипуляции над колонкой Clock - информация о времени игроков по ходу партии в виде последовательного числового списка"
   ]
  },
  {
   "cell_type": "code",
   "execution_count": 47,
   "metadata": {},
   "outputs": [],
   "source": [
    "import ast\n",
    "# Функция для безопасного преобразования строки в список\n",
    "def safe_literal_eval(value):\n",
    "    if isinstance(value, str):  # Проверяем, является ли значение строкой\n",
    "        try:\n",
    "            return ast.literal_eval(value)\n",
    "        except (ValueError, SyntaxError):\n",
    "            return []  # Возвращаем пустой список в случае ошибки\n",
    "    return value  # Если это не строка, возвращаем значение как есть\n",
    "\n",
    "# Преобразование строки в список\n",
    "df_clear['Clocks'] = df_clear['Clocks'].apply(safe_literal_eval)\n",
    "\n"
   ]
  },
  {
   "cell_type": "code",
   "execution_count": 48,
   "metadata": {},
   "outputs": [],
   "source": [
    "# Функция для разделения на две группы\n",
    "def split_even_odd(clock_list):\n",
    "    group1 = [clock_list[i] for i in range(len(clock_list)) if i % 2 == 0]  # Четные индексы\n",
    "    group2 = [clock_list[i] for i in range(len(clock_list)) if i % 2 != 0]  # Нечетные индексы\n",
    "    return pd.Series([group1, group2])  # Возвращаем Series с двумя группами\n",
    "\n",
    "# Применение функции и создание новых столбцов\n",
    "df_clear[['Even_Clocks', 'Odd_Clocks']] = df_clear['Clocks'].apply(split_even_odd)\n",
    "\n"
   ]
  },
  {
   "cell_type": "code",
   "execution_count": 49,
   "metadata": {},
   "outputs": [
    {
     "name": "stdout",
     "output_type": "stream",
     "text": [
      "         Game_ID  Rated  White_Rating  Black_Rating  White_Inaccuracy  \\\n",
      "0       PsevV6VH   True        2334.0        2272.0                 1   \n",
      "1       diLZa8sj   True        2111.0        2272.0                 3   \n",
      "2       O8TSZ7bq   True        2158.0        2259.0                 4   \n",
      "3       vtMjWIUv   True        2299.0        2252.0                 0   \n",
      "4       GC8I3jiq   True        2299.0        2251.0                 0   \n",
      "...          ...    ...           ...           ...               ...   \n",
      "140782  3BfRgZMW   True        2125.0        2138.0                 5   \n",
      "140783  uUIODOLE   True        2115.0        1702.0                 5   \n",
      "140784  YGQMCsEt   True        2106.0        1709.0                 1   \n",
      "140786  FJJJFwXH   True        2006.0        1626.0                 4   \n",
      "140787  nFPldl4M   True        1786.0        1949.0                 2   \n",
      "\n",
      "        Black_Inaccuracy                                       Opening_Name  \\\n",
      "0                      5             Zukertort Opening: Sicilian Invitation   \n",
      "1                      4                     French Defense: Queen's Knight   \n",
      "2                      3                   Indian Defense: Normal Variation   \n",
      "3                      5                   Indian Defense: Normal Variation   \n",
      "4                      5  King's Indian Defense: Normal Variation, King'...   \n",
      "...                  ...                                                ...   \n",
      "140782                 6                  Hungarian Opening: Indian Defense   \n",
      "140783                 2                               King's Indian Attack   \n",
      "140784                 3           Hungarian Opening: Symmetrical Variation   \n",
      "140786                 1                                  Hungarian Opening   \n",
      "140787                 4                      Modern Defense: Standard Line   \n",
      "\n",
      "                                                   Clocks  \\\n",
      "0       [180003, 180003, 178499, 178019, 178339, 17757...   \n",
      "1       [180003, 180003, 179827, 179683, 178619, 17936...   \n",
      "2       [180003, 180003, 179707, 179035, 179051, 17678...   \n",
      "3       [180003, 180003, 179731, 179283, 179443, 17872...   \n",
      "4       [180003, 180003, 179867, 178467, 175067, 17782...   \n",
      "...                                                   ...   \n",
      "140782  [1499, 1499, 1483, 1499, 1467, 1499, 1443, 149...   \n",
      "140783  [1499, 1499, 1499, 1483, 1483, 1475, 1459, 146...   \n",
      "140784  [1499, 1499, 1499, 1491, 1499, 1435, 1499, 142...   \n",
      "140786  [1499, 1499, 1499, 1499, 1499, 1491, 1483, 149...   \n",
      "140787  [1499, 1499, 1483, 1499, 1451, 1499, 1419, 148...   \n",
      "\n",
      "                                                    Moves TrimmedMoves  \\\n",
      "0       Nf3 c5 c4 Nc6 Nc3 g6 e3 Bg7 d4 cxd4 exd4 d6 h3...       Nf3 c5   \n",
      "1       e4 e6 d4 d5 Nc3 Bb4 e5 Ne7 a3 Bxc3+ bxc3 b6 Bb...        e4 e6   \n",
      "2       d4 Nf6 Nf3 g6 Bf4 Bg7 e3 d6 Be2 O-O O-O Nbd7 h...       d4 Nf6   \n",
      "3       d4 Nf6 Nf3 d6 c4 g6 Nc3 Bg7 e4 O-O Be2 Nbd7 O-...       d4 Nf6   \n",
      "4       Nf3 Nf6 c4 c5 g3 g6 b3 Bg7 Bb2 O-O Bg2 Nc6 O-O...      Nf3 Nf6   \n",
      "...                                                   ...          ...   \n",
      "140782  g3 Nf6 Bg2 g6 Nf3 Bg7 O-O O-O e4 e5 d4 d6 dxe5...       g3 Nf6   \n",
      "140783  g3 d5 Nf3 c6 Bg2 e6 O-O Bd6 e4 f5 e5 Bc7 d4 Ne...        g3 d5   \n",
      "140784  g3 g6 Bg2 Nf6 Nf3 d5 O-O c5 e4 Bg7 e5 O-O d4 N...        g3 g6   \n",
      "140786  g3 e6 Bg2 Ne7 Nf3 g6 O-O Bg7 d4 O-O Bh6 f5 Bxg...        g3 e6   \n",
      "140787  e4 g6 d4 Bg7 Nc3 Nf6 Be3 O-O f3 Nxe4 fxe4 d5 Q...        e4 g6   \n",
      "\n",
      "                                              Even_Clocks  \\\n",
      "0       [180003, 178499, 178339, 178131, 177939, 17793...   \n",
      "1       [180003, 179827, 178619, 177187, 170155, 16946...   \n",
      "2       [180003, 179707, 179051, 178795, 178531, 17823...   \n",
      "3       [180003, 179731, 179443, 179251, 179043, 17888...   \n",
      "4       [180003, 179867, 175067, 173995, 173875, 17333...   \n",
      "...                                                   ...   \n",
      "140782  [1499, 1483, 1467, 1443, 1347, 1267, 1251, 119...   \n",
      "140783  [1499, 1499, 1483, 1459, 1459, 1459, 1419, 141...   \n",
      "140784  [1499, 1499, 1499, 1499, 1499, 1499, 1499, 149...   \n",
      "140786  [1499, 1499, 1499, 1483, 1483, 1475, 1475, 142...   \n",
      "140787  [1499, 1483, 1451, 1419, 1379, 1307, 1283, 118...   \n",
      "\n",
      "                                               Odd_Clocks  \\\n",
      "0       [180003, 178019, 177571, 173699, 173203, 17218...   \n",
      "1       [180003, 179683, 179363, 177867, 177387, 17724...   \n",
      "2       [180003, 179035, 176787, 176443, 175819, 17561...   \n",
      "3       [180003, 179283, 178723, 175835, 174955, 17392...   \n",
      "4       [180003, 178467, 177827, 177099, 176659, 17583...   \n",
      "...                                                   ...   \n",
      "140782  [1499, 1499, 1499, 1499, 1499, 1499, 1499, 149...   \n",
      "140783  [1499, 1483, 1475, 1467, 1451, 1347, 1347, 133...   \n",
      "140784  [1499, 1491, 1435, 1427, 1411, 1371, 1251, 113...   \n",
      "140786  [1499, 1499, 1491, 1491, 1491, 1427, 1411, 140...   \n",
      "140787  [1499, 1499, 1499, 1483, 1475, 1475, 1475, 147...   \n",
      "\n",
      "                                         Even_Differences  \\\n",
      "0       [1504, 160, 208, 192, 0, 7720, 5568, 5608, 769...   \n",
      "1       [176, 1208, 1432, 7032, 688, 1952, 880, 3776, ...   \n",
      "2       [296, 656, 256, 264, 296, 288, 272, 304, 384, ...   \n",
      "3       [272, 288, 192, 208, 160, 624, 1008, 400, 512,...   \n",
      "4       [136, 4800, 1072, 120, 544, 2488, 11056, 4272,...   \n",
      "...                                                   ...   \n",
      "140782  [16, 16, 24, 96, 80, 16, 56, 32, 8, 16, 0, 56,...   \n",
      "140783  [0, 16, 24, 0, 0, 40, 0, 8, 0, 0, 0, 0, 0, 0, ...   \n",
      "140784  [0, 0, 0, 0, 0, 0, 0, 64, 0, 120, 96, 48, 136,...   \n",
      "140786  [0, 0, 16, 0, 8, 0, 48, 0, 0, 80, 32, 56, 80, ...   \n",
      "140787  [16, 32, 32, 40, 72, 24, 96, 56, 48, 0, 24, 32...   \n",
      "\n",
      "                                          Odd_Differences  \n",
      "0       [1984, 448, 3872, 496, 1016, 18336, 2688, 8768...  \n",
      "1       [320, 320, 1496, 480, 144, 1008, 304, 1896, 64...  \n",
      "2       [968, 2248, 344, 624, 200, 752, 1480, 2816, 47...  \n",
      "3       [720, 560, 2888, 880, 1032, 680, 480, 784, 712...  \n",
      "4       [1536, 640, 728, 440, 824, 6952, 3776, 2864, 2...  \n",
      "...                                                   ...  \n",
      "140782  [0, 0, 0, 0, 0, 0, 0, 0, 8, 48, 16, 0, 64, 40,...  \n",
      "140783  [16, 8, 8, 16, 104, 0, 8, 56, 24, 56, 16, 32, ...  \n",
      "140784  [8, 56, 8, 16, 40, 120, 120, 0, 88, 116, 0, 97...  \n",
      "140786  [0, 8, 0, 0, 64, 16, 8, 104, 16, 0, 24, 0, 136...  \n",
      "140787  [0, 0, 16, 8, 0, 0, 0, 0, 40, 8, 0, 24, 40, 96...  \n",
      "\n",
      "[127876 rows x 14 columns]\n"
     ]
    }
   ],
   "source": [
    "# Функция для вычисления разницы между соседними числами в Even_Clocks\n",
    "def calculate_differences(group):\n",
    "    return [abs(j - i) for i, j in zip(group[:-1], group[1:])]   # положительная Разница между соседними элементами\n",
    "\n",
    "# Применение функции для вычисления разницы в Even_Clocks\n",
    "df_clear['Even_Differences'] = df_clear['Even_Clocks'].apply(calculate_differences)\n",
    "df_clear['Odd_Differences'] = df_clear['Odd_Clocks'].apply(calculate_differences)\n",
    "\n",
    "# Проверка результата\n",
    "\n",
    "print(df_clear)\n"
   ]
  },
  {
   "cell_type": "code",
   "execution_count": 56,
   "metadata": {},
   "outputs": [
    {
     "data": {
      "image/png": "[encoded data removed]",
      "text/plain": [
       "<Figure size 432x288 with 1 Axes>"
      ]
     },
     "metadata": {
      "needs_background": "light"
     },
     "output_type": "display_data"
    }
   ],
   "source": [
    "# Вычисление среднего значения для каждой строки в Odd_Differences\n",
    "df_clear['Even_Averages'] = df_clear['Even_Differences'].apply(lambda x: sum(x) / len(x) if len(x) > 0 else 0)\n",
    "\n",
    "# Построение графика\n",
    "plt.hist(df_clear['Even_Averages'], bins=70, color='skyblue')\n",
    "plt.title('Распределение среднего времени обдумывания белого игрока')\n",
    "plt.xlabel('Среднее время обдумывания')\n",
    "plt.ylabel('Количество игр')\n",
    "plt.grid(True)\n",
    "\n",
    "# Отображение графика\n",
    "plt.show()"
   ]
  },
  {
   "cell_type": "code",
   "execution_count": 53,
   "metadata": {},
   "outputs": [
    {
     "data": {
      "image/png": "[encoded data removed]",
      "text/plain": [
       "<Figure size 432x288 with 1 Axes>"
      ]
     },
     "metadata": {
      "needs_background": "light"
     },
     "output_type": "display_data"
    }
   ],
   "source": [
    "# Вычисление среднего значения для каждой строки в Odd_Differences\n",
    "df_clear['Odd_Averages'] = df_clear['Odd_Differences'].apply(lambda x: sum(x) / len(x) if len(x) > 0 else 0)\n",
    "\n",
    "# Построение графика\n",
    "plt.hist(df_clear['Odd_Averages'], bins=70, color='skyblue')\n",
    "plt.title('Распределение среднего времени обдумывания черного игрока')\n",
    "plt.xlabel('Среднее время обдумывания')\n",
    "plt.ylabel('Количество игр')\n",
    "plt.grid(True)\n",
    "\n",
    "# Отображение графика\n",
    "plt.show()\n",
    "\n"
   ]
  },
  {
   "cell_type": "code",
   "execution_count": null,
   "metadata": {},
   "outputs": [],
   "source": [
    "\n"
   ]
  },
  {
   "cell_type": "code",
   "execution_count": null,
   "metadata": {},
   "outputs": [],
   "source": []
  },
  {
   "cell_type": "code",
   "execution_count": null,
   "metadata": {},
   "outputs": [],
   "source": [
    "\n"
   ]
  },
  {
   "cell_type": "code",
   "execution_count": null,
   "metadata": {},
   "outputs": [],
   "source": []
  },
  {
   "cell_type": "code",
   "execution_count": null,
   "metadata": {},
   "outputs": [],
   "source": []
  },
  {
   "cell_type": "code",
   "execution_count": null,
   "metadata": {},
   "outputs": [],
   "source": []
  },
  {
   "cell_type": "code",
   "execution_count": null,
   "metadata": {},
   "outputs": [],
   "source": []
  }
 ],
 "metadata": {
  "kernelspec": {
   "display_name": "Python 3",
   "language": "python",
   "name": "python3"
  },
  "language_info": {
   "codemirror_mode": {
    "name": "ipython",
    "version": 3
   },
   "file_extension": ".py",
   "mimetype": "text/x-python",
   "name": "python",
   "nbconvert_exporter": "python",
   "pygments_lexer": "ipython3",
   "version": "3.7.3"
  }
 },
 "nbformat": 4,
 "nbformat_minor": 4
}
