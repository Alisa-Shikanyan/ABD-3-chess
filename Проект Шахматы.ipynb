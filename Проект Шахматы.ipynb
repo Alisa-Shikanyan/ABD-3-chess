{
 "cells": [
  {
   "cell_type": "code",
   "execution_count": 15,
   "metadata": {
    "scrolled": true
   },
   "outputs": [
    {
     "data": {
      "text/html": [
       "<div>\n",
       "<style scoped>\n",
       "    .dataframe tbody tr th:only-of-type {\n",
       "        vertical-align: middle;\n",
       "    }\n",
       "\n",
       "    .dataframe tbody tr th {\n",
       "        vertical-align: top;\n",
       "    }\n",
       "\n",
       "    .dataframe thead th {\n",
       "        text-align: right;\n",
       "    }\n",
       "</style>\n",
       "<table border=\"1\" class=\"dataframe\">\n",
       "  <thead>\n",
       "    <tr style=\"text-align: right;\">\n",
       "      <th></th>\n",
       "      <th>Game_ID</th>\n",
       "      <th>Rated</th>\n",
       "      <th>Variant</th>\n",
       "      <th>Speed</th>\n",
       "      <th>Created_At</th>\n",
       "      <th>Last_Move_At</th>\n",
       "      <th>Game_Status</th>\n",
       "      <th>Source</th>\n",
       "      <th>Winner</th>\n",
       "      <th>Opening_Name</th>\n",
       "      <th>...</th>\n",
       "      <th>Black_Inaccuracy</th>\n",
       "      <th>Black_Mistake</th>\n",
       "      <th>Black_Blunder</th>\n",
       "      <th>Black_ACPL</th>\n",
       "      <th>Clocks</th>\n",
       "      <th>Analysis</th>\n",
       "      <th>Total_Time_Init</th>\n",
       "      <th>Total_Time_Increment</th>\n",
       "      <th>Total_Time</th>\n",
       "      <th>Moves</th>\n",
       "    </tr>\n",
       "  </thead>\n",
       "  <tbody>\n",
       "    <tr>\n",
       "      <th>0</th>\n",
       "      <td>PsevV6VH</td>\n",
       "      <td>True</td>\n",
       "      <td>standard</td>\n",
       "      <td>classical</td>\n",
       "      <td>2024-12-15T11:09:25.224000+00:00</td>\n",
       "      <td>2024-12-15T11:55:14.775000+00:00</td>\n",
       "      <td>resign</td>\n",
       "      <td>pool</td>\n",
       "      <td>white</td>\n",
       "      <td>English Opening: Symmetrical Variation</td>\n",
       "      <td>...</td>\n",
       "      <td>5</td>\n",
       "      <td>1</td>\n",
       "      <td>1</td>\n",
       "      <td>47</td>\n",
       "      <td>[180003, 180003, 178499, 178019, 178339, 17757...</td>\n",
       "      <td>[{'eval': 14}, {'eval': 25}, {'eval': 26}, {'e...</td>\n",
       "      <td>1800</td>\n",
       "      <td>0</td>\n",
       "      <td>1800</td>\n",
       "      <td>Nf3 c5 c4 Nc6 Nc3 g6 e3 Bg7 d4 cxd4 exd4 d6 h3...</td>\n",
       "    </tr>\n",
       "    <tr>\n",
       "      <th>1</th>\n",
       "      <td>diLZa8sj</td>\n",
       "      <td>True</td>\n",
       "      <td>standard</td>\n",
       "      <td>classical</td>\n",
       "      <td>2024-10-28T13:54:16.605000+00:00</td>\n",
       "      <td>2024-10-28T14:32:21.403000+00:00</td>\n",
       "      <td>resign</td>\n",
       "      <td>pool</td>\n",
       "      <td>white</td>\n",
       "      <td>French Defense: Winawer Variation, Advance Var...</td>\n",
       "      <td>...</td>\n",
       "      <td>4</td>\n",
       "      <td>0</td>\n",
       "      <td>1</td>\n",
       "      <td>31</td>\n",
       "      <td>[180003, 180003, 179827, 179683, 178619, 17936...</td>\n",
       "      <td>[{'eval': 18}, {'eval': 28}, {'eval': 28}, {'e...</td>\n",
       "      <td>1800</td>\n",
       "      <td>0</td>\n",
       "      <td>1800</td>\n",
       "      <td>e4 e6 d4 d5 Nc3 Bb4 e5 Ne7 a3 Bxc3+ bxc3 b6 Bb...</td>\n",
       "    </tr>\n",
       "    <tr>\n",
       "      <th>2</th>\n",
       "      <td>O8TSZ7bq</td>\n",
       "      <td>True</td>\n",
       "      <td>standard</td>\n",
       "      <td>classical</td>\n",
       "      <td>2024-10-05T13:58:55.992000+00:00</td>\n",
       "      <td>2024-10-05T14:27:57.120000+00:00</td>\n",
       "      <td>resign</td>\n",
       "      <td>pool</td>\n",
       "      <td>black</td>\n",
       "      <td>London System</td>\n",
       "      <td>...</td>\n",
       "      <td>3</td>\n",
       "      <td>1</td>\n",
       "      <td>5</td>\n",
       "      <td>56</td>\n",
       "      <td>[180003, 180003, 179707, 179035, 179051, 17678...</td>\n",
       "      <td>[{'eval': 17}, {'eval': 17}, {'eval': 11}, {'e...</td>\n",
       "      <td>1800</td>\n",
       "      <td>0</td>\n",
       "      <td>1800</td>\n",
       "      <td>d4 Nf6 Nf3 g6 Bf4 Bg7 e3 d6 Be2 O-O O-O Nbd7 h...</td>\n",
       "    </tr>\n",
       "    <tr>\n",
       "      <th>3</th>\n",
       "      <td>vtMjWIUv</td>\n",
       "      <td>True</td>\n",
       "      <td>standard</td>\n",
       "      <td>classical</td>\n",
       "      <td>2024-08-23T07:33:49.932000+00:00</td>\n",
       "      <td>2024-08-23T08:04:22.421000+00:00</td>\n",
       "      <td>resign</td>\n",
       "      <td>pool</td>\n",
       "      <td>white</td>\n",
       "      <td>King's Indian Defense: Orthodox Variation, Pos...</td>\n",
       "      <td>...</td>\n",
       "      <td>5</td>\n",
       "      <td>1</td>\n",
       "      <td>2</td>\n",
       "      <td>42</td>\n",
       "      <td>[180003, 180003, 179731, 179283, 179443, 17872...</td>\n",
       "      <td>[{'eval': 16}, {'eval': 17}, {'eval': 15}, {'e...</td>\n",
       "      <td>1800</td>\n",
       "      <td>0</td>\n",
       "      <td>1800</td>\n",
       "      <td>d4 Nf6 Nf3 d6 c4 g6 Nc3 Bg7 e4 O-O Be2 Nbd7 O-...</td>\n",
       "    </tr>\n",
       "    <tr>\n",
       "      <th>4</th>\n",
       "      <td>GC8I3jiq</td>\n",
       "      <td>True</td>\n",
       "      <td>standard</td>\n",
       "      <td>classical</td>\n",
       "      <td>2024-08-22T13:24:49.024000+00:00</td>\n",
       "      <td>2024-08-22T14:18:09.814000+00:00</td>\n",
       "      <td>draw</td>\n",
       "      <td>pool</td>\n",
       "      <td>NaN</td>\n",
       "      <td>English Opening: Anglo-Indian Defense, King's ...</td>\n",
       "      <td>...</td>\n",
       "      <td>5</td>\n",
       "      <td>1</td>\n",
       "      <td>2</td>\n",
       "      <td>26</td>\n",
       "      <td>[180003, 180003, 179867, 178467, 175067, 17782...</td>\n",
       "      <td>[{'eval': 17}, {'eval': 18}, {'eval': 23}, {'e...</td>\n",
       "      <td>1800</td>\n",
       "      <td>0</td>\n",
       "      <td>1800</td>\n",
       "      <td>Nf3 Nf6 c4 c5 g3 g6 b3 Bg7 Bb2 O-O Bg2 Nc6 O-O...</td>\n",
       "    </tr>\n",
       "  </tbody>\n",
       "</table>\n",
       "<p>5 rows × 32 columns</p>\n",
       "</div>"
      ],
      "text/plain": [
       "    Game_ID  Rated   Variant      Speed                        Created_At  \\\n",
       "0  PsevV6VH   True  standard  classical  2024-12-15T11:09:25.224000+00:00   \n",
       "1  diLZa8sj   True  standard  classical  2024-10-28T13:54:16.605000+00:00   \n",
       "2  O8TSZ7bq   True  standard  classical  2024-10-05T13:58:55.992000+00:00   \n",
       "3  vtMjWIUv   True  standard  classical  2024-08-23T07:33:49.932000+00:00   \n",
       "4  GC8I3jiq   True  standard  classical  2024-08-22T13:24:49.024000+00:00   \n",
       "\n",
       "                       Last_Move_At Game_Status Source Winner  \\\n",
       "0  2024-12-15T11:55:14.775000+00:00      resign   pool  white   \n",
       "1  2024-10-28T14:32:21.403000+00:00      resign   pool  white   \n",
       "2  2024-10-05T14:27:57.120000+00:00      resign   pool  black   \n",
       "3  2024-08-23T08:04:22.421000+00:00      resign   pool  white   \n",
       "4  2024-08-22T14:18:09.814000+00:00        draw   pool    NaN   \n",
       "\n",
       "                                        Opening_Name  ... Black_Inaccuracy  \\\n",
       "0             English Opening: Symmetrical Variation  ...                5   \n",
       "1  French Defense: Winawer Variation, Advance Var...  ...                4   \n",
       "2                                      London System  ...                3   \n",
       "3  King's Indian Defense: Orthodox Variation, Pos...  ...                5   \n",
       "4  English Opening: Anglo-Indian Defense, King's ...  ...                5   \n",
       "\n",
       "   Black_Mistake Black_Blunder Black_ACPL  \\\n",
       "0              1             1         47   \n",
       "1              0             1         31   \n",
       "2              1             5         56   \n",
       "3              1             2         42   \n",
       "4              1             2         26   \n",
       "\n",
       "                                              Clocks  \\\n",
       "0  [180003, 180003, 178499, 178019, 178339, 17757...   \n",
       "1  [180003, 180003, 179827, 179683, 178619, 17936...   \n",
       "2  [180003, 180003, 179707, 179035, 179051, 17678...   \n",
       "3  [180003, 180003, 179731, 179283, 179443, 17872...   \n",
       "4  [180003, 180003, 179867, 178467, 175067, 17782...   \n",
       "\n",
       "                                            Analysis  Total_Time_Init  \\\n",
       "0  [{'eval': 14}, {'eval': 25}, {'eval': 26}, {'e...             1800   \n",
       "1  [{'eval': 18}, {'eval': 28}, {'eval': 28}, {'e...             1800   \n",
       "2  [{'eval': 17}, {'eval': 17}, {'eval': 11}, {'e...             1800   \n",
       "3  [{'eval': 16}, {'eval': 17}, {'eval': 15}, {'e...             1800   \n",
       "4  [{'eval': 17}, {'eval': 18}, {'eval': 23}, {'e...             1800   \n",
       "\n",
       "   Total_Time_Increment  Total_Time  \\\n",
       "0                     0        1800   \n",
       "1                     0        1800   \n",
       "2                     0        1800   \n",
       "3                     0        1800   \n",
       "4                     0        1800   \n",
       "\n",
       "                                               Moves  \n",
       "0  Nf3 c5 c4 Nc6 Nc3 g6 e3 Bg7 d4 cxd4 exd4 d6 h3...  \n",
       "1  e4 e6 d4 d5 Nc3 Bb4 e5 Ne7 a3 Bxc3+ bxc3 b6 Bb...  \n",
       "2  d4 Nf6 Nf3 g6 Bf4 Bg7 e3 d6 Be2 O-O O-O Nbd7 h...  \n",
       "3  d4 Nf6 Nf3 d6 c4 g6 Nc3 Bg7 e4 O-O Be2 Nbd7 O-...  \n",
       "4  Nf3 Nf6 c4 c5 g3 g6 b3 Bg7 Bb2 O-O Bg2 Nc6 O-O...  \n",
       "\n",
       "[5 rows x 32 columns]"
      ]
     },
     "execution_count": 15,
     "metadata": {},
     "output_type": "execute_result"
    }
   ],
   "source": [
    "import pandas as pd\n",
    "\n",
    "df = pd.read_csv('final_games.csv')\n",
    "df.head()"
   ]
  },
  {
   "cell_type": "code",
   "execution_count": 16,
   "metadata": {
    "scrolled": true
   },
   "outputs": [
    {
     "data": {
      "text/plain": [
       "(140792, 32)"
      ]
     },
     "execution_count": 16,
     "metadata": {},
     "output_type": "execute_result"
    }
   ],
   "source": [
    "df.shape"
   ]
  },
  {
   "cell_type": "code",
   "execution_count": 18,
   "metadata": {},
   "outputs": [
    {
     "data": {
      "text/html": [
       "<div>\n",
       "<style scoped>\n",
       "    .dataframe tbody tr th:only-of-type {\n",
       "        vertical-align: middle;\n",
       "    }\n",
       "\n",
       "    .dataframe tbody tr th {\n",
       "        vertical-align: top;\n",
       "    }\n",
       "\n",
       "    .dataframe thead th {\n",
       "        text-align: right;\n",
       "    }\n",
       "</style>\n",
       "<table border=\"1\" class=\"dataframe\">\n",
       "  <thead>\n",
       "    <tr style=\"text-align: right;\">\n",
       "      <th></th>\n",
       "      <th>Game_ID</th>\n",
       "      <th>Rated</th>\n",
       "      <th>Variant</th>\n",
       "      <th>Speed</th>\n",
       "      <th>Created_At</th>\n",
       "      <th>Last_Move_At</th>\n",
       "      <th>Game_Status</th>\n",
       "      <th>Source</th>\n",
       "      <th>Winner</th>\n",
       "      <th>Opening_Name</th>\n",
       "      <th>...</th>\n",
       "      <th>Black_Inaccuracy</th>\n",
       "      <th>Black_Mistake</th>\n",
       "      <th>Black_Blunder</th>\n",
       "      <th>Black_ACPL</th>\n",
       "      <th>Clocks</th>\n",
       "      <th>Analysis</th>\n",
       "      <th>Total_Time_Init</th>\n",
       "      <th>Total_Time_Increment</th>\n",
       "      <th>Total_Time</th>\n",
       "      <th>Moves</th>\n",
       "    </tr>\n",
       "  </thead>\n",
       "  <tbody>\n",
       "    <tr>\n",
       "      <th>0</th>\n",
       "      <td>PsevV6VH</td>\n",
       "      <td>True</td>\n",
       "      <td>standard</td>\n",
       "      <td>classical</td>\n",
       "      <td>2024-12-15T11:09:25.224000+00:00</td>\n",
       "      <td>2024-12-15T11:55:14.775000+00:00</td>\n",
       "      <td>resign</td>\n",
       "      <td>pool</td>\n",
       "      <td>white</td>\n",
       "      <td>English Opening: Symmetrical Variation</td>\n",
       "      <td>...</td>\n",
       "      <td>5</td>\n",
       "      <td>1</td>\n",
       "      <td>1</td>\n",
       "      <td>47</td>\n",
       "      <td>[180003, 180003, 178499, 178019, 178339, 17757...</td>\n",
       "      <td>[{'eval': 14}, {'eval': 25}, {'eval': 26}, {'e...</td>\n",
       "      <td>1800</td>\n",
       "      <td>0</td>\n",
       "      <td>1800</td>\n",
       "      <td>Nf3 c5 c4 Nc6 Nc3 g6 e3 Bg7 d4 cxd4 exd4 d6 h3...</td>\n",
       "    </tr>\n",
       "    <tr>\n",
       "      <th>1</th>\n",
       "      <td>diLZa8sj</td>\n",
       "      <td>True</td>\n",
       "      <td>standard</td>\n",
       "      <td>classical</td>\n",
       "      <td>2024-10-28T13:54:16.605000+00:00</td>\n",
       "      <td>2024-10-28T14:32:21.403000+00:00</td>\n",
       "      <td>resign</td>\n",
       "      <td>pool</td>\n",
       "      <td>white</td>\n",
       "      <td>French Defense: Winawer Variation, Advance Var...</td>\n",
       "      <td>...</td>\n",
       "      <td>4</td>\n",
       "      <td>0</td>\n",
       "      <td>1</td>\n",
       "      <td>31</td>\n",
       "      <td>[180003, 180003, 179827, 179683, 178619, 17936...</td>\n",
       "      <td>[{'eval': 18}, {'eval': 28}, {'eval': 28}, {'e...</td>\n",
       "      <td>1800</td>\n",
       "      <td>0</td>\n",
       "      <td>1800</td>\n",
       "      <td>e4 e6 d4 d5 Nc3 Bb4 e5 Ne7 a3 Bxc3+ bxc3 b6 Bb...</td>\n",
       "    </tr>\n",
       "  </tbody>\n",
       "</table>\n",
       "<p>2 rows × 32 columns</p>\n",
       "</div>"
      ],
      "text/plain": [
       "    Game_ID  Rated   Variant      Speed                        Created_At  \\\n",
       "0  PsevV6VH   True  standard  classical  2024-12-15T11:09:25.224000+00:00   \n",
       "1  diLZa8sj   True  standard  classical  2024-10-28T13:54:16.605000+00:00   \n",
       "\n",
       "                       Last_Move_At Game_Status Source Winner  \\\n",
       "0  2024-12-15T11:55:14.775000+00:00      resign   pool  white   \n",
       "1  2024-10-28T14:32:21.403000+00:00      resign   pool  white   \n",
       "\n",
       "                                        Opening_Name  ... Black_Inaccuracy  \\\n",
       "0             English Opening: Symmetrical Variation  ...                5   \n",
       "1  French Defense: Winawer Variation, Advance Var...  ...                4   \n",
       "\n",
       "   Black_Mistake Black_Blunder Black_ACPL  \\\n",
       "0              1             1         47   \n",
       "1              0             1         31   \n",
       "\n",
       "                                              Clocks  \\\n",
       "0  [180003, 180003, 178499, 178019, 178339, 17757...   \n",
       "1  [180003, 180003, 179827, 179683, 178619, 17936...   \n",
       "\n",
       "                                            Analysis  Total_Time_Init  \\\n",
       "0  [{'eval': 14}, {'eval': 25}, {'eval': 26}, {'e...             1800   \n",
       "1  [{'eval': 18}, {'eval': 28}, {'eval': 28}, {'e...             1800   \n",
       "\n",
       "   Total_Time_Increment  Total_Time  \\\n",
       "0                     0        1800   \n",
       "1                     0        1800   \n",
       "\n",
       "                                               Moves  \n",
       "0  Nf3 c5 c4 Nc6 Nc3 g6 e3 Bg7 d4 cxd4 exd4 d6 h3...  \n",
       "1  e4 e6 d4 d5 Nc3 Bb4 e5 Ne7 a3 Bxc3+ bxc3 b6 Bb...  \n",
       "\n",
       "[2 rows x 32 columns]"
      ]
     },
     "execution_count": 18,
     "metadata": {},
     "output_type": "execute_result"
    }
   ],
   "source": [
    "df.head(2)"
   ]
  },
  {
   "cell_type": "code",
   "execution_count": 19,
   "metadata": {},
   "outputs": [],
   "source": [
    "columns_for_eda = [\n",
    "    'Game_Status', 'Source', 'Winner',\n",
    "    'Opening_PLY', 'White_Player', 'White_Title',\n",
    "    'Black_Player', 'Black_Title'\n",
    "]\n"
   ]
  },
  {
   "cell_type": "code",
   "execution_count": 20,
   "metadata": {},
   "outputs": [],
   "source": [
    "df_filtered = df.filter(items=columns_for_eda)\n"
   ]
  },
  {
   "cell_type": "code",
   "execution_count": 21,
   "metadata": {
    "scrolled": true
   },
   "outputs": [
    {
     "data": {
      "text/plain": [
       "Game_Status         0\n",
       "Source              0\n",
       "Winner          13689\n",
       "Opening_PLY      1270\n",
       "White_Player      227\n",
       "White_Title     94079\n",
       "Black_Player      311\n",
       "Black_Title     94280\n",
       "dtype: int64"
      ]
     },
     "execution_count": 21,
     "metadata": {},
     "output_type": "execute_result"
    }
   ],
   "source": [
    "df_filtered.isna().sum() #проверяем на наличие пропусков\n",
    "# В колонке Winner обнаружено 13689 пропусков (это 9,7% от общего кол-ва данных), \n",
    "# в колонке Opening_PLY обнаружено 1270 пропусков (это составляет 0,9% от общего кол-ва данных,\n",
    "# White_Player количество пропусков 227 (это составляет 0,16% от общего объема данных),\n",
    "# White_Title кол-во пропусков 94079 (это 69% от общего объема данных),\n",
    "# Black_Player 311 (это 0,22% от общего объема данных),\n",
    "# Black_Title количество пропусков 94280 (это 67% от общего объема данных)."
   ]
  },
  {
   "cell_type": "code",
   "execution_count": 34,
   "metadata": {
    "scrolled": false
   },
   "outputs": [],
   "source": [
    "# Замена пропусков на 'неизвестно'\n",
    "columns_to_fill = ['Game_Status', 'Source', 'Winner', 'Opening_PLY', 'WhiteP_layer', 'White_Title', 'Black_Player', 'Black_Title']\n",
    "\n",
    "# Проверка, какие колонки существуют\n",
    "existing_columns = [col for col in columns_to_fill if col in columns_for_eda.columns]\n",
    "\n",
    "# Замена пропусков на 'неизвестно' только в существующих колонках\n",
    "columns_for_eda[existing_columns] = columns_for_eda[existing_columns].fillna('неизвестно')"
   ]
  },
  {
   "cell_type": "code",
   "execution_count": 35,
   "metadata": {},
   "outputs": [
    {
     "data": {
      "text/html": [
       "<div>\n",
       "<style scoped>\n",
       "    .dataframe tbody tr th:only-of-type {\n",
       "        vertical-align: middle;\n",
       "    }\n",
       "\n",
       "    .dataframe tbody tr th {\n",
       "        vertical-align: top;\n",
       "    }\n",
       "\n",
       "    .dataframe thead th {\n",
       "        text-align: right;\n",
       "    }\n",
       "</style>\n",
       "<table border=\"1\" class=\"dataframe\">\n",
       "  <thead>\n",
       "    <tr style=\"text-align: right;\">\n",
       "      <th></th>\n",
       "      <th>0</th>\n",
       "    </tr>\n",
       "  </thead>\n",
       "  <tbody>\n",
       "    <tr>\n",
       "      <th>0</th>\n",
       "      <td>Game_Status</td>\n",
       "    </tr>\n",
       "    <tr>\n",
       "      <th>1</th>\n",
       "      <td>Source</td>\n",
       "    </tr>\n",
       "    <tr>\n",
       "      <th>2</th>\n",
       "      <td>Winner</td>\n",
       "    </tr>\n",
       "    <tr>\n",
       "      <th>3</th>\n",
       "      <td>Opening_PLY</td>\n",
       "    </tr>\n",
       "    <tr>\n",
       "      <th>4</th>\n",
       "      <td>White_Player</td>\n",
       "    </tr>\n",
       "    <tr>\n",
       "      <th>5</th>\n",
       "      <td>White_Title</td>\n",
       "    </tr>\n",
       "    <tr>\n",
       "      <th>6</th>\n",
       "      <td>Black_Player</td>\n",
       "    </tr>\n",
       "    <tr>\n",
       "      <th>7</th>\n",
       "      <td>Black_Title</td>\n",
       "    </tr>\n",
       "  </tbody>\n",
       "</table>\n",
       "</div>"
      ],
      "text/plain": [
       "              0\n",
       "0   Game_Status\n",
       "1        Source\n",
       "2        Winner\n",
       "3   Opening_PLY\n",
       "4  White_Player\n",
       "5   White_Title\n",
       "6  Black_Player\n",
       "7   Black_Title"
      ]
     },
     "execution_count": 35,
     "metadata": {},
     "output_type": "execute_result"
    }
   ],
   "source": [
    "columns_for_eda"
   ]
  },
  {
   "cell_type": "code",
   "execution_count": 8,
   "metadata": {},
   "outputs": [],
   "source": [
    "df_filtered = df.filter(items=columns_for_eda)"
   ]
  },
  {
   "cell_type": "code",
   "execution_count": 36,
   "metadata": {
    "scrolled": false
   },
   "outputs": [
    {
     "data": {
      "text/plain": [
       "0    0\n",
       "dtype: int64"
      ]
     },
     "execution_count": 36,
     "metadata": {},
     "output_type": "execute_result"
    }
   ],
   "source": [
    "columns_for_eda.isna().sum()"
   ]
  },
  {
   "cell_type": "code",
   "execution_count": 10,
   "metadata": {
    "scrolled": true
   },
   "outputs": [
    {
     "name": "stdout",
     "output_type": "stream",
     "text": [
      "<class 'pandas.core.frame.DataFrame'>\n",
      "RangeIndex: 140792 entries, 0 to 140791\n",
      "Data columns (total 8 columns):\n",
      " #   Column        Non-Null Count   Dtype  \n",
      "---  ------        --------------   -----  \n",
      " 0   Game_Status   140792 non-null  object \n",
      " 1   Source        140792 non-null  object \n",
      " 2   Winner        127103 non-null  object \n",
      " 3   Opening_PLY   139522 non-null  float64\n",
      " 4   White_Player  140565 non-null  object \n",
      " 5   White_Title   46713 non-null   object \n",
      " 6   Black_Player  140481 non-null  object \n",
      " 7   Black_Title   46512 non-null   object \n",
      "dtypes: float64(1), object(7)\n",
      "memory usage: 8.6+ MB\n"
     ]
    }
   ],
   "source": [
    "df_filtered.info() #проверяем типы данных\n",
    "# "
   ]
  },
  {
   "cell_type": "code",
   "execution_count": 37,
   "metadata": {
    "scrolled": true
   },
   "outputs": [
    {
     "data": {
      "text/html": [
       "<div>\n",
       "<style scoped>\n",
       "    .dataframe tbody tr th:only-of-type {\n",
       "        vertical-align: middle;\n",
       "    }\n",
       "\n",
       "    .dataframe tbody tr th {\n",
       "        vertical-align: top;\n",
       "    }\n",
       "\n",
       "    .dataframe thead th {\n",
       "        text-align: right;\n",
       "    }\n",
       "</style>\n",
       "<table border=\"1\" class=\"dataframe\">\n",
       "  <thead>\n",
       "    <tr style=\"text-align: right;\">\n",
       "      <th></th>\n",
       "      <th>count</th>\n",
       "      <th>mean</th>\n",
       "      <th>std</th>\n",
       "      <th>min</th>\n",
       "      <th>25%</th>\n",
       "      <th>50%</th>\n",
       "      <th>75%</th>\n",
       "      <th>max</th>\n",
       "    </tr>\n",
       "  </thead>\n",
       "  <tbody>\n",
       "    <tr>\n",
       "      <th>Opening_PLY</th>\n",
       "      <td>139522.0</td>\n",
       "      <td>6.344412</td>\n",
       "      <td>3.910104</td>\n",
       "      <td>1.0</td>\n",
       "      <td>3.0</td>\n",
       "      <td>5.0</td>\n",
       "      <td>9.0</td>\n",
       "      <td>28.0</td>\n",
       "    </tr>\n",
       "  </tbody>\n",
       "</table>\n",
       "</div>"
      ],
      "text/plain": [
       "                count      mean       std  min  25%  50%  75%   max\n",
       "Opening_PLY  139522.0  6.344412  3.910104  1.0  3.0  5.0  9.0  28.0"
      ]
     },
     "execution_count": 37,
     "metadata": {},
     "output_type": "execute_result"
    }
   ],
   "source": [
    "df_filtered.describe().T\n"
   ]
  },
  {
   "cell_type": "code",
   "execution_count": 44,
   "metadata": {
    "scrolled": true
   },
   "outputs": [
    {
     "ename": "KeyError",
     "evalue": "'Winner'",
     "output_type": "error",
     "traceback": [
      "\u001b[0;31m---------------------------------------------------------------------------\u001b[0m",
      "\u001b[0;31mKeyError\u001b[0m                                  Traceback (most recent call last)",
      "\u001b[0;32m<ipython-input-44-279113aa785d>\u001b[0m in \u001b[0;36m<module>\u001b[0;34m\u001b[0m\n\u001b[0;32m----> 1\u001b[0;31m \u001b[0mWinner_count\u001b[0m \u001b[0;34m=\u001b[0m \u001b[0mcolumns_for_eda\u001b[0m\u001b[0;34m[\u001b[0m\u001b[0;34m'Winner'\u001b[0m\u001b[0;34m]\u001b[0m\u001b[0;34m.\u001b[0m\u001b[0mvalue_counts\u001b[0m\u001b[0;34m(\u001b[0m\u001b[0;34m)\u001b[0m\u001b[0;34m\u001b[0m\u001b[0;34m\u001b[0m\u001b[0m\n\u001b[0m",
      "\u001b[0;32m/opt/tljh/user/lib/python3.7/site-packages/pandas/core/frame.py\u001b[0m in \u001b[0;36m__getitem__\u001b[0;34m(self, key)\u001b[0m\n\u001b[1;32m   2900\u001b[0m             \u001b[0;32mif\u001b[0m \u001b[0mself\u001b[0m\u001b[0;34m.\u001b[0m\u001b[0mcolumns\u001b[0m\u001b[0;34m.\u001b[0m\u001b[0mnlevels\u001b[0m \u001b[0;34m>\u001b[0m \u001b[0;36m1\u001b[0m\u001b[0;34m:\u001b[0m\u001b[0;34m\u001b[0m\u001b[0;34m\u001b[0m\u001b[0m\n\u001b[1;32m   2901\u001b[0m                 \u001b[0;32mreturn\u001b[0m \u001b[0mself\u001b[0m\u001b[0;34m.\u001b[0m\u001b[0m_getitem_multilevel\u001b[0m\u001b[0;34m(\u001b[0m\u001b[0mkey\u001b[0m\u001b[0;34m)\u001b[0m\u001b[0;34m\u001b[0m\u001b[0;34m\u001b[0m\u001b[0m\n\u001b[0;32m-> 2902\u001b[0;31m             \u001b[0mindexer\u001b[0m \u001b[0;34m=\u001b[0m \u001b[0mself\u001b[0m\u001b[0;34m.\u001b[0m\u001b[0mcolumns\u001b[0m\u001b[0;34m.\u001b[0m\u001b[0mget_loc\u001b[0m\u001b[0;34m(\u001b[0m\u001b[0mkey\u001b[0m\u001b[0;34m)\u001b[0m\u001b[0;34m\u001b[0m\u001b[0;34m\u001b[0m\u001b[0m\n\u001b[0m\u001b[1;32m   2903\u001b[0m             \u001b[0;32mif\u001b[0m \u001b[0mis_integer\u001b[0m\u001b[0;34m(\u001b[0m\u001b[0mindexer\u001b[0m\u001b[0;34m)\u001b[0m\u001b[0;34m:\u001b[0m\u001b[0;34m\u001b[0m\u001b[0;34m\u001b[0m\u001b[0m\n\u001b[1;32m   2904\u001b[0m                 \u001b[0mindexer\u001b[0m \u001b[0;34m=\u001b[0m \u001b[0;34m[\u001b[0m\u001b[0mindexer\u001b[0m\u001b[0;34m]\u001b[0m\u001b[0;34m\u001b[0m\u001b[0;34m\u001b[0m\u001b[0m\n",
      "\u001b[0;32m/opt/tljh/user/lib/python3.7/site-packages/pandas/core/indexes/range.py\u001b[0m in \u001b[0;36mget_loc\u001b[0;34m(self, key, method, tolerance)\u001b[0m\n\u001b[1;32m    356\u001b[0m                 \u001b[0;32mexcept\u001b[0m \u001b[0mValueError\u001b[0m \u001b[0;32mas\u001b[0m \u001b[0merr\u001b[0m\u001b[0;34m:\u001b[0m\u001b[0;34m\u001b[0m\u001b[0;34m\u001b[0m\u001b[0m\n\u001b[1;32m    357\u001b[0m                     \u001b[0;32mraise\u001b[0m \u001b[0mKeyError\u001b[0m\u001b[0;34m(\u001b[0m\u001b[0mkey\u001b[0m\u001b[0;34m)\u001b[0m \u001b[0;32mfrom\u001b[0m \u001b[0merr\u001b[0m\u001b[0;34m\u001b[0m\u001b[0;34m\u001b[0m\u001b[0m\n\u001b[0;32m--> 358\u001b[0;31m             \u001b[0;32mraise\u001b[0m \u001b[0mKeyError\u001b[0m\u001b[0;34m(\u001b[0m\u001b[0mkey\u001b[0m\u001b[0;34m)\u001b[0m\u001b[0;34m\u001b[0m\u001b[0;34m\u001b[0m\u001b[0m\n\u001b[0m\u001b[1;32m    359\u001b[0m         \u001b[0;32mreturn\u001b[0m \u001b[0msuper\u001b[0m\u001b[0;34m(\u001b[0m\u001b[0;34m)\u001b[0m\u001b[0;34m.\u001b[0m\u001b[0mget_loc\u001b[0m\u001b[0;34m(\u001b[0m\u001b[0mkey\u001b[0m\u001b[0;34m,\u001b[0m \u001b[0mmethod\u001b[0m\u001b[0;34m=\u001b[0m\u001b[0mmethod\u001b[0m\u001b[0;34m,\u001b[0m \u001b[0mtolerance\u001b[0m\u001b[0;34m=\u001b[0m\u001b[0mtolerance\u001b[0m\u001b[0;34m)\u001b[0m\u001b[0;34m\u001b[0m\u001b[0;34m\u001b[0m\u001b[0m\n\u001b[1;32m    360\u001b[0m \u001b[0;34m\u001b[0m\u001b[0m\n",
      "\u001b[0;31mKeyError\u001b[0m: 'Winner'"
     ]
    }
   ],
   "source": [
    "Winner_count = columns_for_eda['Winner'].value_counts()"
   ]
  },
  {
   "cell_type": "code",
   "execution_count": 43,
   "metadata": {
    "scrolled": false
   },
   "outputs": [
    {
     "ename": "NameError",
     "evalue": "name 'Game_Status' is not defined",
     "output_type": "error",
     "traceback": [
      "\u001b[0;31m---------------------------------------------------------------------------\u001b[0m",
      "\u001b[0;31mNameError\u001b[0m                                 Traceback (most recent call last)",
      "\u001b[0;32m<ipython-input-43-09ad0b614182>\u001b[0m in \u001b[0;36m<module>\u001b[0;34m\u001b[0m\n\u001b[0;32m----> 1\u001b[0;31m \u001b[0mGame_Status\u001b[0m\u001b[0;34m\u001b[0m\u001b[0;34m\u001b[0m\u001b[0m\n\u001b[0m",
      "\u001b[0;31mNameError\u001b[0m: name 'Game_Status' is not defined"
     ]
    }
   ],
   "source": [
    "Game_Status"
   ]
  },
  {
   "cell_type": "code",
   "execution_count": null,
   "metadata": {},
   "outputs": [],
   "source": []
  }
 ],
 "metadata": {
  "kernelspec": {
   "display_name": "Python 3",
   "language": "python",
   "name": "python3"
  },
  "language_info": {
   "codemirror_mode": {
    "name": "ipython",
    "version": 3
   },
   "file_extension": ".py",
   "mimetype": "text/x-python",
   "name": "python",
   "nbconvert_exporter": "python",
   "pygments_lexer": "ipython3",
   "version": "3.7.3"
  }
 },
 "nbformat": 4,
 "nbformat_minor": 4
}
